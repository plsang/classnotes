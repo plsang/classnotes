{
 "metadata": {
  "name": "test"
 },
 "nbformat": 3,
 "nbformat_minor": 0,
 "worksheets": [
  {
   "cells": [
    {
     "cell_type": "code",
     "collapsed": false,
     "input": [
      "import numpy as np\n",
      "from scipy.linalg import svd\n",
      "M = [\n",
      "     [1, 1, 1, 1, 1, 1],\n",
      "     [3, 3, 3, 3, 3, 3],\n",
      "     [2, 2, 2, 2, 2, 2],\n",
      "     [9, 9, 9, 9, 9, 9]\n",
      "]\n",
      "M = np.transpose(np.array(M))\n",
      "U,s,Vt = svd(M, full_matrices=False)\n",
      "print s"
     ],
     "language": "python",
     "outputs": [
      {
       "output_type": "stream",
       "stream": "stdout",
       "text": [
        "[  2.38746728e+01   5.14840667e-16   3.13072882e-32  -0.00000000e+00]\n"
       ]
      }
     ],
     "prompt_number": 1
    },
    {
     "cell_type": "code",
     "collapsed": false,
     "input": [],
     "language": "python",
     "outputs": []
    }
   ]
  }
 ]
}