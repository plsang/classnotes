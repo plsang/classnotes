{
 "metadata": {
  "name": "pcaperf"
 },
 "nbformat": 3,
 "nbformat_minor": 0,
 "worksheets": [
  {
   "cells": [
    {
     "cell_type": "markdown",
     "source": [
      "<h1>SVD ile PCA Hesaplamak</h1>"
     ]
    },
    {
     "cell_type": "markdown",
     "source": [
      "PCA bolumunde anlatilan yontem temel bilesenlerin hesabinda ozdegerler\n",
      "ve ozvektorler kullandi. Alternatif bir yontem Tekil Deger Ayristirma\n",
      "(Singular Value Decomposition -SVD-) uzerinden bu hesabi\n",
      "yapmaktir. SVD icin <i>Lineer Cebir Ders 29</i>'a bakabilirsiniz. Peki\n",
      "ne zaman klasik PCA ne zaman SVD uzerinden PCA kullanmali? Bir cevap\n",
      "belki mevcut kutuphanelerde SVD kodlamasinin daha iyi olmasi,\n",
      "ayristirmanin ozvektor / deger hesabindan daha hizli isleyebilmesi.\n",
      "\n",
      "Ayrica birazdan gorecegimiz gibi SVD, kovaryans matrisi uzerinde\n",
      "degil, $A$'nin kendisi uzerinde isletilir, bu hem kovaryans hesaplama\n",
      "asamasini atlamamizi, hem de kovaryans hesabi sirasinda ortaya\n",
      "cikabilecek numerik puruzlerden korunmamizi saglar (cok ufak\n",
      "degerlerin kovaryans hesabini bozabilecegi literaturde\n",
      "bahsedilmektedir).\n",
      "\n",
      "PCA ve SVD baglantisina gelelim:\n",
      "\n",
      "Biliyoruz ki SVD bir matrisi su sekilde ayristirir\n",
      "\n",
      "$$A = USV^T$$\n",
      "\n",
      "$U$ matrisi $n \\times n$ dikgen (orthogonal), $V$ ise $m \\times m$\n",
      "dikgen. $S$'in sadece kosegeni uzerinde degerler var ve bu  $\\sigma_j$\n",
      "degerleri $A$'nin tekil degerleri (singular values) olarak biliniyor.\n",
      "\n",
      "Simdi $A$ yerine $AA^T$ koyalim, yani $A$'nin kovaryans matrisinin SVD\n",
      "ayristirmasini yapalim, acaba elimize ne gececek?\n",
      "\n",
      "$$ AA^T = (USV^T)(USV^T)^T $$\n",
      "\n",
      "$$ = (USV^T)(V S^T U^T) $$\n",
      "\n",
      "$$ = U S S^T U^T $$\n",
      "\n",
      "$S$ bir kosegen matrisi, o zaman $SS^T$ matrisi de kosegen, tek farkla\n",
      "kosegen uzerinde artik $\\sigma_j^2$ degerleri var. Bu normal.\n",
      "\n",
      "$SS^T$ yerine $\\Lambda$ sembolunu kullanalim, ve denklemi iki\n",
      "taraftan (ve sagdan) $U$ ile carparsak,\n",
      "\n",
      "$$ AA^TU = U \\Lambda U^TU $$\n",
      "\n",
      "$$ AA^TU = U \\Lambda   $$\n",
      "\n",
      "Son ifadeye yakindan bakalim, $U$'nun tek bir kolonuna, $u_k$ diyelim,\n",
      "odaklanacak olursak, ustteki ifadeden bu sadece kolona yonelik nasil\n",
      "bir esitlik cikartabilirdik? Soyle cikartabilirdik,\n",
      "\n",
      "$$ (AA^T)u_k = \\sigma^2 u_k   $$\n",
      "\n",
      "Bu ifade tanidik geliyor mu? Ozdeger / ozvektor klasik yapisina\n",
      "eristik. Ustteki esitlik sadece ve sadece eger $u_k$, $AA^T$'nin\n",
      "ozvektoru ve $\\sigma^2$ onun ozdegeri ise gecerlidir. Bu esitligi tum\n",
      "$U$ kolonlari icin uygulayabilecegimize gore demek ki $U$'nun\n",
      "kolonlarinda $AA^T$'nin ozvektorleri vardir, ve $AA^T$'nin ozdegerleri\n",
      "$A$'nin tekil degerlerinin karesidir.\n",
      "\n",
      "Bu muthis bir bulus. Demek ki $AA^T$'nin ozektorlerini hesaplamak icin\n",
      "$A$ uzerinde SVD uygulayarak $U$'yu bulmamiz yeterli, kovaryans\n",
      "matrisini hesaplamak bile gerekmiyor! $AA^T$ ozdegerleri uzerinde\n",
      "buyukluk karsilastirmasi icin ise $A$'nin tekil degerlerine bakmak\n",
      "yeterli! "
     ]
    },
    {
     "cell_type": "markdown",
     "source": [
      "Simdi PCA yazisindaki ornege donelim, ve ozvektorleri SVD uzerinden\n",
      "hesaplatalim. Once eig usulu ile"
     ]
    },
    {
     "cell_type": "code",
     "collapsed": false,
     "input": [
      "from pandas import *\n",
      "data = read_csv(\"testSet.txt\",sep=\"\\t\",header=None)\n",
      "means = mean(data, axis=0)\n",
      "meanless_data = data - means\n",
      "cov_mat = cov(meanless_data, rowvar=0)"
     ],
     "language": "python",
     "outputs": [],
     "prompt_number": 7
    },
    {
     "cell_type": "code",
     "collapsed": false,
     "input": [
      "eigs,eigv = linalg.eig(mat(cov_mat))\n",
      "eigv\n"
     ],
     "language": "python",
     "outputs": [
      {
       "output_type": "pyout",
       "prompt_number": 8,
       "text": [
        "matrix([[-0.85389096, -0.52045195],\n",
        "        [ 0.52045195, -0.85389096]])"
       ]
      }
     ],
     "prompt_number": 8
    },
    {
     "cell_type": "markdown",
     "source": [
      "Simdi de SVD usulu ile"
     ]
    },
    {
     "cell_type": "code",
     "collapsed": false,
     "input": [
      "U,s,Vt = svd(meanless_data.T,full_matrices=False)\n",
      "U\n"
     ],
     "language": "python",
     "outputs": [
      {
       "output_type": "pyout",
       "prompt_number": 21,
       "text": [
        "array([[-0.52045195, -0.85389096],\n",
        "       [-0.85389096,  0.52045195]])"
       ]
      }
     ],
     "prompt_number": 21
    },
    {
     "cell_type": "markdown",
     "source": [
      "Goruldugu gibi sonuclar ayni\n",
      "\n",
      "<h3>New York Times Yazilari Analizi</h3>\n",
      "\n",
      "Simdi daha ilginc bir ornege bakalim. Bir arastirmaci belli yillar\n",
      "arasindaki NY Times makalelerinde her yazida hangi kelimenin kac kere\n",
      "ciktiginin verisini toplamis [1,2,3]. Bu 4000 kusur kelime her satir\n",
      "(yazi) icin bir boyut (kolon) olarak bir dosyada. Bu dosya nytimes.csv\n",
      "uzerinde ek bir normalize isleminden sonra (bkz norm.R [4]), bu veri\n",
      "uzerinde SVD isletebiliriz.\n",
      "\n",
      "Veri setinde her yazi ayrica ek olarak sanat (arts) ve muzik (music)\n",
      "olarak etiketlenmis. Biz SVD kullanarak bu etiketlere hic bakmadan,\n",
      "verinin boyutlarini azaltarak acaba verinin \"ayrilabilir\" hale\n",
      "indirgenip indirgenemedigine bakacagiz. Bakmak derken iki boyuta\n",
      "indirgeyip sonucu grafikleyecegiz. Illa boyle yapmak ta gerekmez, 10\n",
      "boyuta indirgeyip (ki 4000 kusur boyuttan sonra bu bile muthis bir\n",
      "kazanimdir) geri kalanlar uzerinde bir kumeleme algoritmasi\n",
      "kullanabilirdik."
     ]
    },
    {
     "cell_type": "code",
     "collapsed": false,
     "input": [
      "from pandas import *\n",
      "import numpy.linalg as lin\n",
      "nyt = read_csv (\"nytimes.csv\")\n",
      "labels = nyt['class.labels']\n",
      "nyt.ix[:8,102:107]"
     ],
     "language": "python",
     "outputs": [
      {
       "html": [
        "<div style=\"max-height:1000px;max-width:1500px;overflow:auto;\">\n",
        "<table border=\"1\" class=\"dataframe\">\n",
        "  <thead>\n",
        "    <tr style=\"text-align: right;\">\n",
        "      <th></th>\n",
        "      <th>after</th>\n",
        "      <th>afternoon</th>\n",
        "      <th>afterward</th>\n",
        "      <th>again</th>\n",
        "      <th>against</th>\n",
        "    </tr>\n",
        "  </thead>\n",
        "  <tbody>\n",
        "    <tr>\n",
        "      <td><strong>0</strong></td>\n",
        "      <td> 1</td>\n",
        "      <td> 0</td>\n",
        "      <td> 0</td>\n",
        "      <td> 0</td>\n",
        "      <td> 0</td>\n",
        "    </tr>\n",
        "    <tr>\n",
        "      <td><strong>1</strong></td>\n",
        "      <td> 1</td>\n",
        "      <td> 1</td>\n",
        "      <td> 0</td>\n",
        "      <td> 0</td>\n",
        "      <td> 0</td>\n",
        "    </tr>\n",
        "    <tr>\n",
        "      <td><strong>2</strong></td>\n",
        "      <td> 1</td>\n",
        "      <td> 0</td>\n",
        "      <td> 0</td>\n",
        "      <td> 1</td>\n",
        "      <td> 2</td>\n",
        "    </tr>\n",
        "    <tr>\n",
        "      <td><strong>3</strong></td>\n",
        "      <td> 3</td>\n",
        "      <td> 0</td>\n",
        "      <td> 0</td>\n",
        "      <td> 0</td>\n",
        "      <td> 0</td>\n",
        "    </tr>\n",
        "    <tr>\n",
        "      <td><strong>4</strong></td>\n",
        "      <td> 0</td>\n",
        "      <td> 1</td>\n",
        "      <td> 0</td>\n",
        "      <td> 0</td>\n",
        "      <td> 0</td>\n",
        "    </tr>\n",
        "    <tr>\n",
        "      <td><strong>5</strong></td>\n",
        "      <td> 0</td>\n",
        "      <td> 0</td>\n",
        "      <td> 0</td>\n",
        "      <td> 1</td>\n",
        "      <td> 2</td>\n",
        "    </tr>\n",
        "    <tr>\n",
        "      <td><strong>6</strong></td>\n",
        "      <td> 7</td>\n",
        "      <td> 0</td>\n",
        "      <td> 0</td>\n",
        "      <td> 0</td>\n",
        "      <td> 1</td>\n",
        "    </tr>\n",
        "    <tr>\n",
        "      <td><strong>7</strong></td>\n",
        "      <td> 0</td>\n",
        "      <td> 0</td>\n",
        "      <td> 0</td>\n",
        "      <td> 0</td>\n",
        "      <td> 0</td>\n",
        "    </tr>\n",
        "    <tr>\n",
        "      <td><strong>8</strong></td>\n",
        "      <td> 0</td>\n",
        "      <td> 0</td>\n",
        "      <td> 0</td>\n",
        "      <td> 0</td>\n",
        "      <td> 0</td>\n",
        "    </tr>\n",
        "  </tbody>\n",
        "</table>\n",
        "</div>"
       ],
       "output_type": "pyout",
       "prompt_number": 27,
       "text": [
        "   after  afternoon  afterward  again  against\n",
        "0      1          0          0      0        0\n",
        "1      1          1          0      0        0\n",
        "2      1          0          0      1        2\n",
        "3      3          0          0      0        0\n",
        "4      0          1          0      0        0\n",
        "5      0          0          0      1        2\n",
        "6      7          0          0      0        1\n",
        "7      0          0          0      0        0\n",
        "8      0          0          0      0        0"
       ]
      }
     ],
     "prompt_number": 27
    },
    {
     "cell_type": "markdown",
     "source": [
      "Ustte nytimes.csv yukleyip oradan sadece etiketleri aliyoruz, ve bir\n",
      "kenara koyuyoruz. Sonra nytimes4.csv'den normalize edilmis veriyi\n",
      "aliyoruz. "
     ]
    },
    {
     "cell_type": "code",
     "collapsed": false,
     "input": [
      "nyt = read_csv (\"nytimes4.csv\")\n",
      "nyt.ix[:8,102:107]"
     ],
     "language": "python",
     "outputs": [
      {
       "html": [
        "<div style=\"max-height:1000px;max-width:1500px;overflow:auto;\">\n",
        "<table border=\"1\" class=\"dataframe\">\n",
        "  <thead>\n",
        "    <tr style=\"text-align: right;\">\n",
        "      <th></th>\n",
        "      <th>after</th>\n",
        "      <th>afternoon</th>\n",
        "      <th>afterward</th>\n",
        "      <th>again</th>\n",
        "      <th>against</th>\n",
        "    </tr>\n",
        "  </thead>\n",
        "  <tbody>\n",
        "    <tr>\n",
        "      <td><strong>0</strong></td>\n",
        "      <td> 0.008771</td>\n",
        "      <td> 0.000000</td>\n",
        "      <td> 0</td>\n",
        "      <td> 0.000000</td>\n",
        "      <td> 0.000000</td>\n",
        "    </tr>\n",
        "    <tr>\n",
        "      <td><strong>1</strong></td>\n",
        "      <td> 0.017675</td>\n",
        "      <td> 0.047957</td>\n",
        "      <td> 0</td>\n",
        "      <td> 0.000000</td>\n",
        "      <td> 0.000000</td>\n",
        "    </tr>\n",
        "    <tr>\n",
        "      <td><strong>2</strong></td>\n",
        "      <td> 0.011403</td>\n",
        "      <td> 0.000000</td>\n",
        "      <td> 0</td>\n",
        "      <td> 0.021393</td>\n",
        "      <td> 0.045869</td>\n",
        "    </tr>\n",
        "    <tr>\n",
        "      <td><strong>3</strong></td>\n",
        "      <td> 0.030902</td>\n",
        "      <td> 0.000000</td>\n",
        "      <td> 0</td>\n",
        "      <td> 0.000000</td>\n",
        "      <td> 0.000000</td>\n",
        "    </tr>\n",
        "    <tr>\n",
        "      <td><strong>4</strong></td>\n",
        "      <td> 0.000000</td>\n",
        "      <td> 0.029869</td>\n",
        "      <td> 0</td>\n",
        "      <td> 0.000000</td>\n",
        "      <td> 0.000000</td>\n",
        "    </tr>\n",
        "    <tr>\n",
        "      <td><strong>5</strong></td>\n",
        "      <td> 0.000000</td>\n",
        "      <td> 0.000000</td>\n",
        "      <td> 0</td>\n",
        "      <td> 0.024476</td>\n",
        "      <td> 0.052480</td>\n",
        "    </tr>\n",
        "    <tr>\n",
        "      <td><strong>6</strong></td>\n",
        "      <td> 0.029709</td>\n",
        "      <td> 0.000000</td>\n",
        "      <td> 0</td>\n",
        "      <td> 0.000000</td>\n",
        "      <td> 0.008536</td>\n",
        "    </tr>\n",
        "    <tr>\n",
        "      <td><strong>7</strong></td>\n",
        "      <td> 0.000000</td>\n",
        "      <td> 0.000000</td>\n",
        "      <td> 0</td>\n",
        "      <td> 0.000000</td>\n",
        "      <td> 0.000000</td>\n",
        "    </tr>\n",
        "    <tr>\n",
        "      <td><strong>8</strong></td>\n",
        "      <td> 0.000000</td>\n",
        "      <td> 0.000000</td>\n",
        "      <td> 0</td>\n",
        "      <td> 0.000000</td>\n",
        "      <td> 0.000000</td>\n",
        "    </tr>\n",
        "  </tbody>\n",
        "</table>\n",
        "</div>"
       ],
       "output_type": "pyout",
       "prompt_number": 28,
       "text": [
        "      after  afternoon  afterward     again   against\n",
        "0  0.008771   0.000000          0  0.000000  0.000000\n",
        "1  0.017675   0.047957          0  0.000000  0.000000\n",
        "2  0.011403   0.000000          0  0.021393  0.045869\n",
        "3  0.030902   0.000000          0  0.000000  0.000000\n",
        "4  0.000000   0.029869          0  0.000000  0.000000\n",
        "5  0.000000   0.000000          0  0.024476  0.052480\n",
        "6  0.029709   0.000000          0  0.000000  0.008536\n",
        "7  0.000000   0.000000          0  0.000000  0.000000\n",
        "8  0.000000   0.000000          0  0.000000  0.000000"
       ]
      }
     ],
     "prompt_number": 28
    },
    {
     "cell_type": "markdown",
     "source": [
      "SVD yapalim"
     ]
    },
    {
     "cell_type": "code",
     "collapsed": false,
     "input": [
      "u,s,v = lin.svd(nyt.T,full_matrices=False)"
     ],
     "language": "python",
     "outputs": []
    },
    {
     "cell_type": "code",
     "collapsed": false,
     "input": [
      "s[:10]"
     ],
     "language": "python",
     "outputs": [
      {
       "output_type": "pyout",
       "prompt_number": 3,
       "text": [
        "array([ 599.13247845,    1.83718184,    1.36140558,    1.30736657,\n",
        "          1.22861448,    1.20455212,    1.19791274,    1.15186093,\n",
        "          1.13821654,    1.11813692])"
       ]
      }
     ],
     "prompt_number": 3
    },
    {
     "cell_type": "code",
     "collapsed": false,
     "input": [
      "u.shape"
     ],
     "language": "python",
     "outputs": [
      {
       "output_type": "pyout",
       "prompt_number": 4,
       "text": [
        "(4432, 102)"
       ]
      }
     ],
     "prompt_number": 4
    },
    {
     "cell_type": "markdown",
     "source": [
      "SVD'nin verdigi $u$ icinden iki ozvektoru seciyoruz (en bastakiler,\n",
      "cunku Numpy SVD kodu bu ozvektorleri zaten siralanmis halde dondurur),\n",
      "ve veriyi bu yeni kordinata izdusumluyoruz."
     ]
    },
    {
     "cell_type": "code",
     "collapsed": false,
     "input": [
      "proj = np.dot(nyt, u[:,:2])\n",
      "proj.shape\n",
      "plot(proj[:,0],proj[:,1],'.')\n"
     ],
     "language": "python",
     "outputs": [
      {
       "output_type": "pyout",
       "prompt_number": 29,
       "text": [
        "[<matplotlib.lines.Line2D at 0xad58aac>]"
       ]
      },
      {
       "output_type": "display_data",
       "png": "[encoded data removed]",
       "text": [
        "<matplotlib.figure.Figure at 0xb1f392c>"
       ]
      }
     ],
     "prompt_number": 29
    },
    {
     "cell_type": "markdown",
     "source": [
      "Simdi ayni veriyi bir de etiket bilgisini devreye sokarak\n",
      "cizdirelim. Sanat kirmizi muzik mavi olacak."
     ]
    },
    {
     "cell_type": "code",
     "collapsed": false,
     "input": [
      "arts =proj[labels == 'art']\n",
      "music =proj[labels == 'music']\n",
      "plot(arts[:,0],arts[:,1],'r.')\n",
      "plot(music[:,0],music[:,1],'b.')"
     ],
     "language": "python",
     "outputs": [
      {
       "output_type": "pyout",
       "prompt_number": 30,
       "text": [
        "[<matplotlib.lines.Line2D at 0xb1df6ec>]"
       ]
      },
      {
       "output_type": "display_data",
       "png": "[encoded data removed]",
       "text": [
        "<matplotlib.figure.Figure at 0xb1df90c>"
       ]
      }
     ],
     "prompt_number": 30
    },
    {
     "cell_type": "markdown",
     "source": [
      "Goruldugu gibi veride ortaya cikan / ozvektorlerin kesfettigi dogal\n",
      "ayirim, hakikaten dogruymus. PCA (SVD uzerinden) gorevinin basariyla\n",
      "yapti."
     ]
    },
    {
     "cell_type": "markdown",
     "source": [
      "[1] Cosma Rohilla Shalizi, Advanced Data Analysis from an Elementary\n",
      "Point of View\n",
      "\n",
      "[2] http://www.ldc.upenn.edu/Catalog/CatalogEntry.jsp?catalogId=LDC2008T19\n",
      "\n",
      "[3] http://www.stat.cmu.edu/~cshalizi/490/pca/\n",
      "\n",
      "[4] Bu normalizasyon islemine Dr. Shalizi ters dokuman-frekans\n",
      "agirliklandirmasi (inverse document-frequency weighting) adini\n",
      "veriyor. Her dokumanda cok fazla ortaya cikan kelimelerin onemi\n",
      "azaltiliyor."
     ]
    }
   ]
  }
 ]
}