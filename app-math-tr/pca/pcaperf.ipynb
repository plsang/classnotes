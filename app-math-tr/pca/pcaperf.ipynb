{
 "metadata": {
  "name": "pcaperf"
 },
 "nbformat": 3,
 "nbformat_minor": 0,
 "worksheets": [
  {
   "cells": [
    {
     "cell_type": "markdown",
     "source": [
      "<h1>SVD ile PCA Hesabi</h1>"
     ]
    },
    {
     "cell_type": "markdown",
     "source": [
      "PCA bolumunde anlatilan yontem temel bilesenlerin hesabinda ozdegerler\n",
      "ve ozvektorler kullandi. Alternatif bir yontem Tekil Deger Ayristirma\n",
      "(Singular Value Decomposition -SVD-) uzerinden bu hesabi\n",
      "yapmaktir. SVD icin <i>Lineer Cebir Ders 29</i>'a bakabilirsiniz. Peki\n",
      "ne zaman klasik PCA ne zaman SVD uzerinden PCA kullanmali? Bir cevap\n",
      "belki mevcut kutuphanelerde daha iyi SVD kodlamasinin elde olmasi,\n",
      "ayristirmanin ozvektor / deger hesabindan daha hizli olmasi.\n",
      "\n",
      "PCA ve SVD baglantisina gelelim:\n",
      "\n",
      "Biliyoruz ki SVD bir matrisi su sekilde ayristirir\n",
      "\n",
      "$$A = USV^T$$\n",
      "\n",
      "ki $U$, $n \\times n$ dikgen (orthogonal), $V$, $m \\times m$\n",
      "dikgen. $S$ kosegeni uzerindeki $\\sigma_j$ degerleri $A$'nin tekil\n",
      "degerleri (singular values) olarak bilinir.\n",
      "\n",
      "Simdi $A$ yerine $AA^T$, yani $A$'nin kovaryans matrisinin SVD\n",
      "ayristirmasini yapalim, acaba elimize ne gececek?\n",
      "\n",
      "$$ AA^T = (USV^T)(USV^T)^T $$\n",
      "\n",
      "$$ = (USV^T)(V S^T U^T) $$\n",
      "\n",
      "$$ = U S S^T U^T $$\n",
      "\n",
      "$S$ bir kosegen matristi, $SS^T$ matrisi de kosegen, tek farkla\n",
      "kosegen uzerinde artik $\\sigma_j^2$ degerleri var. Bu normal. $SS^T$\n",
      "yerine $\\Lambda$ sembolunu kullanalim, ve kdenklemim iki taraftan ve\n",
      "sagdan $U$ ile carparsak,\n",
      "\n",
      "$$ AA^TU = U \\Lambda U^TU $$\n",
      "\n",
      "$$ AA^TU = U \\Lambda   $$\n",
      "\n",
      "Son ifadeye yakindan bakalim, $U$'nun tek bir kolonuna, $u_k$ diyelim,\n",
      "odaklanacak olursak, ustteki ifadeden bu sadece kolona yonelik nasil\n",
      "bir esitlik cikartabilirdik? Soyle:\n",
      "\n",
      "$$ (AA^T)u_k = \\sigma^2 u_k   $$\n",
      "\n",
      "Bu ifade tanidik geliyor mu? Evet - bu esitlik sadece ve sadece eger\n",
      "$u_k$, $AA^T$'nin ozvektoru ve $\\sigma^2$ onun ozdegeri ise\n",
      "gecerlidir. Bu esitligi tum $U$ kolonlari icin uygulayabilecegimize\n",
      "gore demek ki $U$'nun kolonlarinda $AA^T$'nin ozvektorleri vardir, ve\n",
      "$AA^T$'nin ozdegerleri $A$'nin tekil degerlerinin karesidir.\n",
      "\n",
      "Bu muthis bir bulus. Demek ki $AA^T$'nin ozektorlerini hesaplamak icin\n",
      "$A$ uzerinde SVD uygulayarak $U$'yu bulmamiz yeterli, kovaryans\n",
      "matrisini hesaplamak bile gerekmiyor! $AA^T$ ozdegerleri uzerinde\n",
      "buyukluk karsilastirmasi icin ise $A$'nin tekil degerlerine bakmak\n",
      "yeterli! \n"
     ]
    },
    {
     "cell_type": "code",
     "collapsed": false,
     "input": [
      "from pandas import *\n",
      "import numpy.linalg as lin\n",
      "nyt = read_csv (\"nytimes.csv\")\n",
      "labels = nyt['class.labels']\n",
      "nyt = nyt.drop([\"class.labels\"],axis=1)\n",
      "nyt = nyt - nyt.mean(0)\n",
      "u,s,v = lin.svd(nyt.T,full_matrices=False)"
     ],
     "language": "python",
     "outputs": [],
     "prompt_number": 1
    },
    {
     "cell_type": "code",
     "collapsed": false,
     "input": [
      "s[:10]"
     ],
     "language": "python",
     "outputs": [
      {
       "output_type": "pyout",
       "prompt_number": 2,
       "text": [
        "array([ 506.71801087,  137.37837989,  117.58264161,  112.34161417,\n",
        "         90.25486988,   85.27259576,   76.15578497,   72.86398284,\n",
        "         69.30806497,   61.53633062])"
       ]
      }
     ],
     "prompt_number": 2
    },
    {
     "cell_type": "code",
     "collapsed": false,
     "input": [
      "u.shape"
     ],
     "language": "python",
     "outputs": [
      {
       "output_type": "pyout",
       "prompt_number": 3,
       "text": [
        "(4431, 102)"
       ]
      }
     ],
     "prompt_number": 3
    },
    {
     "cell_type": "code",
     "collapsed": false,
     "input": [
      "u[:,0:2].T.shape"
     ],
     "language": "python",
     "outputs": [
      {
       "output_type": "pyout",
       "prompt_number": 47,
       "text": [
        "(2, 4431)"
       ]
      }
     ],
     "prompt_number": 47
    },
    {
     "cell_type": "code",
     "collapsed": false,
     "input": [
      "nyt.shape\n",
      "proj = np.dot(u[:,0:2].T,nyt.T)\n",
      "proj.shape\n",
      "plot(proj[0,:],proj[1,:],'.')\n"
     ],
     "language": "python",
     "outputs": [
      {
       "output_type": "pyout",
       "prompt_number": 50,
       "text": [
        "[<matplotlib.lines.Line2D at 0xb74430c>]"
       ]
      },
      {
       "output_type": "display_data",
       "png": "[encoded data removed]",
       "text": [
        "<matplotlib.figure.Figure at 0xb67012c>"
       ]
      }
     ],
     "prompt_number": 50
    },
    {
     "cell_type": "code",
     "collapsed": false,
     "input": [
      "arts = proj.T[labels == 'art']\n",
      "music = proj.T[labels == 'music']\n",
      "plot(arts.T[0,:],arts.T[1,:],'r.')\n",
      "plot(music.T[0,:],music.T[1,:],'g.')\n"
     ],
     "language": "python",
     "outputs": [
      {
       "output_type": "pyout",
       "prompt_number": 51,
       "text": [
        "[<matplotlib.lines.Line2D at 0xb71dd8c>]"
       ]
      },
      {
       "output_type": "display_data",
       "png": "[encoded data removed]",
       "text": [
        "<matplotlib.figure.Figure at 0xb71d9ec>"
       ]
      }
     ],
     "prompt_number": 51
    },
    {
     "cell_type": "code",
     "collapsed": false,
     "input": [],
     "language": "python",
     "outputs": []
    }
   ]
  }
 ]
}