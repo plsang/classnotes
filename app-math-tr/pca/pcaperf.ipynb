{
 "metadata": {
  "name": "pcaperf"
 },
 "nbformat": 3,
 "nbformat_minor": 0,
 "worksheets": [
  {
   "cells": [
    {
     "cell_type": "markdown",
     "source": [
      "<h1>SVD ile PCA Hesaplamak</h1>"
     ]
    },
    {
     "cell_type": "markdown",
     "source": [
      "PCA bolumunde anlatilan yontem temel bilesenlerin hesabinda ozdegerler\n",
      "ve ozvektorler kullandi. Alternatif bir yontem Tekil Deger Ayristirma\n",
      "(Singular Value Decomposition -SVD-) uzerinden bu hesabi\n",
      "yapmaktir. SVD icin <i>Lineer Cebir Ders 29</i>'a bakabilirsiniz. Peki\n",
      "ne zaman klasik PCA ne zaman SVD uzerinden PCA kullanmali? Bir cevap\n",
      "belki mevcut kutuphanelerde SVD kodlamasinin daha iyi olmasi,\n",
      "ayristirmanin ozvektor / deger hesabindan daha hizli isleyebilmesi [6].\n",
      "\n",
      "Ayrica birazdan gorecegimiz gibi SVD, kovaryans matrisi uzerinde\n",
      "degil, $A$'nin kendisi uzerinde isletilir, bu hem kovaryans hesaplama\n",
      "asamasini atlamamizi, hem de kovaryans hesabi sirasinda ortaya\n",
      "cikabilecek numerik puruzlerden korunmamizi saglar (cok ufak\n",
      "degerlerin kovaryans hesabini bozabilecegi literaturde\n",
      "bahsedilmektedir).\n",
      "\n",
      "PCA ve SVD baglantisina gelelim:\n",
      "\n",
      "Biliyoruz ki SVD bir matrisi su sekilde ayristirir\n",
      "\n",
      "$$A = USV^T$$\n",
      "\n",
      "$U$ matrisi $n \\times n$ dikgen (orthogonal), $V$ ise $m \\times m$\n",
      "dikgen. $S$'in sadece kosegeni uzerinde degerler var ve bu  $\\sigma_j$\n",
      "degerleri $A$'nin tekil degerleri (singular values) olarak biliniyor.\n",
      "\n",
      "Simdi $A$ yerine $AA^T$ koyalim, yani $A$'nin kovaryans matrisinin SVD\n",
      "ayristirmasini yapalim, acaba elimize ne gececek?\n",
      "\n",
      "$$ AA^T = (USV^T)(USV^T)^T $$\n",
      "\n",
      "$$ = (USV^T)(V S^T U^T) $$\n",
      "\n",
      "$$ = U S S^T U^T $$\n",
      "\n",
      "$S$ bir kosegen matrisi, o zaman $SS^T$ matrisi de kosegen, tek farkla\n",
      "kosegen uzerinde artik $\\sigma_j^2$ degerleri var. Bu normal.\n",
      "\n",
      "$SS^T$ yerine $\\Lambda$ sembolunu kullanalim, ve denklemi iki taraftan\n",
      "(ve sagdan) $U$ ile carparsak (unutmayalim $U$ ortanormal bir matris\n",
      "ve $U^T U = I$),\n",
      "\n",
      "$$ AA^TU = U \\Lambda U^TU $$\n",
      "\n",
      "$$ AA^TU = U \\Lambda   $$\n",
      "\n",
      "Son ifadeye yakindan bakalim, $U$'nun tek bir kolonuna, $u_k$ diyelim,\n",
      "odaklanacak olursak, ustteki ifadeden bu sadece kolona yonelik nasil\n",
      "bir esitlik cikartabilirdik? Soyle cikartabilirdik,\n",
      "\n",
      "$$ (AA^T)u_k = \\sigma^2 u_k   $$\n",
      "\n",
      "Bu ifade tanidik geliyor mu? Ozdeger / ozvektor klasik yapisina\n",
      "eristik. Ustteki  esitlik sadece ve sadece eger $u_k$, $AA^T$'nin\n",
      "ozvektoru ve $\\sigma^2$ onun ozdegeri ise gecerlidir. Bu esitligi tum\n",
      "$U$ kolonlari icin uygulayabilecegimize gore demek ki $U$'nun\n",
      "kolonlarinda $AA^T$'nin ozvektorleri vardir, ve $AA^T$'nin ozdegerleri\n",
      "$A$'nin tekil degerlerinin karesidir.\n",
      "\n",
      "Bu muthis bir bulus. Demek ki $AA^T$'nin ozektorlerini hesaplamak icin\n",
      "$A$ uzerinde SVD uygulayarak $U$'yu bulmamiz yeterli, kovaryans\n",
      "matrisini hesaplamak bile gerekmiyor! $AA^T$ ozdegerleri uzerinde\n",
      "buyukluk karsilastirmasi icin ise $A$'nin tekil degerlerine bakmak\n",
      "yeterli! "
     ]
    },
    {
     "cell_type": "markdown",
     "source": [
      "<h3>Ornek</h3>"
     ]
    },
    {
     "cell_type": "markdown",
     "source": [
      "Ilk PCA yazisindaki ornege donelim, ve ozvektorleri SVD uzerinden\n",
      "hesaplatalim. Once eig usulu ile"
     ]
    },
    {
     "cell_type": "code",
     "collapsed": false,
     "input": [
      "from pandas import *\n",
      "data = read_csv(\"testSet.txt\",sep=\"\\t\",header=None)\n",
      "means = mean(data, axis=0)\n",
      "meanless_data = data - means\n",
      "cov_mat = cov(meanless_data, rowvar=0)\n",
      "eigs,eigv = linalg.eig(mat(cov_mat))\n",
      "eigv"
     ],
     "language": "python",
     "outputs": [
      {
       "output_type": "pyout",
       "prompt_number": 2,
       "text": [
        "matrix([[-0.85389096, -0.52045195],\n",
        "        [ 0.52045195, -0.85389096]])"
       ]
      }
     ],
     "prompt_number": 2
    },
    {
     "cell_type": "markdown",
     "source": [
      "Simdi de SVD usulu ile"
     ]
    },
    {
     "cell_type": "code",
     "collapsed": false,
     "input": [
      "U,s,Vt = svd(meanless_data.T,full_matrices=False)\n",
      "U\n"
     ],
     "language": "python",
     "outputs": [
      {
       "output_type": "pyout",
       "prompt_number": 3,
       "text": [
        "array([[-0.52045195, -0.85389096],\n",
        "       [-0.85389096,  0.52045195]])"
       ]
      }
     ],
     "prompt_number": 3
    },
    {
     "cell_type": "code",
     "collapsed": false,
     "input": [
      "np.dot(U.T,U)"
     ],
     "language": "python",
     "outputs": [
      {
       "output_type": "pyout",
       "prompt_number": 4,
       "text": [
        "array([[ 1.,  0.],\n",
        "       [ 0.,  1.]])"
       ]
      }
     ],
     "prompt_number": 4
    },
    {
     "cell_type": "markdown",
     "source": [
      "Goruldugu gibi ayni ozvektorleri bulduk.\n",
      "\n",
      "<h3>New York Times Yaz\u0131lar\u0131 Analizi</h3>\n",
      "\n",
      "Simdi daha ilginc bir ornege bakalim. Bir arastirmaci belli yillar\n",
      "arasindaki NY Times makalelerinde her yazida hangi kelimenin kac kere\n",
      "ciktiginin verisini toplamis [1,2,3], bu veri 4000 kusur kelime, her\n",
      "satir (yazi) icin bir boyut (kolon) olarak kaydedilmis. Bu veri\n",
      "nytimes.csv uzerinde ek bir normalize isleminden sonra (bkz norm.R [4]\n",
      "ve nytimes4.csv), onun uzerinde boyut indirgeme yapabiliriz.\n",
      "\n",
      "Veri setinde her yazi ayrica ek olarak sanat (arts) ve muzik (music)\n",
      "olarak etiketlenmis, ama biz PCA kullanarak bu etiketlere hic\n",
      "bakmadan, verinin boyutlarini azaltarak acaba verinin \"ayrilabilir\"\n",
      "hale indirgenip indirgenemedigine bakacagiz. Sonra etiketleri veri\n",
      "ustune koyup sonucun dogrulugunu kontrol edecegiz.\n",
      "\n",
      "Bakmak derken veriyi (en onemli) iki boyuta indirgeyip sonucu\n",
      "grafikleyecegiz. Illa 2 olmasi gerekmez tabii, 10 boyuta indirgeyip\n",
      "(ki 4000 kusur boyuttan sonra bu hala muthis bir kazanim) geri\n",
      "kalanlar uzerinde mesela bir kumeleme algoritmasi kullanabilirdik.\n",
      "\n",
      "Ana veriyi yukleyip birkac satirini ve kolonlarini gosterelim."
     ]
    },
    {
     "cell_type": "code",
     "collapsed": false,
     "input": [
      "from pandas import *\n",
      "import numpy.linalg as lin\n",
      "nyt = read_csv (\"nytimes.csv\")\n",
      "labels = nyt['class.labels']\n",
      "nyt.ix[:8,102:107]"
     ],
     "language": "python",
     "outputs": [
      {
       "html": [
        "<div style=\"max-height:1000px;max-width:1500px;overflow:auto;\">\n",
        "<table border=\"1\" class=\"dataframe\">\n",
        "  <thead>\n",
        "    <tr style=\"text-align: right;\">\n",
        "      <th></th>\n",
        "      <th>after</th>\n",
        "      <th>afternoon</th>\n",
        "      <th>afterward</th>\n",
        "      <th>again</th>\n",
        "      <th>against</th>\n",
        "    </tr>\n",
        "  </thead>\n",
        "  <tbody>\n",
        "    <tr>\n",
        "      <td><strong>0</strong></td>\n",
        "      <td> 1</td>\n",
        "      <td> 0</td>\n",
        "      <td> 0</td>\n",
        "      <td> 0</td>\n",
        "      <td> 0</td>\n",
        "    </tr>\n",
        "    <tr>\n",
        "      <td><strong>1</strong></td>\n",
        "      <td> 1</td>\n",
        "      <td> 1</td>\n",
        "      <td> 0</td>\n",
        "      <td> 0</td>\n",
        "      <td> 0</td>\n",
        "    </tr>\n",
        "    <tr>\n",
        "      <td><strong>2</strong></td>\n",
        "      <td> 1</td>\n",
        "      <td> 0</td>\n",
        "      <td> 0</td>\n",
        "      <td> 1</td>\n",
        "      <td> 2</td>\n",
        "    </tr>\n",
        "    <tr>\n",
        "      <td><strong>3</strong></td>\n",
        "      <td> 3</td>\n",
        "      <td> 0</td>\n",
        "      <td> 0</td>\n",
        "      <td> 0</td>\n",
        "      <td> 0</td>\n",
        "    </tr>\n",
        "    <tr>\n",
        "      <td><strong>4</strong></td>\n",
        "      <td> 0</td>\n",
        "      <td> 1</td>\n",
        "      <td> 0</td>\n",
        "      <td> 0</td>\n",
        "      <td> 0</td>\n",
        "    </tr>\n",
        "    <tr>\n",
        "      <td><strong>5</strong></td>\n",
        "      <td> 0</td>\n",
        "      <td> 0</td>\n",
        "      <td> 0</td>\n",
        "      <td> 1</td>\n",
        "      <td> 2</td>\n",
        "    </tr>\n",
        "    <tr>\n",
        "      <td><strong>6</strong></td>\n",
        "      <td> 7</td>\n",
        "      <td> 0</td>\n",
        "      <td> 0</td>\n",
        "      <td> 0</td>\n",
        "      <td> 1</td>\n",
        "    </tr>\n",
        "    <tr>\n",
        "      <td><strong>7</strong></td>\n",
        "      <td> 0</td>\n",
        "      <td> 0</td>\n",
        "      <td> 0</td>\n",
        "      <td> 0</td>\n",
        "      <td> 0</td>\n",
        "    </tr>\n",
        "    <tr>\n",
        "      <td><strong>8</strong></td>\n",
        "      <td> 0</td>\n",
        "      <td> 0</td>\n",
        "      <td> 0</td>\n",
        "      <td> 0</td>\n",
        "      <td> 0</td>\n",
        "    </tr>\n",
        "  </tbody>\n",
        "</table>\n",
        "</div>"
       ],
       "output_type": "pyout",
       "prompt_number": 12,
       "text": [
        "   after  afternoon  afterward  again  against\n",
        "0      1          0          0      0        0\n",
        "1      1          1          0      0        0\n",
        "2      1          0          0      1        2\n",
        "3      3          0          0      0        0\n",
        "4      0          1          0      0        0\n",
        "5      0          0          0      1        2\n",
        "6      7          0          0      0        1\n",
        "7      0          0          0      0        0\n",
        "8      0          0          0      0        0"
       ]
      }
     ],
     "prompt_number": 12
    },
    {
     "cell_type": "markdown",
     "source": [
      "Yuklemeyi yapip sadece etiketleri aldik ve onlari bir kenara\n",
      "koyduk. Simdi onemli bir normalizasyon islemi gerekiyor - ki bu isleme\n",
      "ters dokuman-frekans agirliklandirmasi (inverse document-frequency\n",
      "weighting -IDF-) ismi veriliyor - her dokumanda a\u015f\u0131r\u0131 fazla ortaya\n",
      "cikan kelimelerin onemi ozellikle azaltiliyor, ki diger kelimelerin\n",
      "etkisi artabilsin.\n",
      "\n",
      "IDF kodlamasi alttaki gibidir. Once class.labels kolonunu\n",
      "atariz. Sonra \"herhangi bir deger iceren\" her hucrenin 1 digerlerinin\n",
      "0 olmasi icin kullanilan DataFrame uzerinde astype(bools) isletme\n",
      "numarasini kullaniriz, sonra bu 0/1 degerlerinin toplamini almak icin\n",
      "sum(axis=0). Ardindan bu buyuk toplami aliriz ve teker teker tum\n",
      "satirlari onunla carpariz. Boylece tum satirlarin agirliklari\n",
      "birbiriyle esitlenmeye calisilir. Tabii bu carpim sonrasi tum satirlar\n",
      "asiri buyuyebilecektir, o zaman her satiri kendi icinde tekrar\n",
      "normalize etmek icin o satirdaki tum degerlerin karesinin toplaminin\n",
      "karekokunu aliriz ve satirdaki tum degerler bu karekok ile\n",
      "bolunur. Buna oklitsel (euclidian) normalizasyon denebilir.\n",
      "\n",
      "Not: Oklitsel norm alirken toplamin hemen ardindan cok ufak bir 1e-16\n",
      "degeri eklememize dikkat cekelim, bunu toplamin sifir olma durumu icin\n",
      "yapiyoruz, ki sonra sifirla bolerken NaN sonucundan kacinalim. "
     ]
    },
    {
     "cell_type": "code",
     "collapsed": false,
     "input": [
      "nyt = nyt.drop(['class.labels'],axis=1)\n",
      "freq = nyt.astype(bool).sum(axis=0)\n",
      "freq = freq.replace(0,1)\n",
      "w = np.log(float(nyt.shape[0])/freq)\n",
      "nyt = nyt.apply(lambda x: x*w,axis=1)\n",
      "nyt = nyt.apply(lambda x: x / np.sqrt(np.sum(np.square(x))+1e-16), axis=1)\n"
     ],
     "language": "python",
     "outputs": [],
     "prompt_number": 13
    },
    {
     "cell_type": "code",
     "collapsed": false,
     "input": [
      "nyt=nyt.ix[:,1:] # ilk kolonu atladik\n",
      "nyt.ix[:8,102:107]"
     ],
     "language": "python",
     "outputs": [
      {
       "html": [
        "<div style=\"max-height:1000px;max-width:1500px;overflow:auto;\">\n",
        "<table border=\"1\" class=\"dataframe\">\n",
        "  <thead>\n",
        "    <tr style=\"text-align: right;\">\n",
        "      <th></th>\n",
        "      <th>afterward</th>\n",
        "      <th>again</th>\n",
        "      <th>against</th>\n",
        "      <th>age</th>\n",
        "      <th>agent</th>\n",
        "    </tr>\n",
        "  </thead>\n",
        "  <tbody>\n",
        "    <tr>\n",
        "      <td><strong>0</strong></td>\n",
        "      <td> 0</td>\n",
        "      <td> 0.000000</td>\n",
        "      <td> 0.000000</td>\n",
        "      <td> 0.051085</td>\n",
        "      <td> 0</td>\n",
        "    </tr>\n",
        "    <tr>\n",
        "      <td><strong>1</strong></td>\n",
        "      <td> 0</td>\n",
        "      <td> 0.000000</td>\n",
        "      <td> 0.000000</td>\n",
        "      <td> 0.000000</td>\n",
        "      <td> 0</td>\n",
        "    </tr>\n",
        "    <tr>\n",
        "      <td><strong>2</strong></td>\n",
        "      <td> 0</td>\n",
        "      <td> 0.021393</td>\n",
        "      <td> 0.045869</td>\n",
        "      <td> 0.000000</td>\n",
        "      <td> 0</td>\n",
        "    </tr>\n",
        "    <tr>\n",
        "      <td><strong>3</strong></td>\n",
        "      <td> 0</td>\n",
        "      <td> 0.000000</td>\n",
        "      <td> 0.000000</td>\n",
        "      <td> 0.000000</td>\n",
        "      <td> 0</td>\n",
        "    </tr>\n",
        "    <tr>\n",
        "      <td><strong>4</strong></td>\n",
        "      <td> 0</td>\n",
        "      <td> 0.000000</td>\n",
        "      <td> 0.000000</td>\n",
        "      <td> 0.000000</td>\n",
        "      <td> 0</td>\n",
        "    </tr>\n",
        "    <tr>\n",
        "      <td><strong>5</strong></td>\n",
        "      <td> 0</td>\n",
        "      <td> 0.024476</td>\n",
        "      <td> 0.052480</td>\n",
        "      <td> 0.000000</td>\n",
        "      <td> 0</td>\n",
        "    </tr>\n",
        "    <tr>\n",
        "      <td><strong>6</strong></td>\n",
        "      <td> 0</td>\n",
        "      <td> 0.000000</td>\n",
        "      <td> 0.008536</td>\n",
        "      <td> 0.000000</td>\n",
        "      <td> 0</td>\n",
        "    </tr>\n",
        "    <tr>\n",
        "      <td><strong>7</strong></td>\n",
        "      <td> 0</td>\n",
        "      <td> 0.000000</td>\n",
        "      <td> 0.000000</td>\n",
        "      <td> 0.000000</td>\n",
        "      <td> 0</td>\n",
        "    </tr>\n",
        "    <tr>\n",
        "      <td><strong>8</strong></td>\n",
        "      <td> 0</td>\n",
        "      <td> 0.000000</td>\n",
        "      <td> 0.000000</td>\n",
        "      <td> 0.000000</td>\n",
        "      <td> 0</td>\n",
        "    </tr>\n",
        "  </tbody>\n",
        "</table>\n",
        "</div>"
       ],
       "output_type": "pyout",
       "prompt_number": 6,
       "text": [
        "   afterward     again   against       age  agent\n",
        "0          0  0.000000  0.000000  0.051085      0\n",
        "1          0  0.000000  0.000000  0.000000      0\n",
        "2          0  0.021393  0.045869  0.000000      0\n",
        "3          0  0.000000  0.000000  0.000000      0\n",
        "4          0  0.000000  0.000000  0.000000      0\n",
        "5          0  0.024476  0.052480  0.000000      0\n",
        "6          0  0.000000  0.008536  0.000000      0\n",
        "7          0  0.000000  0.000000  0.000000      0\n",
        "8          0  0.000000  0.000000  0.000000      0"
       ]
      }
     ],
     "prompt_number": 6
    },
    {
     "cell_type": "markdown",
     "source": [
      "SVD yapalim"
     ]
    },
    {
     "cell_type": "code",
     "collapsed": false,
     "input": [
      "nyt = nyt - nyt.mean(0)\n",
      "u,s,v = lin.svd(nyt.T,full_matrices=False)"
     ],
     "language": "python",
     "outputs": [],
     "prompt_number": 7
    },
    {
     "cell_type": "code",
     "collapsed": false,
     "input": [
      "s[:10]"
     ],
     "language": "python",
     "outputs": [
      {
       "output_type": "pyout",
       "prompt_number": 8,
       "text": [
        "array([ 1.41676764,  1.37161893,  1.31840061,  1.24567955,  1.20596873,\n",
        "        1.18624932,  1.15118771,  1.13820504,  1.1138296 ,  1.10424634])"
       ]
      }
     ],
     "prompt_number": 8
    },
    {
     "cell_type": "code",
     "collapsed": false,
     "input": [
      "u.shape"
     ],
     "language": "python",
     "outputs": [
      {
       "output_type": "pyout",
       "prompt_number": 9,
       "text": [
        "(4430, 102)"
       ]
      }
     ],
     "prompt_number": 9
    },
    {
     "cell_type": "markdown",
     "source": [
      "SVD'nin verdigi $u$ icinden iki ozvektoru seciyoruz (en bastakiler,\n",
      "cunku Numpy SVD kodu bu ozvektorleri zaten siralanmis halde dondurur),\n",
      "ve veriyi bu yeni kordinata izdusumluyoruz."
     ]
    },
    {
     "cell_type": "code",
     "collapsed": false,
     "input": [
      "proj = np.dot(nyt, u[:,:2])\n",
      "proj.shape\n",
      "plot(proj[:,0],proj[:,1],'.')\n"
     ],
     "language": "python",
     "outputs": [
      {
       "output_type": "pyout",
       "prompt_number": 10,
       "text": [
        "[<matplotlib.lines.Line2D at 0xb03bb2c>]"
       ]
      },
      {
       "output_type": "display_data",
       "png": "[encoded data removed]",
       "text": [
        "<matplotlib.figure.Figure at 0xb5f3e0c>"
       ]
      }
     ],
     "prompt_number": 10
    },
    {
     "cell_type": "markdown",
     "source": [
      "Simdi ayni veriyi bir de etiket bilgisini devreye sokarak\n",
      "cizdirelim. Sanat kirmizi muzik mavi olacak."
     ]
    },
    {
     "cell_type": "code",
     "collapsed": false,
     "input": [
      "arts =proj[labels == 'art']\n",
      "music =proj[labels == 'music']\n",
      "plot(arts[:,0],arts[:,1],'r.')\n",
      "plot(music[:,0],music[:,1],'b.')"
     ],
     "language": "python",
     "outputs": [
      {
       "output_type": "pyout",
       "prompt_number": 11,
       "text": [
        "[<matplotlib.lines.Line2D at 0xb58eecc>]"
       ]
      },
      {
       "output_type": "display_data",
       "png": "[encoded data removed]",
       "text": [
        "<matplotlib.figure.Figure at 0xb58ef4c>"
       ]
      }
     ],
     "prompt_number": 11
    },
    {
     "cell_type": "markdown",
     "source": [
      "Goruldugu gibi veride ortaya cikan / ozvektorlerin kesfettigi dogal\n",
      "ayirim, hakikaten dogruymus.\n",
      "\n",
      "Metotun ne yaptigina dikkat, bir suru boyutu bir kenara atmamiza\n",
      "ragmen geri kalan en onemli 2 boyut uzerinden net bir ayirim ortaya\n",
      "cikartabiliyoruz. Bu PCA yonteminin iyi bir is becerdigini gosteriyor,\n",
      "ve kelime sayilarinin makalelerin icerigi hakkinda ipucu icerdigini\n",
      "ispatliyor."
     ]
    },
    {
     "cell_type": "markdown",
     "source": [
      "[1] Cosma Rohilla Shalizi, Advanced Data Analysis from an Elementary\n",
      "Point of View\n",
      "\n",
      "[2] http://www.ldc.upenn.edu/Catalog/CatalogEntry.jsp?catalogId=LDC2008T19\n",
      "\n",
      "[3] http://www.stat.cmu.edu/~cshalizi/490/pca/\n",
      "\n",
      "[5] http://www.math.nyu.edu/faculty/goodman/teaching/RPME/notes/Section3.pdf\n",
      "\n",
      "[6] Lineer Cebir notlarimizda SVD turetilmesine bakinca ozdeger/vektor\n",
      "mantigina atif yapildigini gorebiliriz ve akla su gelebilir; \"ozdeger\n",
      "/ vektor rutini isletmekten kurtulalim dedik, SVD yapiyoruz, ama onun\n",
      "icinde de ozdeger/vektor hesabi var\".  Fakat sunu belirtmek gerekir ki\n",
      "SVD numerik hesabini yapmanin tek yontemi ozdeger/vektor yontemi\n",
      "degildir. Mesela Numpy Linalg kutuphanesi icindeki SVD, LAPACK dgesdd\n",
      "rutinini kullanir ve bu rutin ic kodlamasinda QR, ve bir tur bol /\n",
      "istila et (divide and conquer) algoritmasi isletmektedir."
     ]
    }
   ]
  }
 ]
}