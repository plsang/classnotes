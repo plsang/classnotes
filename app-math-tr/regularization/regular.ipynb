{
 "metadata": {
  "name": "regular"
 },
 "nbformat": 3,
 "nbformat_minor": 0,
 "worksheets": [
  {
   "cells": [
    {
     "cell_type": "code",
     "collapsed": false,
     "input": [
      "from sklearn import linear_model, cross_validation\n",
      "from pandas import *\n",
      "diabetes = read_csv(\"diabetes.csv\",sep=';')\n",
      "diabetes_y = diabetes['response']\n",
      "diabetes_x = diabetes.drop(\"response\",axis=1)\n",
      "diabetes_x_train = diabetes_x[:-20]\n",
      "diabetes_x_test  = diabetes_x[-20:]\n",
      "diabetes_y_train = diabetes_y[:-20]\n",
      "diabetes_y_test  = diabetes_y[-20:]"
     ],
     "language": "python",
     "outputs": [],
     "prompt_number": 1
    },
    {
     "cell_type": "code",
     "collapsed": false,
     "input": [
      "import numpy.linalg as la\n",
      "xTx = np.dot(diabetes_x.T,diabetes_x)\n",
      "ws = np.dot(la.inv(xTx),(np.dot(diabetes_x.T,diabetes_y)))\n",
      "ws[:5]"
     ],
     "language": "python",
     "outputs": [
      {
       "output_type": "pyout",
       "prompt_number": 2,
       "text": [
        "array([ -10.01219787, -239.81909062,  519.83978673,  324.39042788,\n",
        "       -792.18416016])"
       ]
      }
     ],
     "prompt_number": 2
    },
    {
     "cell_type": "code",
     "collapsed": false,
     "input": [
      "lin = linear_model.LinearRegression()\n",
      "lin.fit(diabetes_x_train, diabetes_y_train) \n",
      "lin.score(diabetes_x_test, diabetes_y_test)\n",
      "lin = linear_model.LinearRegression()\n",
      "lin.fit(diabetes_x_train, diabetes_y_train) \n",
      "print lin.score(diabetes_x_test, diabetes_y_test), lin.coef_\n",
      "\n"
     ],
     "language": "python",
     "outputs": [
      {
       "output_type": "stream",
       "stream": "stdout",
       "text": [
        "0.585075302278 [  3.03499452e-01  -2.37639315e+02   5.10530605e+02   3.27736981e+02\n",
        "  -8.14131711e+02   4.92814589e+02   1.02848453e+02   1.84606489e+02\n",
        "   7.43519617e+02   7.60951724e+01]\n"
       ]
      }
     ],
     "prompt_number": 19
    },
    {
     "cell_type": "code",
     "collapsed": false,
     "input": [
      "regr = linear_model.Ridge(alpha=0.1)\n",
      "regr.fit(diabetes_x_train, diabetes_y_train) \n",
      "regr.coef_"
     ],
     "language": "python",
     "outputs": [
      {
       "output_type": "pyout",
       "prompt_number": 62,
       "text": [
        "array([  11.11365552, -204.19946811,  480.69629859,  303.83348868,\n",
        "        -88.0672857 ,  -66.8726095 , -193.14729964,  119.53475521,\n",
        "        430.10894133,   95.5629302 ])"
       ]
      }
     ],
     "prompt_number": 62
    },
    {
     "cell_type": "code",
     "collapsed": false,
     "input": [
      "rcv = linear_model.RidgeCV()\n",
      "rcv.fit(diabetes_x, diabetes_y)\n",
      "rcv.alpha_\n"
     ],
     "language": "python",
     "outputs": [
      {
       "output_type": "pyout",
       "prompt_number": 64,
       "text": [
        "0.10000000000000001"
       ]
      }
     ],
     "prompt_number": 64
    },
    {
     "cell_type": "code",
     "collapsed": false,
     "input": [
      "regr = linear_model.Lasso(alpha=0.3)\n",
      "regr.fit(diabetes_x_train, diabetes_y_train)\n",
      "regr.coef_"
     ],
     "language": "python",
     "outputs": [
      {
       "output_type": "pyout",
       "prompt_number": 39,
       "text": [
        "array([   0.        ,   -0.        ,  497.3407568 ,  199.17441037,\n",
        "         -0.        ,   -0.        , -118.89291549,    0.        ,\n",
        "        430.93795945,    0.        ])"
       ]
      }
     ],
     "prompt_number": 39
    },
    {
     "cell_type": "code",
     "collapsed": false,
     "input": [
      "regr.score(diabetes_x_test, diabetes_y_test) "
     ],
     "language": "python",
     "outputs": [
      {
       "output_type": "pyout",
       "prompt_number": 70,
       "text": [
        "0.55108354526646397"
       ]
      }
     ],
     "prompt_number": 70
    },
    {
     "cell_type": "code",
     "collapsed": false,
     "input": [
      "regr = linear_model.Lasso(alpha=0.3)\n",
      "regr.fit(diabetes_x_train, diabetes_y_train)\n",
      "print regr.score(diabetes_x_test, diabetes_y_test), regr.coef_\n"
     ],
     "language": "python",
     "outputs": [
      {
       "output_type": "stream",
       "stream": "stdout",
       "text": [
        "0.551083545266 [   0.           -0.          497.3407568   199.17441037   -0.           -0.\n",
        " -118.89291549    0.          430.93795945    0.        ]\n"
       ]
      }
     ],
     "prompt_number": 41
    },
    {
     "cell_type": "code",
     "collapsed": false,
     "input": [
      "k_fold = cross_validation.KFold(n=400, n_folds=10, indices=True)\n",
      "lasso = linear_model.LassoCV(cv=k_fold)\n",
      "lasso.fit(diabetes_x, diabetes_y)"
     ],
     "language": "python",
     "outputs": [
      {
       "output_type": "pyout",
       "prompt_number": 10,
       "text": [
        "LassoCV(alphas=None, copy_X=True,\n",
        "    cv=sklearn.cross_validation.KFold(n=400, n_folds=10), eps=0.001,\n",
        "    fit_intercept=True, max_iter=1000, n_alphas=100, normalize=False,\n",
        "    precompute='auto', tol=0.0001, verbose=False)"
       ]
      }
     ],
     "prompt_number": 10
    },
    {
     "cell_type": "code",
     "collapsed": false,
     "input": [
      "lasso.alpha_"
     ],
     "language": "python",
     "outputs": [
      {
       "output_type": "pyout",
       "prompt_number": 9,
       "text": [
        "0.030447962691396588"
       ]
      }
     ],
     "prompt_number": 9
    },
    {
     "cell_type": "code",
     "collapsed": false,
     "input": [],
     "language": "python",
     "outputs": [],
     "prompt_number": 73
    }
   ]
  }
 ]
}