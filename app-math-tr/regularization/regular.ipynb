{
 "metadata": {
  "name": "regular"
 },
 "nbformat": 3,
 "nbformat_minor": 0,
 "worksheets": [
  {
   "cells": [
    {
     "cell_type": "markdown",
     "source": [
      "Capraz Saglama (Cross-validation)\n",
      "\n",
      "Bir yapay ogrenim algoritmasini kullanmadan once veriyi iki parcaya\n",
      "ayirmak ise yarar; bu parcalar tipik olarak egitim verisi (training\n",
      "set) digeri ise test verisi (validation set) olarak\n",
      "isimlendirilir. Isimlerden belli olacagi uzere, algoritma egitim seti\n",
      "uzerinde egitilir; ve basarisi test verisi uzerinden rapor edilir. Bir\n",
      "bakima modelin olusturulmasi bir set uzerindendir, sonra \"al simdi hic\n",
      "mgormedigin bir veri seti, bakalim ne yapacaksin\" sorusunun cevabi,\n",
      "saglamasi bu sekilde yapilir.\n",
      "\n",
      "Capraz saglama bu iki parcali egitim / test kavramini bir adim oteye tasir. \n"
     ]
    },
    {
     "cell_type": "code",
     "collapsed": false,
     "input": [
      "from sklearn import linear_model, cross_validation\n",
      "from pandas import *\n",
      "diabetes = read_csv(\"diabetes.csv\",sep=';')\n",
      "diabetes_y = diabetes['response']\n",
      "diabetes_x = diabetes.drop(\"response\",axis=1)\n",
      "diabetes_x_train = diabetes_x[:-20]\n",
      "diabetes_x_test  = diabetes_x[-20:]\n",
      "diabetes_y_train = diabetes_y[:-20]\n",
      "diabetes_y_test  = diabetes_y[-20:]"
     ],
     "language": "python",
     "outputs": [],
     "prompt_number": 35
    },
    {
     "cell_type": "code",
     "collapsed": false,
     "input": [
      "import numpy.linalg as la\n",
      "xTx = np.dot(diabetes_x.T,diabetes_x)\n",
      "ws = np.dot(la.inv(xTx),(np.dot(diabetes_x.T,diabetes_y)))\n",
      "ws[:5]"
     ],
     "language": "python",
     "outputs": [
      {
       "output_type": "pyout",
       "prompt_number": 36,
       "text": [
        "array([ -10.01219787, -239.81909062,  519.83978673,  324.39042788,\n",
        "       -792.18416016])"
       ]
      }
     ],
     "prompt_number": 36
    },
    {
     "cell_type": "code",
     "collapsed": false,
     "input": [
      "lin = linear_model.LinearRegression()\n",
      "lin.fit(diabetes_x_train, diabetes_y_train) \n",
      "lin.score(diabetes_x_test, diabetes_y_test)\n",
      "lin = linear_model.LinearRegression()\n",
      "lin.fit(diabetes_x_train, diabetes_y_train) \n",
      "print lin.score(diabetes_x_test, diabetes_y_test), lin.coef_"
     ],
     "language": "python",
     "outputs": [
      {
       "output_type": "stream",
       "stream": "stdout",
       "text": [
        "0.585075302278 [  3.03499452e-01  -2.37639315e+02   5.10530605e+02   3.27736981e+02\n",
        "  -8.14131711e+02   4.92814589e+02   1.02848453e+02   1.84606489e+02\n",
        "   7.43519617e+02   7.60951724e+01]\n"
       ]
      }
     ],
     "prompt_number": 37
    },
    {
     "cell_type": "code",
     "collapsed": false,
     "input": [
      "k_fold = cross_validation.KFold(n=420, n_folds=12)"
     ],
     "language": "python",
     "outputs": [],
     "prompt_number": 128
    },
    {
     "cell_type": "code",
     "collapsed": false,
     "input": [
      "ridge = linear_model.RidgeCV(cv=k_fold)\n",
      "ridge.fit(np.array(diabetes_x), np.array(diabetes_y))\n",
      "ridge.alpha_"
     ],
     "language": "python",
     "outputs": [
      {
       "output_type": "pyout",
       "prompt_number": 129,
       "text": [
        "0.10000000000000001"
       ]
      }
     ],
     "prompt_number": 129
    },
    {
     "cell_type": "code",
     "collapsed": false,
     "input": [
      "ridge = linear_model.Ridge(alpha=0.1)\n",
      "ridge.fit(diabetes_x_train, diabetes_y_train) \n",
      "print ridge.score(diabetes_x_test, diabetes_y_test), ridge.coef_"
     ],
     "language": "python",
     "outputs": [
      {
       "output_type": "stream",
       "stream": "stdout",
       "text": [
        "0.570589994364 [  11.11365552 -204.19946811  480.69629859  303.83348868  -88.0672857\n",
        "  -66.8726095  -193.14729964  119.53475521  430.10894133   95.5629302 ]\n"
       ]
      }
     ],
     "prompt_number": 130
    },
    {
     "cell_type": "code",
     "collapsed": false,
     "input": [
      "lasso_cv = linear_model.LassoCV(cv=k_fold)\n",
      "lasso_cv.fit(diabetes_x, diabetes_y)"
     ],
     "language": "python",
     "outputs": [
      {
       "output_type": "pyout",
       "prompt_number": 131,
       "text": [
        "LassoCV(alphas=None, copy_X=True,\n",
        "    cv=sklearn.cross_validation.KFold(n=420, n_folds=12), eps=0.001,\n",
        "    fit_intercept=True, max_iter=1000, n_alphas=100, normalize=False,\n",
        "    precompute='auto', tol=0.0001, verbose=False)"
       ]
      }
     ],
     "prompt_number": 131
    },
    {
     "cell_type": "code",
     "collapsed": false,
     "input": [
      "lasso_cv.alpha_"
     ],
     "language": "python",
     "outputs": [
      {
       "output_type": "pyout",
       "prompt_number": 132,
       "text": [
        "0.057053922981741868"
       ]
      }
     ],
     "prompt_number": 132
    },
    {
     "cell_type": "code",
     "collapsed": false,
     "input": [
      "lasso = linear_model.Lasso(alpha=0.057)\n",
      "lasso.fit(diabetes_x_train, diabetes_y_train)\n",
      "lasso.coef_"
     ],
     "language": "python",
     "outputs": [
      {
       "output_type": "pyout",
       "prompt_number": 133,
       "text": [
        "array([   0.        , -186.37458248,  513.31001967,  298.5671338 ,\n",
        "        -91.5946447 ,   -0.        , -231.15276758,    0.        ,\n",
        "        492.90467857,   62.06596642])"
       ]
      }
     ],
     "prompt_number": 133
    },
    {
     "cell_type": "code",
     "collapsed": false,
     "input": [
      "lasso.score(diabetes_x_test, diabetes_y_test) "
     ],
     "language": "python",
     "outputs": [
      {
       "output_type": "pyout",
       "prompt_number": 134,
       "text": [
        "0.58702784979374178"
       ]
      }
     ],
     "prompt_number": 134
    },
    {
     "cell_type": "code",
     "collapsed": false,
     "input": [
      "def predict(i,j):\n",
      "    new_data = diabetes_x[i:j]\n",
      "    print diabetes_y[i:j], \"lasso\",lasso.predict(new_data), \\\n",
      "    \t    \"ridge\",ridge.predict(new_data), \\\n",
      "      \t    \"linear\",lin.predict(new_data)\t    \n",
      "\n",
      "predict(-1,None)"
     ],
     "language": "python",
     "outputs": [
      {
       "output_type": "stream",
       "stream": "stdout",
       "text": [
        "441    220\n",
        "Name: response lasso [ 206.98681163] ridge [ 203.47164445] linear [ 211.03463171]\n"
       ]
      }
     ],
     "prompt_number": 135
    },
    {
     "cell_type": "code",
     "collapsed": false,
     "input": [
      "predict(-2,-1)\n"
     ],
     "language": "python",
     "outputs": [
      {
       "output_type": "stream",
       "stream": "stdout",
       "text": [
        "440    57\n",
        "Name: response lasso [ 49.56810482] ridge [ 52.50623251] linear [ 52.60335675]\n"
       ]
      }
     ],
     "prompt_number": 136
    },
    {
     "cell_type": "code",
     "collapsed": false,
     "input": [
      "predict(-3,-2)\n"
     ],
     "language": "python",
     "outputs": [
      {
       "output_type": "stream",
       "stream": "stdout",
       "text": [
        "439    132\n",
        "Name: response lasso [ 127.38204246] ridge [ 129.5404851] linear [ 123.56604986]\n"
       ]
      }
     ],
     "prompt_number": 137
    },
    {
     "cell_type": "code",
     "collapsed": false,
     "input": [
      "predict(-4,-3)\n"
     ],
     "language": "python",
     "outputs": [
      {
       "output_type": "stream",
       "stream": "stdout",
       "text": [
        "438    104\n",
        "Name: response lasso [ 110.91374529] ridge [ 110.63712372] linear [ 102.5713971]\n"
       ]
      }
     ],
     "prompt_number": 138
    },
    {
     "cell_type": "code",
     "collapsed": false,
     "input": [
      "predict(-5,-4)\n"
     ],
     "language": "python",
     "outputs": [
      {
       "output_type": "stream",
       "stream": "stdout",
       "text": [
        "437    178\n",
        "Name: response lasso [ 194.23758134] ridge [ 190.5118835] linear [ 194.03798086]\n"
       ]
      }
     ],
     "prompt_number": 139
    }
   ]
  }
 ]
}