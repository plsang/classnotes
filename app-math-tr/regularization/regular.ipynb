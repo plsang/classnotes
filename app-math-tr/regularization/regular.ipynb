{
 "metadata": {
  "name": "regular"
 },
 "nbformat": 3,
 "nbformat_minor": 0,
 "worksheets": [
  {
   "cells": [
    {
     "cell_type": "markdown",
     "source": [
      "Regresyon, Ridge, Lasso ve Capraz Saglama\n",
      "\n",
      "Konumuz regresyon cesitleri, ve ornek veri olarak diyabet hastaligi\n",
      "olan kisilerden alinmis bazi temel verilerle hastaligin bir sene\n",
      "sonraki ilerleme miktari kullanilacak. Regresyon sayesinde temel\n",
      "veriler ile hastaligin ilerlemesi arasinda bir baglanti bulunabilir,\n",
      "bu sayede hem veriyi aciklanir / anlasilir (hangi degisken onemlidir,\n",
      "hangisi degildir), hem de baska bir hastanin temel verilerini\n",
      "kullanarak o hastanin diyabetinin bir sene sonra ne olacagini tahmin\n",
      "etmek mumkun olur.\n",
      "\n",
      "Kullanilan temel veriler kisinin yasi, cinsiyeti, vucut kutle endeksi\n",
      "(body mass index) ortalama tansiyonu ve alti kere alinmis kan serum\n",
      "olcumleridir.\n"
     ]
    },
    {
     "cell_type": "code",
     "collapsed": false,
     "input": [
      "from sklearn import linear_model, cross_validation\n",
      "from pandas import *\n",
      "diabetes = read_csv(\"diabetes.csv\",sep=';')\n",
      "diabetes_y = diabetes['response']\n",
      "diabetes_x = diabetes.drop(\"response\",axis=1)\n",
      "diabetes_x_train = diabetes_x[:-20]\n",
      "diabetes_x_test  = diabetes_x[-20:]\n",
      "diabetes_y_train = diabetes_y[:-20]\n",
      "diabetes_y_test  = diabetes_y[-20:]"
     ],
     "language": "python",
     "outputs": [],
     "prompt_number": 67
    },
    {
     "cell_type": "markdown",
     "source": [
      "Ilk once basit regresyonu hatirlayalim (ordinary least regression). Bu\n",
      "teknigi daha once pek cok yonden gorduk. *Lineer Cebir*, *Cok\n",
      "Degiskenli Calculus* ders notlarinda, ve bizim *Uygulamali Matematik*\n",
      "yazilarinin hepsinde bu teknigin turetilmesi mevcut. Formul\n",
      "\n",
      "$$ \\hat{w} = (X^TX) ^{-1} X^{T}y $$\n",
      "\n",
      "Numerik olarak hemen bu hesabi yapabiliriz. Bir hatirlatma: veri\n",
      "setine y ekseninin nerede kesildiginin bulunabilmesi icin suni bir\n",
      "ekstra 'intercept' adli kolon ekleyecegiz, bu kolon iki boyutta\n",
      "$y=ax+c$ formulundeki $c$'nin bulunabilmesi icindir. Pandas ile bu ekstra\n",
      "kolonu eklemek cok basit, ismen mevcut olmayan kolon erisildigi anda\n",
      "o kolon hemen yoktan yaratilir."
     ]
    },
    {
     "cell_type": "code",
     "collapsed": false,
     "input": [
      "import numpy.linalg as la\n",
      "x_tmp = diabetes_x_train.copy()\n",
      "x_tmp['intercept'] = 1\n",
      "xTx = np.dot(x_tmp.T,x_tmp )\n",
      "ws = np.dot(la.inv(xTx),np.dot(x_tmp.T,diabetes_y_train))\n",
      "ws"
     ],
     "language": "python",
     "outputs": [
      {
       "output_type": "pyout",
       "prompt_number": 68,
       "text": [
        "array([  3.03499452e-01,  -2.37639315e+02,   5.10530605e+02,\n",
        "         3.27736981e+02,  -8.14131711e+02,   4.92814589e+02,\n",
        "         1.02848453e+02,   1.84606489e+02,   7.43519617e+02,\n",
        "         7.60951724e+01,   1.52764307e+02])"
       ]
      }
     ],
     "prompt_number": 68
    },
    {
     "cell_type": "markdown",
     "source": [
      "Ayni hesabi bir de <code>scikit-learn</code> paketini kullanarak\n",
      "yapalim. Bu paketin <code>LinearRegression</code> cagrisi intercept\n",
      "isini otomatik olarak hallediyor, eger intercept olmasin isteseydik,\n",
      "<code>fit_intercept=False</code> diyecektik."
     ]
    },
    {
     "cell_type": "code",
     "collapsed": false,
     "input": [
      "lin = linear_model.LinearRegression()\n",
      "lin.fit(diabetes_x_train, diabetes_y_train)\n",
      "print lin.coef_\n",
      "print \"score\", lin.score(diabetes_x_test, diabetes_y_test), "
     ],
     "language": "python",
     "outputs": [
      {
       "output_type": "stream",
       "stream": "stdout",
       "text": [
        "[  3.03499452e-01  -2.37639315e+02   5.10530605e+02   3.27736981e+02\n",
        "  -8.14131711e+02   4.92814589e+02   1.02848453e+02   1.84606489e+02\n",
        "   7.43519617e+02   7.60951724e+01]\n",
        "score 0.585075302278\n"
       ]
      }
     ],
     "prompt_number": 69
    },
    {
     "cell_type": "markdown",
     "source": [
      "Sonuclar birbirine oldukca yakin. Simdi diger tekniklere gelelim.\n",
      "\n",
      "Ridge Regresyonu\n",
      "\n"
     ]
    },
    {
     "cell_type": "code",
     "collapsed": false,
     "input": [
      "k_fold = cross_validation.KFold(n=420, n_folds=12)"
     ],
     "language": "python",
     "outputs": [],
     "prompt_number": 70
    },
    {
     "cell_type": "markdown",
     "source": [
      "Capraz Saglama (Cross-validation)\n",
      "\n",
      "Bir yapay ogrenim algoritmasini kullanmadan once veriyi iki parcaya\n",
      "ayirmak ise yarar; bu parcalar tipik olarak egitim verisi (training\n",
      "set) digeri ise test verisi (validation set) olarak\n",
      "isimlendirilir. Isimlerden belli olacagi uzere, algoritma egitim seti\n",
      "uzerinde egitilir; ve basarisi test verisi uzerinden rapor edilir. Bir\n",
      "bakima modelin olusturulmasi bir set uzerindendir, sonra \"al simdi hic\n",
      "mgormedigin bir veri seti, bakalim ne yapacaksin\" sorusunun cevabi,\n",
      "saglamasi bu sekilde yapilir.\n",
      "\n",
      "Capraz saglama bu iki parcali egitim / test kavramini bir adim oteye tasir. \n"
     ]
    },
    {
     "cell_type": "code",
     "collapsed": false,
     "input": [
      "ridge = linear_model.RidgeCV(cv=k_fold)\n",
      "ridge.fit(np.array(diabetes_x), np.array(diabetes_y))\n",
      "ridge.alpha_"
     ],
     "language": "python",
     "outputs": [
      {
       "output_type": "pyout",
       "prompt_number": 84,
       "text": [
        "0.10000000000000001"
       ]
      }
     ],
     "prompt_number": 84
    },
    {
     "cell_type": "code",
     "collapsed": false,
     "input": [
      "ridge = linear_model.Ridge(alpha=0.13)\n",
      "ridge.fit(diabetes_x_train, diabetes_y_train) \n",
      "print ridge.score(diabetes_x_test, diabetes_y_test), ridge.coef_"
     ],
     "language": "python",
     "outputs": [
      {
       "output_type": "stream",
       "stream": "stdout",
       "text": [
        "0.565492080144 [  12.95583173 -196.23160563  470.24303979  297.989842    -72.71426917\n",
        "  -72.80130287 -194.28434984  121.10211917  414.90205195   99.10553664]\n"
       ]
      }
     ],
     "prompt_number": 105
    },
    {
     "cell_type": "code",
     "collapsed": false,
     "input": [
      "lasso_cv = linear_model.LassoCV(cv=k_fold)\n",
      "lasso_cv.fit(diabetes_x, diabetes_y)"
     ],
     "language": "python",
     "outputs": [
      {
       "output_type": "pyout",
       "prompt_number": 73,
       "text": [
        "LassoCV(alphas=None, copy_X=True,\n",
        "    cv=sklearn.cross_validation.KFold(n=420, n_folds=12), eps=0.001,\n",
        "    fit_intercept=True, max_iter=1000, n_alphas=100, normalize=False,\n",
        "    precompute='auto', tol=0.0001, verbose=False)"
       ]
      }
     ],
     "prompt_number": 73
    },
    {
     "cell_type": "code",
     "collapsed": false,
     "input": [
      "lasso_cv.alpha_"
     ],
     "language": "python",
     "outputs": [
      {
       "output_type": "pyout",
       "prompt_number": 74,
       "text": [
        "0.057053922981741868"
       ]
      }
     ],
     "prompt_number": 74
    },
    {
     "cell_type": "code",
     "collapsed": false,
     "input": [
      "lasso = linear_model.Lasso(alpha=0.057)\n",
      "lasso.fit(diabetes_x_train, diabetes_y_train)\n",
      "lasso.coef_"
     ],
     "language": "python",
     "outputs": [
      {
       "output_type": "pyout",
       "prompt_number": 75,
       "text": [
        "array([   0.        , -186.37458248,  513.31001967,  298.5671338 ,\n",
        "        -91.5946447 ,   -0.        , -231.15276758,    0.        ,\n",
        "        492.90467857,   62.06596642])"
       ]
      }
     ],
     "prompt_number": 75
    },
    {
     "cell_type": "code",
     "collapsed": false,
     "input": [
      "lasso.score(diabetes_x_test, diabetes_y_test) "
     ],
     "language": "python",
     "outputs": [
      {
       "output_type": "pyout",
       "prompt_number": 76,
       "text": [
        "0.58702784979374178"
       ]
      }
     ],
     "prompt_number": 76
    },
    {
     "cell_type": "code",
     "collapsed": false,
     "input": [
      "def predict(i,j):\n",
      "    new_data = diabetes_x[i:j]\n",
      "    print diabetes_y[i:j], \"lasso\",lasso.predict(new_data), \\\n",
      "    \t    \"ridge\",ridge.predict(new_data), \\\n",
      "      \t    \"linear\",lin.predict(new_data)\t    \n",
      "\n",
      "predict(-1,None)\n",
      "predict(-2,-1)\n",
      "predict(-3,-2)\n",
      "predict(-4,-3)\n",
      "predict(-5,-4)\n",
      "predict(-6,-5)\n"
     ],
     "language": "python",
     "outputs": [
      {
       "output_type": "stream",
       "stream": "stdout",
       "text": [
        "441    220\n",
        "Name: response lasso [ 206.98681163] ridge [ 202.09751785] linear [ 211.03463171]\n",
        "440    57\n",
        "Name: response lasso [ 49.56810482] ridge [ 54.25781081] linear [ 52.60335675]\n",
        "439    132\n",
        "Name: response lasso [ 127.38204246] ridge [ 130.38955396] linear [ 123.56604986]\n",
        "438    104\n",
        "Name: response lasso [ 110.91374529] ridge [ 112.41561887] linear [ 102.5713971]\n",
        "437    178\n",
        "Name: response lasso [ 194.23758134] ridge [ 189.96096068] linear [ 194.03798086]\n",
        "436    48\n",
        "Name: response lasso [ 55.78577762] ridge [ 58.90586755] linear [ 52.5445869]\n"
       ]
      }
     ],
     "prompt_number": 107
    },
    {
     "cell_type": "code",
     "collapsed": false,
     "input": [],
     "language": "python",
     "outputs": []
    }
   ]
  }
 ]
}