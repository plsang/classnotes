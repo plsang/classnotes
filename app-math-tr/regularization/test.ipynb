{
 "metadata": {
  "name": "test"
 },
 "nbformat": 3,
 "nbformat_minor": 0,
 "worksheets": [
  {
   "cells": [
    {
     "cell_type": "markdown",
     "source": [
      "Capraz Saglama (Cross-validation)\n",
      "\n",
      "Bir yapay ogrenim algoritmasini kullanmadan once veriyi iki parcaya\n",
      "ayirmak ise yarar; bu parcalar tipik olarak egitim verisi (training\n",
      "set) digeri ise test verisi (validation set) olarak\n",
      "isimlendirilir. Isimlerden belli olacagi uzere, algoritma egitim seti\n",
      "uzerinde egitilir; ve basarisi test verisi uzerinden rapor edilir. Bir\n",
      "bakima modelin olusturulmasi bir set uzerindendir, sonra \"al simdi hic\n",
      "gormedigin bir veri seti, bakalim ne yapacaksin\" sorusunun cevabi,\n",
      "saglamasi bu sekilde yapilir.\n",
      "\n",
      "Capraz saglama bu iki parcali egitim / test kavramini bir adim oteye tasir. \n"
     ]
    },
    {
     "cell_type": "code",
     "collapsed": false,
     "input": [
      "from sklearn import datasets\n",
      "datasets.load_iris()\n",
      "iris = datasets.load_iris()\n",
      "X = iris.data\n",
      "Y = iris.target"
     ],
     "language": "python",
     "outputs": [],
     "prompt_number": 4
    },
    {
     "cell_type": "code",
     "collapsed": false,
     "input": [
      "diabetes = datasets.load_diabetes()\n",
      "tmp = DataFrame(diabetes.data,columns = ['age', 'sex', 'body_mass_index', 'average_blood_pressure', 'serum1','serum2','serum3','serum4','serum5','serum6'])\n",
      "tmp['response'] = diabetes.target\n",
      "tmp.to_csv(\"diabetes.csv\")\n",
      "\n"
     ],
     "language": "python",
     "outputs": [],
     "prompt_number": 43
    },
    {
     "cell_type": "code",
     "collapsed": false,
     "input": [
      "\n",
      "from sklearn import cross_validation\n",
      "from sklearn import neighbors\n",
      "cross_val = cross_validation.KFold(n = len(X), k=10, shuffle=True)\n",
      "def avg_miss(Y_true, Y_pred):\n",
      "    return (Y_true != Y_pred).sum() / float(len(Y_true))\n",
      "\n",
      "knc = neighbors.KNeighborsClassifier(n_neighbors=5, warn_on_equidistant=False)\n",
      "step = 5\n"
     ],
     "language": "python",
     "outputs": [
      {
       "output_type": "stream",
       "stream": "stderr",
       "text": [
        "/usr/local/lib/python2.7/dist-packages/sklearn/cross_validation.py:263: DeprecationWarning: The parameter k was renamed to n_folds and will be removed in 0.15.\n",
        "  \" removed in 0.15.\", DeprecationWarning)\n"
       ]
      }
     ],
     "prompt_number": 8
    },
    {
     "cell_type": "code",
     "collapsed": false,
     "input": [
      "cross_validation.cross_val_score(knc, X, Y,\n",
      "                                 cv=cross_val, score_func=avg_miss)"
     ],
     "language": "python",
     "outputs": [
      {
       "output_type": "pyout",
       "prompt_number": 9,
       "text": [
        "array([ 0.        ,  0.13333333,  0.        ,  0.06666667,  0.06666667,\n",
        "        0.06666667,  0.        ,  0.06666667,  0.        ,  0.        ])"
       ]
      }
     ],
     "prompt_number": 9
    },
    {
     "cell_type": "code",
     "collapsed": false,
     "input": [],
     "language": "python",
     "outputs": []
    }
   ]
  }
 ]
}