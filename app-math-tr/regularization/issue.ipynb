{
 "metadata": {
  "name": "issue"
 },
 "nbformat": 3,
 "nbformat_minor": 0,
 "worksheets": [
  {
   "cells": [
    {
     "cell_type": "code",
     "collapsed": false,
     "input": [
      "from sklearn import linear_model, datasets\n",
      "diabetes = datasets.load_diabetes()\n",
      "diabetes_X_train = diabetes.data[:-20]\n",
      "diabetes_X_test  = diabetes.data[-20:]\n",
      "diabetes_y_train = diabetes.target[:-20]\n",
      "diabetes_y_test  = diabetes.target[-20:]"
     ],
     "language": "python",
     "outputs": [],
     "prompt_number": 4
    },
    {
     "cell_type": "code",
     "collapsed": false,
     "input": [
      "regr = linear_model.Lasso(alpha=0.3)\n",
      "regr.fit(diabetes_X_train, diabetes_y_train)\n",
      "regr.coef_"
     ],
     "language": "python",
     "outputs": [
      {
       "output_type": "pyout",
       "prompt_number": 5,
       "text": [
        "array([   0.        ,   -0.        ,  497.34075682,  199.17441034,\n",
        "         -0.        ,   -0.        , -118.89291545,    0.        ,\n",
        "        430.9379595 ,    0.        ])"
       ]
      }
     ],
     "prompt_number": 5
    },
    {
     "cell_type": "code",
     "collapsed": false,
     "input": [
      "regr.score(diabetes_X_test, diabetes_y_test) "
     ],
     "language": "python",
     "outputs": [
      {
       "output_type": "pyout",
       "prompt_number": 7,
       "text": [
        "0.55108354530029768"
       ]
      }
     ],
     "prompt_number": 7
    },
    {
     "cell_type": "code",
     "collapsed": false,
     "input": [
      "lasso = linear_model.LassoCV()\n",
      "X_diabetes = diabetes.data\n",
      "y_diabetes = diabetes.target\n",
      "lasso.fit(X_diabetes, y_diabetes)"
     ],
     "language": "python",
     "outputs": [
      {
       "output_type": "pyout",
       "prompt_number": 9,
       "text": [
        "LassoCV(alphas=None, copy_X=True, cv=None, eps=0.001, fit_intercept=True,\n",
        "    max_iter=1000, n_alphas=100, normalize=False, precompute='auto',\n",
        "    tol=0.0001, verbose=False)"
       ]
      }
     ],
     "prompt_number": 9
    },
    {
     "cell_type": "code",
     "collapsed": false,
     "input": [
      "lasso.alpha_"
     ],
     "language": "python",
     "outputs": [
      {
       "output_type": "pyout",
       "prompt_number": 10,
       "text": [
        "0.013180196198701125"
       ]
      }
     ],
     "prompt_number": 10
    },
    {
     "cell_type": "code",
     "collapsed": false,
     "input": [
      "regr = linear_model.Lasso(alpha=0.01318)\n",
      "regr.fit(diabetes_X_train, diabetes_y_train)\n",
      "regr.coef_\n"
     ],
     "language": "python",
     "outputs": [
      {
       "output_type": "pyout",
       "prompt_number": 11,
       "text": [
        "array([   0.        , -222.53375043,  518.718785  ,  319.90562771,\n",
        "       -195.85589977,    1.81226788, -160.51285197,  107.76607022,\n",
        "        515.0763012 ,   75.12589753])"
       ]
      }
     ],
     "prompt_number": 11
    },
    {
     "cell_type": "code",
     "collapsed": false,
     "input": [
      "regr.score(diabetes_X_test, diabetes_y_test) \n"
     ],
     "language": "python",
     "outputs": [
      {
       "output_type": "pyout",
       "prompt_number": 12,
       "text": [
        "0.58906284222188687"
       ]
      }
     ],
     "prompt_number": 12
    },
    {
     "cell_type": "code",
     "collapsed": false,
     "input": [],
     "language": "python",
     "outputs": []
    }
   ]
  }
 ]
}