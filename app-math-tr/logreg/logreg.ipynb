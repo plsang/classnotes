{
 "metadata": {
  "name": "logreg"
 },
 "nbformat": 3,
 "nbformat_minor": 0,
 "worksheets": [
  {
   "cells": [
    {
     "cell_type": "markdown",
     "source": [
      "Lojistik Regresyon (Logistic Regression)\n",
      "\n",
      "Lojistik regresyon normal regresyonun $\\theta^T x$ olarak kullandigi\n",
      "agirliklar (katsayilar) ile verinin carpimini alir ve ek bir filtre\n",
      "fonksiyonundan gecirerek onlari 0/1 degerleri baglaminda bir olasiliga\n",
      "esler. Yani elimizdeki veri pek cok boyutta veri noktalari ve o\n",
      "noktalarin 0 ya da 1 olarak bir \"etiketi\" olacaktir. Mesela"
     ]
    },
    {
     "cell_type": "code",
     "collapsed": false,
     "input": [
      "from pandas import *\n",
      "df = read_csv(\"testSet.txt\",sep='\\t',names=['x','y','labels'],header=None)\n",
      "df['intercept']=1.0\n",
      "data = df[['intercept','x','y']]\n",
      "labels = df['labels']\n",
      "df[['x','y','labels']][:10]\n"
     ],
     "language": "python",
     "outputs": [
      {
       "html": [
        "<div style=\"max-height:1000px;max-width:1500px;overflow:auto;\">\n",
        "<table border=\"1\" class=\"dataframe\">\n",
        "  <thead>\n",
        "    <tr style=\"text-align: right;\">\n",
        "      <th></th>\n",
        "      <th>x</th>\n",
        "      <th>y</th>\n",
        "      <th>labels</th>\n",
        "    </tr>\n",
        "  </thead>\n",
        "  <tbody>\n",
        "    <tr>\n",
        "      <td><strong>0</strong></td>\n",
        "      <td>-0.017612</td>\n",
        "      <td> 14.053064</td>\n",
        "      <td> 0</td>\n",
        "    </tr>\n",
        "    <tr>\n",
        "      <td><strong>1</strong></td>\n",
        "      <td>-1.395634</td>\n",
        "      <td>  4.662541</td>\n",
        "      <td> 1</td>\n",
        "    </tr>\n",
        "    <tr>\n",
        "      <td><strong>2</strong></td>\n",
        "      <td>-0.752157</td>\n",
        "      <td>  6.538620</td>\n",
        "      <td> 0</td>\n",
        "    </tr>\n",
        "    <tr>\n",
        "      <td><strong>3</strong></td>\n",
        "      <td>-1.322371</td>\n",
        "      <td>  7.152853</td>\n",
        "      <td> 0</td>\n",
        "    </tr>\n",
        "    <tr>\n",
        "      <td><strong>4</strong></td>\n",
        "      <td> 0.423363</td>\n",
        "      <td> 11.054677</td>\n",
        "      <td> 0</td>\n",
        "    </tr>\n",
        "    <tr>\n",
        "      <td><strong>5</strong></td>\n",
        "      <td> 0.406704</td>\n",
        "      <td>  7.067335</td>\n",
        "      <td> 1</td>\n",
        "    </tr>\n",
        "    <tr>\n",
        "      <td><strong>6</strong></td>\n",
        "      <td> 0.667394</td>\n",
        "      <td> 12.741452</td>\n",
        "      <td> 0</td>\n",
        "    </tr>\n",
        "    <tr>\n",
        "      <td><strong>7</strong></td>\n",
        "      <td>-2.460150</td>\n",
        "      <td>  6.866805</td>\n",
        "      <td> 1</td>\n",
        "    </tr>\n",
        "    <tr>\n",
        "      <td><strong>8</strong></td>\n",
        "      <td> 0.569411</td>\n",
        "      <td>  9.548755</td>\n",
        "      <td> 0</td>\n",
        "    </tr>\n",
        "    <tr>\n",
        "      <td><strong>9</strong></td>\n",
        "      <td>-0.026632</td>\n",
        "      <td> 10.427743</td>\n",
        "      <td> 0</td>\n",
        "    </tr>\n",
        "  </tbody>\n",
        "</table>\n",
        "</div>"
       ],
       "output_type": "pyout",
       "prompt_number": 2,
       "text": [
        "          x          y  labels\n",
        "0 -0.017612  14.053064       0\n",
        "1 -1.395634   4.662541       1\n",
        "2 -0.752157   6.538620       0\n",
        "3 -1.322371   7.152853       0\n",
        "4  0.423363  11.054677       0\n",
        "5  0.406704   7.067335       1\n",
        "6  0.667394  12.741452       0\n",
        "7 -2.460150   6.866805       1\n",
        "8  0.569411   9.548755       0\n",
        "9 -0.026632  10.427743       0"
       ]
      }
     ],
     "prompt_number": 2
    },
    {
     "cell_type": "markdown",
     "source": [
      "Goruldugu gibi veride $x,y$ boyutlari icin etiketler (labels)\n",
      "verilmis. Lojistik regresyon bu veriyi kullanarak egitim sonrasi\n",
      "$\\theta$'lari elde eder, bunlar katsayilarimizdir, artik bu\n",
      "katsayilari hic gormedigimiz yeni bir veri uzerinde 0/1 etiketlerinin\n",
      "tahminini yapmak icin kullanabiliriz.\n",
      "\n",
      "Filtre fonksiyonu icin kullanilan bir fonksiyon sigmoid fonksiyonudur,\n",
      "$g(x)$ ismini verelim,\n",
      "\n",
      "$$ g(x) = \\frac{e^{x}}{1+e^{x}} $$\n",
      "\n",
      "Bu nasil bir fonksiyondur, kabaca davranisini nasil tarif ederiz?\n",
      "Cebirsel olarak bakarsak, fonksiyon oyle bir durumda ki ne zaman bir\n",
      "$x$ degeri gecersek, bu deger ne kadar buyuk olursa olsun, bolendeki\n",
      "deger her zaman bolunenden 1 daha fazla olacaktir bu da fonksiyonun\n",
      "sonucunun 1'den her zaman kucuk olmasini garantiler. Cok kucuk $x$\n",
      "degerleri icin bolum sonucu biraz daha buyuk olacaktir tabii, vs.\n",
      "\n",
      "Daha temiz bir ifade icin bolen ve boluneni $e^{-x}$ ile carpalim,\n",
      "\n",
      "$$ g(x) = \\frac{e^{x}e^{-x}}{e^{-x}+e^{x}e^{-x}} $$\n",
      "\n",
      "$$ g(x) = \\frac{1}{1+e^{-x}} $$\n",
      "\n",
      "Sigmoid fonksiyonun \"-sonsuzluk ile +sonsuzluk arasindaki degerleri 0\n",
      "ve 1 arasina esledigi / indirgedigi (map)\" ifadesi de litaraturde\n",
      "mevcuttur."
     ]
    },
    {
     "cell_type": "code",
     "collapsed": false,
     "input": [
      "def sigmoid(arr):\n",
      "    return 1.0/(1+exp(-arr))\n",
      "\n",
      "x = np.array(arange(-10.0, 10.0, 0.1))\n",
      "plot(x,sigmoid(x))\n",
      "    "
     ],
     "language": "python",
     "outputs": [
      {
       "output_type": "pyout",
       "prompt_number": 3,
       "text": [
        "[<matplotlib.lines.Line2D at 0x9cfcd2c>]"
       ]
      },
      {
       "output_type": "display_data",
       "png": "[encoded data removed]",
       "text": [
        "<matplotlib.figure.Figure at 0x9c4aa6c>"
       ]
      }
     ],
     "prompt_number": 3
    },
    {
     "cell_type": "markdown",
     "source": [
      "Peki sigmoid fonksiyonu bir olasilik fonksiyonu (dagilimi) olarak\n",
      "kullanilabilir mi?  Entegralini alalim, ve -/+ sonsuzluklar uzerinden\n",
      "alan hesabi yapalim, sonucun 1 cikmasi gerekli,"
     ]
    },
    {
     "cell_type": "code",
     "collapsed": false,
     "input": [
      "import sympy\n",
      "x = sympy.Symbol('x')\n",
      "sympy.integrate('1/(1+exp(-x))')\n"
     ],
     "language": "python",
     "outputs": [
      {
       "output_type": "pyout",
       "prompt_number": 4,
       "text": [
        "x + log(1 + exp(-x))"
       ]
      }
     ],
     "prompt_number": 4
    },
    {
     "cell_type": "markdown",
     "source": [
      "Daha temizlemek icin\n",
      "\n",
      "$$ x + \\ln(1 + e^{-x}) $$\n",
      "\n",
      "$x$ ifadesi ayni zamanda suna esittir $x=ln( e^{x} )$. Bu ifade bize\n",
      "kolaylik saglayacak boylece,\n",
      "\n",
      "$$ \\ln e^{x} + \\ln(1+e^{-x})  $$\n",
      "\n",
      "diyebiliriz. Dogal log'un (ln) carpimlari toplamlara donusturdugunu\n",
      "biliyoruz, bunu tersinden uygulayalim,\n",
      "\n",
      "$$ \\ln (e^{x}\\cdot 1 + e^{x}e^{-x})  $$\n",
      "\n",
      "$$ \\ln (e^{x} + 1)  = \\ln (1 + e^{x} )  $$\n"
     ]
    },
    {
     "cell_type": "code",
     "collapsed": false,
     "input": [
      "print log (1+exp(-inf))\n",
      "print log(1+exp(inf))"
     ],
     "language": "python",
     "outputs": [
      {
       "output_type": "stream",
       "stream": "stdout",
       "text": [
        "0.0\n",
        "inf\n"
       ]
      }
     ],
     "prompt_number": 5
    },
    {
     "cell_type": "markdown",
     "source": [
      "Demek ki fonksiyon bir olasilik dagilimi olamaz, cunku egri altindaki\n",
      "alan sonsuz buyuklugunde. Aslinda bu fonksiyonun kumulatif dagilim\n",
      "fonksiyonu (cumulative distribution function -CDF-) ozellikleri\n",
      "vardir, yani kendisi degil ama turevi bir olasilik fonksiyonu olarak\n",
      "kullanilabilir (bu konumuz disinda).\n",
      "\n",
      "Her neyse, sigmoid'in bir CDF gibi hareket ettigini $g$'nin 0 ile 1\n",
      "arasinda olmasindan da anliyoruz, sonucta CDF alan demektir\n",
      "(yogunlugun entegrali) ve en ust degeri 1 demektir, ki bu CDF tanimina\n",
      "uygundur.\n",
      "\n",
      "Simdi elimizde olabilecek $k$ tane degisken ve bu degiskenlerin\n",
      "bilinmeyen katsayilari icin 0 ve 1'e eslenecek bir regresyon\n",
      "olusturalim. Diyelim ki katsayilar $\\theta_0,..,\\theta_k$. Bu\n",
      "katsayilari degiskenler ile carpip toplayarak $h(x)$'e verelim, (0/1)\n",
      "cikip cikmayacagi katsayilara bagli olacak, verideki etiketler ile\n",
      "$h(x)$ sonucu arasinda bir baglanti kurabilirsek, bu bize katsayilari\n",
      "verebilir. Bu modele gore eger $\\theta$'yi ne kadar iyi secersek,\n",
      "eldeki veriye etiketlerine o kadar yaklasmis olacagiz. Simdi sigmoid'i\n",
      "katsayilarla beraber yazalim,\n",
      "\n",
      "$$ h_\\theta(x) = g(\\theta^T x) = \\frac{1}{1+e^{-\\theta^T x}} $$\n",
      "\n",
      "\"Veriye olabildigince yaklasmak icin en iyi $\\alpha$'yi bulmak\" sozu\n",
      "bize maksimum olurluk (maximum likelihood) hesabini hatirlatmali. Bu\n",
      "hesaba gore icinde bilinmeyen $\\alpha$'yi barindiran formulun\n",
      "uzerinden tum verinin sonuclarinin teker teker birbiri ile carpimi\n",
      "olabildigince buyuk olmalidir. Bu ifadeyi maksimize edecek $\\alpha$\n",
      "veriye en uygun $\\alpha$ olacaktir.\n",
      "\n",
      "Simdi her iki etiket icin ve sigmoid'i kullanarak olasilik hesaplarini\n",
      "yapalim,\n",
      "\n",
      "$$ P(y=1 | x;\\theta) = h_\\theta(x) $$\n",
      "\n",
      "$$ P(y=0 | x;\\theta) = 1 - h_\\theta(x) $$\n",
      "\n",
      "Not: Olasilik degerleri (buyuk $P(\\cdot)$ ile) ve CDF fonksiyonlari\n",
      "olurluk hesabinda kullanilabilir. $P(\\cdot)$ ile CDF baglantisi var,\n",
      "$P(X<x)$ gibi kumulatif alansal hesaplarin CDF uzerinden\n",
      "gerceklestirilebildigini hatirlayalim.\n",
      "\n",
      "Devam edelim, hepsi bir arada olacak sekilde yanyana koyarsak ve\n",
      "sonuca, $y$'yi dogru tahmin edip etmedigimizin olcumunu de eklersek,\n",
      "\n",
      "$$p(y | x;\\theta) = (h_\\theta(x))^y (1-h_\\theta(x))^{1-y}$$\n",
      "\n",
      "Olurluk icin tum veri noktalarini teker teker bu fonksiyona gecip\n",
      "sonuclarini carpacagiz (ve verilerin birinden bagimsiz olarak\n",
      "uretildigini farzediyoruz), eger $m$ tane veri noktasi var ise\n",
      "\n",
      "$$ L(\\theta) = \\prod_{i=1}^{m} (h_\\theta(x^i))^{y^i}\n",
      "(1-h_\\theta(x^i))^{1-{y^i}}$$\n",
      "\n",
      "Eger log'unu alirsak carpimlar toplama donusur, isimiz daha rahatlasir,\n",
      "\n",
      "$$ l(\\theta) = \\log L(\\theta) $$\n",
      "\n",
      "$$ = \\sum_{i=1}^{m}\n",
      "     y^i \\log( (h_\\theta(x^i)) ) +\n",
      "     (1-{y^i}) \\log( (1-h_\\theta(x^i)) )\n",
      "$$\n",
      "\n",
      "Iste bu ifadenin maksimize edilmesi gerekiyor.\n",
      "\n",
      "Ama daha fazla ilerlemeden once bir esitlik ve bir turev gostermemiz\n",
      "gerekiyor.  Once esitlik\n",
      "\n",
      "$$ 1-g(z) = g(-z) $$\n",
      "\n",
      "Ispat\n",
      "\n",
      "$$ 1-\\frac{1}{1+e^{-z}}  = \\frac{1+e^{-z}-1}{1+e^{-z}}$$\n",
      "\n",
      "$$ \\frac{e^{-z}}{1+e^{-z}} = \\frac{1}{1+e^{z}}$$\n",
      "\n",
      "Hakikaten son esitligin sag tarafina bakarsak, $g(-z)$'yi elde ettigimizi\n",
      "goruyoruz.\n",
      "\n",
      "$$ \\Box $$\n",
      "\n",
      "Simdi tureve gelelim,\n",
      "\n",
      "$$\n",
      "g'(z) = \\frac{d}{dz} \\frac{ 1}{1+ e^{ -z}} =\n",
      "\\frac{1}{(1+ e^{-z})^2} (e^{-z}) \n",
      "$$\n",
      "\n",
      "$e^{ -z}$ turevinden bir eksi isareti gelecegini beklemis olabilirsiniz,\n",
      "fakat hatirlayacagimiz uzere \n",
      "\n",
      "$$\\frac{d}{dx} \\frac{ 1}{1+x}  = \\frac{-1}{(1+x)^2}$$\n",
      "\n",
      "Yani eksiler birbirini yoketti. Simdi iki ustteki denklemin sag tarafini\n",
      "acalim\n",
      "\n",
      "$$\n",
      " = \\frac{1}{1+e^{-z}} \\frac{e^{-z}}{1+e^{-z}}\n",
      "$$\n",
      "\n",
      "$$\n",
      " = \\frac{1}{1+e^{-z}} \\frac{1}{1+e^{z}}\n",
      " $$\n",
      "\n",
      "Carpimda iki bolum var, bolumler $g(z)$ ve $g(-z)$ olarak temsil\n",
      "edilebilir, ya da  $g(z)$ ve $1-g(z)$, \n",
      "\n",
      "$$\n",
      " = g(z)(1-g(z))\n",
      " $$\n",
      "\n",
      "$$ \\Box $$\n",
      "\n",
      "Artik olurluk denklemine donebiliriz. Olurlugu nasil maksimize ederiz?\n",
      "Gradyan cikisi (gradient ascent) kullanilabilir. Eger olurluk\n",
      "$l(\\theta)$'nin en maksimal oldugu noktadaki $\\theta$'yi bulmak\n",
      "istiyorsak (dikkat sadece olurlugun en maksimal noktasini aramiyoruz,\n",
      "o noktadaki $\\theta$'yi ariyoruz), o zaman bir $\\theta$ ile baslariz,\n",
      "ve adim adim $\\theta$'yi maksimal olana dogru yaklastiririz. Formul\n",
      "\n",
      "$$ \\theta_{yeni} = \\theta_{eski} + \\alpha \\nabla_\\theta l(\\theta)$$\n",
      "\n",
      "Ustteki formul niye isler? Cunku gradyan $\\nabla_\\theta l(\\theta)$,\n",
      "yani $l(\\theta)$'nin gradyani her zaman fonksiyon artisinin en fazla\n",
      "oldugu yonu gosterir. Demek ki o yone adim atmak, yani $l(\\theta)$'a\n",
      "verilen $\\theta$'yi o yonde degistirmek (degisim tabii ki $\\theta$\n",
      "bazinda, $\\theta$'nin degisimi), bizi fonksiyonun bir sonraki\n",
      "noktasina yaklastiracaktir. Sabit $\\alpha$ bir tek sayi sadece, atilan\n",
      "adimin (hangi yonde olursa olsun) olcegini azaltip / arttirabilmek\n",
      "icin disaridan eklenir. Adim yonu vektor, bu sabit bir tek\n",
      "sayi. Carpimlari vektoru azaltir ya da cogaltir [3].\n",
      "\n",
      "Simdi $\\nabla_\\theta l(\\theta)$ turetmemiz gerekiyor.\n",
      "\n",
      "Eger tek bir $\\frac{\\partial l(\\theta)}{\\partial \\theta_j}$'yi\n",
      "hesaplarsak ve bunu her $j$ icin yaparsak, bu sonuclari bir vektorde\n",
      "ustuste koyunca $\\nabla_\\theta l(\\theta)$'yi elde ederiz.\n",
      "\n",
      "\n",
      "$$ \n",
      "\\frac{\\partial l(\\theta)}{\\partial \\theta_j} =\n",
      "y \n",
      "\\frac{\\frac{\\partial }{\\partial \\theta_j}g(\\theta^Tx) }{g(\\theta^Tx)} \n",
      "-\n",
      "(1-y) \n",
      "\\frac{\\frac{\\partial }{\\partial \\theta_j}g(\\theta^Tx) }{1-g(\\theta^Tx)} \n",
      "$$\n",
      "\n",
      "$$ \n",
      "= \\big(\n",
      "y \n",
      "\\frac{1}{g(\\theta^Tx)} \n",
      "-\n",
      "(1-y) \n",
      "\\frac{1}{1-g(\\theta^Tx)} \n",
      "\\big)\n",
      "\\frac{\\partial }{\\partial \\theta_j}g(\\theta^Tx)\n",
      "$$\n",
      "\n",
      "Simdi en sagdaki kismi acalim,\n",
      "\n",
      "$$ \n",
      "\\frac{\\partial }{\\partial \\theta_j}g(\\theta^Tx) \n",
      "= g'(\\theta^Tx) \\frac{\\partial }{\\partial \\theta_j} \\theta^Tx \n",
      "= g'(\\theta^Tx) x_j \n",
      " $$\n",
      "\n",
      "$\\frac{\\partial }{\\partial \\theta_j} \\theta^Tx$ nasil $x_j$ haline\n",
      "geldi?  Cunku tum $\\theta$ vektorunun kismi turevini aliyoruz fakat o\n",
      "kismi turev sadece tek bir $\\theta_j$ icin, o zaman vektordeki diger\n",
      "tum ogeler sifir olacaktir, sadece $\\theta_j$ 1 olacak, ona tekabul\n",
      "eden $x$ ogesi, yani $x_j$ ayakta kalabilecek, diger $x$ ogelerinin\n",
      "hepsi sifirla carpilmis olacak.\n",
      "\n",
      "Turevin kendisinden de kurtulabiliriz simdi, daha once gosterdigimiz esitligi\n",
      "devreye sokalim,\n",
      "\n",
      "$$ \n",
      "= g(\\theta^Tx)(1-g(\\theta^Tx)) x_j \n",
      "$$\n",
      "\n",
      "Bu son formulu 3 ustteki formulun sag tarafina geri koyarsak, ve\n",
      "basitlestirirsek,\n",
      "\n",
      "$$\n",
      "\\big(\n",
      "y(1-g(\\theta^Tx)) - (1-y)g(\\theta^T x)\n",
      "\\big) x_j\n",
      " $$\n",
      "\n",
      "Carpimi daha temiz gormek icin sadece $y,g$ harflerini kullanirsak,\n",
      "\n",
      "$$\n",
      "\\big(y(1-g) - (1-y)g \\big) x_j =\n",
      "(y - yg - g + yg)x_j = (y - g)x_j\n",
      " $$\n",
      "\n",
      "yani\n",
      "\n",
      "$$\n",
      "= (y - g(\\theta^Tx))x_j\n",
      "$$\n",
      "\n",
      "$$\n",
      "= (y - h_\\theta(x))x_j\n",
      "$$\n",
      "\n",
      "Iste $\\nabla_\\theta l(\\theta)$ icin ne kullanacagimizi bulduk. O zaman\n",
      "\n",
      "$$ \\theta_{yeni} = \\theta_{eski} + \\alpha (y - h_\\theta(x))x_j $$\n",
      "\n",
      "Her $i$ veri noktasi icin\n",
      "\n",
      "$$ \\theta_{yeni} = \\theta_{eski} + \\alpha (y^{i} - h_\\theta(x^{i}))x^{i}_j $$\n"
     ]
    },
    {
     "cell_type": "markdown",
     "source": [
      "Kodu isletelim,"
     ]
    },
    {
     "cell_type": "code",
     "collapsed": false,
     "input": [
      "def grad_ascent(data_mat, label_mat):\n",
      "    m,n = data_mat.shape\n",
      "    label_mat=label_mat.reshape((m,1))\n",
      "    alpha = 0.001\n",
      "    iter = 500\n",
      "    theta = ones((n,1))\n",
      "    for k in range(iter):   \n",
      "        h = sigmoid(dot(data_mat,theta))\n",
      "        error = label_mat - h\n",
      "        theta = theta + alpha * dot(data_mat.T,error) \n",
      "    return theta\n",
      "\n",
      "theta = np.array(grad_ascent(array(data),array(labels).T ))\n",
      "theta.T\n"
     ],
     "language": "python",
     "outputs": [
      {
       "output_type": "pyout",
       "prompt_number": 6,
       "text": [
        "array([[ 4.12414349,  0.48007329, -0.6168482 ]])"
       ]
      }
     ],
     "prompt_number": 6
    },
    {
     "cell_type": "code",
     "collapsed": false,
     "input": [
      "def plot_theta(theta):\n",
      "     x = np.array(arange(-3.0, 3.0, 0.1))\n",
      "     y = np.array((-theta[0]-theta[1]*x)/theta[2])\n",
      "     plt.plot(x, y)\n",
      "     plt.hold(True)\n",
      "     class0 = data[labels==0]\n",
      "     class1 = data[labels==1]\n",
      "     plt.plot(class0['x'],class0['y'],'b.')\n",
      "     plt.hold(True)\n",
      "     plt.plot(class1['x'],class1['y'],'r.')\n",
      "     plt.hold(True)\n",
      "\n",
      "plot_theta(theta)\n"
     ],
     "language": "python",
     "outputs": [
      {
       "output_type": "display_data",
       "png": "[encoded data removed]",
       "text": [
        "<matplotlib.figure.Figure at 0xa4dabcc>"
       ]
      }
     ],
     "prompt_number": 7
    },
    {
     "cell_type": "markdown",
     "source": [
      "Ustteki kod bir dongu icinde belli bir $x$ noktasindan baslayarak gradyan\n",
      "inisi yapti ve optimal $\\theta$ degerlerini, yani regresyon agirliklarini\n",
      "(weights) hesapladi. Sonra bu agirliklari bir ayrac olarak ustte grafikledi. \n",
      "Ayracin oldukca iyi degerler buldugu belli oluyor.\n",
      "\n",
      "Rasgele Gradyan Cikisi (Stochastic Gradient Ascent)\n",
      "\n",
      "Acaba $\\theta$'yi guncellerken daha az veri kullanmak mumkun mu? Yani\n",
      "yon hesabi icin surekli tum veriyi kullanmasak olmaz mi?\n",
      "\n",
      "Olabilir. Guncellemeyi sadece tek bir veri noktasi kullanarak\n",
      "yapabiliriz. Yine gradyani degistirmis oluruz, sadece azar azar\n",
      "degisim olur, fakat belki de bu sekilde sonuca daha cabuk ulasmak\n",
      "mumkun olacaktir.\n",
      "\n",
      "Kodlama acisindan, $\\theta$ guncellemesi icin buldugumuz formulu tek\n",
      "nokta bazinda da vermistik.  O zaman o tek noktayi sirayla alip\n",
      "guncellersek, otomatik olarak yeni bir sekilde gradyan cikisi yapmis\n",
      "oluruz.\n"
     ]
    },
    {
     "cell_type": "code",
     "collapsed": false,
     "input": [
      "def stoc_grad_ascent0(data_mat, label_mat):\n",
      "    m,n = data_mat.shape\n",
      "    label_mat=label_mat.reshape((m,1))\n",
      "    alpha = 0.01\n",
      "    theta = ones((n,1))\n",
      "    for i in range(m):\n",
      "        h = sigmoid(sum(dot(data_mat[i],theta)))\n",
      "        error = label_mat[i] - h\n",
      "        theta = theta + alpha * data_mat[i].reshape((n,1)) * error\n",
      "        theta = theta.reshape((n,1))\n",
      "    return theta\n",
      "\n",
      "theta = np.array(stoc_grad_ascent0(array(data),array(labels).T ))\n",
      "theta.T"
     ],
     "language": "python",
     "outputs": [
      {
       "output_type": "pyout",
       "prompt_number": 8,
       "text": [
        "array([[ 1.01702007,  0.85914348, -0.36579921]])"
       ]
      }
     ],
     "prompt_number": 8
    },
    {
     "cell_type": "code",
     "collapsed": false,
     "input": [
      "plot_theta(theta)\n"
     ],
     "language": "python",
     "outputs": [
      {
       "output_type": "display_data",
       "png": "[encoded data removed]",
       "text": [
        "<matplotlib.figure.Figure at 0x9c18ecc>"
       ]
      }
     ],
     "prompt_number": 9
    },
    {
     "cell_type": "markdown",
     "source": [
      "Neredeyse isimiz tamamlandi. Ustteki grafik pek iyi bir ayrac gostermedi.\n",
      "Niye? Problem cok fazla salinim (oscillation) var, yani degerler cok fazla\n",
      "uc noktalar arasinda gidip geliyor. Ayrica veri noktalarini sirayla isliyoruz,\n",
      "veri tabii ki rasgele bir sekilde siralanmis olabilir, ama siralanmamissa,\n",
      "o zaman algoritmaya raslantisal noktalari vermek icin kod icinde zar atmamiz\n",
      "lazim. Metotun ismi \"rasgele (stochastic)\" gradyan cikisi, bu rasgelelik\n",
      "onemli. 2. problemi duzeltmek icin yapilacak belli, 1. problem icin\n",
      "$\\alpha$ degeri her dongude belli oranda kucultulerek (yani $\\alpha$ artik\n",
      "sabit degil) sonuca yaklasirken oradan buraya savrulmasini engellemis\n",
      "olacagiz. Yeni kod altta,"
     ]
    },
    {
     "cell_type": "code",
     "collapsed": false,
     "input": [
      "def stoc_grad_ascent1(data_mat, label_mat):\n",
      "    m,n = data_mat.shape\n",
      "    iter = 150\n",
      "    label_mat=label_mat.reshape((m,1))\n",
      "    alpha = 0.01\n",
      "    theta = ones((n,1))\n",
      "    for j in range(iter):\n",
      "        data_index = range(m)\n",
      "        for i in range(m):\n",
      "            alpha = 4/(1.0+j+i)+0.0001  \n",
      "            rand_index = int(random.uniform(0,len(data_index)))\n",
      "\t    h = sigmoid(sum(dot(data_mat[rand_index],theta)))\n",
      "            error = label_mat[rand_index] - h\n",
      "            theta = theta + alpha * data_mat[rand_index].reshape((n,1)) * error\n",
      "            theta = theta.reshape((n,1))\n",
      "    return theta\n",
      "\n",
      "theta = np.array(stoc_grad_ascent1(array(data),array(labels).T ))\n",
      "theta.T\n"
     ],
     "language": "python",
     "outputs": [
      {
       "output_type": "pyout",
       "prompt_number": 10,
       "text": [
        "array([[ 15.10140747,   1.16770643,  -2.06448791]])"
       ]
      }
     ],
     "prompt_number": 10
    },
    {
     "cell_type": "code",
     "collapsed": false,
     "input": [
      "plot_theta(theta)\n"
     ],
     "language": "python",
     "outputs": [
      {
       "output_type": "display_data",
       "png": "[encoded data removed]",
       "text": [
        "<matplotlib.figure.Figure at 0x97fe68c>"
       ]
      }
     ],
     "prompt_number": 11
    },
    {
     "cell_type": "markdown",
     "source": [
      "Sonuc cok iyi, ayrica daha az islemle bu noktaya eristik, yani daha\n",
      "az islem ve daha hizli bir sekilde sonuca ulasmis olduk.\n",
      "\n",
      "Tahmin (Prediction)\n",
      "\n",
      "Elde edilen agirliklari tahmin icin nasil kullaniriz? Bu agirliklari\n",
      "alip, yeni veri noktasi ile carpip sonuclari sigmoid'den gecirdigimiz\n",
      "zaman bu noktanin \"1 etiketi olma olasiligini\" hesaplamis\n",
      "olacagiz. Ornek (diyelim ki mevcut veri noktasi icinden bir veriyi,\n",
      "-mesela 15. nokta- sanki yeniymis gibi sectik)\n"
     ]
    },
    {
     "cell_type": "code",
     "collapsed": false,
     "input": [
      "pt = df.ix[15,['intercept','x','y']]\n",
      "print sigmoid(dot(array(pt), theta)), \n",
      "print \"label =\",labels[15]"
     ],
     "language": "python",
     "outputs": [
      {
       "output_type": "stream",
       "stream": "stdout",
       "text": [
        "[ 0.99999752] label = 1\n"
       ]
      }
     ],
     "prompt_number": 12
    },
    {
     "cell_type": "markdown",
     "source": [
      "Oldukca yuksek bir olasilik cikti, ve hakikaten de o noktanin gercek\n",
      "degeri 1 imis.\n",
      "\n",
      "Kaynaklar\n",
      "\n",
      "[1] http://cs229.stanford.edu/notes/cs229-notes1.pdf\n",
      "\n",
      "[2] Harrington, P. *Machine Learning in Action*\n",
      "\n",
      "[3] Bu sekilde azar azar sonuca yaklasmaya ugrasmak tabii ki her\n",
      "fonksiyon icin gecerli degildir, cunku eger fonksiyonda \"yerel\n",
      "maksimumlar\" var ise, gradyan cikisi bu noktalarda takilip kalabilir\n",
      "(ne de olsa bu noktalarda da birinci turev sifirlanir). Gradyan\n",
      "metotunun kullanmadan once fonksiyonumuzun tek (global) bir maksimumu\n",
      "olup olmadigini dusunmemiz gerekir. Fakat sanliyiz ki olurluk\n",
      "fonksiyonu tam da boyle bir fonksiyondur (sans degil tabii, bu\n",
      "ozelligi sebebiyle secildi). Fonksiyon icbukeydir (concave), yani tek\n",
      "bir tepe noktasi vardir. Bir soru daha: olurlugun icbukey oldugunu\n",
      "nasil anladik? Fonksiyona bakarak pat diye bunu soylemek mumkun,\n",
      "degiskenlerde polinom baglaminda kupsellik yok, ayrica $\\log$, $\\exp$\n",
      "icbukeyligi bozmuyor. \n"
     ]
    }
   ]
  }
 ]
}