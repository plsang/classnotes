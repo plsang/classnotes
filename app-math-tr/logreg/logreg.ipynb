{
 "metadata": {
  "name": "logreg"
 },
 "nbformat": 3,
 "nbformat_minor": 0,
 "worksheets": [
  {
   "cells": [
    {
     "cell_type": "markdown",
     "source": [
      "Lojistik Regresyon\n"
     ]
    },
    {
     "cell_type": "code",
     "collapsed": false,
     "input": [
      "from pandas import *\n",
      "df = read_csv(\"testSet.txt\",sep='\\t',names=['x','y','labels'],header=None)\n",
      "df['intercept']=1.0\n",
      "data = df[['intercept','x','y']]\n",
      "labels = df['labels']\n",
      "print data[:10]\n",
      "print labels[:10]\n"
     ],
     "language": "python",
     "outputs": [
      {
       "output_type": "stream",
       "stream": "stdout",
       "text": [
        "   intercept         x          y\n",
        "0          1 -0.017612  14.053064\n",
        "1          1 -1.395634   4.662541\n",
        "2          1 -0.752157   6.538620\n",
        "3          1 -1.322371   7.152853\n",
        "4          1  0.423363  11.054677\n",
        "5          1  0.406704   7.067335\n",
        "6          1  0.667394  12.741452\n",
        "7          1 -2.460150   6.866805\n",
        "8          1  0.569411   9.548755\n",
        "9          1 -0.026632  10.427743\n",
        "0    0\n",
        "1    1\n",
        "2    0\n",
        "3    0\n",
        "4    0\n",
        "5    1\n",
        "6    0\n",
        "7    1\n",
        "8    0\n",
        "9    0\n",
        "Name: labels\n"
       ]
      }
     ],
     "prompt_number": 155
    },
    {
     "cell_type": "markdown",
     "source": [
      "Sigmoid fonksiyonu\n",
      "\n",
      "$$ \\frac{e^{x}}{1+e^{x}} $$\n",
      "\n",
      "Fonksiyon oyle hazirlanmis ki, ne kadar buyuk olursa olsun ne zaman\n",
      "bir $x$ degeri gecersek, bolendeki deger her zaman bolunenden 1 daha\n",
      "fazla olacaktir bu da fonksiyonun sonucunun 1'den her zaman kucuk\n",
      "olmasini garantiler. Cok kucuk $x$ degerleri icin bolum sonucu biraz\n",
      "daha buyuk olacaktir tabii, vs. Daha temiz bir ifade icin bolen ve\n",
      "boluneni $ e^{-x}$ ile carpalim,\n",
      "\n",
      "$$ \\frac{e^{x}e^{-x}}{e^{-x}+e^{x}e^{-x}} $$\n",
      "\n",
      "$$ g(x) = \\frac{1}{1+e^{-x}} $$\n",
      "\n",
      "Sigmoid fonksiyonun \"-sonsuzluk ile +sonsuzluk arasindaki degerleri 0\n",
      "ve 1 arasina esledigi (map) / indirgedigi\" sozu de litaraturde\n",
      "mevcuttur. "
     ]
    },
    {
     "cell_type": "code",
     "collapsed": false,
     "input": [
      "def sigmoid(arr):\n",
      "    return 1.0/(1+exp(-arr))\n",
      "\n",
      "x = np.array(arange(-10.0, 10.0, 0.1))\n",
      "plot(x,sigmoid(x))\n",
      "    "
     ],
     "language": "python",
     "outputs": [
      {
       "output_type": "pyout",
       "prompt_number": 1,
       "text": [
        "[<matplotlib.lines.Line2D at 0x95254cc>]"
       ]
      },
      {
       "output_type": "display_data",
       "png": "[encoded data removed]",
       "text": [
        "<matplotlib.figure.Figure at 0x9441c6c>"
       ]
      }
     ],
     "prompt_number": 1
    },
    {
     "cell_type": "markdown",
     "source": [
      "Peki ustteki fonksiyon bir olasilik fonksiyonu olabilir mi? "
     ]
    },
    {
     "cell_type": "code",
     "collapsed": false,
     "input": [
      "import sympy\n",
      "x = sympy.Symbol('x')\n",
      "sympy.integrate('1/(1+exp(-x))')\n"
     ],
     "language": "python",
     "outputs": [
      {
       "output_type": "pyout",
       "prompt_number": 15,
       "text": [
        "x + log(1 + exp(-x))"
       ]
      }
     ],
     "prompt_number": 15
    },
    {
     "cell_type": "markdown",
     "source": [
      "Daha temizlemek icin\n",
      "\n",
      "$$ x + \\ln(1 + e^{-x}) $$\n",
      "\n",
      "$x$ ifadesi ayni zamanda suna esittir $x=ln( e^{x} )$. Bu ifade bize\n",
      "kolaylik saglayacak boylece,\n",
      "\n",
      "$$ \\ln e^{x} + \\ln(1+e^{-x})  $$\n",
      "\n",
      "diyebiliriz. Dogal log'un (ln) carpimlari toplamlara donusturdugunu biliyoruz,\n",
      "bunu tersinden uygulayalim,\n",
      "\n",
      "$$ \\ln (e^{x}\\cdot 1 + e^{x}e^{-x})  $$\n",
      "\n",
      "$$ \\ln (e^{x} + 1)  = \\ln (1 + e^{x} )  $$\n"
     ]
    },
    {
     "cell_type": "code",
     "collapsed": false,
     "input": [
      "print log (1+exp(-inf))\n",
      "print log(1+exp(inf))"
     ],
     "language": "python",
     "outputs": [
      {
       "output_type": "stream",
       "stream": "stdout",
       "text": [
        "0.0\n",
        "inf\n"
       ]
      }
     ],
     "prompt_number": 24
    },
    {
     "cell_type": "markdown",
     "source": [
      "Demek ki fonksiyon bir olasilik dagilimi olamaz, cunku egri altindaki\n",
      "alan sonsuz buyuklugunde. "
     ]
    },
    {
     "cell_type": "markdown",
     "source": [
      "Simdi elimizde olabilecek $k$ tane degisken ve bu degiskenlerin\n",
      "bilinmeyen katsayilari icin 0 ve 1'e eslenecek bir regresyon\n",
      "olusturalim. Diyelim ki katsayilar $w_0,..,w_k$. Bu katsayilari\n",
      "degiskenler ile carpip toplayarak $h(x)$'e verelim, ve verideki\n",
      "etiketlere gore (0/1) cikip cikmayacagi katsayilara bagli olacak\n",
      "$h(x)$ sonucu ile eldeki veriler arasinda bir baglanti olusturmaya\n",
      "ugrasalim. Bu modele gore eger $\\alpha$'yi ne kadar iyi secersek,\n",
      "eldeki veriye o kadar yaklasmis olacagiz. \n",
      "\n",
      "$$ h_\\alpha(x) = g(\\alpha^T x) = \\frac{1}{1+e^{-\\alpha^T \\cdot x}} $$\n",
      "\n",
      "\"Veriye olabildigince yaklasmak icin en iyi $\\alpha$'yi bulmak\" sozu\n",
      "bize maksimum olurluk (maximum likelihood) hesabini hatirlatmali. Bu\n",
      "hesaba gore icinde bilinmeyen $\\alpha$'yi barindiran formulun tum\n",
      "veriye uygulanip sonuclarin teker teker birbiri ile carpilmasi \n"
     ]
    },
    {
     "cell_type": "code",
     "collapsed": false,
     "input": [
      "def gradAscent(dataMatrix, labelMat):\n",
      "    m,n = dataMatrix.shapec\n",
      "    labelMat=labelMat.reshape((m,1))\n",
      "    alpha = 0.001\n",
      "    maxCycles = 500\n",
      "    weights = ones((n,1))\n",
      "    for k in range(maxCycles):   \n",
      "        h = sigmoid(dot(dataMatrix,weights))\n",
      "        error = (labelMat - h) \n",
      "        weights = weights + alpha * dot(dataMatrix.T,error) \n",
      "    return weights\n",
      "\n",
      "weights = np.array(gradAscent(array(data),array(labels).T ))\n",
      "weights\n"
     ],
     "language": "python",
     "outputs": [
      {
       "output_type": "pyout",
       "prompt_number": 158,
       "text": [
        "array([[ 4.12414349],\n",
        "       [ 0.48007329],\n",
        "       [-0.6168482 ]])"
       ]
      }
     ],
     "prompt_number": 158
    },
    {
     "cell_type": "code",
     "collapsed": false,
     "input": [
      "x = np.array(arange(-3.0, 3.0, 0.1))\n",
      "y = np.array((-weights[0]-weights[1]*x)/weights[2])\n",
      "plt.plot(x, y)\n",
      "plt.hold(True)\n",
      "class0 = data[labels==0]\n",
      "class1 = data[labels==1]\n",
      "plt.plot(class0['x'],class0['y'],'b.')\n",
      "plt.hold(True)\n",
      "plt.plot(class1['x'],class1['y'],'r.')\n",
      "plt.hold(True)\n"
     ],
     "language": "python",
     "outputs": [
      {
       "output_type": "display_data",
       "png": "[encoded data removed]",
       "text": [
        "<matplotlib.figure.Figure at 0xb9a2ecc>"
       ]
      }
     ],
     "prompt_number": 157
    },
    {
     "cell_type": "code",
     "collapsed": false,
     "input": [],
     "language": "python",
     "outputs": []
    }
   ]
  }
 ]
}