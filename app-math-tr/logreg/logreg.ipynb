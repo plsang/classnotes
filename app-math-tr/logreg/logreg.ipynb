{
 "metadata": {
  "name": "logreg"
 },
 "nbformat": 3,
 "nbformat_minor": 0,
 "worksheets": [
  {
   "cells": [
    {
     "cell_type": "markdown",
     "source": [
      "Lojistik Regresyon\n"
     ]
    },
    {
     "cell_type": "code",
     "collapsed": false,
     "input": [
      "from pandas import *\n",
      "df = read_csv(\"testSet.txt\",sep='\\t',names=['x','y','labels'],header=None)\n",
      "df['intercept']=1.0\n",
      "data = df[['intercept','x','y']]\n",
      "labels = df['labels']\n",
      "print data[:10]\n",
      "print labels[:10]\n"
     ],
     "language": "python",
     "outputs": [
      {
       "output_type": "stream",
       "stream": "stdout",
       "text": [
        "   intercept         x          y\n",
        "0          1 -0.017612  14.053064\n",
        "1          1 -1.395634   4.662541\n",
        "2          1 -0.752157   6.538620\n",
        "3          1 -1.322371   7.152853\n",
        "4          1  0.423363  11.054677\n",
        "5          1  0.406704   7.067335\n",
        "6          1  0.667394  12.741452\n",
        "7          1 -2.460150   6.866805\n",
        "8          1  0.569411   9.548755\n",
        "9          1 -0.026632  10.427743\n",
        "0    0\n",
        "1    1\n",
        "2    0\n",
        "3    0\n",
        "4    0\n",
        "5    1\n",
        "6    0\n",
        "7    1\n",
        "8    0\n",
        "9    0\n",
        "Name: labels\n"
       ]
      }
     ],
     "prompt_number": 5
    },
    {
     "cell_type": "markdown",
     "source": [
      "Sigmoid fonksiyonu\n",
      "\n",
      "$$ \\frac{e^{x}}{1+e^{x}} $$\n",
      "\n",
      "Fonksiyon oyle hazirlanmis ki, ne kadar buyuk olursa olsun ne zaman\n",
      "bir $x$ degeri gecersek, bolendeki deger her zaman bolunenden 1 daha\n",
      "fazla olacaktir bu da fonksiyonun sonucunun 1'den her zaman kucuk\n",
      "olmasini garantiler. Cok kucuk $x$ degerleri icin bolum sonucu biraz\n",
      "daha buyuk olacaktir tabii, vs. Daha temiz bir ifade icin bolen ve\n",
      "boluneni $ e^{-x}$ ile carpalim,\n",
      "\n",
      "$$ \\frac{e^{x}e^{-x}}{e^{-x}+e^{x}e^{-x}} $$\n",
      "\n",
      "$$ g(x) = \\frac{1}{1+e^{-x}} $$\n",
      "\n",
      "Sigmoid fonksiyonun \"-sonsuzluk ile +sonsuzluk arasindaki degerleri 0\n",
      "ve 1 arasina esledigi (map) / indirgedigi\" sozu de litaraturde\n",
      "mevcuttur. "
     ]
    },
    {
     "cell_type": "code",
     "collapsed": false,
     "input": [
      "def sigmoid(arr):\n",
      "    return 1.0/(1+exp(-arr))\n",
      "\n",
      "x = np.array(arange(-10.0, 10.0, 0.1))\n",
      "plot(x,sigmoid(x))\n",
      "    "
     ],
     "language": "python",
     "outputs": [
      {
       "output_type": "pyout",
       "prompt_number": 6,
       "text": [
        "[<matplotlib.lines.Line2D at 0xadfea6c>]"
       ]
      },
      {
       "output_type": "display_data",
       "png": "[encoded data removed]",
       "text": [
        "<matplotlib.figure.Figure at 0xac1aa4c>"
       ]
      }
     ],
     "prompt_number": 6
    },
    {
     "cell_type": "markdown",
     "source": [
      "Peki ustteki fonksiyon bir olasilik fonksiyonu olabilir mi? "
     ]
    },
    {
     "cell_type": "code",
     "collapsed": false,
     "input": [
      "import sympy\n",
      "x = sympy.Symbol('x')\n",
      "sympy.integrate('1/(1+exp(-x))')\n"
     ],
     "language": "python",
     "outputs": [
      {
       "output_type": "pyout",
       "prompt_number": 7,
       "text": [
        "x + log(1 + exp(-x))"
       ]
      }
     ],
     "prompt_number": 7
    },
    {
     "cell_type": "markdown",
     "source": [
      "Daha temizlemek icin\n",
      "\n",
      "$$ x + \\ln(1 + e^{-x}) $$\n",
      "\n",
      "$x$ ifadesi ayni zamanda suna esittir $x=ln( e^{x} )$. Bu ifade bize\n",
      "kolaylik saglayacak boylece,\n",
      "\n",
      "$$ \\ln e^{x} + \\ln(1+e^{-x})  $$\n",
      "\n",
      "diyebiliriz. Dogal log'un (ln) carpimlari toplamlara donusturdugunu\n",
      "biliyoruz, bunu tersinden uygulayalim,\n",
      "\n",
      "$$ \\ln (e^{x}\\cdot 1 + e^{x}e^{-x})  $$\n",
      "\n",
      "$$ \\ln (e^{x} + 1)  = \\ln (1 + e^{x} )  $$\n"
     ]
    },
    {
     "cell_type": "code",
     "collapsed": false,
     "input": [
      "print log (1+exp(-inf))\n",
      "print log(1+exp(inf))"
     ],
     "language": "python",
     "outputs": [
      {
       "output_type": "stream",
       "stream": "stdout",
       "text": [
        "0.0\n",
        "inf\n"
       ]
      }
     ],
     "prompt_number": 8
    },
    {
     "cell_type": "markdown",
     "source": [
      "Demek ki fonksiyon bir olasilik dagilimi olamaz, cunku egri altindaki\n",
      "alan sonsuz buyuklugunde. Aslinda bu fonksiyonun kumulatif dagilim\n",
      "fonksiyonu (cumulative distribution function -CDF-) ozellikleri\n",
      "vardir, yani kendisi degil ama turevi bir olasilik fonksiyonu olarak\n",
      "kullanilabilir. Bu durumda $g$'nin 0 ile 1 arasinda olmasi da dagilim\n",
      "altindaki alanin en fazla 1 olabilmesi durumunu ortaya cikarir ki bu\n",
      "CDF tanimina uygundur."
     ]
    },
    {
     "cell_type": "markdown",
     "source": [
      "Simdi elimizde olabilecek $k$ tane degisken ve bu degiskenlerin\n",
      "bilinmeyen katsayilari icin 0 ve 1'e eslenecek bir regresyon\n",
      "olusturalim. Diyelim ki katsayilar $\\theta_0,..,\\theta_k$. Bu\n",
      "katsayilari degiskenler ile carpip toplayarak $h(x)$'e verelim, ve\n",
      "verideki etiketlere gore (0/1) cikip cikmayacagi katsayilara bagli\n",
      "olacak $h(x)$ sonucu ile eldeki veriler arasinda bir baglanti\n",
      "olusturmaya ugrasalim. Bu modele gore eger $\\theta$'yi ne kadar iyi\n",
      "secersek, eldeki veriye o kadar yaklasmis olacagiz.\n",
      "\n",
      "$$ h_\\theta(x) = g(\\theta^T x) = \\frac{1}{1+e^{-\\theta^T x}} $$\n",
      "\n",
      "\"Veriye olabildigince yaklasmak icin en iyi $\\alpha$'yi bulmak\" sozu\n",
      "bize maksimum olurluk (maximum likelihood) hesabini hatirlatmali. Bu\n",
      "hesaba gore icinde bilinmeyen $\\alpha$'yi barindiran formulun\n",
      "uzerinden tum verinin sonuclarinin teker teker birbiri ile carpimi\n",
      "olabildigince buyuk olmalidir. Bu ifadeyi maksimize edecek $\\alpha$\n",
      "veriye en uygun $\\alpha$ olacaktir.\n",
      "\n",
      "Simdi olasiliklari dusunelim\n",
      "\n",
      "$$ P(y=1 | x;\\theta) = h_\\theta(x) $$\n",
      "\n",
      "$$ P(y=0 | x;\\theta) = 1 - h_\\theta(x) $$\n",
      "\n",
      "Not: Olasilik degerleri (buyuk $P(\\cdot)$ ile), CDF fonksiyonlari\n",
      "(dagilim olmasa da) olurluk hesabinda kullanilabilir. Bu arada\n",
      "$P(X<x)$ gibi alansal hesaplar CDF uzerinden gerceklestirilebiliyor.\n",
      "\n",
      "Hepsi bir arada olacak sekilde yanyana koyarsak,\n",
      "\n",
      "$$p(y | x;\\theta) = (h_\\theta(x))^y (1-h_\\theta(x))^{1-y}$$\n",
      "\n",
      "Olurluk icin tum veri noktalarini teker teker bu fonksiyona gecip\n",
      "sonuclarini carpacagiz (ve verilerin birinden bagimsiz olarak\n",
      "uretildigini farzediyoruz), eger $m$ tane veri noktasi var ise\n",
      "\n",
      "$$ L(\\theta) = \\prod_{i=1}^{m} (h_\\theta(x^i))^{y^i}\n",
      "(1-h_\\theta(x^i))^{1-{y^i}}$$\n",
      "\n",
      "Eger log'unu alirsak carpimlar toplama donusur, isimiz daha rahatlasir,\n",
      "\n",
      "$$ l(\\theta) = \\log L(\\theta) $$\n",
      "\n",
      "$$ = \\sum_{i=1}^{m}\n",
      "     y^i \\log( (h_\\theta(x^i)) ) +\n",
      "     (1-{y^i}) \\log( (1-h_\\theta(x^i)) )\n",
      "$$\n",
      "\n",
      "Daha fazla ilerlemeden once bir esitlik ve bir turev gostermemiz gerekiyor.\n",
      "Once esitlik\n",
      "\n",
      "$$ 1-g(z) = g(-z) $$\n",
      "\n",
      "$$ 1-\\frac{1}{1+e^{-z}}  = \\frac{1+e^{-z}-1}{1+e^{-z}}$$\n",
      "\n",
      "$$ \\frac{e^{-z}}{1+e^{-z}} = \\frac{1}{1+e^{z}}$$\n",
      "\n",
      "Hakikaten son esitligin sag tarafina bakarsak, $g(-z)$'yi elde ettigimizi\n",
      "goruyoruz. Simdi tureve gelelim,\n",
      "\n",
      "$$\n",
      "g'(z) = \\frac{d}{dz} \\frac{ 1}{1+ e^{ -z}} =\n",
      "\\frac{1}{(1+ e^{-z})^2} (e^{-z}) \n",
      "$$\n",
      "\n",
      "$e^{ -z}$ turevinden bir eksi isareti gelecegini beklemis olabilirsiniz,\n",
      "fakat hatirlayacagimiz uzere \n",
      "\n",
      "$$\\frac{d}{dx} \\frac{ 1}{1+x}  = \\frac{-1}{(1+x)^2}$$\n",
      "\n",
      "Yani eksiler birbirini yoketti. Simdi iki ustteki denklemin sag tarafini\n",
      "acalim\n",
      "\n",
      "$$\n",
      " = \\frac{1}{1+e^{-z}} \\frac{e^{-z}}{1+e^{-z}}\n",
      "$$\n",
      "\n",
      "$$\n",
      " = \\frac{1}{1+e^{-z}} \\frac{1}{1+e^{z}}\n",
      " $$\n",
      "\n",
      "Carpimda iki bolum var, bolumler $g(z)$ ve $g(-z)$ olarak temsil\n",
      "edilebilir, ya da  $g(z)$ ve $1-g(z)$, \n",
      "\n",
      "$$\n",
      " = g(z)(1-g(z))\n",
      " $$\n",
      "\n",
      "Artik olurluk denklemine donebiliriz. Olurlugu nasil maksimize ederiz?\n",
      "Gradyan inisi (gradient descent) kullanilabilir. Eger olurluk\n",
      "$l(\\theta)$'nin en maksimal oldugu noktadaki $\\theta$'yi bulmak\n",
      "istiyorsak (dikkat sadece olurlugun en maksimal noktasini aramiyoruz,\n",
      "o noktadaki $\\theta$'yi ariyoruz), o zaman bir $\\theta$ ile baslariz,\n",
      "ve adim adim $\\theta$'yi maksimal olana dogru yaklastiririz. Formul\n",
      "\n",
      "$$ \\theta_{yeni} = \\theta_{eski} + \\alpha \\nabla_\\theta l(\\theta)$$\n",
      "\n",
      "Ustteki formul niye isler? Cunku gradyan $\\nabla_\\theta l(\\theta)$,\n",
      "yani $l(\\theta)$'nin gradyani her zaman fonksiyon artisinin en fazla\n",
      "oldugu yonu gosterir. Demek ki o yone adim atmak, yani $l(\\theta)$'a\n",
      "verilen $\\theta$'yi o yonde degistirmek (degisim tabii ki $\\theta$\n",
      "bazinda, $\\theta$'nin degisimi), bizi fonksiyonun bir sonraki maksimum\n",
      "noktasina yaklastiracaktir. Sabit $\\alpha$ bir tek sayi sadece, atilan\n",
      "adimin (hangi yonde olursa olsun) olcegini azaltip / arttirabilmek\n",
      "icin disaridan eklenir. Adim yonu vektor, bu sabit bir tek\n",
      "sayi. Carpimlari vektoru azaltir ya da cogaltir.\n",
      "\n",
      "Simdi $\\nabla_\\theta l(\\theta)$ turetmemiz gerekiyor.\n",
      "\n",
      "Eger tek bir $\\frac{\\partial l(\\theta)}{\\partial \\theta_j}$'yi\n",
      "hesaplarsak ve bunu her $j$ icin yaparsak, bu sonuclari bir vektorde\n",
      "ustuste koyunca $\\nabla_\\theta l(\\theta)$'yi elde ederiz.\n",
      "\n",
      "\n",
      "$$ \n",
      "\\frac{\\partial l(\\theta)}{\\partial \\theta_j} =\n",
      "y \n",
      "\\frac{\\frac{\\partial }{\\partial \\theta_j}g(\\theta^Tx) }{g(\\theta^Tx)} \n",
      "-\n",
      "(1-y) \n",
      "\\frac{\\frac{\\partial }{\\partial \\theta_j}g(\\theta^Tx) }{1-g(\\theta^Tx)} \n",
      "$$\n",
      "\n",
      "$$ \n",
      "=\n",
      "\\bigg(\n",
      "y \n",
      "\\frac{1}{g(\\theta^Tx)} \n",
      "-\n",
      "(1-y) \n",
      "\\frac{1}{1-g(\\theta^Tx)} \n",
      "\\bigg)\n",
      "\\frac{\\partial }{\\partial \\theta_j}g(\\theta^Tx)\n",
      "$$\n",
      "\n",
      "Simdi en sagdaki kismi acalim,\n",
      "\n",
      "$$ \n",
      "\\frac{\\partial }{\\partial \\theta_j}g(\\theta^Tx) \n",
      "= g'(\\theta^Tx) \\frac{\\partial }{\\partial \\theta_j} \\theta^Tx \n",
      "= g'(\\theta^Tx) x_j \n",
      " $$\n",
      "\n",
      "$\\frac{\\partial }{\\partial \\theta_j} \\theta^Tx$ nasil $x_j$ haline\n",
      "geldi?  Cunku tum $\\theta$ vektorunun kismi turevini aliyoruz fakat o\n",
      "kismi turev sadece tek bir $\\theta_j$ icin, o zaman vektordeki diger\n",
      "tum ogeler sifir olacaktir, sadece $\\theta_j$ 1 olacak, ona tekabul\n",
      "eden $x$ ogesi, yani $x_j$ ayakta kalabilecek, diger $x$ ogelerinin\n",
      "hepsi sifirla carpilmis olacak.\n",
      "\n",
      "Turevin kendisinden de kurtulabiliriz simdi, daha once gosterdigimiz esitligi\n",
      "devreye sokalim,\n",
      "\n",
      "$$ \n",
      "= g(\\theta^Tx)(1-g(\\theta^Tx)) x_j \n",
      "$$\n",
      "\n",
      "Bu son formulu 3 ustteki formulun sag tarafina geri koyarsak, ve\n",
      "basitlestirirsek,\n",
      "\n",
      "$$\n",
      "\\big(\n",
      "y(1-g(\\theta^Tx)) - (1-y)g(\\theta^T x)\n",
      "\\big) x_j\n",
      " $$\n",
      "\n",
      "Carpimi daha temiz gormek icin sadece $y,g$ harflerini kullanirsak,\n",
      "\n",
      "$$\n",
      "\\big(y(1-g) - (1-y)g \\big) x_j =\n",
      "(y - yg - g + yg)x_j = (y - g)x_j\n",
      " $$\n",
      "\n",
      "yani\n",
      "\n",
      "$$\n",
      "= (y - g(\\theta^Tx))x_j\n",
      "$$\n",
      "\n",
      "$$\n",
      "= (y - h_\\theta(x))x_j\n",
      "$$\n",
      "\n",
      "Iste $\\nabla_\\theta l(\\theta)$ icin ne kullanacagimizi bulduk. O zaman, ve\n",
      "her $i$ veri noktasi icin\n",
      "\n",
      "$$ \\theta_{yeni} = \\theta_{eski} + \\alpha (y^{i} - h_\\theta(x^{i}))x^{i}_j $$\n",
      "\n"
     ]
    },
    {
     "cell_type": "code",
     "collapsed": false,
     "input": [
      "def grad_ascent(data_mat, label_mat):\n",
      "    m,n = data_mat.shape\n",
      "    label_mat=label_mat.reshape((m,1))\n",
      "    alpha = 0.001\n",
      "    iter = 500\n",
      "    theta = ones((n,1))\n",
      "    for k in range(iter):   \n",
      "        h = sigmoid(dot(data_mat,theta))\n",
      "        error = label_mat - h\n",
      "        theta = theta + alpha * dot(data_mat.T,error) \n",
      "    return theta\n",
      "\n",
      "theta = np.array(grad_ascent(array(data),array(labels).T ))\n",
      "theta.T\n"
     ],
     "language": "python",
     "outputs": [
      {
       "output_type": "pyout",
       "prompt_number": 9,
       "text": [
        "array([[ 4.12414349,  0.48007329, -0.6168482 ]])"
       ]
      }
     ],
     "prompt_number": 9
    },
    {
     "cell_type": "code",
     "collapsed": false,
     "input": [
      "def plot_theta(theta):\n",
      "     x = np.array(arange(-3.0, 3.0, 0.1))\n",
      "     y = np.array((-theta[0]-theta[1]*x)/theta[2])\n",
      "     plt.plot(x, y)\n",
      "     plt.hold(True)\n",
      "     class0 = data[labels==0]\n",
      "     class1 = data[labels==1]\n",
      "     plt.plot(class0['x'],class0['y'],'b.')\n",
      "     plt.hold(True)\n",
      "     plt.plot(class1['x'],class1['y'],'r.')\n",
      "     plt.hold(True)\n",
      "\n",
      "plot_theta(theta)\n"
     ],
     "language": "python",
     "outputs": [
      {
       "output_type": "display_data",
       "png": "[encoded data removed]",
       "text": [
        "<matplotlib.figure.Figure at 0xb60296c>"
       ]
      }
     ],
     "prompt_number": 10
    },
    {
     "cell_type": "markdown",
     "source": [
      "Ustteki kod bir dongu icinde belli bir $x$ noktasindan baslayarak gradyan\n",
      "inisi yapti ve optimal $\\theta$ degerlerini, yani regresyon agirliklarini\n",
      "(weights) hesapladi. Sonra bu agirliklari bir ayrac olarak ustte grafikledi. \n",
      "Ayracin oldukca iyi degerler buldugu belli oluyor.\n",
      "\n",
      "Rasgele Gradyan Inisi (Stochastic Gradient Descent)\n",
      "\n",
      "\n"
     ]
    },
    {
     "cell_type": "code",
     "collapsed": false,
     "input": [
      "def stoc_grad_ascent0(data_mat, label_mat):\n",
      "    m,n = data_mat.shape\n",
      "    print m,n\n",
      "    label_mat=label_mat.reshape((m,1))\n",
      "    alpha = 0.01\n",
      "    theta = ones((n,1))\n",
      "    for i in range(m):\n",
      "        h = sigmoid(sum(dot(data_mat[i],theta)))\n",
      "        error = label_mat[i] - h\n",
      "        theta = theta + alpha * data_mat[i].reshape((n,1)) * error\n",
      "        theta = theta.reshape((n,1))\n",
      "    return theta\n",
      "\n",
      "theta = np.array(stoc_grad_ascent0(array(data),array(labels).T ))\n",
      "theta.T\n",
      "\n"
     ],
     "language": "python",
     "outputs": [
      {
       "output_type": "stream",
       "stream": "stdout",
       "text": [
        "100 3\n"
       ]
      },
      {
       "output_type": "pyout",
       "prompt_number": 11,
       "text": [
        "array([[ 1.01702007,  0.85914348, -0.36579921]])"
       ]
      }
     ],
     "prompt_number": 11
    },
    {
     "cell_type": "code",
     "collapsed": false,
     "input": [
      "plot_theta(theta)\n"
     ],
     "language": "python",
     "outputs": [
      {
       "output_type": "display_data",
       "png": "[encoded data removed]",
       "text": [
        "<matplotlib.figure.Figure at 0xb5cee4c>"
       ]
      }
     ],
     "prompt_number": 12
    },
    {
     "cell_type": "code",
     "collapsed": false,
     "input": [
      "def stoc_grad_ascent1(data_mat, label_mat):\n",
      "    m,n = data_mat.shape\n",
      "    iter = 150\n",
      "    label_mat=label_mat.reshape((m,1))\n",
      "    alpha = 0.01\n",
      "    theta = ones((n,1))\n",
      "    for j in range(iter):\n",
      "        data_index = range(m)\n",
      "        for i in range(m):\n",
      "            alpha = 4/(1.0+j+i)+0.0001  \n",
      "            rand_index = int(random.uniform(0,len(data_index)))\n",
      "\t    h = sigmoid(sum(dot(data_mat[rand_index],theta)))\n",
      "            error = label_mat[rand_index] - h\n",
      "            theta = theta + alpha * data_mat[rand_index].reshape((n,1)) * error\n",
      "            theta = theta.reshape((n,1))\n",
      "    return theta\n",
      "\n",
      "theta = np.array(stoc_grad_ascent1(array(data),array(labels).T ))\n",
      "theta.T\n"
     ],
     "language": "python",
     "outputs": [
      {
       "output_type": "pyout",
       "prompt_number": 13,
       "text": [
        "array([[ 14.36959353,   1.24940793,  -1.84689592]])"
       ]
      }
     ],
     "prompt_number": 13
    },
    {
     "cell_type": "code",
     "collapsed": false,
     "input": [
      "plot_theta(theta)\n"
     ],
     "language": "python",
     "outputs": [
      {
       "output_type": "display_data",
       "png": "[encoded data removed]",
       "text": [
        "<matplotlib.figure.Figure at 0xb61672c>"
       ]
      }
     ],
     "prompt_number": 14
    },
    {
     "cell_type": "code",
     "collapsed": false,
     "input": [],
     "language": "python",
     "outputs": [],
     "prompt_number": 14
    }
   ]
  }
 ]
}