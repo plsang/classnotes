{
 "metadata": {
  "name": "logreg"
 },
 "nbformat": 3,
 "nbformat_minor": 0,
 "worksheets": [
  {
   "cells": [
    {
     "cell_type": "markdown",
     "source": [
      "Lojistik Regresyon\n"
     ]
    },
    {
     "cell_type": "code",
     "collapsed": false,
     "input": [
      "from pandas import *\n",
      "df = read_csv(\"testSet.txt\",sep='\\t',names=['x','y','labels'],header=None)\n",
      "df['intercept']=1.0\n",
      "data = df[['intercept','x','y']]\n",
      "labels = df['labels']\n",
      "print data[:10]\n",
      "print labels[:10]\n"
     ],
     "language": "python",
     "outputs": [
      {
       "output_type": "stream",
       "stream": "stdout",
       "text": [
        "   intercept         x          y\n",
        "0          1 -0.017612  14.053064\n",
        "1          1 -1.395634   4.662541\n",
        "2          1 -0.752157   6.538620\n",
        "3          1 -1.322371   7.152853\n",
        "4          1  0.423363  11.054677\n",
        "5          1  0.406704   7.067335\n",
        "6          1  0.667394  12.741452\n",
        "7          1 -2.460150   6.866805\n",
        "8          1  0.569411   9.548755\n",
        "9          1 -0.026632  10.427743\n",
        "0    0\n",
        "1    1\n",
        "2    0\n",
        "3    0\n",
        "4    0\n",
        "5    1\n",
        "6    0\n",
        "7    1\n",
        "8    0\n",
        "9    0\n",
        "Name: labels\n"
       ]
      }
     ],
     "prompt_number": 62
    },
    {
     "cell_type": "markdown",
     "source": [
      "Sigmoid fonksiyonu\n",
      "\n",
      "$$ \\frac{e^{x}}{1+e^{x}} $$\n",
      "\n",
      "Fonksiyon oyle hazirlanmis ki, ne kadar buyuk olursa olsun ne zaman\n",
      "bir $x$ degeri gecersek, bolendeki deger her zaman bolunenden 1 daha\n",
      "fazla olacaktir bu da fonksiyonun sonucunun 1'den her zaman kucuk\n",
      "olmasini garantiler. Cok kucuk $x$ degerleri icin bolum sonucu biraz\n",
      "daha buyuk olacaktir tabii, vs. Daha temiz bir ifade icin bolen ve\n",
      "boluneni $ e^{-x}$ ile carpalim,\n",
      "\n",
      "$$ \\frac{e^{x}e^{-x}}{e^{-x}+e^{x}e^{-x}} $$\n",
      "\n",
      "$$ g(x) = \\frac{1}{1+e^{-x}} $$\n",
      "\n",
      "Sigmoid fonksiyonun \"-sonsuzluk ile +sonsuzluk arasindaki degerleri 0\n",
      "ve 1 arasina esledigi (map) / indirgedigi\" sozu de litaraturde\n",
      "mevcuttur. "
     ]
    },
    {
     "cell_type": "code",
     "collapsed": false,
     "input": [
      "def sigmoid(arr):\n",
      "    return 1.0/(1+exp(-arr))\n",
      "\n",
      "x = np.array(arange(-10.0, 10.0, 0.1))\n",
      "plot(x,sigmoid(x))\n",
      "    "
     ],
     "language": "python",
     "outputs": [
      {
       "output_type": "pyout",
       "prompt_number": 26,
       "text": [
        "[<matplotlib.lines.Line2D at 0xb900c4c>]"
       ]
      },
      {
       "output_type": "display_data",
       "png": "[encoded data removed]",
       "text": [
        "<matplotlib.figure.Figure at 0xb8f804c>"
       ]
      }
     ],
     "prompt_number": 26
    },
    {
     "cell_type": "markdown",
     "source": [
      "Peki ustteki fonksiyon bir olasilik fonksiyonu olabilir mi? "
     ]
    },
    {
     "cell_type": "code",
     "collapsed": false,
     "input": [
      "import sympy\n",
      "x = sympy.Symbol('x')\n",
      "sympy.integrate('1/(1+exp(-x))')\n"
     ],
     "language": "python",
     "outputs": [
      {
       "output_type": "pyout",
       "prompt_number": 15,
       "text": [
        "x + log(1 + exp(-x))"
       ]
      }
     ],
     "prompt_number": 15
    },
    {
     "cell_type": "markdown",
     "source": [
      "Daha temizlemek icin\n",
      "\n",
      "$$ x + \\ln(1 + e^{-x}) $$\n",
      "\n",
      "$x$ ifadesi ayni zamanda suna esittir $x=ln( e^{x} )$. Bu ifade bize\n",
      "kolaylik saglayacak boylece,\n",
      "\n",
      "$$ \\ln e^{x} + \\ln(1+e^{-x})  $$\n",
      "\n",
      "diyebiliriz. Dogal log'un (ln) carpimlari toplamlara donusturdugunu\n",
      "biliyoruz, bunu tersinden uygulayalim,\n",
      "\n",
      "$$ \\ln (e^{x}\\cdot 1 + e^{x}e^{-x})  $$\n",
      "\n",
      "$$ \\ln (e^{x} + 1)  = \\ln (1 + e^{x} )  $$\n"
     ]
    },
    {
     "cell_type": "code",
     "collapsed": false,
     "input": [
      "print log (1+exp(-inf))\n",
      "print log(1+exp(inf))"
     ],
     "language": "python",
     "outputs": [
      {
       "output_type": "stream",
       "stream": "stdout",
       "text": [
        "0.0\n",
        "inf\n"
       ]
      }
     ],
     "prompt_number": 24
    },
    {
     "cell_type": "markdown",
     "source": [
      "Demek ki fonksiyon bir olasilik dagilimi olamaz, cunku egri altindaki\n",
      "alan sonsuz buyuklugunde. Aslinda bu fonksiyonun kumulatif dagilim\n",
      "fonksiyonu (cumulative distribution function -CDF-) ozellikleri\n",
      "vardir, yani kendisi degil ama turevi bir olasilik fonksiyonu olarak\n",
      "kullanilabilir. Bu durumda $g$'nin 0 ile 1 arasinda olmasi da dagilim\n",
      "altindaki alanin en fazla 1 olabilmesi durumunu ortaya cikarir ki bu\n",
      "CDF tanimina uygundur."
     ]
    },
    {
     "cell_type": "markdown",
     "source": [
      "Simdi elimizde olabilecek $k$ tane degisken ve bu degiskenlerin\n",
      "bilinmeyen katsayilari icin 0 ve 1'e eslenecek bir regresyon\n",
      "olusturalim. Diyelim ki katsayilar $w_0,..,w_k$. Bu katsayilari\n",
      "degiskenler ile carpip toplayarak $h(x)$'e verelim, ve verideki\n",
      "etiketlere gore (0/1) cikip cikmayacagi katsayilara bagli olacak\n",
      "$h(x)$ sonucu ile eldeki veriler arasinda bir baglanti olusturmaya\n",
      "ugrasalim. Bu modele gore eger $\\alpha$'yi ne kadar iyi secersek,\n",
      "eldeki veriye o kadar yaklasmis olacagiz. \n",
      "\n",
      "$$ h_\\alpha(x) = g(\\alpha^T x) = \\frac{1}{1+e^{-\\alpha^T \\cdot x}} $$\n",
      "\n",
      "\"Veriye olabildigince yaklasmak icin en iyi $\\alpha$'yi bulmak\" sozu\n",
      "bize maksimum olurluk (maximum likelihood) hesabini hatirlatmali. Bu\n",
      "hesaba gore icinde bilinmeyen $\\alpha$'yi barindiran formulun\n",
      "uzerinden tum verinin sonuclarinin teker teker birbiri ile carpimi\n",
      "olabildigince buyuk olmalidir. Bu ifadeyi maksimize edecek $\\alpha$\n",
      "veriye en uygun $\\alpha$ olacaktir.\n",
      "\n",
      "Simdi olasiliklari dusunelim\n",
      "\n",
      "$$ P(y=1 | x;\\theta) = h_\\theta(x) $$\n",
      "\n",
      "$$ P(y=0 | x;\\theta) = 1 - h_\\theta(x) $$\n",
      "\n",
      "Not: CDF fonksiyonlari olasilik sonuclari (dagilim olmasa da)\n",
      "kullanilabilir, mesela belli degerlerin olasiklari bir alan hesabidir,\n",
      "ve bu hesap CDF uzerinden yapilabilir.\n",
      "\n",
      "Hepsi bir arada olacak sekilde yanyana koyarsak,\n",
      "\n",
      "$$p(y | x;\\theta) = (h_\\theta(x))^y (1-h_\\theta(x))^{1-y}$$\n",
      "\n",
      "Olurluk icin tum veri noktalarini teker teker bu fonksiyona gecip\n",
      "sonuclarini carpacagiz (ve verilerin birinden bagimsiz olarak\n",
      "uretildigini farzediyoruz), eger $m$ tane veri noktasi var ise\n",
      "\n",
      "$$ L(\\theta) = \\prod_{i=1}^{m} (h_\\theta(x^i))^{y^i} (1-h_\\theta(x^i))^{1-{y^i}}$$\n",
      "\n",
      "Eger log'unu alirsak carpimlar toplama donusur, isimiz daha rahatlasir,\n",
      "\n",
      "$$ l(\\theta) = \\log L(\\theta) $$\n",
      "\n",
      "$$ = \\sum_{i=1}^{m}\n",
      "     y^i \\log( (h_\\theta(x^i)) ) +\n",
      "     (1-{y^i}) \\log( (1-h_\\theta(x^i)) )\n",
      "$$\n",
      "\n",
      "Daha fazla ilerlemeden once bir turev gostermemiz gerekiyor,\n",
      "\n",
      "$$\n",
      "g'(z) = \\frac{d}{dz} \\frac{ 1}{1+ e^{ -z}} =\n",
      "\\frac{1}{(1+ e^{-z})^2} (e^{-z}) \n",
      "$$\n",
      "\n",
      "$e^{ -z}$ turevinden bir eksi isareti gelecegini beklemis olabilirsiniz,\n",
      "fakat hatirlayacagimiz uzere \n",
      "\n",
      "$$\\frac{d}{dx} \\frac{ 1}{1+x}  = \\frac{-1}{(1+x)^2}$$\n",
      "\n",
      "Yani eksiler birbirini yoketti. \n"
     ]
    },
    {
     "cell_type": "code",
     "collapsed": false,
     "input": [
      "def grad_ascent(data_mat, label_mat):\n",
      "    m,n = data_mat.shape\n",
      "    label_mat=label_mat.reshape((m,1))\n",
      "    alpha = 0.001\n",
      "    iter = 500\n",
      "    weights = ones((n,1))\n",
      "    for k in range(iter):   \n",
      "        h = sigmoid(dot(data_mat,weights))\n",
      "        error = (label_mat - h) \n",
      "        weights = weights + alpha * dot(data_mat.T,error) \n",
      "    return weights\n",
      "\n",
      "weights = np.array(grad_ascent(array(data),array(labels).T ))\n",
      "weights.T\n"
     ],
     "language": "python",
     "outputs": [
      {
       "output_type": "pyout",
       "prompt_number": 29,
       "text": [
        "array([[ 4.12414349,  0.48007329, -0.6168482 ]])"
       ]
      }
     ],
     "prompt_number": 29
    },
    {
     "cell_type": "code",
     "collapsed": false,
     "input": [
      "def plot_weights(weights):\n",
      "     x = np.array(arange(-3.0, 3.0, 0.1))\n",
      "     y = np.array((-weights[0]-weights[1]*x)/weights[2])\n",
      "     plt.plot(x, y)\n",
      "     plt.hold(True)\n",
      "     class0 = data[labels==0]\n",
      "     class1 = data[labels==1]\n",
      "     plt.plot(class0['x'],class0['y'],'b.')\n",
      "     plt.hold(True)\n",
      "     plt.plot(class1['x'],class1['y'],'r.')\n",
      "     plt.hold(True)\n",
      "\n",
      "plot_weights(weights)\n"
     ],
     "language": "python",
     "outputs": [
      {
       "output_type": "display_data",
       "png": "[encoded data removed]",
       "text": [
        "<matplotlib.figure.Figure at 0xbe255cc>"
       ]
      }
     ],
     "prompt_number": 31
    },
    {
     "cell_type": "code",
     "collapsed": false,
     "input": [
      "def stoc_grad_ascent0(data_mat, label_mat):\n",
      "    m,n = data_mat.shape\n",
      "    print m,n\n",
      "    label_mat=label_mat.reshape((m,1))\n",
      "    alpha = 0.01\n",
      "    weights = ones((n,1))\n",
      "    for i in range(m):\n",
      "        h = sigmoid(sum(dot(data_mat[i],weights)))\n",
      "        error = label_mat[i] - h\n",
      "        weights = weights + alpha * data_mat[i].reshape((n,1)) * error\n",
      "        weights = weights.reshape((n,1))\n",
      "    return weights\n",
      "\n",
      "weights = np.array(stoc_grad_ascent0(array(data),array(labels).T ))\n",
      "weights.T\n",
      "\n"
     ],
     "language": "python",
     "outputs": [
      {
       "output_type": "stream",
       "stream": "stdout",
       "text": [
        "100 3\n"
       ]
      },
      {
       "output_type": "pyout",
       "prompt_number": 63,
       "text": [
        "array([[ 1.01702007,  0.85914348, -0.36579921]])"
       ]
      }
     ],
     "prompt_number": 63
    },
    {
     "cell_type": "code",
     "collapsed": false,
     "input": [
      "plot_weights(weights)\n"
     ],
     "language": "python",
     "outputs": [
      {
       "output_type": "display_data",
       "png": "[encoded data removed]",
       "text": [
        "<matplotlib.figure.Figure at 0xbee55ac>"
       ]
      }
     ],
     "prompt_number": 64
    },
    {
     "cell_type": "code",
     "collapsed": false,
     "input": [
      "def stoc_grad_ascent1(data_mat, label_mat):\n",
      "    m,n = data_mat.shape\n",
      "    iter = 150\n",
      "    label_mat=label_mat.reshape((m,1))\n",
      "    alpha = 0.01\n",
      "    weights = ones((n,1))\n",
      "    for j in range(iter):\n",
      "        data_index = range(m)\n",
      "        for i in range(m):\n",
      "            alpha = 4/(1.0+j+i)+0.0001  \n",
      "            rand_index = int(random.uniform(0,len(data_index)))\n",
      "\t    h = sigmoid(sum(dot(data_mat[rand_index],weights)))\n",
      "            error = label_mat[rand_index] - h\n",
      "            weights = weights + alpha * data_mat[rand_index].reshape((n,1)) * error\n",
      "            weights = weights.reshape((n,1))\n",
      "    return weights\n",
      "\n",
      "weights = np.array(stoc_grad_ascent1(array(data),array(labels).T ))\n",
      "weights.T\n"
     ],
     "language": "python",
     "outputs": [
      {
       "output_type": "pyout",
       "prompt_number": 72,
       "text": [
        "array([[ 13.69990725,   1.21357719,  -1.91985735]])"
       ]
      }
     ],
     "prompt_number": 72
    },
    {
     "cell_type": "code",
     "collapsed": false,
     "input": [
      "plot_weights(weights)\n"
     ],
     "language": "python",
     "outputs": [
      {
       "output_type": "display_data",
       "png": "[encoded data removed]",
       "text": [
        "<matplotlib.figure.Figure at 0xbf01dec>"
       ]
      }
     ],
     "prompt_number": 73
    },
    {
     "cell_type": "code",
     "collapsed": false,
     "input": [],
     "language": "python",
     "outputs": []
    }
   ]
  }
 ]
}