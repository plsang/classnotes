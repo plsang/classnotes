{
 "metadata": {
  "name": ""
 },
 "nbformat": 3,
 "nbformat_minor": 0,
 "worksheets": [
  {
   "cells": [
    {
     "cell_type": "markdown",
     "source": [
      "SVD, Toplu Tavsiye (Collaborative Filtering) \n",
      "\n",
      "Diyelim ki Star Trek (ST) dizisini ne kadar begendigini 4 tane\n",
      "kullanici sezonlara gore isaretlemis. Bu ornek veriyi alttaki gibi\n",
      "gosterelim."
     ]
    },
    {
     "cell_type": "code",
     "collapsed": false,
     "input": [
      "from pandas import *\n",
      "\n",
      "d =  np.array(\n",
      "     [[5, 5, 0, 5],\n",
      "     [5, 0, 3, 4],\n",
      "     [3, 4, 0, 3],\n",
      "     [0, 0, 5, 3],\n",
      "     [5, 4, 4, 5],\n",
      "     [5, 4, 5, 5]])\n",
      "\n",
      "data = DataFrame (d.T,\n",
      "    columns=['S1','S2','S3','S4','S5','S6'],\n",
      "    index=['Ben','Tom','John','Fred']\n",
      "    )\n",
      "data"
     ],
     "language": "python",
     "outputs": [
      {
       "html": [
        "<div style=\"max-height:1000px;max-width:1500px;overflow:auto;\">\n",
        "<table border=\"1\" class=\"dataframe\">\n",
        "  <thead>\n",
        "    <tr style=\"text-align: right;\">\n",
        "      <th></th>\n",
        "      <th>S1</th>\n",
        "      <th>S2</th>\n",
        "      <th>S3</th>\n",
        "      <th>S4</th>\n",
        "      <th>S5</th>\n",
        "      <th>S6</th>\n",
        "    </tr>\n",
        "  </thead>\n",
        "  <tbody>\n",
        "    <tr>\n",
        "      <th>Ben</th>\n",
        "      <td> 5</td>\n",
        "      <td> 5</td>\n",
        "      <td> 3</td>\n",
        "      <td> 0</td>\n",
        "      <td> 5</td>\n",
        "      <td> 5</td>\n",
        "    </tr>\n",
        "    <tr>\n",
        "      <th>Tom</th>\n",
        "      <td> 5</td>\n",
        "      <td> 0</td>\n",
        "      <td> 4</td>\n",
        "      <td> 0</td>\n",
        "      <td> 4</td>\n",
        "      <td> 4</td>\n",
        "    </tr>\n",
        "    <tr>\n",
        "      <th>John</th>\n",
        "      <td> 0</td>\n",
        "      <td> 3</td>\n",
        "      <td> 0</td>\n",
        "      <td> 5</td>\n",
        "      <td> 4</td>\n",
        "      <td> 5</td>\n",
        "    </tr>\n",
        "    <tr>\n",
        "      <th>Fred</th>\n",
        "      <td> 5</td>\n",
        "      <td> 4</td>\n",
        "      <td> 3</td>\n",
        "      <td> 3</td>\n",
        "      <td> 5</td>\n",
        "      <td> 5</td>\n",
        "    </tr>\n",
        "  </tbody>\n",
        "</table>\n",
        "</div>"
       ],
       "output_type": "pyout",
       "prompt_number": 1,
       "text": [
        "      S1  S2  S3  S4  S5  S6\n",
        "Ben    5   5   3   0   5   5\n",
        "Tom    5   0   4   0   4   4\n",
        "John   0   3   0   5   4   5\n",
        "Fred   5   4   3   3   5   5"
       ]
      }
     ],
     "prompt_number": 1
    },
    {
     "cell_type": "markdown",
     "source": [
      "Veriye gore Tom, ST dizisinin 3. sezonunu 4 seviyesinde sevmis. 0\n",
      "degeri o sezonun seyredilmedigini gosteriyor.\n",
      "\n",
      "Toplu Tavsiye algoritmalari verideki diger kisilerin bir urunu,\n",
      "diziyi, vs. ne kadar begendiginin verisinin diger \"benzer\" kisilere\n",
      "tavsiye olarak sunabilir, ya da ondan once, bir kisinin daha almadigi\n",
      "urunu, seyretmedigi sezonu, dinlemedigi muzigi ne kadar\n",
      "\"begeneceginin\" tahmin eder. Kaggle sitesi uzerinden yapilan unlu Netflix\n",
      "yarismasinin amaci buydu - ayrica tahmin edilen ve gercek begeni notunun\n",
      "hata payinin hesabi icin RMSE hesabi kullanilmisti.\n",
      "\n",
      "Peki benzerligin kriteri nedir, ve benzerlik nelerin arasinda olculur?\n",
      "\n",
      "Benzerlik, urun seviyesinde, ya da kisi seviyesinde yapilabilir. Eger\n",
      "urun sevisinde ise, tek bir urun icin tum kullanicilarin verdigi nota\n",
      "bakilir. Eger kullanici seviyesinde ise, tek kullanicinin tum urunlere\n",
      "verdigi begeni notlari vektoru kullanilir. \n",
      "\n",
      "Mesela 1. sezondan hareketle, o sezonu begenen kisilere o sezona\n",
      "benzer diger sezonlar tavsiye edilebilir. Kisiden hareketle, mesela\n",
      "John'a benzeyen diger kisiler bulunarak onlarin begendigi urunler John'a\n",
      "tavsiye edilebilir.\n",
      "\n",
      "Urun ya da kisi bazinda olsun, benzerligi hesaplamanin da farkli\n",
      "yollari var.  Genel olarak benzerlik olcutunun 0 ile 1 arasinda\n",
      "degisen bir sayi olmasini tercih ediyoruz ve tum ayarlari ona gore\n",
      "yapiyoruz. Diyelim ki ki elimizde begeni notlarini tasiyan $A,B$\n",
      "vektorleri var (baska veri turu de tasiyor olabilir tabii), ve bu\n",
      "vektorlerin icinde begeni notlari var. Benzerlik cesitleri soyle:\n",
      "\n",
      "Oklit Benzerligi (Euclidian Similarity)\n",
      "\n",
      "Bu benzerlik $1 / (1+mesafe)$ olarak hesaplanir. Mesafe karelerin\n",
      "toplaminin karekoku (yani Oklitsel mesafe, ki isim buradan\n",
      "geliyor). Bu yuzden mesafe 0 ise (yani iki \"sey\" arasinda hic mesafe\n",
      "yok, birbirlerine cok yakinlar), o zaman hesap 1 dondurur (mukemmel\n",
      "benzerlik). Mesafe arttikca bolen buyudugu icin benzerlik sifira yaklasir. \n",
      "\n",
      "Pearson Benzerligi\n",
      "\n",
      "Bu benzerligin Oklit'ten farkliligi, sayi buyuklugune hassas\n",
      "olmamasidir.  Diyelim ki birisi her sezonu 1 ile begenmis, digeri 5\n",
      "ile begenmis, bu iki vektorun Pearson benzerligine gore birbirine esit\n",
      "cikar. Pearson -1 ile +1 arasinda bir deger dondurur, alttaki hesap onu\n",
      "normalize ederek 0 ile 1 arasina ceker.\n",
      "\n",
      "Kosinus Benzerligi (Cosine Similarity)\n",
      "\n",
      "Iki vektoru geometrik vektor olarak gorur ve bu vektorlerin arasinda\n",
      "olusan aciyi (daha dogrusu onun kosinusunu) farklilik olcutu olarak\n",
      "kullanir.\n",
      "\n",
      "$$\n",
      "\\cos\\theta = \\frac{A \\cdot B}{||A||||B||}\n",
      "$$\n"
     ]
    },
    {
     "cell_type": "code",
     "collapsed": false,
     "input": [
      "from numpy import linalg as la\n",
      "def euclid(inA,inB):\n",
      "    return 1.0/(1.0 + la.norm(inA - inB))\n",
      "\n",
      "def pearson(inA,inB):\n",
      "    if len(inA) < 3 : return 1.0\n",
      "    return 0.5+0.5*np.corrcoef(inA, inB, rowvar = 0)[0][1]\n",
      "\n",
      "def cos_sim(inA,inB):\n",
      "    num = float(np.dot(inA.T,inB))\n",
      "    denom = la.norm(inA)*la.norm(inB)\n",
      "    return 0.5+0.5*(num/denom)\n"
     ],
     "language": "python",
     "outputs": [],
     "prompt_number": 2
    },
    {
     "cell_type": "code",
     "collapsed": false,
     "input": [
      "print np.array(data.ix['Fred'])\n",
      "print np.array(data.ix['John'])\n",
      "print np.array(data.ix['Ben'])\n",
      "print pearson(data.ix['Fred'],data.ix['John'])\n",
      "print pearson(data.ix['Fred'],data.ix['Ben'])\n"
     ],
     "language": "python",
     "outputs": [
      {
       "output_type": "stream",
       "stream": "stdout",
       "text": [
        "[5 4 3 3 5 5]\n",
        "[0 3 0 5 4 5]\n",
        "[5 5 3 0 5 5]\n",
        "0.551221949943\n",
        "0.906922851283\n"
       ]
      }
     ],
     "prompt_number": 22
    },
    {
     "cell_type": "code",
     "collapsed": false,
     "input": [
      "print cos_sim(data.ix['Fred'],data.ix['John'])\n",
      "print cos_sim(data.ix['Fred'],data.ix['Ben'])\n"
     ],
     "language": "python",
     "outputs": [
      {
       "output_type": "stream",
       "stream": "stdout",
       "text": [
        "0.898160909799\n",
        "0.977064220183\n"
       ]
      }
     ],
     "prompt_number": 23
    },
    {
     "cell_type": "markdown",
     "source": [
      "Simdi tavsiye mekanigine gelelim. En basit tavsiye yontemi, mesela\n",
      "kisi bazli olarak, bir kisiye en yakin diger kisileri bulmak (matrisin\n",
      "tamamina bakarak) ve onlarin begendikleri urunu istenilen kisiye\n",
      "tavsiye etmek. Benzerlik icin ustteki olcutlerden birini kullanmak.\n",
      "\n",
      "Fakat belki de elimizde cok fazla urun, ya da kullanici var. Bir boyut\n",
      "azaltma islemi yapamaz miyiz?\n",
      "\n",
      "Evet. SVD yontemi burada da isimize yarar. \n",
      "\n",
      "$$ A = USV  $$\n",
      "\n",
      "elde edecegimiz icin, ve $S$ icindeki en buyuk degerlere tekabul eden\n",
      "$U,V$ degerleri siralanmis olarak geldigi icin $U,V$'nin en bastaki\n",
      "degerlerini almak bize \"en onemli\" bloklari verir. Bu en onemli kolon\n",
      "ya da satirlari alarak azaltilmis bir boyut icinde benzerlik hesabi\n",
      "yapmak islemlerimizi hizlandirir. Bu azaltilmis boyutta kumeleme\n",
      "algoritmalarini devreye sokabiliriz; $U$'nun mesela en onemli iki\n",
      "kolonu bize iki boyuttaki sezon kumelerini verebilir, $V$'nin en\n",
      "onemli iki (en ust) satiri bize iki boyutta bir kisi kumesi verebilir.\n",
      "\n",
      "O zaman begeni matrisi uzerinde SVD uygulayalim,\n"
     ]
    },
    {
     "cell_type": "code",
     "collapsed": false,
     "input": [
      "from numpy.linalg import linalg as la\n",
      "U,Sigma,VT=la.svd(data)\n",
      "print data.shape\n",
      "print U.shape\n",
      "u = U[:,:2]\n",
      "v=VT[:2,:].T\n",
      "print u\n",
      "print v\n",
      "print u.shape, v.shape"
     ],
     "language": "python",
     "outputs": [
      {
       "output_type": "stream",
       "stream": "stdout",
       "text": [
        "(4, 6)\n",
        "(4, 4)\n",
        "[[-0.57098887 -0.22279713]\n",
        " [-0.4274751  -0.51723555]\n",
        " [-0.38459931  0.82462029]\n",
        " [-0.58593526  0.05319973]]\n",
        "[[-0.44721867 -0.53728743]\n",
        " [-0.35861531  0.24605053]\n",
        " [-0.29246336 -0.40329582]\n",
        " [-0.20779151  0.67004393]\n",
        " [-0.50993331  0.05969518]\n",
        " [-0.53164501  0.18870999]]\n",
        "(4, 2) (6, 2)\n"
       ]
      }
     ],
     "prompt_number": 3
    },
    {
     "cell_type": "markdown",
     "source": [
      "degerleri elimize gecer. U ve VT matrisleri "
     ]
    },
    {
     "cell_type": "code",
     "collapsed": false,
     "input": [
      "def label_points(d,xx,yy,style):\n",
      "    for label, x, y in zip(d, xx, yy):\n",
      "        plt.annotate(\n",
      "            label, \n",
      "            xy = (x, y), xytext = style,\n",
      "            textcoords = 'offset points', ha = 'right', va = 'bottom',\n",
      "            bbox = dict(boxstyle = 'round,pad=0.5', fc = 'yellow', alpha = 0.5),\n",
      "            arrowprops = dict(arrowstyle = '->', connectionstyle = 'arc3,rad=0'))\n",
      "\n",
      "plot(u[:,0],u[:,1],'r.')\n",
      "label_points(data.index, u[:, 0], u[:, 1],style=(-10, 30))\n",
      "plot(v[:,0],v[:,1],'b.')\n",
      "label_points(data.columns, v[:, 0], v[:, 1],style=(20, 20))\n",
      "\n"
     ],
     "language": "python",
     "outputs": [
      {
       "output_type": "display_data",
       "png": "[encoded data removed]",
       "text": [
        "<matplotlib.figure.Figure at 0x470b0d0>"
       ]
      }
     ],
     "prompt_number": 25
    },
    {
     "cell_type": "markdown",
     "source": [
      "Cok guzel! SVD bize urun bazinda sezon 5 ve 6'nin bir kume\n",
      "olusturdugunu, Ben ve Fred'in de kisi bazinda ayri bir kume oldugunu\n",
      "gosterdi.\n",
      "\n",
      "Azaltilmis boyutlari nasil kullaniriz? Yeni bir kisiyi (mesela Bob)\n",
      "ele alinca, bu kisinin verisini oncelikle aynen diger verilerin\n",
      "indirgendigi gibi azaltilmis boyuta \"indirgememiz\" gerekiyor. Cunku\n",
      "artik islem yaptigimiz boyut orasi. Peki bu indirgemeyi nasil yapariz?\n",
      "SVD genel formulunu hatirlarsak,\n",
      "\n",
      "$$ A = USV $$\n",
      "\n",
      "Azaltilmis ortamda\n",
      "\n",
      "$$ A = U_k S_k V_k $$\n",
      "\n",
      "Diyelim ki gitmek istedigimiz nokta azaltilmis $V$, o zaman $V_k$'yi tek\n",
      "basina birakalim,\n",
      "\n",
      "$$ U_k^{-1}A = U_k^{-1}USV_k $$\n",
      "\n",
      "$U_k,V_k$ matrisleri ortonormal, o zaman $U_k^{-1}U_k = I$ olacak,\n",
      "yani yokolacak\n",
      "\n",
      "$$ U_k^{-1}A = SV_k  $$\n",
      "\n",
      "$$ S^{-1}U_k^{-1}A = V_k $$\n",
      "\n",
      "Cok fazla ters alma islemi var, her iki tarafin devrigini alalim\n",
      "\n",
      "$$ A^T(U_k^{-1})^T(S^{-1})^T = V_k^T $$\n",
      "\n",
      "$U_k^{-1}=U_k^T$ o zaman devrigin devrigini almis oluyoruz, tekrar basa\n",
      "donuyoruz, $U_k$ degismeden kaliyor\n",
      "\n",
      "$$ A^TU_k(S^{-1})^T = V_k^T $$\n",
      "\n",
      "$S$ ise kosegen matris, onun tersi yine kosegen, kosegen matrisin devrigi\n",
      "yine kendisi\n",
      "\n",
      "$$ A^TU_kS^{-1} = V_k^T $$\n",
      "\n",
      "Bazi kod ispatlari, $u$'nun ortonormal olmasi:"
     ]
    },
    {
     "cell_type": "code",
     "collapsed": false,
     "input": [
      "np.dot(u.T,u)"
     ],
     "language": "python",
     "outputs": [
      {
       "output_type": "pyout",
       "prompt_number": 26,
       "text": [
        "array([[  1.00000000e+00,   4.83147593e-18],\n",
        "       [  4.83147593e-18,   1.00000000e+00]])"
       ]
      }
     ],
     "prompt_number": 26
    },
    {
     "cell_type": "markdown",
     "source": [
      "Dogal olarak ..e-17 gibi bir sayi sifira cok yakin, yani sifir kabul\n",
      "edilebilir. Devrik ve tersin ayni oldugunu gosterelim: Iki matrisi\n",
      "birbirinden cikartip, cok kucuk bir sayidan buyukluge gore filtreleme\n",
      "yapalim, ve sonuc icinde bir tane bile True olup olmadigini kontrol\n",
      "edelim,"
     ]
    },
    {
     "cell_type": "code",
     "collapsed": false,
     "input": [
      "not any(U.T-la.inv(U) > 1e-15)"
     ],
     "language": "python",
     "outputs": [
      {
       "output_type": "pyout",
       "prompt_number": 27,
       "text": [
        "True"
       ]
      }
     ],
     "prompt_number": 27
    },
    {
     "cell_type": "markdown",
     "source": [
      "Yeni Bob verisi "
     ]
    },
    {
     "cell_type": "code",
     "collapsed": false,
     "input": [
      "bob = np.array([5,5,0,0,0,5]) "
     ],
     "language": "python",
     "outputs": [],
     "prompt_number": 4
    },
    {
     "cell_type": "markdown",
     "source": [
      "O zaman "
     ]
    },
    {
     "cell_type": "code",
     "collapsed": false,
     "input": [
      "print bob.T.shape\n",
      "print u.shape\n",
      "S_k = np.eye(2)*Sigma[:2]\n",
      "bob_2d = np.dot(np.dot(la.inv(S_k),v.T),bob.T)\n",
      "print bob_2d"
     ],
     "language": "python",
     "outputs": [
      {
       "output_type": "stream",
       "stream": "stdout",
       "text": [
        "(6,)\n",
        "(4, 2)\n",
        "[-0.37752201 -0.08020351]\n"
       ]
      }
     ],
     "prompt_number": 11
    },
    {
     "cell_type": "markdown",
     "source": [
      "Ustte <code>eye</code> ve <code>Sigma</code> ile ufak bir takla attik,\n",
      "bunun sebebi <code>svd</code> cagrisindan gelen <code>Sigma</code>\n",
      "sonucunun bir vektor olmasi ama ustteki islem icin kosegen bir\n",
      "\"matrise\" ihtiyacimiz olmasi. Eger birim (identity) matrisini alip onu\n",
      "<code>Sigma</code> ile carparsak, bu kosegen matrisi elde ederiz.\n",
      "\n",
      "Simdi mesela kosinus benzerligi kullanarak bu izdusumlenmis yeni\n",
      "vektorun hangi diger vektorlere benzedigini bulalim."
     ]
    },
    {
     "cell_type": "code",
     "collapsed": false,
     "input": [
      "for i,user in enumerate(u):\n",
      "   print data.index[i],cos_sim(user,bob_2d)\n"
     ],
     "language": "python",
     "outputs": [
      {
       "output_type": "stream",
       "stream": "stdout",
       "text": [
        "Ben 0.993397525045\n",
        "Tom 0.891664622942\n",
        "John 0.612561691287\n",
        "Fred 0.977685793579\n"
       ]
      }
     ],
     "prompt_number": 12
    },
    {
     "cell_type": "markdown",
     "source": [
      "Sonuca gore yeni kullanici Bob, en cok Ben ve Fred'e benziyor. Sonuca\n",
      "eristik! Artik bu iki kullanicinin yuksek not verdigi ama Bob'un hic\n",
      "not vermedigi sezonlari alip Bob'a tavsiye olarak sunabiliriz."
     ]
    },
    {
     "cell_type": "markdown",
     "source": [
      "##Movielens 1M Verisi\n",
      "\n",
      "Bu veri seti 6000 kullanici tarafindan yaklasik 4000 tane filme\n",
      "verilen not / derece (rating) verisini iceriyor, 1 milyon tane not\n",
      "verilmis, yani 4000 * 6000 = 24 milyon olasilik icinde sadece 1 milyon\n",
      "veri noktasi dolu. Bu oldukca seyrek bir matris demektir.\n",
      "\n",
      "Verinin ham hali diger ders notlarini da iceren ust dizinlerde var,\n",
      "veriyi SVD ile kullanilir hale getirmek icin\n",
      "<code>movielens_prep.py</code> adli script kullanilir. Islem bitince\n",
      "movielens.csv adli bir dosya script'te gorulen yere yazilacak. Bu\n",
      "dosyada olmayan derecelendirmeler bos olacaktir . Bu bosluklari\n",
      "sifirlarsak, <code>scipy</code> seyrek matrisi o noktalari\n",
      "atlayacaktir. Ardindan bu seyrek matris uzerinde SVD isletilebilir."
     ]
    },
    {
     "cell_type": "code",
     "collapsed": false,
     "input": [
      "import pandas as pd, os\n",
      "import numpy as np\n",
      "import scipy.sparse as sps\n",
      "df = pd.read_csv(\"%s/Downloads/movielens.csv\" % os.environ['HOME'],sep=';')\n",
      "print df.shape\n",
      "df = df.ix[:,1:] # id kolonunu atla\n",
      "df = df.ix[:,:3700] # sadece filmleri al\n",
      "df_train = df.ix[:5000,:]\n",
      "df_test = df.ix[5001:,:]\n",
      "df_train[np.isnan(df_train)] = 0.0\n",
      "movie_avg_rating = np.array(df_train.mean(axis=0))\n",
      "df_train = df_train - movie_avg_rating\n",
      "dfs_train = sps.coo_matrix(df_train)\n",
      "\n",
      "df_train = np.array(df_train)\n",
      "df_test = np.array(df_test)\n",
      "\n",
      "print df_train.shape\n",
      "print df_test.shape"
     ],
     "language": "python",
     "outputs": [
      {
       "output_type": "stream",
       "stream": "stdout",
       "text": [
        "(6040, 3731)\n",
        "(5001, 3700)"
       ]
      },
      {
       "output_type": "stream",
       "stream": "stdout",
       "text": [
        "\n",
        "(1039, 3700)\n"
       ]
      }
     ],
     "prompt_number": 1
    },
    {
     "cell_type": "code",
     "collapsed": false,
     "input": [
      "__top_k__ = 10\n",
      "import scipy.sparse.linalg as slin\n",
      "import scipy.linalg as la\n",
      "U,Sigma,VT=slin.svds(dfs_train,k=__top_k__)\n",
      "Sigma = np.diag(Sigma)"
     ],
     "language": "python",
     "outputs": [],
     "prompt_number": 2
    },
    {
     "cell_type": "code",
     "collapsed": false,
     "input": [
      "def euclid(inA,inB):\n",
      "    return 1.0/(1.0 + la.norm(inA - inB))\n",
      "    \n",
      "rmse = 0; n = 0\n",
      "for i,test_row in enumerate(df_test):\n",
      "    for j, test_val in enumerate(test_row):\n",
      "        if np.isnan(test_val): continue\t\n",
      "\tcurr = test_row.copy()\n",
      "        curr[j] = np.nan\n",
      "        curr[np.isnan(curr)] = 0.\n",
      "\n",
      "\tproj_row = np.dot(np.dot(la.inv(Sigma),VT),curr)\n",
      "\n",
      "\tsims = np.array(map(lambda x: euclid(x, proj_row), U[:,:__top_k__]))\n",
      "\tisim = np.argmax(sims)\n",
      "\n",
      "\tif df_train[isim, j]+movie_avg_rating[j] == 0: continue\n",
      "\n",
      "\test = df_train[isim, j]+movie_avg_rating[j]\n",
      "\treal = df_test[i, j]\n",
      "\n",
      "\tprint i, 'icin en yakin', isim, ',urun',j, 'icin oy', est, 'gercek', real\n",
      "        rmse += (real-est)**2\n",
      "        n += 1\n",
      "\tbreak\n",
      "    if i == 20: break\n",
      "\n",
      "print \"rmse\", np.sqrt(rmse / n)"
     ],
     "language": "python",
     "outputs": [
      {
       "output_type": "stream",
       "stream": "stdout",
       "text": [
        "0 icin en yakin 1903 ,urun 144 icin oy 5.0 gercek 5.0\n",
        "1"
       ]
      },
      {
       "output_type": "stream",
       "stream": "stdout",
       "text": [
        " icin en yakin 239 ,urun 144 icin oy 5.0 gercek 5.0\n",
        "2"
       ]
      },
      {
       "output_type": "stream",
       "stream": "stdout",
       "text": [
        " icin en yakin 2045 ,urun 844 icin oy 4.0 gercek 4.0\n",
        "3"
       ]
      },
      {
       "output_type": "stream",
       "stream": "stdout",
       "text": [
        " icin en yakin 4636 ,urun 0 icin oy 3.0 gercek 4.0\n",
        "4"
       ]
      },
      {
       "output_type": "stream",
       "stream": "stdout",
       "text": [
        " icin en yakin 139 ,urun 845 icin oy 4.0 gercek 5.0\n",
        "5"
       ]
      },
      {
       "output_type": "stream",
       "stream": "stdout",
       "text": [
        " icin en yakin 427 ,urun 1107 icin oy 4.0 gercek 5.0\n",
        "6"
       ]
      },
      {
       "output_type": "stream",
       "stream": "stdout",
       "text": [
        " icin en yakin 3620 ,urun 31 icin oy 4.0 gercek 4.0\n",
        "7"
       ]
      },
      {
       "output_type": "stream",
       "stream": "stdout",
       "text": [
        " icin en yakin 1870 ,urun 0 icin oy 4.0 gercek 3.0\n",
        "8"
       ]
      },
      {
       "output_type": "stream",
       "stream": "stdout",
       "text": [
        " icin en yakin 4816 ,urun 106 icin oy 5.0 gercek 5.0\n",
        "9"
       ]
      },
      {
       "output_type": "stream",
       "stream": "stdout",
       "text": [
        " icin en yakin 3511 ,urun 0 icin oy 3.0 gercek 4.0\n",
        "10"
       ]
      },
      {
       "output_type": "stream",
       "stream": "stdout",
       "text": [
        " icin en yakin 3973 ,urun 1212 icin oy 5.0 gercek 4.0\n",
        "11"
       ]
      },
      {
       "output_type": "stream",
       "stream": "stdout",
       "text": [
        " icin en yakin 2554 ,urun 287 icin oy 4.0 gercek 5.0\n",
        "12"
       ]
      },
      {
       "output_type": "stream",
       "stream": "stdout",
       "text": [
        " icin en yakin 4733 ,urun 31 icin oy 4.0 gercek 3.0\n",
        "13"
       ]
      },
      {
       "output_type": "stream",
       "stream": "stdout",
       "text": [
        " icin en yakin 2339 ,urun 9 icin oy 4.0 gercek 3.0\n",
        "14"
       ]
      },
      {
       "output_type": "stream",
       "stream": "stdout",
       "text": [
        " icin en yakin 3036 ,urun 10 icin oy 4.0 gercek 3.0\n",
        "15"
       ]
      },
      {
       "output_type": "stream",
       "stream": "stdout",
       "text": [
        " icin en yakin 2748 ,urun 253 icin oy 5.0 gercek 5.0\n",
        "16"
       ]
      },
      {
       "output_type": "stream",
       "stream": "stdout",
       "text": [
        " icin en yakin 450 ,urun 16 icin oy 4.0 gercek 4.0\n",
        "17"
       ]
      },
      {
       "output_type": "stream",
       "stream": "stdout",
       "text": [
        " icin en yakin 1133 ,urun 9 icin oy 5.0 gercek 2.0\n",
        "18"
       ]
      },
      {
       "output_type": "stream",
       "stream": "stdout",
       "text": [
        " icin en yakin 3037 ,urun 253 icin oy 5.0 gercek 4.0\n",
        "19"
       ]
      },
      {
       "output_type": "stream",
       "stream": "stdout",
       "text": [
        " icin en yakin 1266 ,urun 107 icin oy 3.0 gercek 3.0\n",
        "20"
       ]
      },
      {
       "output_type": "stream",
       "stream": "stdout",
       "text": [
        " icin en yakin 537 ,urun 253 icin oy 5.0 gercek 5.0\n",
        "rmse 0.975900072949\n"
       ]
      }
     ],
     "prompt_number": 7
    },
    {
     "cell_type": "markdown",
     "source": [
      "Kaynaklar\n",
      "\n",
      "http://www.igvita.com/2007/01/15/svd-recommendation-system-in-ruby/\n",
      "\n",
      "Harrington, P., Machine Learning in Action\n",
      "\n",
      "http://stats.stackexchange.com/questions/31096/how-do-i-use-the-svd-in-collaborative-filtering"
     ]
    }
   ]
  }
 ]
}