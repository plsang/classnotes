{
 "metadata": {
  "name": "svdrecom"
 },
 "nbformat": 3,
 "nbformat_minor": 0,
 "worksheets": [
  {
   "cells": [
    {
     "cell_type": "code",
     "collapsed": false,
     "input": [
      "from pandas import *\n",
      "\n",
      "data = DataFrame (\n",
      "    [[0, 0, 0, 2, 2],\n",
      "     [0, 0, 0, 3, 3],\n",
      "     [0, 0, 0, 1, 1],\n",
      "     [1, 1, 1, 0, 0],\n",
      "     [2, 2, 2, 0, 0],\n",
      "     [5, 5, 5, 0, 0],\n",
      "     [1, 1, 1, 0, 0]],\n",
      "    columns=['Dolma','Kebap','Iskender','Fasulye Pilaki','Beyti'],\n",
      "    index=['Ed','Peter','Tracy','Fan','Ming','Pachi','Jocelyn'])\n",
      "data"
     ],
     "language": "python",
     "outputs": [
      {
       "html": [
        "<div style=\"max-height:1000px;max-width:1500px;overflow:auto;\">\n",
        "<table border=\"1\" class=\"dataframe\">\n",
        "  <thead>\n",
        "    <tr style=\"text-align: right;\">\n",
        "      <th></th>\n",
        "      <th>Dolma</th>\n",
        "      <th>Kebap</th>\n",
        "      <th>Iskender</th>\n",
        "      <th>Fasulye Pilaki</th>\n",
        "      <th>Beyti</th>\n",
        "    </tr>\n",
        "  </thead>\n",
        "  <tbody>\n",
        "    <tr>\n",
        "      <td><strong>Ed</strong></td>\n",
        "      <td> 0</td>\n",
        "      <td> 0</td>\n",
        "      <td> 0</td>\n",
        "      <td> 2</td>\n",
        "      <td> 2</td>\n",
        "    </tr>\n",
        "    <tr>\n",
        "      <td><strong>Peter</strong></td>\n",
        "      <td> 0</td>\n",
        "      <td> 0</td>\n",
        "      <td> 0</td>\n",
        "      <td> 3</td>\n",
        "      <td> 3</td>\n",
        "    </tr>\n",
        "    <tr>\n",
        "      <td><strong>Tracy</strong></td>\n",
        "      <td> 0</td>\n",
        "      <td> 0</td>\n",
        "      <td> 0</td>\n",
        "      <td> 1</td>\n",
        "      <td> 1</td>\n",
        "    </tr>\n",
        "    <tr>\n",
        "      <td><strong>Fan</strong></td>\n",
        "      <td> 1</td>\n",
        "      <td> 1</td>\n",
        "      <td> 1</td>\n",
        "      <td> 0</td>\n",
        "      <td> 0</td>\n",
        "    </tr>\n",
        "    <tr>\n",
        "      <td><strong>Ming</strong></td>\n",
        "      <td> 2</td>\n",
        "      <td> 2</td>\n",
        "      <td> 2</td>\n",
        "      <td> 0</td>\n",
        "      <td> 0</td>\n",
        "    </tr>\n",
        "    <tr>\n",
        "      <td><strong>Pachi</strong></td>\n",
        "      <td> 5</td>\n",
        "      <td> 5</td>\n",
        "      <td> 5</td>\n",
        "      <td> 0</td>\n",
        "      <td> 0</td>\n",
        "    </tr>\n",
        "    <tr>\n",
        "      <td><strong>Jocelyn</strong></td>\n",
        "      <td> 1</td>\n",
        "      <td> 1</td>\n",
        "      <td> 1</td>\n",
        "      <td> 0</td>\n",
        "      <td> 0</td>\n",
        "    </tr>\n",
        "  </tbody>\n",
        "</table>\n",
        "</div>"
       ],
       "output_type": "pyout",
       "prompt_number": 4,
       "text": [
        "         Dolma  Kebap  Iskender  Fasulye Pilaki  Beyti\n",
        "Ed           0      0         0               2      2\n",
        "Peter        0      0         0               3      3\n",
        "Tracy        0      0         0               1      1\n",
        "Fan          1      1         1               0      0\n",
        "Ming         2      2         2               0      0\n",
        "Pachi        5      5         5               0      0\n",
        "Jocelyn      1      1         1               0      0"
       ]
      }
     ],
     "prompt_number": 4
    },
    {
     "cell_type": "code",
     "collapsed": false,
     "input": [
      "from numpy import linalg as la\n",
      "def euclid(inA,inB):\n",
      "    return 1.0/(1.0 + la.norm(inA - inB))\n",
      "\n",
      "def pearson(inA,inB):\n",
      "    if len(inA) < 3 : return 1.0\n",
      "    return 0.5+0.5*np.corrcoef(inA, inB, rowvar = 0)[0][1]\n",
      "\n",
      "def cos_sim(inA,inB):\n",
      "    num = float(inA.T*inB)\n",
      "    denom = la.norm(inA)*la.norm(inB)\n",
      "    return 0.5+0.5*(num/denom)\n"
     ],
     "language": "python",
     "outputs": [],
     "prompt_number": 9
    },
    {
     "cell_type": "code",
     "collapsed": false,
     "input": [
      "print np.array(data['Dolma'])\n",
      "print np.array(data['Beyti'])\n",
      "print pearson(np.array(data['Dolma']),np.array(data['Beyti']))\n"
     ],
     "language": "python",
     "outputs": [
      {
       "output_type": "stream",
       "stream": "stdout",
       "text": [
        "[0 0 0 1 2 5 1]\n",
        "[2 3 1 0 0 0 0]\n",
        "0.205965381738\n"
       ]
      }
     ],
     "prompt_number": 17
    },
    {
     "cell_type": "code",
     "collapsed": false,
     "input": [],
     "language": "python",
     "outputs": []
    }
   ]
  }
 ]
}