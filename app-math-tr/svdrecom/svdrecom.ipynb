{
 "metadata": {
  "name": "svdrecom"
 },
 "nbformat": 3,
 "nbformat_minor": 0,
 "worksheets": [
  {
   "cells": [
    {
     "cell_type": "code",
     "collapsed": false,
     "input": [
      "from pandas import *\n",
      "\n",
      "data = DataFrame (\n",
      "    [[5, 5, 0, 5],\n",
      "     [5, 0, 3, 4],\n",
      "     [3, 4, 0, 3],\n",
      "     [0, 0, 5, 3],\n",
      "     [5, 4, 4, 5],\n",
      "     [5, 4, 5, 5]],\n",
      "    columns=['Ben','Tom','John','Fred'])\n",
      "data"
     ],
     "language": "python",
     "outputs": [
      {
       "html": [
        "<div style=\"max-height:1000px;max-width:1500px;overflow:auto;\">\n",
        "<table border=\"1\" class=\"dataframe\">\n",
        "  <thead>\n",
        "    <tr style=\"text-align: right;\">\n",
        "      <th></th>\n",
        "      <th>Ben</th>\n",
        "      <th>Tom</th>\n",
        "      <th>John</th>\n",
        "      <th>Fred</th>\n",
        "    </tr>\n",
        "  </thead>\n",
        "  <tbody>\n",
        "    <tr>\n",
        "      <td><strong>0</strong></td>\n",
        "      <td> 5</td>\n",
        "      <td> 5</td>\n",
        "      <td> 0</td>\n",
        "      <td> 5</td>\n",
        "    </tr>\n",
        "    <tr>\n",
        "      <td><strong>1</strong></td>\n",
        "      <td> 5</td>\n",
        "      <td> 0</td>\n",
        "      <td> 3</td>\n",
        "      <td> 4</td>\n",
        "    </tr>\n",
        "    <tr>\n",
        "      <td><strong>2</strong></td>\n",
        "      <td> 3</td>\n",
        "      <td> 4</td>\n",
        "      <td> 0</td>\n",
        "      <td> 3</td>\n",
        "    </tr>\n",
        "    <tr>\n",
        "      <td><strong>3</strong></td>\n",
        "      <td> 0</td>\n",
        "      <td> 0</td>\n",
        "      <td> 5</td>\n",
        "      <td> 3</td>\n",
        "    </tr>\n",
        "    <tr>\n",
        "      <td><strong>4</strong></td>\n",
        "      <td> 5</td>\n",
        "      <td> 4</td>\n",
        "      <td> 4</td>\n",
        "      <td> 5</td>\n",
        "    </tr>\n",
        "    <tr>\n",
        "      <td><strong>5</strong></td>\n",
        "      <td> 5</td>\n",
        "      <td> 4</td>\n",
        "      <td> 5</td>\n",
        "      <td> 5</td>\n",
        "    </tr>\n",
        "  </tbody>\n",
        "</table>\n",
        "</div>"
       ],
       "output_type": "pyout",
       "prompt_number": 1,
       "text": [
        "   Ben  Tom  John  Fred\n",
        "0    5    5     0     5\n",
        "1    5    0     3     4\n",
        "2    3    4     0     3\n",
        "3    0    0     5     3\n",
        "4    5    4     4     5\n",
        "5    5    4     5     5"
       ]
      }
     ],
     "prompt_number": 1
    },
    {
     "cell_type": "code",
     "collapsed": false,
     "input": [
      "from numpy import linalg as la\n",
      "def euclid(inA,inB):\n",
      "    return 1.0/(1.0 + la.norm(inA - inB))\n",
      "\n",
      "def pearson(inA,inB):\n",
      "    if len(inA) < 3 : return 1.0\n",
      "    return 0.5+0.5*np.corrcoef(inA, inB, rowvar = 0)[0][1]\n",
      "\n",
      "def cos_sim(inA,inB):\n",
      "    num = float(inA.T*inB)\n",
      "    denom = la.norm(inA)*la.norm(inB)\n",
      "    return 0.5+0.5*(num/denom)\n"
     ],
     "language": "python",
     "outputs": [],
     "prompt_number": 2
    },
    {
     "cell_type": "code",
     "collapsed": false,
     "input": [
      "print np.array(data['Fred'])\n",
      "print np.array(data['John'])\n",
      "print pearson(np.array(data['Fred']),np.array(data['John']))\n"
     ],
     "language": "python",
     "outputs": [
      {
       "output_type": "stream",
       "stream": "stdout",
       "text": [
        "[5 4 3 3 5 5]\n",
        "[0 3 0 5 4 5]\n",
        "0.551221949943\n"
       ]
      }
     ],
     "prompt_number": 4
    },
    {
     "cell_type": "code",
     "collapsed": false,
     "input": [
      "\n",
      "U,Sigma,VT=la.svd(data)\n",
      "U[:2].T,Sigma[:2],VT\n"
     ],
     "language": "python",
     "outputs": [
      {
       "output_type": "pyout",
       "prompt_number": 26,
       "text": [
        "(array([[-0.44721867, -0.35861531],\n",
        "       [-0.53728743,  0.24605053],\n",
        "       [-0.00643789,  0.86223083],\n",
        "       [-0.50369332, -0.14584826],\n",
        "       [-0.38572484,  0.07797295],\n",
        "       [-0.32982665,  0.20015165]]),\n",
        " array([ 17.71392084,   6.39167145]),\n",
        " array([[-0.57098887, -0.4274751 , -0.38459931, -0.58593526],\n",
        "       [-0.22279713, -0.51723555,  0.82462029,  0.05319973],\n",
        "       [ 0.67492385, -0.69294472, -0.2531966 ,  0.01403201],\n",
        "       [ 0.41086611,  0.26374238,  0.32859738, -0.80848795]]))"
       ]
      }
     ],
     "prompt_number": 26
    },
    {
     "cell_type": "code",
     "collapsed": false,
     "input": [],
     "language": "python",
     "outputs": []
    }
   ]
  }
 ]
}