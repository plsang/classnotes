{
 "metadata": {
  "name": ""
 },
 "nbformat": 3,
 "nbformat_minor": 0,
 "worksheets": [
  {
   "cells": [
    {
     "cell_type": "markdown",
     "source": [
      "SVD, Toplu Tavsiye (Collaborative Filtering) \n",
      "\n",
      "Diyelim ki Star Trek (ST) dizisini ne kadar begendigini 4 tane\n",
      "kullanici sezonlara gore isaretlemis. Bu ornek veriyi alttaki gibi\n",
      "gosterelim."
     ]
    },
    {
     "cell_type": "code",
     "collapsed": false,
     "input": [
      "from pandas import *\n",
      "\n",
      "data = DataFrame (\n",
      "    [[5, 5, 0, 5],\n",
      "     [5, 0, 3, 4],\n",
      "     [3, 4, 0, 3],\n",
      "     [0, 0, 5, 3],\n",
      "     [5, 4, 4, 5],\n",
      "     [5, 4, 5, 5]],\n",
      "    columns=['Ben','Tom','John','Fred'],\n",
      "    index=['S1','S2','S3','S4','S5','S6']\n",
      "    )\n",
      "data"
     ],
     "language": "python",
     "outputs": [
      {
       "html": [
        "<div style=\"max-height:1000px;max-width:1500px;overflow:auto;\">\n",
        "<table border=\"1\" class=\"dataframe\">\n",
        "  <thead>\n",
        "    <tr style=\"text-align: right;\">\n",
        "      <th></th>\n",
        "      <th>Ben</th>\n",
        "      <th>Tom</th>\n",
        "      <th>John</th>\n",
        "      <th>Fred</th>\n",
        "    </tr>\n",
        "  </thead>\n",
        "  <tbody>\n",
        "    <tr>\n",
        "      <td><strong>S1</strong></td>\n",
        "      <td> 5</td>\n",
        "      <td> 5</td>\n",
        "      <td> 0</td>\n",
        "      <td> 5</td>\n",
        "    </tr>\n",
        "    <tr>\n",
        "      <td><strong>S2</strong></td>\n",
        "      <td> 5</td>\n",
        "      <td> 0</td>\n",
        "      <td> 3</td>\n",
        "      <td> 4</td>\n",
        "    </tr>\n",
        "    <tr>\n",
        "      <td><strong>S3</strong></td>\n",
        "      <td> 3</td>\n",
        "      <td> 4</td>\n",
        "      <td> 0</td>\n",
        "      <td> 3</td>\n",
        "    </tr>\n",
        "    <tr>\n",
        "      <td><strong>S4</strong></td>\n",
        "      <td> 0</td>\n",
        "      <td> 0</td>\n",
        "      <td> 5</td>\n",
        "      <td> 3</td>\n",
        "    </tr>\n",
        "    <tr>\n",
        "      <td><strong>S5</strong></td>\n",
        "      <td> 5</td>\n",
        "      <td> 4</td>\n",
        "      <td> 4</td>\n",
        "      <td> 5</td>\n",
        "    </tr>\n",
        "    <tr>\n",
        "      <td><strong>S6</strong></td>\n",
        "      <td> 5</td>\n",
        "      <td> 4</td>\n",
        "      <td> 5</td>\n",
        "      <td> 5</td>\n",
        "    </tr>\n",
        "  </tbody>\n",
        "</table>\n",
        "</div>"
       ],
       "output_type": "pyout",
       "prompt_number": 88,
       "text": [
        "    Ben  Tom  John  Fred\n",
        "S1    5    5     0     5\n",
        "S2    5    0     3     4\n",
        "S3    3    4     0     3\n",
        "S4    0    0     5     3\n",
        "S5    5    4     4     5\n",
        "S6    5    4     5     5"
       ]
      }
     ],
     "prompt_number": 88
    },
    {
     "cell_type": "markdown",
     "source": [
      "Veriye gore Tom, ST dizisinin 3. sezonunu 4 seviyesinde sevmis. 0\n",
      "degeri o sezonun seyredilmedigini gosteriyor.\n",
      "\n",
      "Toplu Tavsiye algoritmalari verideki diger kisilerin bir urunu,\n",
      "diziyi, vs. ne kadar begendiginin verisinin diger \"benzer\" kisilere\n",
      "tavsiye olarak sunabilir, ya da ondan once, bir kisinin daha almadigi\n",
      "urunu, seyretmedigi sezonu, dinlemedigi muzigi ne kadar\n",
      "\"begeneceginin\" tahmin eder. Kaggle sitesi uzerinden yapilan unlu Netflix\n",
      "yarismasinin amaci buydu - ayrica tahmin edilen ve gercek begeni notunun\n",
      "hata payinin hesabi icin RMSE hesabi kullanilmisti.\n",
      "\n",
      "Peki benzerligin kriteri nedir, ve benzerlik nelerin arasinda olculur?\n",
      "\n",
      "Benzerlik, urun seviyesinde, ya da kisi seviyesinde yapilabilir. Eger\n",
      "urun sevisinde ise, tek bir urun icin tum kullanicilarin verdigi nota\n",
      "bakilir. Eger kullanici seviyesinde ise, tek kullanicinin tum urunlere\n",
      "verdigi begeni notlari vektoru kullanilir. \n",
      "\n",
      "Mesela 1. sezondan hareketle, o sezonu begenen kisilere o sezona\n",
      "benzer diger sezonlar tavsiye edilebilir. Kisiden hareketle, mesela\n",
      "John'a benzeyen diger kisiler bulunarak onlarin begendigi urunler John'a\n",
      "tavsiye edilebilir.\n",
      "\n",
      "Urun ya da kisi bazinda olsun, benzerligi hesaplamanin da farkli\n",
      "yollari var.  Genel olarak benzerlik olcutunun 0 ile 1 arasinda\n",
      "degisen bir sayi olmasini tercih ediyoruz ve tum ayarlari ona gore\n",
      "yapiyoruz. Diyelim ki ki elimizde begeni notlarini tasiyan $A,B$\n",
      "vektorleri var (baska veri turu de tasiyor olabilir tabii), ve bu\n",
      "vektorlerin icinde begeni notlari var. Benzerlik cesitleri soyle:\n",
      "\n",
      "Oklit Benzerligi (Euclidian Similarity)\n",
      "\n",
      "Bu benzerlik $1 / (1+mesafe)$ olarak hesaplanir. Mesafe karelerin\n",
      "toplaminin karekoku (yani Oklitsel mesafe, ki isim buradan\n",
      "geliyor). Bu yuzden mesafe 0 ise (yani iki \"sey\" arasinda hic mesafe\n",
      "yok, birbirlerine cok yakinlar), o zaman hesap 1 dondurur (mukemmel\n",
      "benzerlik). Mesafe arttikca bolen buyudugu icin benzerlik sifira yaklasir. \n",
      "\n",
      "Pearson Benzerligi\n",
      "\n",
      "Bu benzerligin Oklit'ten farkliligi, sayi buyuklugune hassas\n",
      "olmamasidir.  Diyelim ki birisi her sezonu 1 ile begenmis, digeri 5\n",
      "ile begenmis, bu iki vektorun Pearson benzerligine gore birbirine esit\n",
      "cikar. Pearson -1 ile +1 arasinda bir deger dondurur, alttaki hesap onu\n",
      "normalize ederek 0 ile 1 arasina ceker.\n",
      "\n",
      "Kosinus Benzerligi (Cosine Similarity)\n",
      "\n",
      "Iki vektoru geometrik vektor olarak gorur ve bu vektorlerin arasinda\n",
      "olusan aciyi (daha dogrusu onun kosinusunu) farklilik olcutu olarak\n",
      "kullanir.\n",
      "\n",
      "$$\n",
      "\\cos\\theta = \\frac{A \\cdot B}{||A||||B||}\n",
      "$$\n"
     ]
    },
    {
     "cell_type": "code",
     "collapsed": false,
     "input": [
      "from numpy import linalg as la\n",
      "def euclid(inA,inB):\n",
      "    return 1.0/(1.0 + la.norm(inA - inB))\n",
      "\n",
      "def pearson(inA,inB):\n",
      "    if len(inA) < 3 : return 1.0\n",
      "    return 0.5+0.5*np.corrcoef(inA, inB, rowvar = 0)[0][1]\n",
      "\n",
      "def cos_sim(inA,inB):\n",
      "    num = float(np.dot(inA.T,inB))\n",
      "    denom = la.norm(inA)*la.norm(inB)\n",
      "    return 0.5+0.5*(num/denom)\n"
     ],
     "language": "python",
     "outputs": [],
     "prompt_number": 89
    },
    {
     "cell_type": "code",
     "collapsed": false,
     "input": [
      "print np.array(data['Fred'])\n",
      "print np.array(data['John'])\n",
      "print np.array(data['Ben'])\n",
      "print pearson(data['Fred'],data['John'])\n",
      "print pearson(data['Fred'],data['Ben'])\n"
     ],
     "language": "python",
     "outputs": [
      {
       "output_type": "stream",
       "stream": "stdout",
       "text": [
        "[5 4 3 3 5 5]\n",
        "[0 3 0 5 4 5]\n",
        "[5 5 3 0 5 5]\n",
        "0.551221949943\n",
        "0.906922851283\n"
       ]
      }
     ],
     "prompt_number": 90
    },
    {
     "cell_type": "code",
     "collapsed": false,
     "input": [
      "print cos_sim(data['Fred'],data['John'])\n",
      "print cos_sim(data['Fred'],data['Ben'])\n"
     ],
     "language": "python",
     "outputs": [
      {
       "output_type": "stream",
       "stream": "stdout",
       "text": [
        "0.898160909799\n",
        "0.977064220183\n"
       ]
      }
     ],
     "prompt_number": 91
    },
    {
     "cell_type": "markdown",
     "source": [
      "Simdi tavsiye mekanigine gelelim. En basit tavsiye yontemi, mesela\n",
      "kisi bazli olarak, bir kisiye en yakin diger kisileri bulmak (matrisin\n",
      "tamamina bakarak) ve onlarin begendikleri urunu istenilen kisiye\n",
      "tavsiye etmek. Benzerlik icin ustteki olcutlerden birini kullanmak.\n",
      "\n",
      "Fakat belki de elimizde cok fazla urun, ya da kullanici var. Bir boyut\n",
      "azaltma islemi yapamaz miyiz?\n",
      "\n",
      "Evet. SVD yontemi burada da isimize yarar. \n",
      "\n",
      "$$ A = USV  $$\n",
      "\n",
      "elde edecegimiz icin, ve $S$ icindeki en buyuk degerlere tekabul eden\n",
      "$U,V$ degerleri siralanmis olarak geldigi icin $U,V$'nin en bastaki\n",
      "degerlerini almak bize \"en onemli\" bloklari verir. Bu en onemli kolon\n",
      "ya da satirlari alarak azaltilmis bir boyut icinde benzerlik hesabi\n",
      "yapmak islemlerimizi hizlandirir. Bu azaltilmis boyutta kumeleme\n",
      "algoritmalarini devreye sokabiliriz; $U$'nun mesela en onemli iki\n",
      "kolonu bize iki boyuttaki sezon kumelerini verebilir, $V$'nin en\n",
      "onemli iki (en ust) satiri bize iki boyutta bir kisi kumesi verebilir.\n",
      "\n",
      "O zaman begeni matrisi uzerinde SVD uygulayalim,\n"
     ]
    },
    {
     "cell_type": "code",
     "collapsed": false,
     "input": [
      "from numpy.linalg import linalg as la\n",
      "U,Sigma,VT=la.svd(data)\n",
      "u = U[:,:2]\n",
      "v=VT[:2,:].T\n",
      "u,v\n"
     ],
     "language": "python",
     "outputs": [
      {
       "output_type": "pyout",
       "prompt_number": 92,
       "text": [
        "(array([[-0.44721867, -0.53728743],\n",
        "       [-0.35861531,  0.24605053],\n",
        "       [-0.29246336, -0.40329582],\n",
        "       [-0.20779151,  0.67004393],\n",
        "       [-0.50993331,  0.05969518],\n",
        "       [-0.53164501,  0.18870999]]),\n",
        " array([[-0.57098887, -0.22279713],\n",
        "       [-0.4274751 , -0.51723555],\n",
        "       [-0.38459931,  0.82462029],\n",
        "       [-0.58593526,  0.05319973]]))"
       ]
      }
     ],
     "prompt_number": 92
    },
    {
     "cell_type": "markdown",
     "source": [
      "degerleri elimize gecer. U ve VT matrisleri "
     ]
    },
    {
     "cell_type": "code",
     "collapsed": false,
     "input": [
      "def label_points(d,xx,yy,style):\n",
      "    for label, x, y in zip(d, xx, yy):\n",
      "        plt.annotate(\n",
      "            label, \n",
      "            xy = (x, y), xytext = style,\n",
      "            textcoords = 'offset points', ha = 'right', va = 'bottom',\n",
      "            bbox = dict(boxstyle = 'round,pad=0.5', fc = 'yellow', alpha = 0.5),\n",
      "            arrowprops = dict(arrowstyle = '->', connectionstyle = 'arc3,rad=0'))\n",
      "\n",
      "plot(u[:,0],u[:,1],'r.')\n",
      "label_points(data.index, u[:, 0], u[:, 1],style=(-10, 30))\n",
      "plot(v[:,0],v[:,1],'b.')\n",
      "label_points(data.columns, v[:, 0], v[:, 1],style=(20, 20))\n",
      "\n"
     ],
     "language": "python",
     "outputs": [
      {
       "output_type": "display_data",
       "png": "[encoded data removed]",
       "text": [
        "<matplotlib.figure.Figure at 0xad4acec>"
       ]
      }
     ],
     "prompt_number": 93
    },
    {
     "cell_type": "markdown",
     "source": [
      "Cok guzel! SVD bize urun bazinda sezon 5 ve 6'nin bir kume\n",
      "olusturdugunu, Ben ve Fred'in de kisi bazinda ayri bir kume oldugunu\n",
      "gosterdi.\n",
      "\n",
      "Azaltilmis boyutlari nasil kullaniriz? Yeni bir kisiyi (mesela Bob)\n",
      "ele alinca, bu kisinin verisini oncelikle aynen diger verilerin\n",
      "indirgendigi gibi azaltilmis boyuta \"indirgememiz\" gerekiyor. Cunku\n",
      "artik islem yaptigimiz boyut orasi. Peki bu indirgemeyi nasil yapariz?\n",
      "SVD genel formulunu hatirlarsak,\n",
      "\n",
      "$$ A = USV $$\n",
      "\n",
      "Azaltilmis ortamda\n",
      "\n",
      "$$ A = U_k S_k V_k $$\n",
      "\n",
      "Diyelim ki gitmek istedigimiz nokta azaltilmis $V$, o zaman $V_k$'yi tek\n",
      "basina birakalim,\n",
      "\n",
      "$$ U_k^{-1}A = U_k^{-1}USV_k $$\n",
      "\n",
      "$U_k,V_k$ matrisleri ortonormal, o zaman $U_k^{-1}U_k = I$ olacak,\n",
      "yani yokolacak\n",
      "\n",
      "$$ U_k^{-1}A = SV_k  $$\n",
      "\n",
      "$$ S^{-1}U_k^{-1}A = V_k $$\n",
      "\n",
      "Cok fazla ters alma islemi var, her iki tarafin devrigini alalim\n",
      "\n",
      "$$ A^T(U_k^{-1})^T(S^{-1})^T = V_k^T $$\n",
      "\n",
      "$U_k^{-1}=U_k^T$ o zaman devrigin devrigini almis oluyoruz, tekrar basa\n",
      "donuyoruz, $U_k$ degismeden kaliyor\n",
      "\n",
      "$$ A^TU_k(S^{-1})^T = V_k^T $$\n",
      "\n",
      "$S$ ise kosegen matris, onun tersi yine kosegen, kosegen matrisin devrigi\n",
      "yine kendisi\n",
      "\n",
      "$$ A^TU_kS^{-1} = V_k^T $$\n",
      "\n",
      "Bazi kod ispatlari, $u$'nun ortonormal olmasi:"
     ]
    },
    {
     "cell_type": "code",
     "collapsed": false,
     "input": [
      "np.dot(u.T,u)"
     ],
     "language": "python",
     "outputs": [
      {
       "output_type": "pyout",
       "prompt_number": 94,
       "text": [
        "array([[  1.00000000e+00,  -6.51063405e-17],\n",
        "       [ -6.51063405e-17,   1.00000000e+00]])"
       ]
      }
     ],
     "prompt_number": 94
    },
    {
     "cell_type": "markdown",
     "source": [
      "Dogal olarak ..e-17 gibi bir sayi sifira cok yakin, yani sifir kabul\n",
      "edilebilir. Devrik ve tersin ayni oldugunu gosterelim: Iki matrisi\n",
      "birbirinden cikartip, cok kucuk bir sayidan buyukluge gore filtreleme\n",
      "yapalim, ve sonuc icinde bir tane bile True olup olmadigini kontrol\n",
      "edelim,"
     ]
    },
    {
     "cell_type": "code",
     "collapsed": false,
     "input": [
      "not any(U.T-la.inv(U) > 1e-15)"
     ],
     "language": "python",
     "outputs": [
      {
       "output_type": "pyout",
       "prompt_number": 95,
       "text": [
        "True"
       ]
      }
     ],
     "prompt_number": 95
    },
    {
     "cell_type": "markdown",
     "source": [
      "Yeni Bob verisi "
     ]
    },
    {
     "cell_type": "code",
     "collapsed": false,
     "input": [
      "bob = np.array([5,5,0,0,0,5]) "
     ],
     "language": "python",
     "outputs": [],
     "prompt_number": 96
    },
    {
     "cell_type": "markdown",
     "source": [
      "O zaman "
     ]
    },
    {
     "cell_type": "code",
     "collapsed": false,
     "input": [
      "S_k = np.eye(2)*Sigma[:2]\n",
      "bob_2d = np.dot(np.dot(bob.T,u),la.inv(S_k))\n",
      "bob_2d"
     ],
     "language": "python",
     "outputs": [
      {
       "output_type": "pyout",
       "prompt_number": 97,
       "text": [
        "array([-0.37752201, -0.08020351])"
       ]
      }
     ],
     "prompt_number": 97
    },
    {
     "cell_type": "markdown",
     "source": [
      "Ustte <code>eye</code> ve <code>Sigma</code> ile ufak bir takla attik,\n",
      "bunun sebebi <code>svd</code> cagrisindan gelen <code>Sigma</code>\n",
      "sonucunun bir vektor olmasi ama ustteki islem icin kosegen bir\n",
      "\"matrise\" ihtiyacimiz olmasi. Eger birim (identity) matrisini alip onu\n",
      "<code>Sigma</code> ile carparsak, bu kosegen matrisi elde ederiz.\n",
      "\n",
      "Simdi mesela kosinus benzerligi kullanarak bu izdusumlenmis yeni\n",
      "vektorun hangi diger vektorlere benzedigini bulalim."
     ]
    },
    {
     "cell_type": "code",
     "collapsed": false,
     "input": [
      "for i,user in enumerate(v):\n",
      "   print data.columns[i],cos_sim(user,bob_2d)\n"
     ],
     "language": "python",
     "outputs": [
      {
       "output_type": "stream",
       "stream": "stdout",
       "text": [
        "Ben 0.993397525045\n",
        "Tom 0.891664622942\n",
        "John 0.612561691287\n",
        "Fred 0.977685793579\n"
       ]
      }
     ],
     "prompt_number": 104
    },
    {
     "cell_type": "markdown",
     "source": [
      "Sonuca gore yeni kullanici Bob, en cok Ben ve Fred'e benziyor. Sonuca\n",
      "eristik! Artik bu iki kullanicinin yuksek not verdigi ama Bob'un hic\n",
      "not vermedigi sezonlari alip Bob'a tavsiye olarak sunabiliriz."
     ]
    },
    {
     "cell_type": "markdown",
     "source": [
      "Movielens Verisi\n",
      "\n"
     ]
    },
    {
     "cell_type": "code",
     "collapsed": false,
     "input": [
      "import pandas as pd\n",
      "df = pd.read_csv(\"/home/burak/Downloads/movielens1.csv\",sep=';')\n",
      "import scipy.sparse as sps\n",
      "df = df.fillna(0)\n",
      "dfs = sps.coo_matrix(np.array(df.ix[:,1:]))"
     ],
     "language": "python",
     "outputs": [],
     "prompt_number": 24
    },
    {
     "cell_type": "code",
     "collapsed": false,
     "input": [
      "import scipy.linalg as lin\n",
      "import scipy.sparse.linalg as slin\n",
      "U,S,V=slin.svds(dfs,k=7)"
     ],
     "language": "python",
     "outputs": [],
     "prompt_number": 29
    },
    {
     "cell_type": "code",
     "collapsed": false,
     "input": [
      "plot(U[:,0], U[:,1],'.')"
     ],
     "language": "python",
     "outputs": [
      {
       "output_type": "pyout",
       "prompt_number": 30,
       "text": [
        "[<matplotlib.lines.Line2D at 0xc9f2c10>]"
       ]
      },
      {
       "output_type": "display_data",
       "png": "[encoded data removed]",
       "text": [
        "<matplotlib.figure.Figure at 0x4817150>"
       ]
      }
     ],
     "prompt_number": 30
    },
    {
     "cell_type": "markdown",
     "source": [
      "\n",
      "Kaynaklar\n",
      "\n",
      "http://www.igvita.com/2007/01/15/svd-recommendation-system-in-ruby/\n",
      "\n",
      "Harrington, P., Machine Learning in Action\n",
      "\n"
     ]
    }
   ]
  }
 ]
}