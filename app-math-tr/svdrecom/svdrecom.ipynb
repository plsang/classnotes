{
 "metadata": {
  "name": "svdrecom"
 },
 "nbformat": 3,
 "nbformat_minor": 0,
 "worksheets": [
  {
   "cells": [
    {
     "cell_type": "code",
     "collapsed": false,
     "input": [
      "from pandas import *\n",
      "\n",
      "data = DataFrame (\n",
      "    [[0, 0, 0, 2, 2],\n",
      "     [0, 0, 0, 3, 3],\n",
      "     [0, 0, 0, 1, 1],\n",
      "     [1, 1, 1, 0, 0],\n",
      "     [2, 2, 2, 0, 0],\n",
      "     [5, 5, 5, 0, 0],\n",
      "     [1, 1, 1, 0, 0]],\n",
      "    columns=['Dolma','Kebap','Iskender','Fasulye Pilaki','Beyti'],\n",
      "    index=['Ed','Peter','Tracy','Fan','Ming','Pachi','Jocelyn'])\n",
      "data"
     ],
     "language": "python",
     "outputs": [
      {
       "html": [
        "<div style=\"max-height:1000px;max-width:1500px;overflow:auto;\">\n",
        "<table border=\"1\" class=\"dataframe\">\n",
        "  <thead>\n",
        "    <tr style=\"text-align: right;\">\n",
        "      <th></th>\n",
        "      <th>Dolma</th>\n",
        "      <th>Kebap</th>\n",
        "      <th>Iskender</th>\n",
        "      <th>Fasulye Pilaki</th>\n",
        "      <th>Beyti</th>\n",
        "    </tr>\n",
        "  </thead>\n",
        "  <tbody>\n",
        "    <tr>\n",
        "      <td><strong>Ed</strong></td>\n",
        "      <td> 0</td>\n",
        "      <td> 0</td>\n",
        "      <td> 0</td>\n",
        "      <td> 2</td>\n",
        "      <td> 2</td>\n",
        "    </tr>\n",
        "    <tr>\n",
        "      <td><strong>Peter</strong></td>\n",
        "      <td> 0</td>\n",
        "      <td> 0</td>\n",
        "      <td> 0</td>\n",
        "      <td> 3</td>\n",
        "      <td> 3</td>\n",
        "    </tr>\n",
        "    <tr>\n",
        "      <td><strong>Tracy</strong></td>\n",
        "      <td> 0</td>\n",
        "      <td> 0</td>\n",
        "      <td> 0</td>\n",
        "      <td> 1</td>\n",
        "      <td> 1</td>\n",
        "    </tr>\n",
        "    <tr>\n",
        "      <td><strong>Fan</strong></td>\n",
        "      <td> 1</td>\n",
        "      <td> 1</td>\n",
        "      <td> 1</td>\n",
        "      <td> 0</td>\n",
        "      <td> 0</td>\n",
        "    </tr>\n",
        "    <tr>\n",
        "      <td><strong>Ming</strong></td>\n",
        "      <td> 2</td>\n",
        "      <td> 2</td>\n",
        "      <td> 2</td>\n",
        "      <td> 0</td>\n",
        "      <td> 0</td>\n",
        "    </tr>\n",
        "    <tr>\n",
        "      <td><strong>Pachi</strong></td>\n",
        "      <td> 5</td>\n",
        "      <td> 5</td>\n",
        "      <td> 5</td>\n",
        "      <td> 0</td>\n",
        "      <td> 0</td>\n",
        "    </tr>\n",
        "    <tr>\n",
        "      <td><strong>Jocelyn</strong></td>\n",
        "      <td> 1</td>\n",
        "      <td> 1</td>\n",
        "      <td> 1</td>\n",
        "      <td> 0</td>\n",
        "      <td> 0</td>\n",
        "    </tr>\n",
        "  </tbody>\n",
        "</table>\n",
        "</div>"
       ],
       "output_type": "pyout",
       "prompt_number": 4,
       "text": [
        "         Dolma  Kebap  Iskender  Fasulye Pilaki  Beyti\n",
        "Ed           0      0         0               2      2\n",
        "Peter        0      0         0               3      3\n",
        "Tracy        0      0         0               1      1\n",
        "Fan          1      1         1               0      0\n",
        "Ming         2      2         2               0      0\n",
        "Pachi        5      5         5               0      0\n",
        "Jocelyn      1      1         1               0      0"
       ]
      }
     ],
     "prompt_number": 4
    },
    {
     "cell_type": "code",
     "collapsed": false,
     "input": [
      "from numpy import linalg as la\n",
      "def euclid(inA,inB):\n",
      "    return 1.0/(1.0 + la.norm(inA - inB))\n",
      "\n",
      "def pearson(inA,inB):\n",
      "    if len(inA) < 3 : return 1.0\n",
      "    return 0.5+0.5*np.corrcoef(inA, inB, rowvar = 0)[0][1]\n",
      "\n",
      "def cos_sim(inA,inB):\n",
      "    num = float(inA.T*inB)\n",
      "    denom = la.norm(inA)*la.norm(inB)\n",
      "    return 0.5+0.5*(num/denom)\n"
     ],
     "language": "python",
     "outputs": [],
     "prompt_number": 1
    },
    {
     "cell_type": "code",
     "collapsed": false,
     "input": [
      "print np.array(data['Dolma'])\n",
      "print np.array(data['Beyti'])\n",
      "print pearson(np.array(data['Dolma']),np.array(data['Beyti']))\n"
     ],
     "language": "python",
     "outputs": [
      {
       "output_type": "stream",
       "stream": "stdout",
       "text": [
        "[0 0 0 1 2 5 1]\n",
        "[2 3 1 0 0 0 0]\n",
        "0.205965381738\n"
       ]
      }
     ],
     "prompt_number": 17
    },
    {
     "cell_type": "code",
     "collapsed": false,
     "input": [
      "data2 = np.array(\n",
      "    [[0, 0, 0, 0, 0, 4, 0, 0, 0, 0, 5],\n",
      "     [0, 0, 0, 3, 0, 4, 0, 0, 0, 0, 3],\n",
      "     [0, 0, 0, 0, 4, 0, 0, 1, 0, 4, 0],\n",
      "     [3, 3, 4, 0, 0, 0, 0, 2, 2, 0, 0],\n",
      "     [5, 4, 5, 0, 0, 0, 0, 5, 5, 0, 0],\n",
      "     [0, 0, 0, 0, 5, 0, 1, 0, 0, 5, 0],\n",
      "     [4, 3, 4, 0, 0, 0, 0, 5, 5, 0, 1],\n",
      "     [0, 0, 0, 4, 0, 4, 0, 0, 0, 0, 4],\n",
      "     [0, 0, 0, 2, 0, 2, 5, 0, 0, 1, 2],\n",
      "     [0, 0, 0, 0, 5, 0, 0, 0, 0, 4, 0],\n",
      "     [1, 0, 0, 0, 0, 0, 0, 1, 2, 0, 0]])\n",
      "\n",
      "U,Sigma,VT=la.svd(data2)\n",
      "Sigma\n"
     ],
     "language": "python",
     "outputs": [
      {
       "output_type": "pyout",
       "prompt_number": 55,
       "text": [
        "array([ 15.77075346,  11.40670395,  11.03044558,   4.84639758,\n",
        "         3.09292055,   2.58097379,   1.00413543,   0.72817072,\n",
        "         0.43800353,   0.22082113,   0.07367823])"
       ]
      }
     ],
     "prompt_number": 55
    },
    {
     "cell_type": "code",
     "collapsed": false,
     "input": [
      "sig2 = sum(Sigma**2)\n",
      "print sum(sig2), sum(sig2)*0.9\n"
     ],
     "language": "python",
     "outputs": [
      {
       "output_type": "stream",
       "stream": "stdout",
       "text": [
        "542.0 487.8\n"
       ]
      }
     ],
     "prompt_number": 56
    },
    {
     "cell_type": "code",
     "collapsed": false,
     "input": [
      "sum(Sig2[:3])\n"
     ],
     "language": "python",
     "outputs": [
      {
       "output_type": "pyout",
       "prompt_number": 71,
       "text": [
        "387.43953785565805"
       ]
      }
     ],
     "prompt_number": 71
    },
    {
     "cell_type": "code",
     "collapsed": false,
     "input": [
      "\n"
     ],
     "language": "python",
     "outputs": [],
     "prompt_number": 69
    },
    {
     "cell_type": "code",
     "collapsed": false,
     "input": [
      "recommend(data2, 1)\n"
     ],
     "language": "python",
     "outputs": [
      {
       "ename": "IndexError",
       "evalue": "tuple index out of range",
       "output_type": "pyerr",
       "traceback": [
        "\u001b[1;31m---------------------------------------------------------------------------\u001b[0m\n\u001b[1;31mIndexError\u001b[0m                                Traceback (most recent call last)",
        "\u001b[1;32m<ipython-input-70-30cba296210e>\u001b[0m in \u001b[0;36m<module>\u001b[1;34m()\u001b[0m\n\u001b[1;32m----> 1\u001b[1;33m \u001b[0mrecommend\u001b[0m\u001b[1;33m(\u001b[0m\u001b[0mdata2\u001b[0m\u001b[1;33m,\u001b[0m \u001b[1;36m1\u001b[0m\u001b[1;33m)\u001b[0m\u001b[1;33m\u001b[0m\u001b[0m\n\u001b[0m",
        "\u001b[1;32m<ipython-input-69-1a63a2b9e3d8>\u001b[0m in \u001b[0;36mrecommend\u001b[1;34m(dataMat, user, N, simMeas, estMethod)\u001b[0m\n\u001b[0;32m     17\u001b[0m \u001b[1;33m\u001b[0m\u001b[0m\n\u001b[0;32m     18\u001b[0m \u001b[1;32mdef\u001b[0m \u001b[0mrecommend\u001b[0m\u001b[1;33m(\u001b[0m\u001b[0mdataMat\u001b[0m\u001b[1;33m,\u001b[0m \u001b[0muser\u001b[0m\u001b[1;33m,\u001b[0m \u001b[0mN\u001b[0m\u001b[1;33m=\u001b[0m\u001b[1;36m3\u001b[0m\u001b[1;33m,\u001b[0m \u001b[0msimMeas\u001b[0m\u001b[1;33m=\u001b[0m\u001b[0mcos_sim\u001b[0m\u001b[1;33m,\u001b[0m \u001b[0mestMethod\u001b[0m\u001b[1;33m=\u001b[0m\u001b[0msvd_est\u001b[0m\u001b[1;33m)\u001b[0m\u001b[1;33m:\u001b[0m\u001b[1;33m\u001b[0m\u001b[0m\n\u001b[1;32m---> 19\u001b[1;33m     \u001b[0munratedItems\u001b[0m \u001b[1;33m=\u001b[0m \u001b[0mnonzero\u001b[0m\u001b[1;33m(\u001b[0m\u001b[0mdataMat\u001b[0m\u001b[1;33m[\u001b[0m\u001b[0muser\u001b[0m\u001b[1;33m,\u001b[0m\u001b[1;33m:\u001b[0m\u001b[1;33m]\u001b[0m\u001b[1;33m.\u001b[0m\u001b[0mT\u001b[0m\u001b[1;33m==\u001b[0m\u001b[1;36m0\u001b[0m\u001b[1;33m)\u001b[0m\u001b[1;33m[\u001b[0m\u001b[1;36m1\u001b[0m\u001b[1;33m]\u001b[0m\u001b[1;31m#find unrated items\u001b[0m\u001b[1;33m\u001b[0m\u001b[0m\n\u001b[0m\u001b[0;32m     20\u001b[0m     \u001b[1;32mif\u001b[0m \u001b[0mlen\u001b[0m\u001b[1;33m(\u001b[0m\u001b[0munratedItems\u001b[0m\u001b[1;33m)\u001b[0m \u001b[1;33m==\u001b[0m \u001b[1;36m0\u001b[0m\u001b[1;33m:\u001b[0m \u001b[1;32mreturn\u001b[0m \u001b[1;34m'you rated everything'\u001b[0m\u001b[1;33m\u001b[0m\u001b[0m\n\u001b[0;32m     21\u001b[0m     \u001b[0mitemScores\u001b[0m \u001b[1;33m=\u001b[0m \u001b[1;33m[\u001b[0m\u001b[1;33m]\u001b[0m\u001b[1;33m\u001b[0m\u001b[0m\n",
        "\u001b[1;31mIndexError\u001b[0m: tuple index out of range"
       ]
      }
     ],
     "prompt_number": 70
    },
    {
     "cell_type": "code",
     "collapsed": false,
     "input": [],
     "language": "python",
     "outputs": []
    }
   ]
  }
 ]
}