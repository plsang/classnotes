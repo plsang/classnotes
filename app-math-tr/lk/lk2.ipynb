{
 "metadata": {
  "name": "lk2"
 },
 "nbformat": 3,
 "nbformat_minor": 0,
 "worksheets": [
  {
   "cells": [
    {
     "cell_type": "markdown",
     "source": [
      "Piksel Takibi, Optik Akis, Lucas Kanade Algoritmasi\n",
      "\n",
      "Hareket halindeki bir kameranin aldigi goruntulerdeki herhangi bir pikseli\n",
      "nasil takip ederiz? \n",
      "\n",
      "Matematiksel olarak temsil etmek gerekirse, zamana gore degisen 2 boyutlu\n",
      "goruntuyu bir fonksiyon olarak dusunelim, ki bu fonksiyonun degerleri\n",
      "ayriksal olarak, imajin ta kendisi. Bir $I(x(t),y(t),t)$ fonksiyonu piksel\n",
      "degerlerini veriyor. Bu fonksiyonda $x,y$ ekran kordinatlarina tekabul\n",
      "ediyor, $t$ ise zaman, $1,2,..$ gibi degerleri indeks degerleri var, mesela\n",
      "$I(100,200,1)$, bize 1. video karesindeki $x=100,y=200$ kordinatlarindaki\n",
      "piksel degerini verecek.\n",
      "\n",
      "$x,y$ degiskenleri parametrize edildi, bir noktayi takip etmek istiyoruz\n",
      "cunku, ve $t$'ye gore bu takip edilen noktanin $x,y$ kordinatlari belli bir\n",
      "gidisat yonunde degisiyor.\n",
      "\n",
      "Su faraziyeyi yaparak takip problemimizi kolaylastirabiliriz. Diyelim ki\n",
      "takip edilen bir nokta, goruldugu her karede ayni piksel rengindedir. Bu\n",
      "cok siradisi bir faraziye degil, resim karelerinden bir araba geciyor\n",
      "mesela, ve bu arabanin uzerindeki piksellerin renkleri, en azindan iki kare\n",
      "arasinda degismiyor. Isik seviyesi, golgede olma, vs. gibi durumlarda biraz\n",
      "degisebilir, fakat basitlestirme amaciyla bu faraziye gecerlidir. \n"
     ]
    },
    {
     "cell_type": "code",
     "collapsed": false,
     "input": [
      "im=imread(\"disp2.png\"); imshow(im)"
     ],
     "language": "python",
     "outputs": [
      {
       "output_type": "pyout",
       "prompt_number": 1,
       "text": [
        "<matplotlib.image.AxesImage at 0xa46cf8c>"
       ]
      },
      {
       "output_type": "display_data",
       "png": "[encoded data removed]",
       "text": [
        "<matplotlib.figure.Figure at 0xa3909ec>"
       ]
      }
     ],
     "prompt_number": 1
    },
    {
     "cell_type": "markdown",
     "source": [
      "\n",
      "Bir diger faraziye, kameralar hareket ettiklerinde alinan iki goruntu\n",
      "arasindaki tum piksellerin yer degisimi genellikle ayni yonde olmasidir. Bu\n",
      "degisim yonunu $<u,v>$ vektoru olarak gorebiliriz, ve bu degiskenler iki\n",
      "goruntu arasindaki degisimde tum pikseller icin ayni olacaktir. Bu da\n",
      "normal, kamerayi alip mesela saga dogru hareket ettiriyoruz, ve goruntudeki\n",
      "tum pikseller sola dogru gidiyorlar.\n"
     ]
    },
    {
     "cell_type": "code",
     "collapsed": false,
     "input": [
      "im=imread(\"disp.png\"); imshow(im)\n"
     ],
     "language": "python",
     "outputs": [
      {
       "output_type": "pyout",
       "prompt_number": 2,
       "text": [
        "<matplotlib.image.AxesImage at 0xa5c5f2c>"
       ]
      },
      {
       "output_type": "display_data",
       "png": "[encoded data removed]",
       "text": [
        "<matplotlib.figure.Figure at 0xa3ac1cc>"
       ]
      }
     ],
     "prompt_number": 2
    },
    {
     "cell_type": "markdown",
     "source": [
      "Tum bunlari modelimizde nasil kullaniriz? \n",
      "\n",
      "Takip edilen nokta her karede ayni renkte ise, su ifade dogru demektir \n",
      "\n",
      "$$ I(x(t),y(t),t) = \\textrm{ sabit } $$\n",
      "\n",
      "Eger bu fonksiyonun zamana gore turevini alirsak\n",
      "\n",
      "$$ \\frac{d \\ I(x(t),y(t),t)}{dt} = 0$$\n",
      "\n",
      "sonucu gelir. Esitligin sagi sifir, cunku bir sabitin turevini aldik. Sol\n",
      "tarafa Zincirleme Kanununu uygularsak, \n",
      "\n",
      "$$ \\frac{\\partial I}{\\partial x}\\frac{dx}{dt} +\n",
      "\\frac{\\partial I}{\\partial y}\\frac{dy}{dt} +\n",
      "\\frac{\\partial I}{\\partial t} = 0\n",
      "$$\n",
      "\n",
      "Bu formulde $dx/dt$ ve $dy/dt$, hareket halindeki (zaman gecerken) noktanin\n",
      "sonsuz kucuklukteki yer degimi. Ayriksal baglamda arka arkaya iki kare\n",
      "icindeki yer degisimi. O zaman,\n",
      "\n",
      "$$ \\frac{dx}{dt}, \\frac{dy}{dt} = u, v $$\n",
      "\n",
      "Alttakiler ise mesafesel (spatial) gradyanlardir, bunlarin nasil\n",
      "hesaplanacagini cok iyi biliyoruz! \n",
      "\n",
      "$$ \n",
      "\\frac{\\partial I}{\\partial x}, \\frac{\\partial I}{\\partial y}\n",
      " $$\n",
      "\n",
      "Alttaki ise resim karelerinin zamana gore turevidir.\n",
      "\n",
      "$$ \n",
      "\\frac{\\partial I}{\\partial t}\n",
      " $$\n",
      "\n",
      "Daha derli toplu olarak gostermek gerekirse ana formul nihai olarak soyle\n",
      "\n",
      "$$ I_x u + I_y v + I_t = 0 $$\n",
      "\n",
      "ya da\n",
      "\n",
      "$$ \n",
      "\\nabla I \\cdot <u, v> = -I_t\n",
      " $$\n",
      "\n",
      "Simdi $u,v$'nin hesaplanmasina gelelim. Ustteki formulu bir veri noktasi\n",
      "icin yazmak yeterli degil. Ama bu formulu hem takip ettigimiz, hem de onun\n",
      "etrafindaki pikseller icin yazarsak (onlarin yer degisimi de ayni degil\n",
      "mi?), ve bu sistemi cozersek, sonuca varabiliriz. \n",
      "\n",
      "Iki tane bilinmeyenimiz var, ama boylece pek cok formul elde\n",
      "ediyoruz. Veriler gurultulu oldugu icin, aslinda bilinmeyenden \"daha\n",
      "fazla\" formul elde etmek iyi, bu tur denklem sistemlerina \"cok esitlige\n",
      "sahip (overdetermined)\" denir, ve boyle tur sistemler En Az Kareler (Least\n",
      "Squares) ile cozulur. Tum bunlari biraraya koyunca su ortaya cikar.\n",
      "\n",
      "$$ \n",
      "\\left[\\begin{array}{cc}\n",
      "I_x(p_1) & I_y(p_1) \\\\\n",
      "I_x(p_2) & I_y(p_1) \\\\\n",
      "\\vdots & \\vdots \\\\\n",
      "I_x(p_k) & I_y(p_k) \n",
      "\\end{array}\\right]\n",
      "\\left[\\begin{array}{r}\n",
      "u \\\\\n",
      "v\n",
      "\\end{array}\\right] = \n",
      "-\n",
      "\\left[\\begin{array}{c}\n",
      "I_t(p_1) \\\\\n",
      "I_t(p_2) \\\\\n",
      "\\vdots \\\\\n",
      "I_t(p_k) \n",
      "\\end{array}\\right]\n",
      " $$\n",
      "\n",
      "Gradyanlarin belli noktalarda hesaplandigini unutmayalim, o sebeple $p_1,\n",
      "p_2$ gibi piksel noktalarini bu fonksiyonlara geciyoruz. \n",
      "\n",
      "Bu sistemi\n",
      "\n",
      "$$ A \\ d = b $$\n",
      "\n",
      "olarak gosterebiliriz, ki $d = <u,v>$. Sol tarafi $A^T$ ile carpalim\n",
      "\n",
      "$$ A^TA \\ d = A^Tb $$\n",
      "\n",
      "Eger $A^TA$'nin matris tersini iki tarafla carparsak, $d$ yanliz kalir, ve\n",
      "sonuc elde edilir. \n",
      "\n",
      "Bu denklemi Python Numpy'da <code>pinv</code> kullanarak cozeriz.\n",
      "\n",
      "Test icin uc tane resim kullandik, bu resimlerden\n",
      "<code>flow1-bw-0.png</code> baslangic resmi, bu resmin ortasindaki\n",
      "objeleri GIMP kullanarak elle kopyaladik, bir ust sag capraza dogru,\n",
      "bir alt sol capraza dogru, ve iki yeni resim elde ettik\n",
      "(<code>upright.png</code>, <code>dleft.png</code>). Takip edilen nokta\n",
      "gri dortgenin alt sol kosesinde. Lucas Kanade algoritmasi bu noktayi\n",
      "takip ederek, yesil ile isaretledi."
     ]
    },
    {
     "cell_type": "code",
     "collapsed": false,
     "input": [
      "def gauss_kern():\n",
      "    h1 = 15\n",
      "    h2 = 15\n",
      "    x, y = np.mgrid[0:h2, 0:h1]\n",
      "    x = x-h2/2\n",
      "    y = y-h1/2\n",
      "    sigma = 1.5\n",
      "    g = np.exp( -( x**2 + y**2 ) / (2*sigma**2) );\n",
      "    return g / g.sum()\n",
      "\n",
      "def deriv(im1, im2):\n",
      "    g = gauss_kern()\n",
      "    Img_smooth = si.convolve(im1,g,mode='same')\n",
      "    fx,fy=np.gradient(Img_smooth)    \n",
      "    ft = si.convolve2d(im1, 0.25 * np.ones((2,2))) + \\\n",
      "        si.convolve2d(im2, -0.25 * np.ones((2,2)))\n",
      "                    \n",
      "    fx = fx[0:fx.shape[0]-1, 0:fx.shape[1]-1]    \n",
      "    fy = fy[0:fy.shape[0]-1, 0:fy.shape[1]-1];\n",
      "    ft = ft[0:ft.shape[0]-1, 0:ft.shape[1]-1];\n",
      "    return fx, fy, ft\n",
      "\n",
      "im1 = np.asarray(Image.open('flow1-bw-0.png'))\n",
      "im2 = np.asarray(Image.open(\"upright.png\"))\n",
      "fx, fy, ft = deriv(im1, im2)\n",
      "fx[:5]"
     ],
     "language": "python",
     "outputs": [
      {
       "output_type": "pyout",
       "prompt_number": 14,
       "text": [
        "array([[ 34.37477011,  45.94010835,  51.877951  , ...,  53.83264716,\n",
        "         51.877951  ,  45.94010835],\n",
        "       [ 26.01168277,  34.76327322,  39.25648957, ...,  40.73562489,\n",
        "         39.25648957,  34.76327322],\n",
        "       [ 11.72919465,  15.67546405,  17.70154632, ...,  18.36851839,\n",
        "         17.70154632,  15.67546405],\n",
        "       [  3.51803959,   4.70167857,   5.30937909, ...,   5.50942984,\n",
        "          5.30937909,   4.70167857],\n",
        "       [  0.6961225 ,   0.93033183,   1.05057892, ...,   1.09016341,\n",
        "          1.05057892,   0.93033183]])"
       ]
      }
     ],
     "prompt_number": 14
    },
    {
     "cell_type": "code",
     "collapsed": false,
     "input": [
      "import numpy as np\n",
      "import scipy.signal as si\n",
      "from PIL import Image\n",
      "import numpy.linalg as lin\n",
      "\n",
      "def lk(im1, im2, i, j, window_size) :\n",
      "    fx, fy, ft = deriv(im1, im2)\n",
      "    halfWindow = np.floor(window_size/2)\n",
      "    curFx = fx[i-halfWindow-1:i+halfWindow, \n",
      "               j-halfWindow-1:j+halfWindow]\n",
      "    curFy = fy[i-halfWindow-1:i+halfWindow, \n",
      "               j-halfWindow-1:j+halfWindow]\n",
      "    curFt = ft[i-halfWindow-1:i+halfWindow, \n",
      "               j-halfWindow-1:j+halfWindow]\n",
      "    curFx = curFx.T\n",
      "    curFy = curFy.T\n",
      "    curFt = curFt.T\n",
      "\n",
      "    curFx = curFx.flatten(order='F') \n",
      "    curFy = curFy.flatten(order='F') \n",
      "    curFt = -curFt.flatten(order='F') \n",
      "    \n",
      "    A = np.vstack((curFx, curFy)).T\n",
      "    U = np.dot(np.dot(lin.pinv(np.dot(A.T,A)),A.T),curFt)\n",
      "    return U[0], U[1]\n",
      "\n",
      "def test(image1,image2):        \n",
      "    x=165\n",
      "    y=95\n",
      "    win=50\n",
      "    im1 = np.asarray(Image.open(image1))\n",
      "    im2 = np.asarray(Image.open(image2))\n",
      "    u, v = lk(im1, im2, x, y, win)\n",
      "    plt.imshow(im1, cmap='gray')\n",
      "    plt.hold(True)\n",
      "    plt.plot(x,y,'+r');\n",
      "    # 3 ile carptik cunku vektor degisimi iyi hesaplandi ama\n",
      "    # grafikleme icin cok ufakti, ikinci yesil nokta iyi gozuksun\n",
      "    # diye onu biraz buyuttuk\n",
      "    plt.plot(x+u*3,y+v*3,'og')\n",
      "\n",
      "test(\"flow1-bw-0.png\",\"dleft.png\")\n"
     ],
     "language": "python",
     "outputs": [
      {
       "output_type": "display_data",
       "png": "[encoded data removed]",
       "text": [
        "<matplotlib.figure.Figure at 0xb085aac>"
       ]
      }
     ],
     "prompt_number": 15
    },
    {
     "cell_type": "code",
     "collapsed": false,
     "input": [
      "test(\"flow1-bw-0.png\",\"upright.png\")\n"
     ],
     "language": "python",
     "outputs": [
      {
       "output_type": "display_data",
       "png": "[encoded data removed]",
       "text": [
        "<matplotlib.figure.Figure at 0xae4b82c>"
       ]
      }
     ],
     "prompt_number": 16
    },
    {
     "cell_type": "markdown",
     "source": [
      "Not\n",
      "\n",
      "Bu matematiksel modele alternatif bir bakis soyle olabilir. Iki imaj karesi\n",
      "icinde birincisine $I(x,y)$ ikincisine $H(x,y)$ diyelim, burada $t$\n",
      "uzerinden parametrizasyon olmasin; $x,y$ pikselinin $H$ icinde $u,v$ kadar\n",
      "yer degisiminden sonra, bu noktalarin $I$'de geldigi yerdeki grilik degerinin\n",
      "ayni oldugunu (yine) farzediyoruz. Sonra $I(x+u,y+v)$'nin birinci\n",
      "dereceden Taylor Acilimini yapiyoruz, \n",
      "\n",
      "$$ I(x+u,y+v) = I(x,y) + \\frac{\\partial I}{\\partial x}u + \n",
      "\\frac{\\partial I}{\\partial y}v + ...\n",
      "$$\n",
      "\n",
      "ya da\n",
      "\n",
      "$$ I(x+u,y+v) \\approx I(x,y) + \\frac{\\partial I}{\\partial x}u + \n",
      "\\frac{\\partial I}{\\partial y}v \n",
      "$$\n",
      "\n",
      "Grilik ayniligini ise soyle belirtebiliriz\n",
      "\n",
      "$$  I(x+u,y+v) - H(x,y) = 0$$\n",
      "\n",
      "Taylor acilini ustteki formulde $I$ yerine gecirelim\n",
      "\n",
      "$$ I(x,y) + \n",
      "\\frac{\\partial I}{\\partial x}u + \n",
      "\\frac{\\partial I}{\\partial y}v - H(x,y) = 0\n",
      "$$\n",
      "\n",
      "$H$'in yerini degistirelim\n",
      "\n",
      "$$ I(x,y)  - H(x,y) + I_xu + I_yv = 0$$\n",
      "\n",
      "Su ifade $I(x,y) - H(x,y)$ nedir? Bunlar iki imajin, sonrasi ve oncesi\n",
      "arasindaki fark degil midir?  O zaman bu hesabi imajin zamana gore alinmis\n",
      "turevi olarak gorebiliriz, yani $I_t = I(x,y) - H(x,y)$. Yerine koyalim\n",
      "\n",
      "$$ I_t + I_xu + I_yv = 0$$\n",
      "\n",
      "$$ I_xu + I_yv = -I_t $$\n",
      "\n",
      "Boylece ayni denkleme erismis olduk. Bu aslinda normal, birinci\n",
      "dereceden Taylor acilimi ile tam diferansiyel denklemi (ve Zincirleme\n",
      "Kanununu) birbiriyle cok yakindan alakasi var. \n",
      "\n",
      "Ufak Piksel Degisimleri\n",
      "\n",
      "Konu hakkinda bir nokta daha su; Lucas-Kanade yontemi 1. derece Taylor\n",
      "acilimi kulladigi icin ufak piksel degisimleri icin gecerlidir, cunku\n",
      "Taylor acilimi yerel bir noktaya cok yakin bolgelerde bir fonksiyona\n",
      "yakin sonuclar verir. Bu da aklimizda bulunsun.\n",
      "\n",
      "Kaynaklar\n",
      "\n",
      "R. Collins Ders Notlari, www.cse.psu.edu/~rcollins/CSE486\n",
      "\n",
      "Khurram Hassan-Shafique, CAP 5415 Lecture Notes, Spring 2003\n",
      "\n",
      "http://web.yonsei.ac.kr/jksuhr/articles/Kanade-Lucas-Tomasi%20Tracker.pdf"
     ]
    }
   ]
  }
 ]
}