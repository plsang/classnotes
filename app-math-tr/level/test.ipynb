{
 "metadata": {
  "name": "test"
 },
 "nbformat": 3,
 "nbformat_minor": 0,
 "worksheets": [
  {
   "cells": [
    {
     "cell_type": "code",
     "collapsed": false,
     "input": [
      "import time, sys\n",
      "from IPython.display import clear_output\n",
      "f, ax = plt.subplots()\n",
      "x = range(20)\n",
      "\n",
      "for i in range(10):\n",
      "  y = i/10*sin(x) \n",
      "  ax.plot(x,y)\n",
      "  time.sleep(0.5)\n",
      "  clear_output()\n",
      "  display(f)\n",
      "  ax.cla() \n",
      "plt.close()"
     ],
     "language": "python",
     "outputs": []
    }
   ]
  }
 ]
}