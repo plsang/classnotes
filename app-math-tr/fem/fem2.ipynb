{
 "metadata": {
  "name": "fem2"
 },
 "nbformat": 3,
 "nbformat_minor": 0,
 "worksheets": [
  {
   "cells": [
    {
     "cell_type": "markdown",
     "source": [
      "S\u0131n\u0131rl\u0131 Elementler Metodu (Finite Elements Method)\n",
      "\n",
      "Bu metot differansiyel, kismi differansiyel denklemleri (partial\n",
      "differential equations) yaklasiksal olarak modelleme ve cozmenin\n",
      "yontemleridir.\n",
      "\n",
      "Formul: Baslangic denklemi\n",
      "\n",
      "$$ \\frac{-d}{dx} \\bigg( c(x) \\ \\frac{du}{dx} \\bigg) = f(x) $$\n",
      "\n",
      "Iki tarafi da  $v(x)$ ile carpiyoruz ve 0 to 1 sinirlariyla entegralini aliyoruz.\n",
      "\n",
      "$$ \\int_0^1 \\frac{-d}{dx} \\bigg( c(x) \\ \\frac{du}{dx} \\bigg) v(x)dx = \\int_0^1 f(x)v(x)dx $$\n",
      "\n",
      "Parcali entegral (integration by parts) formulu soyledir:\n",
      "\n",
      "$$ \\int y \\ dz = y  z \\int z \\ dy $$\n",
      "\n",
      "Ana formulun bolumlerini, parcali entegrale gore bolusturursek:\n",
      "\n",
      "$$ dz = \\frac{-d}{dx} \\bigg( c(x) \\ \\frac{du}{dx} \\bigg) dx  $$\n",
      "\n",
      "$$ z = - c(x) \\ \\frac{du}{dx}  $$\n",
      "\n",
      "$$ y = v(x)  $$\n",
      "\n",
      "$$ dy = \\frac{dv}{dx}dx $$\n",
      "\n",
      "Yukarida $dz$ icinde $dx$ ve $\\frac{1}{dx}$ birbirini iptal eder. Parcali\n",
      "entegral formulunun sag tarafina gore yerlerine koyarsak:\n",
      "\n",
      "$$ \\int_0^1 v(x)dx \\frac{-d}{dx} \\bigg( c(x) \\ \\frac{du}{dx} \\bigg) = - [v(x) c(x) \\frac{du}{dx} \\bigg]_{x=0}^{x=1} \\int_0^1 c(x) \\ \\frac{du}{dx} \\frac{dv}{dx}dx $$\n",
      "\n",
      "Ustteki parcali entegral aciliminda sol taraf entegrale sinir\n",
      "degerleri aldiginda, sag taraftaki $yz$ sonucunun ayni sinir\n",
      "degerlerine tabi olduguna dikkat edelim.\n",
      "\n",
      "Differansiyel denklemde sinir kosullari $x=1$ durumunda $c(1)u'(1)=0$,\n",
      "ve $x=0$ durumunda $v(0)=0$ olarak biliniyor. O zaman ustteki\n",
      "denklemin sol tarafinda $x=0$ ve $x=1$ kosullari icin tanimli bolum $0\n",
      "- 0 = 0$ olacaktir ve denklemden atilabilir. Geriye kalanlar\n",
      "\n",
      "$$ \\int_0^1 c(x) \\frac{du}{dx} \\frac{dv}{dx} dx  = \\int_0^1 f(x)v(x)dx $$\n",
      "\n",
      "Bu fonksiyonu Galerkin adli bir matematikci bulmus, \"zayif form (weak\n",
      "form)\" olarak adlandiriliyor.\n",
      "\n",
      "Simdi diyelim ki n tane test fonksiyonu sectik $\\phi_1(x),..,\\phi(n)$\n",
      "ve bu fonksiyonlarin $U_j$ sayilari ile carpiminin toplamini, yani bir\n",
      "tur kombinasyonunu $u(x)$ yerine kullanmaya karar verdik.\n",
      "\n",
      "$$ U(x) = U_1 \\phi_1+ ... + U_n\\phi_n $$\n",
      "\n",
      "O zaman\n",
      "\n",
      "$$ U'(x) = U_1 \\phi_1'+ ... + U_n\\phi_n' $$\n",
      "\n",
      "$$ = \\sum_1^n U_j \\frac{d\\phi_j}{dx} $$\n",
      "\n",
      "Simdi $du / dx$ yerine $U'(x)$ koyarsak\n",
      "\n",
      "$$ \\int_0^1 c(x) \\bigg( \\sum_1^n U_j \\frac{d\\phi_j}{dx}\\bigg)  \\frac{dV_i}{dx} dx  = \\int_0^1 f(x)V_i(x)dx $$\n",
      "\n",
      "Dikkat edelim, $v(x)$ yerine $V_i(x)$ kullandik. Ustteki formul her i icin yeni\n",
      "bir formul \"uretecek\". Niye $V_i$? Zayif formdaki $v(x)$ formulunu de zaten\n",
      "biz uydurmustuk, yani $v(x)$ biz ne istersek o olur. O zaman bu fonksiyonu n\n",
      "tane formul uretmek icin bir numara olarak kullaniliyoruz, n tane formul olunca\n",
      "matrisin n x n elemanini doldurabilecegiz ve cozume erisebilecegiz. Ek not,\n",
      "cogunlukla $V_i(x)$ icin $\\phi_i$ formulleri kullaniliyor. \n",
      "\n",
      "Ayrica formuldeki $U_j$ kismini cekip cikartirsak ve bir vektor icine koyarsak,\n",
      "geri kalanlar bir $K_{ij}$ matrisi icinde tutulabilir. \n",
      "\n",
      "$$ K_{ij} = \\int_0^1 c(x) \\frac{d\\phi_j}{dx} \\frac{dV_i}{dx} dx  $$\n",
      "\n",
      "Sag taraf ayni sekilde i tane formul uretir\n",
      "\n",
      "$$ F_i = \\int_0^1 f(x)V_i(x)dx $$\n",
      "\n",
      "Final formul matrix formunda basit bir sekilde temsil edilebilecektir. \n",
      "\n",
      "$$ KU = F $$\n",
      "\n",
      "Ornek\n",
      "\n",
      "Ornek olarak $-u'' = 1$ denklemini cozelim. Not: Differansiyel\n",
      "denklemlerde sonuc bulmak demek bir \"fonksiyon\" bulmak\n",
      "demektir. Normal cebirsel denklemlerde sonuc bulmak degiskenlerin\n",
      "\"sayisal\" degerini bulmak demektir. Birazdan bulacagimiz sonuc\n",
      "$u(x)$ \"fonksiyonu\" olacak.\n",
      "\n",
      "Eger denklem $-u''=1$ ise o zaman bu formulu ana forma uygun hale\n",
      "getirmek icin $c(x) = 1$ olarak almamiz gerekir. $-u''=1$ denkleminde\n",
      "esitligin sag tarafi 1 olduguna gore $f(x) = 1$ demektir.\n",
      "\n",
      "Artik $\\phi$ fonksiyonlarini secme zamani geldi. Bu fonksiyonlarin\n",
      "\"toplami\" hedefledigimiz fonksiyonu yaklasiksal (approximate) olarak\n",
      "temsil edecek. Ornek olarak secebilecegimiz bir fonksiyon \"sapka\n",
      "fonksiyonu (hat function)\" olarak bilinen ucgen fonksiyonlar\n",
      "olabilir. Alttaki figurde bu fonksiyonlari goruyoruz.\n",
      "\n"
     ]
    },
    {
     "cell_type": "code",
     "collapsed": false,
     "input": [
      "im=imread(\"fem_hat.png\"); imshow(im)"
     ],
     "language": "python",
     "outputs": [
      {
       "output_type": "pyout",
       "prompt_number": 2,
       "text": [
        "<matplotlib.image.AxesImage at 0xb04834c>"
       ]
      },
      {
       "output_type": "display_data",
       "png": "[encoded data removed]",
       "text": [
        "<matplotlib.figure.Figure at 0xaf629ac>"
       ]
      }
     ],
     "prompt_number": 2
    },
    {
     "cell_type": "markdown",
     "source": [
      "Bu figurde x ekseninin h buyuklugundeki parcalara bolundugunu goruyoruz. \n",
      "\n",
      "Entegralleri hesaplayalim\n",
      "\n",
      "$$ F_1 = \\int_0^1 V_1(x)dx $$\n",
      "\n",
      "Daha once $V_1$ ve $\\phi_1$'i ayni kabul ettigimizi belirtmistik. \n",
      "\n",
      "Yukaridaki entegralin aslinda bir alan hesabi yaptigini\n",
      "goruyoruz. Sinirlar $0$ ve $1$ arasinda, ama $2h$ otesinde zaten\n",
      "$\\phi_1$ fonksiyonu yok. $\\phi_1$'in alani nedir? Alan ucgenin alani:\n",
      "Taban carpi yukseklik bolu 2: $2h$, yuksekligi $1$, o zaman alan $(2h\n",
      "\\times 1) / 2 = 1/3$\n",
      "\n",
      "Benzer mantikla bakarsak, $F_2$ ile $F_1$ ayni, yani $1/3$. $F_3$ ise\n",
      "onlarin yarisi, yani $1/6$.\n",
      "\n",
      "$K_{ij}$ nasil hesaplanacak? $c(x) = 1$ oldugu icin formulden\n",
      "cikarilabilir ve $V_1$ ve $\\phi_1$'in ayni olduguna soyledik:\n",
      "\n",
      "$$ K_{ij} = \\int_0^1 c(x) \\frac{d\\phi_j}{dx} \\frac{dV_i}{dx} dx $$\n",
      "\n",
      "$$ K_{11} = \\int_0^1 \\bigg( \\frac{dV_1}{dx} \\bigg) ^2 dx  $$\n",
      "\n",
      "$dV_1/dx$ nedir? Birinci sapka fonksiyonunun turevidir. Bu tureve\n",
      "bakarsak, $0$ ve $h$ arasinda arti egim (slope) $1/h$, $h$ ve $2h$\n",
      "arasinda eksi egim $-1/h$ oluyor. Ama kare aldigimiz icin sonuc ayni,\n",
      "$1/h^2$. O zaman h = 1/3 olduguna gore $1/(1/3)^2$, yani $dV_1/dx =\n",
      "9$.\n",
      "\n",
      "$$ K_{11} = \\int_0^{2/3} 9 dx = 9x \\ \\bigg|_0^{2/3} = (9)(2/3) - 0 = 6 $$\n",
      "\n",
      "$K_{22}$ seklen ayni fonksiyon parcasini temel aldigi icin ayni degere\n",
      "sahip: 6. $K_{33}$ onlarin yarisi, esittir 3.\n",
      "\n",
      "$K_{12}$ farkli egimlerin carpimi anlamina gelir, yani $V_1'$ ile\n",
      "$V_2'$ carpimi olur. Bu iki fonksiyona bakalim, 0 ile h arasinda $V_2$\n",
      "yok, egim 0. Ikisinin de sifir olmadigi, carpimda kullanilabilecek bir\n",
      "egiminin oldugu tek aralik h ve 2h arasi. Burada $V_1' = -3, V_2 = 3$.\n",
      "\n",
      "$$ K_{12} = \\int_{1/3}^{2/3} (3)(-3) dx = -9x \\bigg|_{1/3}^{2/3} = -6 - (-3) = -3 $$\n",
      "\n",
      "Ayni sekilde $K_{23} = -3$. Ama $K_{13} = 0$ cunku hic cakisma yok.\n",
      "\n",
      "Matrisi doldurursak, \n",
      "\n",
      "$$\n",
      "KU = F\n",
      "$$\n",
      "\n",
      "$$\n",
      "\\left[ \\begin{array}{ccc}\n",
      "    6 & -3 & 0 \\\\\n",
      "    -3 & 6 & -3 \\\\\n",
      "    0 & -3 & 3     \n",
      "\\end{array} \\right]\n",
      "\\left[ \\begin{array}{c}\n",
      "    U_1 \\\\\n",
      "    U_2 \\\\\n",
      "    U_3\n",
      "\\end{array} \\right] =\n",
      "\\left[ \\begin{array}{c}\n",
      "    1/3 \\\\\n",
      "    1/3 \\\\\n",
      "    1/6\n",
      "\\end{array} \\right]\n",
      " $$ \n",
      "\n",
      "Python kodu "
     ]
    },
    {
     "cell_type": "code",
     "collapsed": false,
     "input": [
      "\n",
      "import numpy as np\n",
      "K = [[6., -3., 0],\n",
      "     [-3., 6., -3.],\n",
      "     [0., -3., 3.]\n",
      "     ]\n",
      "\n",
      "f = [1./3., 1./3., 1./6.]\n",
      "\n",
      "print np.linalg.solve(K,f)\n"
     ],
     "language": "python",
     "outputs": [
      {
       "output_type": "stream",
       "stream": "stdout",
       "text": [
        "[ 0.27777778  0.44444444  0.5       ]\n"
       ]
      }
     ],
     "prompt_number": 3
    },
    {
     "cell_type": "code",
     "collapsed": false,
     "input": [
      "print 5./18., 4./9., 1./2."
     ],
     "language": "python",
     "outputs": [
      {
       "output_type": "stream",
       "stream": "stdout",
       "text": [
        "0.277777777778 0.444444444444 0.5\n"
       ]
      }
     ],
     "prompt_number": 4
    },
    {
     "cell_type": "markdown",
     "source": [
      "Rapor edilen degerler bu denklemin bilinen cozumu $u(x) = x -\n",
      "\\frac{1}{2}x^2$ ile 0, h, 2h noktalarinda (mesh points) birebir uyum\n",
      "gosterdigini goruyoruz. Yani yaklasiksal olarak differansiyel denklemi\n",
      "cozmeyi basardik.\n",
      "\n",
      "Kaynaklar\n",
      "\n",
      "Strang, G., Computational Science and Engineering, 2007\n",
      "\n"
     ]
    }
   ]
  }
 ]
}