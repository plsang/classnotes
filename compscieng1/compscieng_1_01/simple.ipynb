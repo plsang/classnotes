{
 "metadata": {
  "name": "simple"
 },
 "nbformat": 3,
 "nbformat_minor": 0,
 "worksheets": [
  {
   "cells": [
    {
     "cell_type": "code",
     "collapsed": false,
     "input": [
      "from visual import *\n",
      "\n",
      "floor = box (pos=(0,0,0), length=4, height=0.5, width=4, color=color.blue)\n",
      "ball = sphere (pos=(0,4,0), radius=1, color=color.red)\n",
      "ball.velocity = vector(0,-1,0)\n",
      "dt = 0.01\n",
      "\n",
      "while 1:\n",
      "    rate (100)\n",
      "    ball.pos = ball.pos + ball.velocity*dt\n",
      "    if ball.y < ball.radius:\n",
      "        ball.velocity.y = abs(ball.velocity.y)\n",
      "    else:\n",
      "        ball.velocity.y = ball.velocity.y - 9.8*dt    \n",
      "      "
     ],
     "language": "python",
     "outputs": [
      {
       "output_type": "stream",
       "stream": "stdout",
       "text": [
        "0.0757870502022\n",
        "0.1321094631\n",
        "0.169431503597\n",
        "0.1321094631\n",
        "0.0757870502022\n"
       ]
      }
     ],
     "prompt_number": 1
    },
    {
     "cell_type": "code",
     "collapsed": false,
     "input": [],
     "language": "python",
     "outputs": []
    }
   ]
  }
 ]
}