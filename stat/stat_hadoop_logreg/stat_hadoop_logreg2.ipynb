{
 "metadata": {
  "name": ""
 },
 "nbformat": 3,
 "nbformat_minor": 0,
 "worksheets": [
  {
   "cells": [
    {
     "cell_type": "markdown",
     "metadata": {},
     "source": [
      "#Paralel Lojistik Regresyon, Esle/Indirge\n",
      "\n",
      "Lojistik regresyon kodunu esle-indirge (map-reduce) uzerinden\n",
      "paralelize etmek icin literature [1-7] bakinca, genel yaklasimin\n",
      "makinalara bolunen veri parcalari uzerinde ayri ayri graydan cikisinin\n",
      "(gradient ascent) isletilmesi ve sonuc $\\theta$'larin son bir makinada\n",
      "ortalamasinin alinmasi oldugunu goruruz.\n",
      "\n",
      "Daha onceki *lojistik regresyon* yazimizda iki farkli gradyan cikis\n",
      "algoritmasi gormustuk. Bu algoritmalardan kullanacagimiz daha basit\n",
      "olani, her dongude <code>alpha</code>'yi degistiren versiyon degil tek\n",
      "<code>alpha</code> kullanan, ve kod icinde zar atan degil, veriyi\n",
      "sirayla isleyen. Bunun birkac sebebi var, oncelikle altta gorecegimiz\n",
      "uzere veriyi Hadoop'a vermeden once kendimiz karistiracagiz, yani kod\n",
      "icinde zar atmaya gerek kalmayacak. Ikincisi pek cok makinada islem\n",
      "yapildigi icin tek bir sabit uzerinden azaltma yapmak mumkun degil\n",
      "(fakat her isleyicinin -degismeyen- kendine has / ayri bir sabiti\n",
      "olabilir, bu konuyu ileride isleyebiliriz), bu sebeple ve basitlik\n",
      "amaciyla tek sabitli kod kullanildi. Ayrica artik dongu (iterasyon)\n",
      "yok, yani veri bastan sona bir kez tarandi mi, o makinanin islemi\n",
      "bitecek. Fakat buyuk veri ortaminda (ki zaten onun icin Hadoop\n",
      "kullaniyoruz herhalde) elimizde o kadar cok veri olacak ki bu verinin\n",
      "tamamini isleyince zaten 100,200 kere donguyu isletmek ile ayni etkiyi\n",
      "almis oluyoruz.\n",
      "\n",
      "Ornek veri olarak alttakini urettik,"
     ]
    },
    {
     "cell_type": "code",
     "collapsed": false,
     "input": [
      " from pandas import *\n",
      "mean1 = [10,10]\n",
      "mean2 = [20,20]\n",
      "cov = [[5,0],[0,5]]\n",
      "d1 = DataFrame(np.random.multivariate_normal(mean1,cov,10000))\n",
      "d2 = DataFrame(np.random.multivariate_normal(mean2,cov,10000))\n",
      "d1['labels'] = 1\n",
      "d2['labels'] = 0\n",
      "data = DataFrame(np.vstack((d1,d2)))\n",
      "data.to_csv(\"testSet.txt\",sep='\\t',index=None,header=None)\n"
     ],
     "language": "python",
     "metadata": {},
     "outputs": [],
     "prompt_number": 2
    },
    {
     "cell_type": "code",
     "collapsed": false,
     "input": [
      "plt.plot(d1.ix[:,0],d1.ix[:,1],'b.')\n",
      "plt.hold(True)\n",
      "plt.plot(d2.ix[:,0],d2.ix[:,1],'r.')\n",
      "plt.hold(True)\n",
      "plt.savefig('/tmp/out.png')"
     ],
     "language": "python",
     "metadata": {},
     "outputs": [
      {
       "metadata": {},
       "output_type": "display_data",
       "png": "[encoded data removed]",
       "text": [
        "<matplotlib.figure.Figure at 0x3f38110>"
       ]
      }
     ],
     "prompt_number": 4
    },
    {
     "cell_type": "markdown",
     "metadata": {},
     "source": [
      "Hadoop'u baslatalim,"
     ]
    },
    {
     "cell_type": "code",
     "collapsed": false,
     "input": [
      "!ssh localhost -l hduser $HOME/Downloads/hadoop*/bin/stop-all.sh\n",
      "!ssh localhost -l hduser $HOME/Downloads/hadoop*/bin/start-all.sh\n"
     ],
     "language": "python",
     "metadata": {},
     "outputs": [
      {
       "output_type": "stream",
       "stream": "stdout",
       "text": [
        "no jobtracker to stop\r\n"
       ]
      },
      {
       "output_type": "stream",
       "stream": "stdout",
       "text": [
        "localhost: no tasktracker to stop\r\n"
       ]
      },
      {
       "output_type": "stream",
       "stream": "stdout",
       "text": [
        "no namenode to stop\r\n"
       ]
      },
      {
       "output_type": "stream",
       "stream": "stdout",
       "text": [
        "localhost: no datanode to stop\r\n"
       ]
      },
      {
       "output_type": "stream",
       "stream": "stdout",
       "text": [
        "localhost: no secondarynamenode to stop\r\n"
       ]
      },
      {
       "output_type": "stream",
       "stream": "stdout",
       "text": [
        "starting namenode, logging to /home/burak/Downloads/hadoop-1.2.1/libexec/../logs/hadoop-hduser-namenode-burak-Aspire-S3.out\r\n"
       ]
      },
      {
       "output_type": "stream",
       "stream": "stdout",
       "text": [
        "localhost: starting datanode, logging to /home/burak/Downloads/hadoop-1.2.1/libexec/../logs/hadoop-hduser-datanode-burak-Aspire-S3.out\r\n"
       ]
      },
      {
       "output_type": "stream",
       "stream": "stdout",
       "text": [
        "localhost: starting secondarynamenode, logging to /home/burak/Downloads/hadoop-1.2.1/libexec/../logs/hadoop-hduser-secondarynamenode-burak-Aspire-S3.out\r\n"
       ]
      },
      {
       "output_type": "stream",
       "stream": "stdout",
       "text": [
        "starting jobtracker, logging to /home/burak/Downloads/hadoop-1.2.1/libexec/../logs/hadoop-hduser-jobtracker-burak-Aspire-S3.out\r\n"
       ]
      },
      {
       "output_type": "stream",
       "stream": "stdout",
       "text": [
        "localhost: starting tasktracker, logging to /home/burak/Downloads/hadoop-1.2.1/libexec/../logs/hadoop-hduser-tasktracker-burak-Aspire-S3.out\r\n"
       ]
      }
     ],
     "prompt_number": 37
    },
    {
     "cell_type": "markdown",
     "metadata": {},
     "source": [
      "Altta veriyi isletmeden once kendimiz karistiriyoruz,\n"
     ]
    },
    {
     "cell_type": "code",
     "collapsed": false,
     "input": [
      "!sort --random-sort testSet.txt > /tmp/testSet1.txt\n"
     ],
     "language": "python",
     "metadata": {},
     "outputs": [],
     "prompt_number": 4
    },
    {
     "cell_type": "code",
     "collapsed": false,
     "input": [
      "print open(\"logreg.py\").read()"
     ],
     "language": "python",
     "metadata": {},
     "outputs": [
      {
       "output_type": "stream",
       "stream": "stdout",
       "text": [
        "'''\n",
        "Logistic regression for map/reduce written for MRJob,\n",
        "uses stochastic gradient descent.\n",
        "'''\n",
        "from mrjob.job import MRJob\n",
        "from mrjob.protocol import PickleProtocol\n",
        "import numpy as np\n",
        "import os, thread\n",
        "\n",
        "class MRLogisticRegression(MRJob):\n",
        "    INTERNAL_PROTOCOL = PickleProtocol\n",
        "    \n",
        "    def __init__(self, *args, **kwargs):\n",
        "        super(MRLogisticRegression, self).__init__(*args, **kwargs)\n",
        "        self.n  = 1\n",
        "        self.m = 3\n",
        "        self.count = 0\n",
        "        self.theta = np.ones((self.m,1))\n",
        "        self.final_theta = np.zeros((self.m,self.n))\n",
        "\n",
        "    def sigmoid(self, arr):\n",
        "        return 1.0/(1+np.exp(-arr))\n",
        "\n",
        "    def stoc_grad_ascent0(self, data_mat, label, theta):\n",
        "        alpha = 0.01\n",
        "        h = self.sigmoid(np.dot(data_mat,theta))\n",
        "        theta = theta.T + (alpha * data_mat * (label - h))\n",
        "        theta = theta.reshape((self.m,self.n))\n",
        "        return theta\n",
        "        \n",
        "    def mapper(self, key, line):        \n",
        "        tokens = map(np.float,line.split('\\t'))\n",
        "        data = np.append(1.0,np.array(tokens[:-1]))\n",
        "        label = np.array(tokens[-1])\n",
        "        self.theta = self.stoc_grad_ascent0(data, label, self.theta)\n",
        "        \n",
        "    def mapper_final(self):        \n",
        "        yield (\"key1\", self.theta)\n",
        "                \n",
        "    def reducer(self, key, tokens):\n",
        "        for val in tokens:\n",
        "            self.final_theta += val\n",
        "            self.count += 1\n",
        "        yield('result',str(self.final_theta / self.count))\n",
        "        \n",
        "if __name__ == '__main__':\n",
        "    MRLogisticRegression.run()\n",
        "    \n",
        "\n"
       ]
      }
     ],
     "prompt_number": 1
    },
    {
     "cell_type": "markdown",
     "metadata": {},
     "source": [
      "Ustte esleyici icinde tek bir tane anahtar uretiyoruz, tum makinalarda\n",
      "tum esleyiciler ayni anahtari, bir kez uretiyor olacaklar.  Bunun\n",
      "sebebi nedir? Ne yapmaya calistigimizi hatirlayalim, tum makinalarda\n",
      "lojistik regresyon isletiyoruz, gradyan cikisi yapiyoruz, ve sonucta o\n",
      "makinanin isi bitince elimizde tek bir tane agirlik vektoru yani\n",
      "<code>theta</code> olacak. Ilgilendigimiz sonuc bu, o yuzden cikti\n",
      "<code>stdout</code>'a tek bir satir yaziliyor. Peki niye ayni anahtar?\n",
      "Cunku her makinadaki tum agirlik vektorlerinin \"hep beraber\" bir\n",
      "noktada ortalamasinin alinmasini istiyoruz, bunu Hadoop'a yaptirmanin\n",
      "bir yolu herkese ayni anahtari kullandirtmak, boylece bu anahtarlar\n",
      "tek bir indirgeyiciye (ve makinaya) gidecek, ve orada ortalamalari\n",
      "alinacak. Tum esleyicilerin sonucunun tek bir indirgeciye gitmesi\n",
      "performans problemi cikartmaz mi? Cikmaz, cunku 1000 tane, 10000 tane\n",
      "esleyici paralel is yapmis olabilir, ama isleri bitince elimizde\n",
      "1000,10000 tane agirlik vektoru olacak, ve bu zaten tek makinanin\n",
      "rahatlikla basa cikabilecegi bir yuktur.\n",
      "\n",
      "Bu yaklasim, esleyicinin her veri satiri basina bir ya da daha fazla\n",
      "anahtar-deger satiri urettigi yaklasimdan (mesela klasik kelime sayma\n",
      "problemi) biraz farkli, o sebeple bu farkliligi belirtmek istedik.\n",
      "\n",
      "Bir puf nokta, her veri satiri icin isletilen map'e de aslinda anahtar\n",
      "urettirmiyoruz, tum map cagrilari bittikten sonra son bir kez\n",
      "cagirilacak map_final'a bu isi yaptiriyoruz. Oraya gelinceye kadar\n",
      "(<code>map</code> icinde) degisen <code>theta</code>'yi surekli\n",
      "hafizada tutmusuz, son noktaya gelince o sonucu ayni anahtar ile\n",
      "esleyerek uretiyoruz ve is bitiyor.\n",
      "\n",
      "Komut satirindan isletelim:"
     ]
    },
    {
     "cell_type": "code",
     "collapsed": false,
     "input": [
      "!python $HOME/Documents/classnotes/stat/stat_hadoop_logreg/logreg.py /tmp/testSet1.txt\n"
     ],
     "language": "python",
     "metadata": {},
     "outputs": [
      {
       "output_type": "stream",
       "stream": "stdout",
       "text": [
        "using configs in /home/burak/.mrjob.conf\r\n",
        "creating tmp directory /tmp/logreg.burak.20130817.060556.092720\r\n",
        "writing to step-0-mapper_part-00000\r\n"
       ]
      },
      {
       "output_type": "stream",
       "stream": "stdout",
       "text": [
        "Counters from step 1:\r\n",
        "  (no counters found)\r\n",
        "writing to /tmp/logreg.burak.20130817.060556.092720/step-0-mapper-sorted\r\n",
        "> sort /tmp/logreg.burak.20130817.060556.092720/step-0-mapper_part-00000\r\n",
        "writing to step-0-reducer_part-00000\r\n",
        "Counters from step 1:\r\n",
        "  (no counters found)\r\n",
        "Moving /tmp/logreg.burak.20130817.060556.092720/step-0-reducer_part-00000 -> /tmp/logreg.burak.20130817.060556.092720/output/part-00000\r\n",
        "Streaming final output from /tmp/logreg.burak.20130817.060556.092720/output\r\n",
        "\"result\"\t\"[[ 9.50829527]\\n [-0.36317422]\\n [-0.34354905]]\"\r\n",
        "removing tmp directory /tmp/logreg.burak.20130817.060556.092720\r\n"
       ]
      }
     ],
     "prompt_number": 35
    },
    {
     "cell_type": "code",
     "collapsed": false,
     "input": [
      "def plot_theta(theta):\n",
      "    x = np.array(arange(-10.0, 40.0, 0.1))\n",
      "    y = np.array((-theta[0]-theta[1]*x)/theta[2])\n",
      "    plot(x, y)\n",
      "    hold(True)\n",
      "    plot(d1.ix[:,0],d1.ix[:,1],'b.')\n",
      "    hold(True)\n",
      "    plot(d2.ix[:,0],d2.ix[:,1],'r.')\n",
      "    hold(True)\n",
      "    ylim(0,30)\n",
      "    xlim(0,30)\n",
      "\n",
      "theta = [9.50829527,-0.36317422,-0.34354905]\n",
      "plot_theta(theta)"
     ],
     "language": "python",
     "metadata": {},
     "outputs": [
      {
       "output_type": "display_data",
       "png": "[encoded data removed]",
       "text": [
        "<matplotlib.figure.Figure at 0x4447a90>"
       ]
      }
     ],
     "prompt_number": 36
    },
    {
     "cell_type": "markdown",
     "metadata": {},
     "source": [
      "## Hadoop Kullanarak"
     ]
    },
    {
     "cell_type": "markdown",
     "metadata": {},
     "source": [
      "Dosyalari kopyalayalim"
     ]
    },
    {
     "cell_type": "code",
     "collapsed": false,
     "input": [
      "Eger /user adli dizin yoksa, ya da bir dosya ise, onu silip bir dizin olarak\n",
      "tekrar yaratin."
     ],
     "language": "python",
     "metadata": {},
     "outputs": []
    },
    {
     "cell_type": "code",
     "collapsed": false,
     "input": [
      "!ssh localhost -l hduser $HOME/Downloads/hadoop*/bin/hadoop dfs -rmr /user\n",
      "!ssh localhost -l hduser $HOME/Downloads/hadoop*/bin/hadoop dfs -mkdir /user"
     ],
     "language": "python",
     "metadata": {},
     "outputs": []
    },
    {
     "cell_type": "code",
     "collapsed": false,
     "input": [
      "!ssh localhost -l hduser $HOME/Downloads/hadoop*/bin/hadoop dfs -rmr /user/testSet1.txt\n",
      "!ssh localhost -l hduser $HOME/Downloads/hadoop*/bin/hadoop dfs -copyFromLocal /tmp/testSet1.txt /user\n"
     ],
     "language": "python",
     "metadata": {},
     "outputs": [
      {
       "output_type": "stream",
       "stream": "stdout",
       "text": [
        "copyFromLocal: Target /user already exists\r\n"
       ]
      },
      {
       "output_type": "stream",
       "stream": "stdout",
       "text": [
        "rmr: cannot remove /user/testSet1.txt: No such file or directory.\r\n"
       ]
      },
      {
       "output_type": "stream",
       "stream": "stdout",
       "text": [
        "copyFromLocal: Target /user already exists\r\n"
       ]
      }
     ],
     "prompt_number": 2
    },
    {
     "cell_type": "markdown",
     "metadata": {},
     "source": [
      "Iki tane esleyici iki tane indirgeyici olmak uzere Hadoop uzerinden\n",
      "ayni islemi yapalim."
     ]
    },
    {
     "cell_type": "code",
     "collapsed": false,
     "input": [
      "!ssh localhost -l hduser python $HOME/Documents/classnotes/stat/stat_hadoop_logreg/logreg.py hdfs:///user/testSet1.txt -r hadoop --step-num=1 --jobconf mapred.map.tasks=2 --jobconf mapred.reduce.tasks=2\n",
      " "
     ],
     "language": "python",
     "metadata": {},
     "outputs": [
      {
       "output_type": "stream",
       "stream": "stdout",
       "text": [
        "using configs in /home/hduser/.mrjob.conf\r\n",
        "creating tmp directory /tmp/logreg.hduser.20130817.060935.871133\r\n"
       ]
      },
      {
       "output_type": "stream",
       "stream": "stdout",
       "text": [
        "Copying local files into hdfs:///user/hduser/tmp/mrjob/logreg.hduser.20130817.060935.871133/files/\r\n"
       ]
      },
      {
       "output_type": "stream",
       "stream": "stdout",
       "text": [
        "Using Hadoop version 1.2.1\r\n"
       ]
      },
      {
       "output_type": "stream",
       "stream": "stdout",
       "text": [
        "HADOOP: packageJobJar: [/app/hadoop/tmp/hadoop-unjar5290319381457678871/] [] /tmp/streamjob5226598311088374006.jar tmpDir=null\r",
        "\r\n",
        "HADOOP: Loaded the native-hadoop library\r",
        "\r\n",
        "HADOOP: Snappy native library not loaded\r",
        "\r\n",
        "HADOOP: Total input paths to process : 1\r",
        "\r\n",
        "HADOOP: getLocalDirs(): [/app/hadoop/tmp/mapred/local]\r",
        "\r\n",
        "HADOOP: Running job: job_201308170806_0002\r",
        "\r\n",
        "HADOOP: To kill this job, run:\r",
        "\r\n",
        "HADOOP: /home/burak/Downloads/hadoop-1.2.1/libexec/../bin/hadoop job  -Dmapred.job.tracker=localhost:54311 -kill job_201308170806_0002\r",
        "\r\n",
        "HADOOP: Tracking URL: http://localhost:50030/jobdetails.jsp?jobid=job_201308170806_0002\r",
        "\r\n",
        "HADOOP:  map 0%  reduce 0%\r",
        "\r\n",
        "HADOOP:  map 100%  reduce 0%\r",
        "\r\n",
        "HADOOP:  map 100%  reduce 17%\r",
        "\r\n",
        "HADOOP:  map 100%  reduce 33%\r",
        "\r\n",
        "HADOOP:  map 100%  reduce 67%\r",
        "\r\n",
        "HADOOP:  map 100%  reduce 100%\r",
        "\r\n",
        "HADOOP: Job complete: job_201308170806_0002\r",
        "\r\n",
        "HADOOP: Output: hdfs:///user/hduser/tmp/mrjob/logreg.hduser.20130817.060935.871133/output\r",
        "\r\n",
        "Counters from step 1:\r\n",
        "  File Input Format Counters :\r\n",
        "    Bytes Read: 823345\r\n",
        "  File Output Format Counters :\r\n",
        "    Bytes Written: 59\r\n",
        "  FileSystemCounters:\r\n",
        "    FILE_BYTES_READ: 638\r\n",
        "    FILE_BYTES_WRITTEN: 242936\r\n",
        "    HDFS_BYTES_READ: 823531\r\n",
        "    HDFS_BYTES_WRITTEN: 59\r\n",
        "  Job Counters :\r\n",
        "    Data-local map tasks: 2\r\n",
        "    Launched map tasks: 2\r\n",
        "    Launched reduce tasks: 2\r\n",
        "    SLOTS_MILLIS_MAPS: 10130\r\n",
        "    SLOTS_MILLIS_REDUCES: 19695\r\n",
        "    Total time spent by all maps waiting after reserving slots (ms): 0\r\n",
        "    Total time spent by all reduces waiting after reserving slots (ms): 0\r\n",
        "  Map-Reduce Framework:\r\n",
        "    CPU time spent (ms): 3870\r\n",
        "    Combine input records: 0\r\n",
        "    Combine output records: 0\r\n",
        "    Map input bytes: 819298\r\n",
        "    Map input records: 20000\r\n",
        "    Map output bytes: 618\r\n",
        "    Map output materialized bytes: 650\r\n",
        "    Map output records: 2\r\n",
        "    Physical memory (bytes) snapshot: 579891200\r\n",
        "    Reduce input groups: 1\r\n",
        "    Reduce input records: 2\r\n",
        "    Reduce output records: 1\r\n",
        "    Reduce shuffle bytes: 650\r\n",
        "    SPLIT_RAW_BYTES: 186\r\n",
        "    Spilled Records: 4\r\n",
        "    Total committed heap usage (bytes): 435814400\r\n",
        "    Virtual memory (bytes) snapshot: 4310802432\r\n",
        "Streaming final output from hdfs:///user/hduser/tmp/mrjob/logreg.hduser.20130817.060935.871133/output\r\n"
       ]
      },
      {
       "output_type": "stream",
       "stream": "stdout",
       "text": [
        "\"result\"\t\"[[ 7.38405717]\\n [-0.26595013]\\n [-0.26421385]]\"\r\n",
        "removing tmp directory /tmp/logreg.hduser.20130817.060935.871133\r\n",
        "deleting hdfs:///user/hduser/tmp/mrjob/logreg.hduser.20130817.060935.871133 from HDFS\r\n"
       ]
      }
     ],
     "prompt_number": 39
    },
    {
     "cell_type": "code",
     "collapsed": false,
     "input": [
      "theta = [7.38405717,-0.26595013,-0.26421385]\n",
      "plot_theta(theta)"
     ],
     "language": "python",
     "metadata": {},
     "outputs": [
      {
       "output_type": "display_data",
       "png": "[encoded data removed]",
       "text": [
        "<matplotlib.figure.Figure at 0x5131590>"
       ]
      }
     ],
     "prompt_number": 40
    },
    {
     "cell_type": "markdown",
     "metadata": {},
     "source": [
      "Kaynaklar\n",
      "\n",
      "[1] http://alex.smola.org/teaching/berkeley2012/slides/4 Optimization.pdf\n",
      "\n",
      "[2] http://cs.kangwon.ac.kr/\u223cysmoon/courses/2011 1/grad mining/slides/07-2.pdf\n",
      "\n",
      "[3] http://www.slideshare.net/hadoop/modeling-with-hadoop-kdd2011\n",
      "\n",
      "[4] http://www.xmarks.com/site/www.cs.stanford.edu/people/ang/papers/nips06-mapreducemulticore.pdf\n",
      "\n",
      "[5] http://books.nips.cc/papersnips23/NIPS2010 1162.pdf\n",
      "\n",
      "[6] http://simianer.de/P12-1002-slides.pdf\n",
      "\n",
      "[7] http://www.holehouse.org/mlclass/17 Large Scale Machine Learning.html\n",
      "\n",
      "[8] https://github.com/elsevierlabs/logistic-regression-sgd-mapreduce\n"
     ]
    }
   ],
   "metadata": {}
  }
 ]
}