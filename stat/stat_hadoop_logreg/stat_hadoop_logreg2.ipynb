{
 "metadata": {
  "name": "stat_hadoop_logreg2"
 },
 "nbformat": 3,
 "nbformat_minor": 0,
 "worksheets": [
  {
   "cells": [
    {
     "cell_type": "markdown",
     "source": [
      "Paralel Lojistik Regresyon, Esle/Indirge\n",
      "\n",
      "Lojistik regresyon kodunu esle-indirge (map-reduce) uzerinden\n",
      "paralelize etmek icin literature [1-7] bakinca, genel yaklasimin\n",
      "makinalara bolunen veri parcalari uzerinde ayri ayri graydan cikisinin\n",
      "(gradient ascent) isletilmesi ve sonuc $\\theta$'larin son bir makinada\n",
      "ortalamasinin alinmasi oldugunu goruruz.\n",
      "\n",
      "Daha onceki *lojistik regresyon* yazimizda iki farkli gradyan cikis\n",
      "algoritmasi gormustuk. Bu algoritmalardan kullanacagimiz daha basit\n",
      "olani, her dongude <code>alpha</code>'yi degistiren versiyon degil tek\n",
      "<code>alpha</code> kullanan, ve kod icinde zar atan degil, veriyi\n",
      "sirayla isleyen. Bunun birkac sebebi var, oncelikle altta gorecegimiz\n",
      "uzere veriyi Hadoop'a vermeden once kendimiz karistiracagiz, yani kod\n",
      "icinde zar atmaya gerek kalmayacak. Ikincisi pek cok makinada islem\n",
      "yapildigi icin tek bir sabit uzerinden azaltma yapmak mumkun degil\n",
      "(fakat her isleyicinin -degismeyen- kendine has / ayri bir sabiti\n",
      "olabilir, bu konuyu ileride isleyebiliriz), bu sebeple ve basitlik\n",
      "amaciyla tek sabitli kod kullanildi. Ayrica artik dongu (iterasyon)\n",
      "yok, yani veri bastan sona bir kez tarandi mi, o makinanin islemi\n",
      "bitecek. Fakat buyuk veri ortaminda (ki zaten onun icin Hadoop\n",
      "kullaniyoruz herhalde) elimizde o kadar cok veri olacak ki bu verinin\n",
      "tamamini isleyince zaten 100,200 kere donguyu isletmek ile ayni etkiyi\n",
      "almis oluyoruz.\n",
      "\n",
      "Ornek veri olarak alttakini urettik,"
     ]
    },
    {
     "cell_type": "code",
     "collapsed": false,
     "input": [
      "from pandas import *\n",
      "mean1 = [10,10]\n",
      "mean2 = [20,20]\n",
      "cov = [[5,0],[0,5]]\n",
      "d1 = DataFrame(np.random.multivariate_normal(mean1,cov,10000))\n",
      "d2 = DataFrame(np.random.multivariate_normal(mean2,cov,10000))\n",
      "d1['labels'] = 1\n",
      "d2['labels'] = 0\n",
      "data = DataFrame(np.vstack((d1,d2)))\n",
      "data.to_csv(\"testSet.txt\",sep='\\t',index=None,header=None)\n",
      "print data[:4]\n"
     ],
     "language": "python",
     "outputs": [
      {
       "output_type": "stream",
       "stream": "stdout",
       "text": [
        "           0          1  2\n",
        "0   9.939981   8.446521  1\n",
        "1   9.216840   9.631904  1\n",
        "2   7.733496   9.939301  1\n",
        "3  11.315852  10.233196  1\n"
       ]
      }
     ],
     "prompt_number": 17
    },
    {
     "cell_type": "code",
     "collapsed": false,
     "input": [
      "plt.plot(d1.ix[:,0],d1.ix[:,1],'b.')\n",
      "plt.hold(True)\n",
      "plt.plot(d2.ix[:,0],d2.ix[:,1],'r.')\n",
      "plt.hold(True)\n"
     ],
     "language": "python",
     "outputs": [
      {
       "output_type": "display_data",
       "png": "[encoded data removed]"
      }
     ],
     "prompt_number": 2
    },
    {
     "cell_type": "markdown",
     "source": [
      "Hadoop'u baslatalim,"
     ]
    },
    {
     "cell_type": "code",
     "collapsed": false,
     "input": [
      "!ssh localhost -l hduser $HOME/Downloads/hadoop*/bin/stop-all.sh\n",
      "!ssh localhost -l hduser $HOME/Downloads/hadoop*/bin/start-all.sh\n"
     ],
     "language": "python",
     "outputs": [
      {
       "output_type": "stream",
       "stream": "stdout",
       "text": [
        "stopping jobtracker\r\n"
       ]
      },
      {
       "output_type": "stream",
       "stream": "stdout",
       "text": [
        "localhost: stopping tasktracker\r\n"
       ]
      },
      {
       "output_type": "stream",
       "stream": "stdout",
       "text": [
        "stopping namenode\r\n"
       ]
      },
      {
       "output_type": "stream",
       "stream": "stdout",
       "text": [
        "localhost: stopping datanode\r\n"
       ]
      },
      {
       "output_type": "stream",
       "stream": "stdout",
       "text": [
        "localhost: stopping secondarynamenode\r\n"
       ]
      },
      {
       "output_type": "stream",
       "stream": "stdout",
       "text": [
        "starting namenode, logging to /home/bbayramli/Downloads/hadoop-1.2.0/libexec/../logs/hadoop-hduser-namenode-bbayramli-OptiPlex-7010.out\r\n"
       ]
      },
      {
       "output_type": "stream",
       "stream": "stdout",
       "text": [
        "localhost: starting datanode, logging to /home/bbayramli/Downloads/hadoop-1.2.0/libexec/../logs/hadoop-hduser-datanode-bbayramli-OptiPlex-7010.out\r\n"
       ]
      },
      {
       "output_type": "stream",
       "stream": "stdout",
       "text": [
        "localhost: starting secondarynamenode, logging to /home/bbayramli/Downloads/hadoop-1.2.0/libexec/../logs/hadoop-hduser-secondarynamenode-bbayramli-OptiPlex-7010.out\r\n"
       ]
      },
      {
       "output_type": "stream",
       "stream": "stdout",
       "text": [
        "starting jobtracker, logging to /home/bbayramli/Downloads/hadoop-1.2.0/libexec/../logs/hadoop-hduser-jobtracker-bbayramli-OptiPlex-7010.out\r\n"
       ]
      },
      {
       "output_type": "stream",
       "stream": "stdout",
       "text": [
        "localhost: starting tasktracker, logging to /home/bbayramli/Downloads/hadoop-1.2.0/libexec/../logs/hadoop-hduser-tasktracker-bbayramli-OptiPlex-7010.out\r\n"
       ]
      }
     ],
     "prompt_number": 3
    },
    {
     "cell_type": "markdown",
     "source": [
      "Altta veriyi isletmeden once kendimiz karistiriyoruz,\n"
     ]
    },
    {
     "cell_type": "code",
     "collapsed": false,
     "input": [
      "!sort --random-sort testSet.txt > /tmp/testSet1.txt\n"
     ],
     "language": "python",
     "outputs": [],
     "prompt_number": 4
    },
    {
     "cell_type": "code",
     "collapsed": false,
     "input": [
      "print open(\"logreg.py\").read()"
     ],
     "language": "python",
     "outputs": [
      {
       "output_type": "stream",
       "stream": "stdout",
       "text": [
        "'''\n",
        "Logistic regression for map/reduce written for MRJob. \n",
        "'''\n",
        "from mrjob.job import MRJob\n",
        "from mrjob.protocol import PickleProtocol\n",
        "import numpy as np\n",
        "import os, thread\n",
        "\n",
        "class MRLogisticRegression(MRJob):\n",
        "    INTERNAL_PROTOCOL = PickleProtocol\n",
        "    def __init__(self, *args, **kwargs):\n",
        "        super(MRLogisticRegression, self).__init__(*args, **kwargs)\n",
        "        self.n  = 1\n",
        "        self.m = 3\n",
        "        self.theta = 2 * np.ones((self.m,1))\n",
        "\n",
        "    def sigmoid(self, arr):\n",
        "        return 1.0/(1+np.exp(-arr))\n",
        "\n",
        "    def stoc_grad_ascent0(self, data_mat, label, theta):\n",
        "        alpha = 0.002\n",
        "        for j in range(self.m):\n",
        "            h = self.sigmoid(np.dot(data_mat,theta)[0])\n",
        "            theta[j] = theta[j] + alpha * data_mat[j] * (label - h)\n",
        "        return theta\n",
        "        \n",
        "    def mapper(self, key, line):        \n",
        "        tokens = map(np.float,line.split('\\t'))\n",
        "        data = np.append(1.0,np.array(tokens[:-1]))\n",
        "        label = np.array(tokens[-1])\n",
        "        self.theta = self.stoc_grad_ascent0(data, label, self.theta)\n",
        "        \n",
        "    def mapper_final(self):        \n",
        "        yield (\"key1\", self.theta)\n",
        "                \n",
        "    def reducer(self, key, tokens):\n",
        "        theta = None\n",
        "        for val in tokens:\n",
        "            if theta != None: theta = (theta + val) / 2.\n",
        "            else: theta = val.copy()\n",
        "        yield('result',str(theta))\n",
        "        \n",
        "if __name__ == '__main__':\n",
        "    MRLogisticRegression.run()\n",
        "    \n",
        "\n"
       ]
      }
     ],
     "prompt_number": 92
    },
    {
     "cell_type": "markdown",
     "source": [
      "Ustte esleyici icinde tek bir tane anahtar uretiyoruz, tum makinalarda\n",
      "tum esleyiciler ayni anahtari, bir kez uretiyor olacaklar.  Bunun\n",
      "sebebi nedir? Ne yapmaya calistigimizi hatirlayalim, tum makinalarda\n",
      "lojistik regresyon isletiyoruz, gradyan cikisi yapiyoruz, ve sonucta o\n",
      "makinanin isi bitince elimizde tek bir tane agirlik vektoru yani\n",
      "<code>theta</code> olacak. Ilgilendigimiz sonuc bu, o yuzden cikti\n",
      "<code>stdout</code>'a tek bir satir yaziliyor. Peki niye ayni anahtar?\n",
      "Cunku her makinadaki tum agirlik vektorlerinin \"hep beraber\" bir\n",
      "noktada ortalamasinin alinmasini istiyoruz, bunu Hadoop'a yaptirmanin\n",
      "bir yolu herkese ayni anahtari kullandirtmak, boylece bu anahtarlar\n",
      "tek bir indirgeyiciye (ve makinaya) gidecek, ve orada ortalamalari\n",
      "alinacak. Tum esleyicilerin sonucunun tek bir indirgeciye gitmesi\n",
      "performans problemi cikartmaz mi? Cikmaz, cunku 1000 tane, 10000 tane\n",
      "esleyici paralel is yapmis olabilir, ama isleri bitince elimizde\n",
      "1000,10000 tane agirlik vektoru olacak, ve bu zaten tek makinanin\n",
      "rahatlikla basa cikabilecegi bir yuktur.\n",
      "\n",
      "Bu yaklasim, esleyicinin her veri satiri basina bir ya da daha fazla\n",
      "anahtar-deger satiri urettigi yaklasimdan (mesela klasik kelime sayma\n",
      "problemi) biraz farkli, o sebeple bu farkliligi belirtmek istedik.\n",
      "\n",
      "Bir puf nokta, her veri satiri icin isletilen map'e de aslinda anahtar\n",
      "urettirmiyoruz, tum map cagrilari bittikten sonra son bir kez\n",
      "cagirilacak map_final'a bu isi yaptiriyoruz. Oraya gelinceye kadar\n",
      "(<code>map</code> icinde) degisen <code>theta</code>'yi surekli\n",
      "hafizada tutmusuz, son noktaya gelince o sonucu ayni anahtar ile\n",
      "esleyerek uretiyoruz ve is bitiyor.\n",
      "\n",
      "Komut satirindan isletelim:"
     ]
    },
    {
     "cell_type": "code",
     "collapsed": false,
     "input": [
      "!python $HOME/Documents/classnotes/stat/stat_hadoop_logreg/logreg.py /tmp/testSet1.txt"
     ],
     "language": "python",
     "outputs": [
      {
       "output_type": "stream",
       "stream": "stdout",
       "text": [
        "using configs in /home/bbayramli/.mrjob.conf\r\n",
        "creating tmp directory /tmp/logreg.bbayramli.20130815.140526.831346\r\n",
        "writing to step-0-mapper_part-00000\r\n"
       ]
      },
      {
       "output_type": "stream",
       "stream": "stdout",
       "text": [
        "Counters from step 1:\r\n",
        "  (no counters found)\r\n",
        "writing to /tmp/logreg.bbayramli.20130815.140526.831346/step-0-mapper-sorted\r\n",
        "> sort /tmp/logreg.bbayramli.20130815.140526.831346/step-0-mapper_part-00000\r\n",
        "writing to step-0-reducer_part-00000\r\n",
        "Counters from step 1:\r\n",
        "  (no counters found)\r\n",
        "Moving /tmp/logreg.bbayramli.20130815.140526.831346/step-0-reducer_part-00000 -> /tmp/logreg.bbayramli.20130815.140526.831346/output/part-00000\r\n",
        "Streaming final output from /tmp/logreg.bbayramli.20130815.140526.831346/output\r\n",
        "\"result\"\t\"[[ 4.68834021]\\n [-0.22229376]\\n [-0.14592686]]\"\r\n",
        "removing tmp directory /tmp/logreg.bbayramli.20130815.140526.831346\r\n"
       ]
      }
     ],
     "prompt_number": 90
    },
    {
     "cell_type": "code",
     "collapsed": false,
     "input": [
      "def plot_theta(theta):\n",
      "    x = np.array(arange(-10.0, 40.0, 0.1))\n",
      "    y = np.array((-theta[0]-theta[1]*x)/theta[2])\n",
      "    plot(x, y)\n",
      "    hold(True)\n",
      "    plot(d1.ix[:,0],d1.ix[:,1],'b.')\n",
      "    hold(True)\n",
      "    plot(d2.ix[:,0],d2.ix[:,1],'r.')\n",
      "    hold(True)\n",
      "    ylim(0,30)\n",
      "    xlim(0,30)\n",
      "\n",
      "theta = [4.68834021,-0.22229376,-0.14592686]\n",
      "plot_theta(theta)"
     ],
     "language": "python",
     "outputs": [
      {
       "output_type": "display_data",
       "png": "[encoded data removed]"
      }
     ],
     "prompt_number": 91
    },
    {
     "cell_type": "markdown",
     "source": [
      "## Hadoop Kullanarak"
     ]
    },
    {
     "cell_type": "markdown",
     "source": [
      "Dosyalari kopyalayalim"
     ]
    },
    {
     "cell_type": "code",
     "collapsed": false,
     "input": [
      "!ssh localhost -l hduser $HOME/Downloads/hadoop*/bin/hadoop dfs -rmr /user/testSet1.txt\n",
      "!ssh localhost -l hduser $HOME/Downloads/hadoop*/bin/hadoop dfs -copyFromLocal /tmp/testSet1.txt /user\n"
     ],
     "language": "python",
     "outputs": [
      {
       "output_type": "stream",
       "stream": "stdout",
       "text": [
        "Deleted hdfs://localhost:54310/user/testSet1.txt\r\n"
       ]
      }
     ],
     "prompt_number": 4
    },
    {
     "cell_type": "markdown",
     "source": [
      "Iki tane esleyici iki tane indirgeyici olmak uzere Hadoop uzerinden ayni islemi yapalim."
     ]
    },
    {
     "cell_type": "code",
     "collapsed": false,
     "input": [
      "!ssh localhost -l hduser python $HOME/Documents/classnotes/stat/stat_hadoop_logreg/logreg.py hdfs:///user/testSet1.txt -r hadoop --step-num=1 --jobconf mapred.map.tasks=2 --jobconf mapred.reduce.tasks=2\n",
      " "
     ],
     "language": "python",
     "outputs": [
      {
       "output_type": "stream",
       "stream": "stdout",
       "text": [
        "using configs in /home/hduser/.mrjob.conf\r\n"
       ]
      },
      {
       "output_type": "stream",
       "stream": "stdout",
       "text": [
        "creating tmp directory /tmp/logreg.hduser.20130815.140440.933318\r\n"
       ]
      },
      {
       "output_type": "stream",
       "stream": "stdout",
       "text": [
        "Copying local files into hdfs:///user/hduser/tmp/mrjob/logreg.hduser.20130815.140440.933318/files/\r\n"
       ]
      },
      {
       "output_type": "stream",
       "stream": "stdout",
       "text": [
        "Using Hadoop version 1.2.0\r\n"
       ]
      },
      {
       "output_type": "stream",
       "stream": "stdout",
       "text": [
        "HADOOP: packageJobJar: [/app/hadoop/tmp/hadoop-unjar3692979453533294386/] [] /tmp/streamjob2110632520227871316.jar tmpDir=null\r",
        "\r\n",
        "HADOOP: Loaded the native-hadoop library\r",
        "\r\n",
        "HADOOP: Snappy native library not loaded\r",
        "\r\n",
        "HADOOP: Total input paths to process : 1\r",
        "\r\n",
        "HADOOP: getLocalDirs(): [/app/hadoop/tmp/mapred/local]\r",
        "\r\n",
        "HADOOP: Running job: job_201308150952_0019\r",
        "\r\n",
        "HADOOP: To kill this job, run:\r",
        "\r\n",
        "HADOOP: /home/bbayramli/Downloads/hadoop-1.2.0/libexec/../bin/hadoop job  -Dmapred.job.tracker=localhost:54311 -kill job_201308150952_0019\r",
        "\r\n",
        "HADOOP: Tracking URL: http://localhost:50030/jobdetails.jsp?jobid=job_201308150952_0019\r",
        "\r\n",
        "HADOOP:  map 0%  reduce 0%\r",
        "\r\n",
        "HADOOP:  map 100%  reduce 0%\r",
        "\r\n",
        "HADOOP:  map 100%  reduce 17%\r",
        "\r\n",
        "HADOOP:  map 100%  reduce 33%\r",
        "\r\n",
        "HADOOP:  map 100%  reduce 100%\r",
        "\r\n",
        "HADOOP: Job complete: job_201308150952_0019\r",
        "\r\n",
        "HADOOP: Output: hdfs:///user/hduser/tmp/mrjob/logreg.hduser.20130815.140440.933318/output\r",
        "\r\n",
        "Counters from step 1:\r\n",
        "  File Input Format Counters :\r\n",
        "    Bytes Read: 819094\r\n",
        "  File Output Format Counters :\r\n",
        "    Bytes Written: 59\r\n",
        "  FileSystemCounters:\r\n",
        "    FILE_BYTES_READ: 592\r\n",
        "    FILE_BYTES_WRITTEN: 242064\r\n",
        "    HDFS_BYTES_READ: 819280\r\n",
        "    HDFS_BYTES_WRITTEN: 59\r\n",
        "  Job Counters :\r\n",
        "    Data-local map tasks: 2\r\n",
        "    Launched map tasks: 2\r\n",
        "    Launched reduce tasks: 2\r\n",
        "    SLOTS_MILLIS_MAPS: 4639\r\n",
        "    SLOTS_MILLIS_REDUCES: 16112\r\n",
        "    Total time spent by all maps waiting after reserving slots (ms): 0\r\n",
        "    Total time spent by all reduces waiting after reserving slots (ms): 0\r\n",
        "  Map-Reduce Framework:\r\n",
        "    CPU time spent (ms): 2030\r\n",
        "    Combine input records: 0\r\n",
        "    Combine output records: 0\r\n",
        "    Map input bytes: 818987\r\n",
        "    Map input records: 20000\r\n",
        "    Map output bytes: 572\r\n",
        "    Map output materialized bytes: 604\r\n",
        "    Map output records: 2\r\n",
        "    Physical memory (bytes) snapshot: 658411520\r\n",
        "    Reduce input groups: 1\r\n",
        "    Reduce input records: 2\r\n",
        "    Reduce output records: 1\r\n",
        "    Reduce shuffle bytes: 604\r\n",
        "    SPLIT_RAW_BYTES: 186\r\n",
        "    Spilled Records: 4\r\n",
        "    Total committed heap usage (bytes): 803995648\r\n",
        "    Virtual memory (bytes) snapshot: 4361273344\r\n",
        "Streaming final output from hdfs:///user/hduser/tmp/mrjob/logreg.hduser.20130815.140440.933318/output\r\n"
       ]
      },
      {
       "output_type": "stream",
       "stream": "stdout",
       "text": [
        "\"result\"\t\"[[ 3.52332301]\\n [-0.19462609]\\n [-0.08078824]]\"\r\n",
        "removing tmp directory /tmp/logreg.hduser.20130815.140440.933318\r\n",
        "deleting hdfs:///user/hduser/tmp/mrjob/logreg.hduser.20130815.140440.933318 from HDFS\r\n"
       ]
      }
     ],
     "prompt_number": 87
    },
    {
     "cell_type": "code",
     "collapsed": false,
     "input": [
      "theta = [3.52332301,-0.19462609,-0.08078824]\n",
      "plot_theta(theta)"
     ],
     "language": "python",
     "outputs": [
      {
       "output_type": "display_data",
       "png": "[encoded data removed]"
      }
     ],
     "prompt_number": 88
    },
    {
     "cell_type": "markdown",
     "source": [
      "Kaynaklar\n",
      "\n",
      "[1] http://alex.smola.org/teaching/berkeley2012/slides/4 Optimization.pdf\n",
      "\n",
      "[2] http://cs.kangwon.ac.kr/\u223cysmoon/courses/2011 1/grad mining/slides/07-2.pdf\n",
      "\n",
      "[3] http://www.slideshare.net/hadoop/modeling-with-hadoop-kdd2011\n",
      "\n",
      "[4] http://www.xmarks.com/site/www.cs.stanford.edu/people/ang/papers/nips06-mapreducemulticore.pdf\n",
      "\n",
      "[5] http://books.nips.cc/papersnips23/NIPS2010 1162.pdf\n",
      "\n",
      "[6] http://simianer.de/P12-1002-slides.pdf\n",
      "\n",
      "[7] http://www.holehouse.org/mlclass/17 Large Scale Machine Learning.html\n",
      "\n",
      "[8] https://github.com/elsevierlabs/logistic-regression-sgd-mapreduce\n"
     ]
    }
   ]
  }
 ]
}