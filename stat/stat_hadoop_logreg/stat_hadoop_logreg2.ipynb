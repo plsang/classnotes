{
 "metadata": {
  "name": "stat_hadoop_logreg2"
 },
 "nbformat": 3,
 "nbformat_minor": 0,
 "worksheets": [
  {
   "cells": [
    {
     "cell_type": "markdown",
     "source": [
      "Paralel Lojistik Regresyon, Esle/Indirge\n",
      "\n",
      "Lojistik regresyon kodunu esle-indirge (map-reduce) uzerinden\n",
      "paralelize etmek icin literature [1-7] bakinca, genel yaklasimin\n",
      "makinalara bolunen veri parcalari uzerinde ayri ayri graydan cikisinin\n",
      "(gradient ascent) isletilmesi ve sonuc $\\theta$'larin son bir makinada\n",
      "ortalamasinin alinmasi oldugunu goruruz.\n",
      "\n",
      "Daha onceki *lojistik regresyon* yazimizda iki farkli gradyan cikis\n",
      "algoritmasi gormustuk. Bu algoritmalardan kullanacagimiz daha basit\n",
      "olani, her dongude <code>alpha</code>'yi degistiren versiyon degil tek\n",
      "<code>alpha</code> kullanan, ve kod icinde zar atan degil, veriyi\n",
      "sirayla isleyen. Bunun birkac sebebi var, oncelikle altta gorecegimiz\n",
      "uzere veriyi Hadoop'a vermeden once kendimiz karistiracagiz, yani kod\n",
      "icinde zar atmaya gerek kalmayacak. Ikincisi pek cok makinada islem\n",
      "yapildigi icin tek bir sabit uzerinden azaltma yapmak mumkun degil, bu\n",
      "sebeple ve basitlik amaciyla tek sabitli kod kullanildi. Ayrica artik\n",
      "dongu (iterasyon) yok, yani veri bastan sona bir kez tarandi mi, o\n",
      "makinanin islemi bitecek. Fakat buyuk veri ortaminda (ki zaten onun\n",
      "icin Hadoop kullaniyoruz herhalde) elimizde o kadar cok veri olacak ki\n",
      "bu verinin tamamini isleyince zaten 100,200 kere donguyu isletmek ile\n",
      "ayni etkiyi almis oluyoruz.\n",
      "\n",
      "Ornek veri olarak alttakini urettik,"
     ]
    },
    {
     "cell_type": "code",
     "collapsed": false,
     "input": [
      "from pandas import *\n",
      "mean1 = [10,10]\n",
      "mean2 = [20,20]\n",
      "cov = [[5,0],[0,5]]\n",
      "d1 = DataFrame(np.random.multivariate_normal(mean1,cov,10000))\n",
      "d2 = DataFrame(np.random.multivariate_normal(mean2,cov,10000))\n",
      "d1['labels'] = 1\n",
      "d2['labels'] = 0\n",
      "data = DataFrame(np.vstack((d1,d2)))\n",
      "data.to_csv(\"testSet.txt\",sep='\\t',index=None,header=None)\n",
      "print data[:4]\n"
     ],
     "language": "python",
     "outputs": [
      {
       "output_type": "stream",
       "stream": "stdout",
       "text": [
        "           0          1  2\n",
        "0   9.516816   5.255494  1\n",
        "1  11.350791  11.454267  1\n",
        "2  10.522388   7.511706  1\n",
        "3  11.236936   9.654369  1\n"
       ]
      }
     ],
     "prompt_number": 1
    },
    {
     "cell_type": "code",
     "collapsed": false,
     "input": [
      "plt.plot(d1.ix[:,0],d1.ix[:,1],'b.')\n",
      "plt.hold(True)\n",
      "plt.plot(d2.ix[:,0],d2.ix[:,1],'r.')\n",
      "plt.hold(True)\n"
     ],
     "language": "python",
     "outputs": [
      {
       "output_type": "display_data",
       "png": "[encoded data removed]"
      }
     ],
     "prompt_number": 2
    },
    {
     "cell_type": "markdown",
     "source": [
      "Hadoop'u baslatalim,"
     ]
    },
    {
     "cell_type": "code",
     "collapsed": false,
     "input": [
      "!ssh localhost -l hduser $HOME/Downloads/hadoop*/bin/stop-all.sh\n",
      "!ssh localhost -l hduser $HOME/Downloads/hadoop*/bin/start-all.sh\n"
     ],
     "language": "python",
     "outputs": [
      {
       "output_type": "stream",
       "stream": "stdout",
       "text": [
        "stopping jobtracker\r\n"
       ]
      },
      {
       "output_type": "stream",
       "stream": "stdout",
       "text": [
        "localhost: stopping tasktracker\r\n"
       ]
      },
      {
       "output_type": "stream",
       "stream": "stdout",
       "text": [
        "stopping namenode\r\n"
       ]
      },
      {
       "output_type": "stream",
       "stream": "stdout",
       "text": [
        "localhost: stopping datanode\r\n"
       ]
      },
      {
       "output_type": "stream",
       "stream": "stdout",
       "text": [
        "localhost: stopping secondarynamenode\r\n"
       ]
      },
      {
       "output_type": "stream",
       "stream": "stdout",
       "text": [
        "starting namenode, logging to /home/bbayramli/Downloads/hadoop-1.2.0/libexec/../logs/hadoop-hduser-namenode-bbayramli-OptiPlex-7010.out\r\n"
       ]
      },
      {
       "output_type": "stream",
       "stream": "stdout",
       "text": [
        "localhost: starting datanode, logging to /home/bbayramli/Downloads/hadoop-1.2.0/libexec/../logs/hadoop-hduser-datanode-bbayramli-OptiPlex-7010.out\r\n"
       ]
      },
      {
       "output_type": "stream",
       "stream": "stdout",
       "text": [
        "localhost: starting secondarynamenode, logging to /home/bbayramli/Downloads/hadoop-1.2.0/libexec/../logs/hadoop-hduser-secondarynamenode-bbayramli-OptiPlex-7010.out\r\n"
       ]
      },
      {
       "output_type": "stream",
       "stream": "stdout",
       "text": [
        "starting jobtracker, logging to /home/bbayramli/Downloads/hadoop-1.2.0/libexec/../logs/hadoop-hduser-jobtracker-bbayramli-OptiPlex-7010.out\r\n"
       ]
      },
      {
       "output_type": "stream",
       "stream": "stdout",
       "text": [
        "localhost: starting tasktracker, logging to /home/bbayramli/Downloads/hadoop-1.2.0/libexec/../logs/hadoop-hduser-tasktracker-bbayramli-OptiPlex-7010.out\r\n"
       ]
      }
     ],
     "prompt_number": 3
    },
    {
     "cell_type": "markdown",
     "source": [
      "Altta veriyi isletmeden once kendimiz karistiriyoruz,\n"
     ]
    },
    {
     "cell_type": "code",
     "collapsed": false,
     "input": [
      "!sort --random-sort testSet.txt > /tmp/testSet1.txt\n"
     ],
     "language": "python",
     "outputs": [],
     "prompt_number": 4
    },
    {
     "cell_type": "code",
     "collapsed": false,
     "input": [
      "print open(\"logreg.py\").read()"
     ],
     "language": "python",
     "outputs": [
      {
       "output_type": "stream",
       "stream": "stdout",
       "text": [
        "from mrjob.job import MRJob\n",
        "from mrjob.protocol import PickleProtocol\n",
        "import numpy as np\n",
        "\n",
        "def sigmoid(arr):\n",
        "    return 1.0/(1+np.exp(-arr))\n",
        "\n",
        "def stoc_grad_ascent0(data_mat, label, theta):\n",
        "    n  = 1\n",
        "    m = len(data_mat)\n",
        "    alpha = 0.001\n",
        "    for j in range(m):\n",
        "        h = sigmoid(np.dot(data_mat,theta)[0])\n",
        "        theta[j] = theta[j] + alpha * data_mat[j] * (label - h)\n",
        "    return theta\n",
        "\n",
        "class MRLogisticRegression(MRJob):\n",
        "    INTERNAL_PROTOCOL = PickleProtocol\n",
        "    def __init__(self, *args, **kwargs):\n",
        "        super(MRLogisticRegression, self).__init__(*args, **kwargs)\n",
        "        #self.theta = np.ones((3,1))\n",
        "        self.theta = np.array([[1.96503066,-0.11019418,-0.04416265]]).T\n",
        "        \n",
        "    def mapper(self, key, line):        \n",
        "        tokens = map(np.float,line.split('\\t'))\n",
        "        data = np.append(1.0,np.array(tokens[:-1]))\n",
        "        label = np.array(tokens[-1])\n",
        "        theta = stoc_grad_ascent0(data, label, self.theta)\n",
        "        yield ('key1', theta)\n",
        "                \n",
        "    def reducer(self, key, tokens):\n",
        "        theta = None\n",
        "        for val in tokens:\n",
        "            if theta != None: theta = (theta + val) / 2.\n",
        "            else: theta = val.copy()\n",
        "        yield('result',str(theta))\n",
        "\n",
        "if __name__ == '__main__':\n",
        "    MRLogisticRegression.run()\n",
        "    \n",
        "\n"
       ]
      }
     ],
     "prompt_number": 44
    },
    {
     "cell_type": "markdown",
     "source": [
      "Ustte indirgeyici icinde sadece tek bir tane anahtar uretiyoruz, tum\n",
      "makinalarda tum indirgeyiciler ayni anahtari, ve bir kez uretiyor\n",
      "olacaklar.  Bunun sebebi nedir? Ne yapmaya calistigimizi hatirlayalim,\n",
      "tum makinalarda lojistik regresyon isletiyoruz, gradyan cikisi\n",
      "yapiyoruz, ve sonucta o makinanin isi bitince elimizde tek bir tane\n",
      "agirlik vektoru yani <code>theta</code> olacak. Ilgilendigimiz sonuc\n",
      "bu, o yuzden cikti <code>stdout</code>'a tek bir satir yaziliyor. Peki\n",
      "niye ayni anahtar? Cunku her makinadaki tum agirlik vektorlerinin \"hep\n",
      "beraber\" bir noktada ortalamasinin alinmasini istiyoruz, bunu Hadoop'a\n",
      "yaptirmanin bir yolu herkese ayni anahtari kullandirtmak, boylece bu\n",
      "anahtarlar tek bir indirgeyiciye (ve makinaya) gidecek, ve orada\n",
      "ortalamalari alinacak. Tum esleyicilerin sonucunun tek bir indirgeciye\n",
      "gitmesi performans problemi cikartmaz mi? Cikmaz, cunku 1000 tane,\n",
      "10000 tane esleyici paralel is yapmis olabilir, ama isleri bitince\n",
      "elimizde 1000,10000 tane agirlik vektoru olacak, ve bu zaten tek\n",
      "makinanin rahatlikla basa cikabilecegi bir yuktur.\n",
      "\n",
      "Bu yaklasim, esleyicinin her veri satiri basina bir ya da daha fazla\n",
      "anahtar-deger satiri urettigi yaklasimdan (mesela klasik kelime sayma\n",
      "problemi) biraz farkli, o sebeple bu farkliligi belirtmek istedik.\n"
     ]
    },
    {
     "cell_type": "code",
     "collapsed": false,
     "input": [
      "!python $HOME/Documents/classnotes/stat/stat_hadoop_logreg/logreg.py /tmp/testSet1.txt"
     ],
     "language": "python",
     "outputs": [
      {
       "output_type": "stream",
       "stream": "stdout",
       "text": [
        "no configs found; falling back on auto-configuration\r\n",
        "no configs found; falling back on auto-configuration\r\n",
        "creating tmp directory /tmp/logreg.bbayramli.20130815.111642.020768\r\n",
        "writing to step-0-mapper_part-00000\r\n"
       ]
      },
      {
       "output_type": "stream",
       "stream": "stdout",
       "text": [
        "Counters from step 1:\r\n",
        "  (no counters found)\r\n",
        "writing to /tmp/logreg.bbayramli.20130815.111642.020768/step-0-mapper-sorted\r\n",
        "> sort /tmp/logreg.bbayramli.20130815.111642.020768/step-0-mapper_part-00000\r\n"
       ]
      },
      {
       "output_type": "stream",
       "stream": "stdout",
       "text": [
        "writing to step-0-reducer_part-00000\r\n"
       ]
      },
      {
       "output_type": "stream",
       "stream": "stdout",
       "text": [
        "Counters from step 1:\r\n",
        "  (no counters found)\r\n",
        "Moving /tmp/logreg.bbayramli.20130815.111642.020768/step-0-reducer_part-00000 -> /tmp/logreg.bbayramli.20130815.111642.020768/output/part-00000\r\n",
        "Streaming final output from /tmp/logreg.bbayramli.20130815.111642.020768/output\r\n",
        "\"result\"\t\"[[ 3.11981491]\\n [-0.14257528]\\n [-0.09854471]]\"\r\n",
        "removing tmp directory /tmp/logreg.bbayramli.20130815.111642.020768\r\n"
       ]
      }
     ],
     "prompt_number": 50
    },
    {
     "cell_type": "code",
     "collapsed": false,
     "input": [
      "def plot_theta(theta):\n",
      "    x = np.array(arange(-10.0, 40.0, 0.1))\n",
      "    y = np.array((-theta[0]-theta[1]*x)/theta[2])\n",
      "    plot(x, y)\n",
      "    hold(True)\n",
      "    plot(d1.ix[:,0],d1.ix[:,1],'b.')\n",
      "    hold(True)\n",
      "    plot(d2.ix[:,0],d2.ix[:,1],'r.')\n",
      "    hold(True)\n",
      "    ylim(0,30)\n",
      "    xlim(0,30)\n",
      "\n",
      "\n",
      "\n",
      "theta = [3.11981491,-0.14257528,-0.09854471]\n",
      "plot_theta(theta)"
     ],
     "language": "python",
     "outputs": [
      {
       "output_type": "display_data",
       "png": "[encoded data removed]"
      }
     ],
     "prompt_number": 42
    }
   ]
  }
 ]
}