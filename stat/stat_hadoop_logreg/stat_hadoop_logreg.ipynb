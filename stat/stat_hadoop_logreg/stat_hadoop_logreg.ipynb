{
 "metadata": {
  "name": "stat_hadoop_logreg"
 },
 "nbformat": 3,
 "nbformat_minor": 0,
 "worksheets": [
  {
   "cells": [
    {
     "cell_type": "markdown",
     "source": [
      "Paralel Lojistik Regresyon, Hadoop\n"
     ]
    },
    {
     "cell_type": "code",
     "collapsed": false,
     "input": [
      "\n",
      "!ssh localhost -l hduser /home/hduser/Downloads/hadoop*/bin/stop-all.sh\n",
      "!ssh localhost -l hduser /home/hduser/Downloads/hadoop*/bin/start-all.sh\n"
     ],
     "language": "python",
     "outputs": [
      {
       "output_type": "stream",
       "stream": "stdout",
       "text": [
        "no jobtracker to stop\r\n"
       ]
      },
      {
       "output_type": "stream",
       "stream": "stdout",
       "text": [
        "localhost: no tasktracker to stop\r\n"
       ]
      },
      {
       "output_type": "stream",
       "stream": "stdout",
       "text": [
        "no namenode to stop\r\n"
       ]
      },
      {
       "output_type": "stream",
       "stream": "stdout",
       "text": [
        "localhost: no datanode to stop\r\n"
       ]
      },
      {
       "output_type": "stream",
       "stream": "stdout",
       "text": [
        "localhost: no secondarynamenode to stop\r\n"
       ]
      },
      {
       "output_type": "stream",
       "stream": "stdout",
       "text": [
        "starting namenode, logging to /home/hduser/Downloads/hadoop-1.0.4/libexec/../logs/hadoop-hduser-namenode-burak-Aspire-S3.out\r\n"
       ]
      },
      {
       "output_type": "stream",
       "stream": "stdout",
       "text": [
        "localhost: starting datanode, logging to /home/hduser/Downloads/hadoop-1.0.4/libexec/../logs/hadoop-hduser-datanode-burak-Aspire-S3.out\r\n"
       ]
      },
      {
       "output_type": "stream",
       "stream": "stdout",
       "text": [
        "localhost: starting secondarynamenode, logging to /home/hduser/Downloads/hadoop-1.0.4/libexec/../logs/hadoop-hduser-secondarynamenode-burak-Aspire-S3.out\r\n"
       ]
      },
      {
       "output_type": "stream",
       "stream": "stdout",
       "text": [
        "starting jobtracker, logging to /home/hduser/Downloads/hadoop-1.0.4/libexec/../logs/hadoop-hduser-jobtracker-burak-Aspire-S3.out\r\n"
       ]
      },
      {
       "output_type": "stream",
       "stream": "stdout",
       "text": [
        "localhost: starting tasktracker, logging to /home/hduser/Downloads/hadoop-1.0.4/libexec/../logs/hadoop-hduser-tasktracker-burak-Aspire-S3.out\r\n"
       ]
      }
     ],
     "prompt_number": 3
    },
    {
     "cell_type": "code",
     "collapsed": false,
     "input": [
      "!sort --random-sort  testSet.txt > /tmp/testSet.txt"
     ],
     "language": "python",
     "outputs": [],
     "prompt_number": 7
    },
    {
     "cell_type": "code",
     "collapsed": false,
     "input": [
      "!ssh localhost -l hduser /home/hduser/Downloads/hadoop*/bin/hadoop dfs -copyFromLocal /tmp/testSet.txt /user/hduser"
     ],
     "language": "python",
     "outputs": [
      {
       "output_type": "stream",
       "stream": "stdout",
       "text": [
        "copyFromLocal: Target /user/hduser/testSet.txt already exists\r\n"
       ]
      }
     ],
     "prompt_number": 9
    },
    {
     "cell_type": "code",
     "collapsed": false,
     "input": [
      "print open(\"mapper.py\").read()"
     ],
     "language": "python",
     "outputs": [
      {
       "output_type": "stream",
       "stream": "stdout",
       "text": [
        "#!/usr/bin/python\n",
        "import os,sys,itertools\n",
        "import numpy as np\n",
        "from numpy import linalg as la\n",
        "os.environ['MPLCONFIGDIR']='/tmp' \n",
        "import pandas as pd\n",
        "\n",
        "def sigmoid(arr):\n",
        "    return 1.0/(1+np.exp(-arr))\n",
        "\n",
        "def stoc_grad_ascent0(data_mat, label_mat):\n",
        "    m,n = data_mat.shape\n",
        "    label_mat=label_mat.reshape((m,1))\n",
        "    theta = np.ones((n,1))\n",
        "    alpha = 0.001\n",
        "    for i in range(m):\n",
        "        h = sigmoid(np.sum(np.dot(data_mat[i],theta)))\n",
        "        error = label_mat[i] - h\n",
        "        theta = theta + alpha * data_mat[i].reshape((n,1)) * error\n",
        "    return theta\n",
        "\n",
        "data = pd.read_csv(sys.stdin,header=None,sep='\\t')\n",
        "xy = np.array(data.ix[:,0:2]); labels = data.ix[:,2].T\n",
        "theta = np.array(stoc_grad_ascent0(xy,labels))\n",
        "print \"KEY1\\t\" + \",\".join([str(x) for x in theta[:,0]])\n",
        "\n"
       ]
      }
     ],
     "prompt_number": 33
    },
    {
     "cell_type": "code",
     "collapsed": false,
     "input": [
      "print open(\"reducer.py\").read()"
     ],
     "language": "python",
     "outputs": [
      {
       "output_type": "stream",
       "stream": "stdout",
       "text": [
        "#!/usr/bin/python\n",
        "import os,sys,itertools\n",
        "import numpy as np\n",
        "from numpy import linalg as la\n",
        "os.environ['MPLCONFIGDIR']='/tmp' \n",
        "import pandas as pd\n",
        "\n",
        "def new_val(x):\n",
        "    return pd.Series(np.array(str(x).split(\",\"),dtype=np.float64))\n",
        "\n",
        "df = pd.read_csv(sys.stdin,sep=\"\\t\",names=['key','val'])\n",
        "df2 = df['val'].apply(new_val)\n",
        "df3 = df.combine_first(df2)\n",
        "df4 =  df3.groupby('key').mean()\n",
        "df4.to_csv(sys.stdout, sep=',',header=None)\n",
        "\n"
       ]
      }
     ],
     "prompt_number": 35
    },
    {
     "cell_type": "code",
     "collapsed": false,
     "input": [
      "!cp reducer.py /tmp/\n",
      "!chmod a+r /tmp/reducer.py\n",
      "!chmod a+x /tmp/reducer.py\n",
      "!cp mapper.py /tmp/\n",
      "!chmod a+r /tmp/mapper.py\n",
      "!chmod a+x /tmp/mapper.py\n",
      "!ssh localhost -l hduser /home/hduser/Downloads/hadoop*/bin/hadoop dfs -rmr /user/hduser/output\n",
      "!ssh localhost -l hduser /home/hduser/Downloads/hadoop*/bin/hadoop jar /home/hduser/Downloads/hadoop*/contrib/streaming/hadoop-*streaming*.jar -input testSet.txt -output output -mapper /tmp/mapper.py -reducer /tmp/reducer.py -numReduceTasks 1\n"
     ],
     "language": "python",
     "outputs": [
      {
       "output_type": "stream",
       "stream": "stdout",
       "text": [
        "Deleted hdfs://localhost:54310/user/hduser/output\r\n"
       ]
      },
      {
       "output_type": "stream",
       "stream": "stdout",
       "text": [
        "packageJobJar: [/app/hadoop/tmp/hadoop-unjar7560542759929569796/] [] /tmp/streamjob8874117067909848714.jar tmpDir=null\r\n"
       ]
      },
      {
       "output_type": "stream",
       "stream": "stdout",
       "text": [
        "13/03/06 15:17:57 INFO util.NativeCodeLoader: Loaded the native-hadoop library\r\n",
        "13/03/06 15:17:57 WARN snappy.LoadSnappy: Snappy native library not loaded\r\n",
        "13/03/06 15:17:57 INFO mapred.FileInputFormat: Total input paths to process : 1\r\n"
       ]
      },
      {
       "output_type": "stream",
       "stream": "stdout",
       "text": [
        "13/03/06 15:17:58 INFO streaming.StreamJob: getLocalDirs(): [/app/hadoop/tmp/mapred/local]\r\n",
        "13/03/06 15:17:58 INFO streaming.StreamJob: Running job: job_201303061338_0004\r\n",
        "13/03/06 15:17:58 INFO streaming.StreamJob: To kill this job, run:\r\n",
        "13/03/06 15:17:58 INFO streaming.StreamJob: /home/hduser/Downloads/hadoop-1.0.4/libexec/../bin/hadoop job  -Dmapred.job.tracker=localhost:54311 -kill job_201303061338_0004\r\n",
        "13/03/06 15:17:58 INFO streaming.StreamJob: Tracking URL: http://localhost:50030/jobdetails.jsp?jobid=job_201303061338_0004\r\n"
       ]
      },
      {
       "output_type": "stream",
       "stream": "stdout",
       "text": [
        "13/03/06 15:17:59 INFO streaming.StreamJob:  map 0%  reduce 0%\r\n"
       ]
      },
      {
       "output_type": "stream",
       "stream": "stdout",
       "text": [
        "13/03/06 15:18:13 INFO streaming.StreamJob:  map 100%  reduce 0%\r\n"
       ]
      },
      {
       "output_type": "stream",
       "stream": "stdout",
       "text": [
        "13/03/06 15:18:25 INFO streaming.StreamJob:  map 100%  reduce 100%\r\n"
       ]
      },
      {
       "output_type": "stream",
       "stream": "stdout",
       "text": [
        "13/03/06 15:18:31 INFO streaming.StreamJob: Job complete: job_201303061338_0004\r\n",
        "13/03/06 15:18:31 INFO streaming.StreamJob: Output: output\r\n"
       ]
      }
     ],
     "prompt_number": 17
    },
    {
     "cell_type": "code",
     "collapsed": false,
     "input": [
      "!ssh localhost -l hduser /home/hduser/Downloads/hadoop*/bin/hadoop dfs -cat output/part-00000 \n"
     ],
     "language": "python",
     "outputs": [
      {
       "output_type": "stream",
       "stream": "stdout",
       "text": [
        "KEY1,0.99141492752299998,0.74489654758349999,1.00531027465\t\r\n"
       ]
      }
     ],
     "prompt_number": 22
    },
    {
     "cell_type": "code",
     "collapsed": false,
     "input": [
      "from pandas import *\n",
      "data = read_csv(\"testSet.txt\",sep='\\t',names=['x','y','labels'],header=None)\n"
     ],
     "language": "python",
     "outputs": [],
     "prompt_number": 29
    },
    {
     "cell_type": "code",
     "collapsed": false,
     "input": [
      "def plot_theta(theta):\n",
      "    x = np.array(arange(-3.0, 3.0, 0.1))\n",
      "    y = np.array((-theta[0]-theta[1]*x)/theta[2])\n",
      "    plt.plot(x, y)\n",
      "    plt.hold(True)\n",
      "    class0 = data[data['labels']==0]\n",
      "    class1 = data[data['labels']==1]\n",
      "    plt.plot(class0['x'],class0['y'],'b.')\n",
      "    plt.hold(True)\n",
      "    plt.plot(class1['x'],class1['y'],'r.')\n",
      "    plt.hold(True)\n",
      "\n",
      "theta = [2.38604812343,0.952189218643,-0.729782543468]\n",
      "plot_theta(theta)"
     ],
     "language": "python",
     "outputs": [
      {
       "output_type": "display_data",
       "png": "[encoded data removed]",
       "text": [
        "<matplotlib.figure.Figure at 0xacad3cc>"
       ]
      }
     ],
     "prompt_number": 34
    },
    {
     "cell_type": "code",
     "collapsed": false,
     "input": [
      "\n"
     ],
     "language": "python",
     "outputs": []
    }
   ]
  }
 ]
}