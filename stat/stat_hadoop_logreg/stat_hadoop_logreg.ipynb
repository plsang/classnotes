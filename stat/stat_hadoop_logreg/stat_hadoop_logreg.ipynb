{
 "metadata": {
  "name": "stat_hadoop_logreg"
 },
 "nbformat": 3,
 "nbformat_minor": 0,
 "worksheets": [
  {
   "cells": [
    {
     "cell_type": "markdown",
     "source": [
      "Paralel Lojistik Regresyon, Hadoop\n",
      "\n",
      "Lojistik regresyon kodunu esle-indirge (map-reduce) uzerinden\n",
      "paralelize etmek icin literature [1-7] bakinca, genel yaklasimin\n",
      "makinalara bolunen veri parcalari uzerinde ayri ayri grayan cikis\n",
      "(gradient ascent) isletilmesi ve sonuc $\\theta$'larin son bir makinada\n",
      "ortalamasinin alinmasi oldugunu goruruz.\n",
      "\n",
      "Daha onceki *lojistik regresyon* yazimizda iki farkli gradyan cikis\n",
      "algoritmasi gormustuk. Bu algoritmalardan kullanacagimiz daha basit\n",
      "olani, her dongude <code>alpha</code>'yi degistiren, versiyon degil\n",
      "tek <code>alpha</code> kullanan, ve kod icinde zar atan degil, veriyi\n",
      "sirayla isleyen. Bunun birkac sebebi var, oncelikle altta gorecegimiz\n",
      "uzere veriyi Hadoop'a vermeden once kendimiz karistiracagiz, yani kod\n",
      "icinde zar atmaya gerek kalmayacak. Ikincisi pek cok makinada islem\n",
      "yapildigi icin tek bir sabit uzerinden azaltma yapmak mumkun degil, bu\n",
      "sebeple ve basitlik amaciyla tek sabitli kod kullanildi. Ayrica artik\n",
      "dongu (iterasyon) yok, yani veri bastan sona bir kez tarandi mi, o\n",
      "makinanin islemi bitecek. Fakat buyuk veri ortaminda (ki zaten onun\n",
      "icin Hadoop kullaniyoruz herhalde) elimizde o kadar cok veri olacak ki\n",
      "bu verinin tamamini isleyince zaten 100,200 kere donguyu isletmek ile\n",
      "ayni etkiyi almis oluyoruz.\n",
      "\n",
      "Ornek veri olarak alttakini urettik,\n"
     ]
    },
    {
     "cell_type": "code",
     "collapsed": false,
     "input": [
      "from pandas import *"
     ],
     "language": "python",
     "outputs": [],
     "prompt_number": 2
    },
    {
     "cell_type": "code",
     "collapsed": false,
     "input": [
      "mean1 = [10,10]\n",
      "mean2 = [20,20]\n",
      "cov = [[5,0],[0,5]]\n",
      "d1 = DataFrame(np.random.multivariate_normal(mean1,cov,10000))\n",
      "d2 = DataFrame(np.random.multivariate_normal(mean2,cov,10000))\n",
      "d1['labels'] = 1\n",
      "d2['labels'] = 0\n",
      "data = DataFrame(np.vstack((d1,d2)))\n",
      "data.to_csv(\"testSet.txt\",sep='\\t',index=None,header=None)\n",
      "print data[:4]"
     ],
     "language": "python",
     "outputs": [
      {
       "output_type": "stream",
       "stream": "stdout",
       "text": [
        "           0          1  2\n",
        "0   9.897078   9.232074  1\n",
        "1  10.151486  11.126241  1\n",
        "2   9.498804   7.898127  1\n",
        "3   9.912641   9.688876  1\n"
       ]
      }
     ],
     "prompt_number": 3
    },
    {
     "cell_type": "code",
     "collapsed": false,
     "input": [
      "plt.plot(d1.ix[:,0],d1.ix[:,1],'b.')\n",
      "plt.hold(True)\n",
      "plt.plot(d2.ix[:,0],d2.ix[:,1],'r.')\n",
      "plt.hold(True)\n"
     ],
     "language": "python",
     "outputs": [
      {
       "output_type": "display_data",
       "png": "[encoded data removed]",
       "text": [
        "<matplotlib.figure.Figure at 0xa4ff32c>"
       ]
      }
     ],
     "prompt_number": 45
    },
    {
     "cell_type": "markdown",
     "source": [
      "Hadoop'u baslatalim,"
     ]
    },
    {
     "cell_type": "code",
     "collapsed": false,
     "input": [
      "!ssh localhost -l hduser /home/hduser/Downloads/hadoop*/bin/stop-all.sh\n",
      "!ssh localhost -l hduser /home/hduser/Downloads/hadoop*/bin/start-all.sh\n"
     ],
     "language": "python",
     "outputs": [
      {
       "output_type": "stream",
       "stream": "stdout",
       "text": [
        "stopping jobtracker\r\n"
       ]
      },
      {
       "output_type": "stream",
       "stream": "stdout",
       "text": [
        "localhost: stopping tasktracker\r\n"
       ]
      },
      {
       "output_type": "stream",
       "stream": "stdout",
       "text": [
        "stopping namenode\r\n"
       ]
      },
      {
       "output_type": "stream",
       "stream": "stdout",
       "text": [
        "localhost: stopping datanode\r\n"
       ]
      },
      {
       "output_type": "stream",
       "stream": "stdout",
       "text": [
        "localhost: stopping secondarynamenode\r\n"
       ]
      },
      {
       "output_type": "stream",
       "stream": "stdout",
       "text": [
        "starting namenode, logging to /home/hduser/Downloads/hadoop-1.0.4/libexec/../logs/hadoop-hduser-namenode-burak-Aspire-S3.out\r\n"
       ]
      },
      {
       "output_type": "stream",
       "stream": "stdout",
       "text": [
        "localhost: starting datanode, logging to /home/hduser/Downloads/hadoop-1.0.4/libexec/../logs/hadoop-hduser-datanode-burak-Aspire-S3.out\r\n"
       ]
      },
      {
       "output_type": "stream",
       "stream": "stdout",
       "text": [
        "localhost: starting secondarynamenode, logging to /home/hduser/Downloads/hadoop-1.0.4/libexec/../logs/hadoop-hduser-secondarynamenode-burak-Aspire-S3.out\r\n"
       ]
      },
      {
       "output_type": "stream",
       "stream": "stdout",
       "text": [
        "starting jobtracker, logging to /home/hduser/Downloads/hadoop-1.0.4/libexec/../logs/hadoop-hduser-jobtracker-burak-Aspire-S3.out\r\n"
       ]
      },
      {
       "output_type": "stream",
       "stream": "stdout",
       "text": [
        "localhost: starting tasktracker, logging to /home/hduser/Downloads/hadoop-1.0.4/libexec/../logs/hadoop-hduser-tasktracker-burak-Aspire-S3.out\r\n"
       ]
      }
     ],
     "prompt_number": 40
    },
    {
     "cell_type": "markdown",
     "source": [
      "Altta veriyi Hadoop'a vermeden once kendimiz karistiriyoruz,"
     ]
    },
    {
     "cell_type": "code",
     "collapsed": false,
     "input": [
      "!sort --random-sort testSet.txt > /tmp/testSet1.txt"
     ],
     "language": "python",
     "outputs": [],
     "prompt_number": 46
    },
    {
     "cell_type": "code",
     "collapsed": false,
     "input": [
      "!ssh localhost -l hduser /home/hduser/Downloads/hadoop*/bin/hadoop dfs -rmr /user/hduser/testSet1.txt\n",
      "!ssh localhost -l hduser /home/hduser/Downloads/hadoop*/bin/hadoop dfs -copyFromLocal /tmp/testSet1.txt /user/hduser"
     ],
     "language": "python",
     "outputs": [
      {
       "output_type": "stream",
       "stream": "stdout",
       "text": [
        "Deleted hdfs://localhost:54310/user/hduser/testSet1.txt\r\n"
       ]
      }
     ],
     "prompt_number": 48
    },
    {
     "cell_type": "code",
     "collapsed": false,
     "input": [
      "print open(\"mapper.py\").read()"
     ],
     "language": "python",
     "outputs": [
      {
       "output_type": "stream",
       "stream": "stdout",
       "text": [
        "#!/usr/bin/python\n",
        "import os,sys,itertools\n",
        "import numpy as np\n",
        "from numpy import linalg as la\n",
        "os.environ['MPLCONFIGDIR']='/tmp' \n",
        "import pandas as pd\n",
        "\n",
        "def sigmoid(arr):\n",
        "    return 1.0/(1+np.exp(-arr))\n",
        "\n",
        "def stoc_grad_ascent0(data_mat, label_mat):\n",
        "    m,n = data_mat.shape\n",
        "    label_mat=label_mat.reshape((m,1))\n",
        "    theta = np.ones((n,1))\n",
        "    alpha = 0.001\n",
        "    for i in range(m):\n",
        "        h = sigmoid(np.sum(np.dot(data_mat[i],theta)))\n",
        "        error = label_mat[i] - h\n",
        "        theta = theta + alpha * data_mat[i].reshape((n,1)) * error\n",
        "    return theta\n",
        "\n",
        "df = pd.read_csv(sys.stdin,header=None,names=['x','y','labels'],sep='\\t')\n",
        "df['intercept']=1.0\n",
        "data = df[['intercept','x','y']]\n",
        "theta = np.array(stoc_grad_ascent0(np.array(data),df['labels']))\n",
        "print \"KEY1\\t\" + \",\".join([str(x) for x in theta[:,0]])\n",
        "\n"
       ]
      }
     ],
     "prompt_number": 49
    },
    {
     "cell_type": "markdown",
     "source": [
      "Ustte indirgeyici icinde sadece tek bir tane anahtar uretiyoruz, tum\n",
      "makinalarda tum indirgeyiciler ayni anahtari, ve bir kez uretiyor\n",
      "olacaklar.  Bunun sebebi nedir? Ne yapmaya calistigimizi hatirlayalim,\n",
      "tum makinalarda lojistik regresyon isletiyoruz, gradyan cikisi\n",
      "yapiyoruz, ve sonucta o makinanin isi bitince elimizde tek bir tane\n",
      "agirlik vektoru yani <code>theta</code> olacak. Ilgilendigimiz sonuc\n",
      "bu, o yuzden cikti <code>stdout</code>'a tek bir satir yaziliyor. Peki\n",
      "niye ayni anahtar? Cunku her makinadaki tum agirlik vektorlerinin \"hep\n",
      "beraber\" bir noktada ortalamasinin alinmasini istiyoruz, bunu Hadoop'a\n",
      "yaptirmanin bir yolu herkese ayni anahtari kullandirtmak, boylece bu\n",
      "anahtarlar tek bir indirgeyiciye (ve makinaya) gidecek, ve orada\n",
      "ortalamalari alinacak. Tum esleyicilerin sonucunun tek bir indirgeciye\n",
      "gitmesi performans problemi cikartmaz mi? Cikmaz, cunku 1000 tane,\n",
      "10000 tane esleyici paralel is yapmis olabilir, ama isleri bitince\n",
      "elimizde 1000,10000 tane agirlik vektoru olacak, ve bu zaten tek\n",
      "makinanin rahatlikla basa cikabilecegi bir yuktur.\n",
      "\n",
      "Ustteki yaklasim, esleyicinin her veri satiri basina bir ya da daha\n",
      "fazla anahtar-deger satiri urettigi yaklasimdan (mesela klasik kelime\n",
      "sayma problemi) biraz farkli, o sebeple bu farkliligi belirtmek\n",
      "istedik. \n"
     ]
    },
    {
     "cell_type": "code",
     "collapsed": false,
     "input": [
      "print open(\"reducer.py\").read()"
     ],
     "language": "python",
     "outputs": [
      {
       "output_type": "stream",
       "stream": "stdout",
       "text": [
        "#!/usr/bin/python\n",
        "import os,sys,itertools\n",
        "import numpy as np\n",
        "from numpy import linalg as la\n",
        "os.environ['MPLCONFIGDIR']='/tmp' \n",
        "import pandas as pd\n",
        "\n",
        "def new_val(x):\n",
        "    return pd.Series(np.array(str(x).split(\",\"),dtype=np.float64))\n",
        "\n",
        "df = pd.read_csv(sys.stdin,sep=\"\\t\",names=['key','val'])\n",
        "df2 = df['val'].apply(new_val)\n",
        "df3 = df.combine_first(df2)\n",
        "df4 =  df3.groupby('key').mean()\n",
        "df4.to_csv(sys.stdout, sep=',',header=None)\n",
        "\n"
       ]
      }
     ],
     "prompt_number": 50
    },
    {
     "cell_type": "markdown",
     "source": [
      "Komut satirindan direk isletelim,"
     ]
    },
    {
     "cell_type": "code",
     "collapsed": false,
     "input": [
      "!cat testSet.txt | python mapper.py | python reducer.py"
     ],
     "language": "python",
     "outputs": [
      {
       "output_type": "stream",
       "stream": "stdout",
       "text": [
        "KEY1,0.963951004823,0.98268659958299998,0.49153886166900002\r\n"
       ]
      }
     ],
     "prompt_number": 68
    },
    {
     "cell_type": "code",
     "collapsed": false,
     "input": [
      "!cp reducer.py /tmp/\n",
      "!chmod a+r /tmp/reducer.py\n",
      "!chmod a+x /tmp/reducer.py\n",
      "!cp mapper.py /tmp/\n",
      "!chmod a+r /tmp/mapper.py\n",
      "!chmod a+x /tmp/mapper.py\n",
      "!ssh localhost -l hduser /home/hduser/Downloads/hadoop*/bin/hadoop dfs -rmr /user/hduser/output\n"
     ],
     "language": "python",
     "outputs": [
      {
       "output_type": "stream",
       "stream": "stdout",
       "text": [
        "Deleted hdfs://localhost:54310/user/hduser/output\r\n"
       ]
      }
     ],
     "prompt_number": 60
    },
    {
     "cell_type": "code",
     "collapsed": false,
     "input": [
      "<code>IdentityReducer</code> uzerinden isletelim,"
     ],
     "language": "python",
     "outputs": []
    },
    {
     "cell_type": "code",
     "collapsed": false,
     "input": [
      "!ssh localhost -l hduser /home/hduser/Downloads/hadoop*/bin/hadoop jar /home/hduser/Downloads/hadoop*/contrib/streaming/hadoop-*streaming*.jar -input testSet1.txt -output output -mapper /tmp/mapper.py -reducer org.apache.hadoop.mapred.lib.IdentityReducer -numReduceTasks 1\n"
     ],
     "language": "python",
     "outputs": [
      {
       "output_type": "stream",
       "stream": "stdout",
       "text": [
        "packageJobJar: [/app/hadoop/tmp/hadoop-unjar2987144493072812691/] [] /tmp/streamjob7820504143042145424.jar tmpDir=null\r\n"
       ]
      },
      {
       "output_type": "stream",
       "stream": "stdout",
       "text": [
        "13/03/06 16:37:27 INFO util.NativeCodeLoader: Loaded the native-hadoop library\r\n",
        "13/03/06 16:37:27 WARN snappy.LoadSnappy: Snappy native library not loaded\r\n",
        "13/03/06 16:37:27 INFO mapred.FileInputFormat: Total input paths to process : 1\r\n"
       ]
      },
      {
       "output_type": "stream",
       "stream": "stdout",
       "text": [
        "13/03/06 16:37:27 INFO streaming.StreamJob: getLocalDirs(): [/app/hadoop/tmp/mapred/local]\r\n",
        "13/03/06 16:37:27 INFO streaming.StreamJob: Running job: job_201303061631_0003\r\n",
        "13/03/06 16:37:27 INFO streaming.StreamJob: To kill this job, run:\r\n",
        "13/03/06 16:37:27 INFO streaming.StreamJob: /home/hduser/Downloads/hadoop-1.0.4/libexec/../bin/hadoop job  -Dmapred.job.tracker=localhost:54311 -kill job_201303061631_0003\r\n",
        "13/03/06 16:37:27 INFO streaming.StreamJob: Tracking URL: http://localhost:50030/jobdetails.jsp?jobid=job_201303061631_0003\r\n"
       ]
      },
      {
       "output_type": "stream",
       "stream": "stdout",
       "text": [
        "13/03/06 16:37:28 INFO streaming.StreamJob:  map 0%  reduce 0%\r\n"
       ]
      },
      {
       "output_type": "stream",
       "stream": "stdout",
       "text": [
        "13/03/06 16:37:42 INFO streaming.StreamJob:  map 100%  reduce 0%\r\n"
       ]
      },
      {
       "output_type": "stream",
       "stream": "stdout",
       "text": [
        "13/03/06 16:37:54 INFO streaming.StreamJob:  map 100%  reduce 100%\r\n"
       ]
      },
      {
       "output_type": "stream",
       "stream": "stdout",
       "text": [
        "13/03/06 16:38:00 INFO streaming.StreamJob: Job complete: job_201303061631_0003\r\n",
        "13/03/06 16:38:00 INFO streaming.StreamJob: Output: output\r\n"
       ]
      }
     ],
     "prompt_number": 57
    },
    {
     "cell_type": "markdown",
     "source": [
      "Simdi tum esle-indirge kodunu isletelim,"
     ]
    },
    {
     "cell_type": "code",
     "collapsed": false,
     "input": [
      "!ssh localhost -l hduser /home/hduser/Downloads/hadoop*/bin/hadoop jar /home/hduser/Downloads/hadoop*/contrib/streaming/hadoop-*streaming*.jar -input testSet1.txt -output output -mapper /tmp/mapper.py -reducer /tmp/reducer.py -numReduceTasks 1"
     ],
     "language": "python",
     "outputs": [
      {
       "output_type": "stream",
       "stream": "stdout",
       "text": [
        "packageJobJar: [/app/hadoop/tmp/hadoop-unjar4168010430116590919/] [] /tmp/streamjob1609764369061317199.jar tmpDir=null\r\n"
       ]
      },
      {
       "output_type": "stream",
       "stream": "stdout",
       "text": [
        "13/03/06 16:38:48 INFO util.NativeCodeLoader: Loaded the native-hadoop library\r\n",
        "13/03/06 16:38:48 WARN snappy.LoadSnappy: Snappy native library not loaded\r\n",
        "13/03/06 16:38:48 INFO mapred.FileInputFormat: Total input paths to process : 1\r\n"
       ]
      },
      {
       "output_type": "stream",
       "stream": "stdout",
       "text": [
        "13/03/06 16:38:48 INFO streaming.StreamJob: getLocalDirs(): [/app/hadoop/tmp/mapred/local]\r\n",
        "13/03/06 16:38:48 INFO streaming.StreamJob: Running job: job_201303061631_0005\r\n",
        "13/03/06 16:38:48 INFO streaming.StreamJob: To kill this job, run:\r\n",
        "13/03/06 16:38:48 INFO streaming.StreamJob: /home/hduser/Downloads/hadoop-1.0.4/libexec/../bin/hadoop job  -Dmapred.job.tracker=localhost:54311 -kill job_201303061631_0005\r\n",
        "13/03/06 16:38:48 INFO streaming.StreamJob: Tracking URL: http://localhost:50030/jobdetails.jsp?jobid=job_201303061631_0005\r\n"
       ]
      },
      {
       "output_type": "stream",
       "stream": "stdout",
       "text": [
        "13/03/06 16:38:49 INFO streaming.StreamJob:  map 0%  reduce 0%\r\n"
       ]
      },
      {
       "output_type": "stream",
       "stream": "stdout",
       "text": [
        "13/03/06 16:39:01 INFO streaming.StreamJob:  map 100%  reduce 0%\r\n"
       ]
      },
      {
       "output_type": "stream",
       "stream": "stdout",
       "text": [
        "13/03/06 16:39:13 INFO streaming.StreamJob:  map 100%  reduce 100%\r\n"
       ]
      },
      {
       "output_type": "stream",
       "stream": "stdout",
       "text": [
        "13/03/06 16:39:19 INFO streaming.StreamJob: Job complete: job_201303061631_0005\r\n",
        "13/03/06 16:39:19 INFO streaming.StreamJob: Output: output\r\n"
       ]
      }
     ],
     "prompt_number": 61
    },
    {
     "cell_type": "markdown",
     "source": [
      "Sonuca bakalim"
     ]
    },
    {
     "cell_type": "code",
     "collapsed": false,
     "input": [
      "!ssh localhost -l hduser /home/hduser/Downloads/hadoop*/bin/hadoop dfs -cat output/part-00000 \n"
     ],
     "language": "python",
     "outputs": [
      {
       "output_type": "stream",
       "stream": "stdout",
       "text": [
        "KEY1,2.05756328947,-0.071455971159299997,-0.077782781684649999\t\r\n"
       ]
      }
     ],
     "prompt_number": 62
    },
    {
     "cell_type": "markdown",
     "source": [
      "Bu sonucu grafiklersek, "
     ]
    },
    {
     "cell_type": "code",
     "collapsed": false,
     "input": [
      "def plot_theta(theta):\n",
      "    x = np.array(arange(-10.0, 40.0, 0.1))\n",
      "    y = np.array((-theta[0]-theta[1]*x)/theta[2])\n",
      "    plt.plot(x, y)\n",
      "    plt.hold(True)\n",
      "    plt.plot(d1.ix[:,0],d1.ix[:,1],'b.')\n",
      "    plt.hold(True)\n",
      "    plt.plot(d2.ix[:,0],d2.ix[:,1],'r.')\n",
      "    plt.hold(True)\n",
      "\n",
      "\n",
      "theta = [2.05756328947,-0.071455971159299997,-0.077782781684649999\t]\n",
      "plot_theta(theta)"
     ],
     "language": "python",
     "outputs": [
      {
       "output_type": "display_data",
       "png": "[encoded data removed]",
       "text": [
        "<matplotlib.figure.Figure at 0xa6345cc>"
       ]
      }
     ],
     "prompt_number": 69
    },
    {
     "cell_type": "markdown",
     "source": [
      "Kaynaklar\n",
      "\n",
      "[1] http://alex.smola.org/teaching/berkeley2012/slides/4_Optimization.pdf\n",
      "\n",
      "[2] http://cs.kangwon.ac.kr/~ysmoon/courses/2011_1/grad_mining/slides/07-2.pdf\n",
      "\n",
      "[3] http://www.slideshare.net/hadoop/modeling-with-hadoop-kdd2011\n",
      "\n",
      "[4] http://www.xmarks.com/site/www.cs.stanford.edu/people/ang/papers/nips06-mapreducemulticore.pdf\n",
      "\n",
      "[5] http://books.nips.cc/papers/files/nips23/NIPS2010_1162.pdf\n",
      "\n",
      "[6] http://simianer.de/P12-1002-slides.pdf\n",
      "\n",
      "[7] http://www.holehouse.org/mlclass/17_Large_Scale_Machine_Learning.html\n",
      "\n",
      "[8] https://github.com/elsevierlabs/logistic-regression-sgd-mapreduce"
     ]
    }
   ]
  }
 ]
}