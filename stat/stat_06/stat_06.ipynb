{
 "metadata": {
  "name": "stat_06"
 },
 "nbformat": 3,
 "nbformat_minor": 0,
 "worksheets": [
  {
   "cells": [
    {
     "cell_type": "markdown",
     "source": [
      "Ders 5 - Hipotez Testleri (Hypothesis Testing)\n",
      "\n",
      "Bir hipotez testi, sonucta sadece iki sonuc verebilecek bir sorudur;\n",
      "bu sonuclar \"reddetmek\" ya da \"reddetmemek\" olabilir. Dikkat: bu\n",
      "sonuclardan biri \"kabul etmek\" degil, bir istatistiki hipotezi kabul\n",
      "etmek mumkun degildir. Tek soyleyebildigimiz \"bir hipotezi reddetmek\n",
      "icin elimizde yeterli veri olmadigini\" soylemektir. Yani\n",
      "reddedebiliyorsak, bu sonucta daha bir kesinlik vardir. \n",
      "\n",
      "Tipik testler mesela bir rasgele degiskeni sabit bir degerle\n",
      "karsilastirmaktir, ya da iki rasgele degiskeni birbiriyle\n",
      "karsilastirmaktir.\n",
      "\n",
      "Tek Orneklem t Testi\n",
      "\n",
      "Bu test verinin Normal dagilimdan geldigini farzeder, tek orneklem\n",
      "durumunda elde $x_1,...,x_n$ verisi vardir, ve bu veri $N(\\mu,\\Sigma)$\n",
      "dagilimindan gelmistir ve test etmek istedigimiz hipotez $\\mu = \\mu_0$\n",
      "karsilastirmasidir. \n"
     ]
    },
    {
     "cell_type": "code",
     "collapsed": false,
     "input": [
      "import numpy as np\n",
      "from scipy.stats import ttest_1samp, wilcoxon, ttest_ind\n",
      "import pandas as pd"
     ],
     "language": "python",
     "outputs": [],
     "prompt_number": 26
    },
    {
     "cell_type": "code",
     "collapsed": false,
     "input": [
      "daily_intake = np.array([5260,5470,5640,6180,6390,6515,\n",
      "                         6805,7515,7515,8230,8770])\n",
      "df = pd.DataFrame(daily_intake)\n",
      "df.describe()"
     ],
     "language": "python",
     "outputs": [
      {
       "html": [
        "<div style=\"max-height:1000px;max-width:1500px;overflow:auto;\">\n",
        "<table border=\"1\" class=\"dataframe\">\n",
        "  <thead>\n",
        "    <tr style=\"text-align: right;\">\n",
        "      <th></th>\n",
        "      <th>0</th>\n",
        "    </tr>\n",
        "  </thead>\n",
        "  <tbody>\n",
        "    <tr>\n",
        "      <td><strong>count</strong></td>\n",
        "      <td>   11.000000</td>\n",
        "    </tr>\n",
        "    <tr>\n",
        "      <td><strong>mean</strong></td>\n",
        "      <td> 6753.636364</td>\n",
        "    </tr>\n",
        "    <tr>\n",
        "      <td><strong>std</strong></td>\n",
        "      <td> 1142.123222</td>\n",
        "    </tr>\n",
        "    <tr>\n",
        "      <td><strong>min</strong></td>\n",
        "      <td> 5260.000000</td>\n",
        "    </tr>\n",
        "    <tr>\n",
        "      <td><strong>25%</strong></td>\n",
        "      <td> 5910.000000</td>\n",
        "    </tr>\n",
        "    <tr>\n",
        "      <td><strong>50%</strong></td>\n",
        "      <td> 6515.000000</td>\n",
        "    </tr>\n",
        "    <tr>\n",
        "      <td><strong>75%</strong></td>\n",
        "      <td> 7515.000000</td>\n",
        "    </tr>\n",
        "    <tr>\n",
        "      <td><strong>max</strong></td>\n",
        "      <td> 8770.000000</td>\n",
        "    </tr>\n",
        "  </tbody>\n",
        "</table>\n",
        "</div>"
       ],
       "output_type": "pyout",
       "prompt_number": 27,
       "text": [
        "                 0\n",
        "count    11.000000\n",
        "mean   6753.636364\n",
        "std    1142.123222\n",
        "min    5260.000000\n",
        "25%    5910.000000\n",
        "50%    6515.000000\n",
        "75%    7515.000000\n",
        "max    8770.000000"
       ]
      }
     ],
     "prompt_number": 27
    },
    {
     "cell_type": "code",
     "collapsed": false,
     "input": [
      "t_statistic, p_value = ttest_1samp(daily_intake, 7725)\n",
      "print \"one-sample t-test\", p_value"
     ],
     "language": "python",
     "outputs": [
      {
       "output_type": "stream",
       "stream": "stdout",
       "text": [
        "one-sample t-test 0.0181372351761\n"
       ]
      }
     ],
     "prompt_number": 28
    },
    {
     "cell_type": "markdown",
     "source": [
      "Sonuc <code>p_value</code> <code>0.05</code>'ten kucuk cikti yani\n",
      "yuzde 5 onemliligini (significance) baz aldik bu durumda veri\n",
      "hipotezden onemli derecede (significantly) uzakta. Demek ki\n",
      "ortalamanin 7725 oldugu hipotezini reddetmemiz gerekiyor. "
     ]
    },
    {
     "cell_type": "markdown",
     "source": [
      "Kaynaklar\n",
      "\n",
      "https://gist.github.com/mblondel/1761714\n",
      "\n",
      "*Introductory Statistics with R*"
     ]
    },
    {
     "cell_type": "code",
     "collapsed": false,
     "input": [],
     "language": "python",
     "outputs": []
    }
   ]
  }
 ]
}