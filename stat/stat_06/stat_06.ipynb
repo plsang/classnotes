{
 "metadata": {
  "name": "stat_06"
 },
 "nbformat": 3,
 "nbformat_minor": 0,
 "worksheets": [
  {
   "cells": [
    {
     "cell_type": "markdown",
     "source": [
      "Ders 6\n",
      "\n",
      "Moment Fonksiyonlari\n",
      "\n",
      "Olas\u0131l\u0131k matemati\u011finde \"moment \u00fcreten i\u015flevler\" olarak adland\u0131r\u0131lan,\n",
      "ba\u015flang\u0131\u00e7ta pek yararl\u0131 gibi g\u00f6z\u00fckmesede bir tak\u0131m matematiksel\n",
      "\u00f6zellikleri oldu\u011fu i\u00e7in, ispatlarda olduk\u00e7a i\u015fe yarayan bir kavram\n",
      "vard\u0131r.\n",
      "\n",
      "Her rasgele de\u011fi\u015fkenin bir da\u011f\u0131l\u0131m\u0131 oldu\u011funu biliyoruz. Her rasgele\n",
      "de\u011fi\u015fkenin de ayr\u0131ca bir moment \u00fcreten fonksiyonu da vard\u0131r. Ayr\u0131ca,\n",
      "moment \u00fcreten fonksiyon ile rasgele de\u011fi\u015fken aras\u0131nda bire-bir olarak\n",
      "bir ili\u015fki mevcuttur. \"Bu neye yarar?\" diye sorulabilir; Cevap olarak,\n",
      "mesela cebirsel olarak t\u00fcrete t\u00fcrete bir moment'e geldi\u011fimiz\n",
      "d\u00fc\u015f\u00fcnelim, ve tekrar ba\u015fka bir taraftan, ba\u015fka bir form\u00fclden gene\n",
      "t\u00fcrete t\u00fcrete tekrar ayn\u0131 moment i\u015flevine geliyorsak, bu demektir ki,\n",
      "iki taraftan gelen rasgele de\u011fi\u015fkenler (ve tekab\u00fcl eden da\u011f\u0131l\u0131mlar\u0131)\n",
      "birbirine e\u015fittir. Baz\u0131 \u015fartlarda moment \u00fcreten i\u015flevler ile cebir\n",
      "yapmak, da\u011f\u0131l\u0131m fonksiyonlar\u0131ndan daha rahat olmaktad\u0131r.\n",
      "\n",
      "Her rasgele de\u011fi\u015fken i\u00e7in, moment \u00fcreten i\u015flev \u015f\u00f6yle bulunur.\n",
      "\n",
      "$X$ rasgele degiskenin moment ureten operasyonu\n",
      "\n",
      "$M(t)=E(e^{tX})$ olarak gosterilir\n",
      "\n",
      "Ayriksal operasyonlar icin\n",
      "\n",
      "\\[ M(t) = \\sum_x e^{tx}p(x) \\]\n",
      "\n",
      "Surekli islevler icin\n",
      "\n",
      "\\[ M(t) = \\int_{-\\infty}^{\\infty} e^{tx}f(x)dx   \\]\n",
      "\n",
      "Kuram\n",
      "\n",
      "Gelelim yaz\u0131m\u0131z\u0131n esas konusu olan kuram\u0131m\u0131za.\n",
      "\n",
      "E\u011fer $X_1, X_2...X_n$ ba\u011f\u0131ms\u0131z rasgele de\u011fi\u015fken ise, ve her de\u011fi\u015fkenin\n",
      "$M_i(t)$ $i=1,2,3,...n$ olarak, \u00f6z olarak ayn\u0131 olan birer moment \u00fcreten\n",
      "i\u015flevi var ise, o zaman,\n",
      "\n",
      "\\[ Y = \\sum_{i=1}^n  aX_i \\]\n",
      "\n",
      "acilimi\n",
      "\n",
      "\\[ M_y(t) = \\prod_{i=1}^n M(a_i t) \\]\n",
      "\n",
      "olacaktir. \n",
      "\n",
      "Ispat\n",
      "\n",
      "\\[ M_y(t) = E(e^{tY}=E(e^{t(a_1X_1+a_2X_2+..+a_nX_n)} \\]\n",
      "\n",
      "\\[ = E[\\exp(ta_1 X_1 ta_2X_2...+ta_nX_n)] \\]\n",
      "\n",
      "\\[ = E[\\exp(ta_1X_1)+\\exp(ta_2X_2)+ ... + \\exp(ta_nX_n)] \\]\n",
      "\n",
      "\\[ = E[\\exp(ta_1X_1)]+E[\\exp(ta_2X_2)]+ ... + E[\\exp(ta_nX_n)]\\]\n",
      "\n",
      "Daha once belirttigimiz gibi\n",
      "\n",
      "\\[ M_i(t) = E[\\exp(tX_i)] \\]\n",
      "\n",
      "olduguna gore ve $t$ yerine $ta_i$ koyuldugunu dusunelim\n",
      "\n",
      "\\[ M_y(t) = \\prod_{i=1}^n M_y(a_it) \\]\n",
      "\n",
      "olacaktir. \n",
      "\n",
      "Bunu $M_y(t)= (M_i(a_it))^n$ seklinde de gosterebiliriz. \n",
      "\n",
      "Orneklem Dagilimlari (Sampling Distributions)\n",
      "\n",
      "Diyelim ki elimizde (hakkinda) ogrenmek istedigimiz bir sayisal obek\n",
      "(population) var. Bu obekteki her elemani ayri ayri incelemek\n",
      "istemiyoruz, problem degil, nufustan bir orneklem (sample) aliriz.\n",
      "Eger bu orneklem nufusu yeterince iyi temsil ediyorsa, problem cikmaz.\n",
      "Bu temsiliyeti garantilemenin iyi bir yolu orneklemi rasgele yapmaktir.\n",
      "\n",
      "Simdi, diyelim ki, bu orneklemi bir sekilde ozetlemek istiyoruz yani\n",
      "orneklem verisi kullanilarak hesaplanmis temsili bir istatistik\n",
      "(descriptive statistic) elde edecegiz.\n",
      "\n",
      "Fakat orneklemimiz rasgele idi. Bu istatistigimiz (ki o da sonucta bir\n",
      "rasgele degiskendir ve onun da bir dagilimi vardir), nasil bir\n",
      "dagilima sahiptir? Yani nufus dagilimi (population distribution), ve\n",
      "orneklem dagiliminin (sampling distribution) birbiriyle\n",
      "baglantisiyla ilgileniyoruz.\n",
      "\n",
      "Teori\n",
      "\n",
      "Eger $X_1,..,X_n$ bir $N(\\mu,\\sigma)$ dagiliminda alinmis orneklem olsun.\n",
      "O zaman orneklem ortalamasinin dagilimi $N(\\mu,\\sigma/\\sqrt{n})$. \n",
      "\n",
      "[TBD - Ispat]\n",
      "\n",
      "Teori\n",
      "\n",
      "Eger $X_1,..,X_n$ bir $N(\\mu,\\sigma)$ dagiliminda alinmis orneklem olsun.\n",
      "O zaman su buyukluk\n",
      "\n",
      "$$ T = \\frac{ \\bar{X}-\\mu}{S / \\sqrt{n}} $$\n",
      "\n",
      "$t_{n-1}$ dagilimina, yani $n-1$ serbestlik derecesindeki (degree of\n",
      "freedom) bir Student's t Dagilimidir.\n",
      "\n",
      "[TBD - Ispat]\n",
      "\n",
      "Hipotez Testleri (Hypothesis Testing)\n",
      "\n",
      "Hipotez testi (bir veriye dayanarak) farzedilen bir parametreyi bir\n",
      "sabit degerle karsilastirmak, ya da iki parametreyi birbiriyle\n",
      "karsilastirmak icin kullanilir. \n",
      "\n",
      "Bir hipotez testi, sonucta sadece iki cevap verebilecek bir sorudur;\n",
      "bu sonuclar \"reddetmek\" ya da \"reddetmemek\" olabilir. Dikkat: bu\n",
      "sonuclardan biri \"kabul etmek\" degil, bir istatistiki hipotezi kabul\n",
      "etmek mumkun degildir. Tek soyleyebildigimiz \"bir hipotezi reddetmek\n",
      "icin elimizde yeterli veri olmadigini\" soylemektir. Ama\n",
      "reddedebiliyorsak, bu sonucta daha bir kesinlik vardir. \n",
      "\n",
      "Tek Orneklem t Testi (One-sample t test)\n",
      "\n",
      "Bu test verinin Normal dagilimdan geldigini farzeder, tek orneklem\n",
      "durumunda elde $x_1,...,x_n$ verisi vardir, ve bu veri $N(\\mu,\\Sigma)$\n",
      "dagilimindan gelmistir ve test etmek istedigimiz hipotez /\n",
      "karsilastirma $\\mu = \\mu_0$. \n"
     ]
    },
    {
     "cell_type": "code",
     "collapsed": false,
     "input": [
      "import numpy as np\n",
      "from scipy.stats import ttest_1samp, wilcoxon, ttest_ind\n",
      "import pandas as pd"
     ],
     "language": "python",
     "outputs": [],
     "prompt_number": 29
    },
    {
     "cell_type": "code",
     "collapsed": false,
     "input": [
      "daily_intake = np.array([5260,5470,5640,6180,6390,6515, 6805,7515,7515,8230,8770])\n",
      "df = pd.DataFrame(daily_intake)\n",
      "df.describe()"
     ],
     "language": "python",
     "outputs": [
      {
       "html": [
        "<div style=\"max-height:1000px;max-width:1500px;overflow:auto;\">\n",
        "<table border=\"1\" class=\"dataframe\">\n",
        "  <thead>\n",
        "    <tr style=\"text-align: right;\">\n",
        "      <th></th>\n",
        "      <th>0</th>\n",
        "    </tr>\n",
        "  </thead>\n",
        "  <tbody>\n",
        "    <tr>\n",
        "      <td><strong>count</strong></td>\n",
        "      <td>   11.000000</td>\n",
        "    </tr>\n",
        "    <tr>\n",
        "      <td><strong>mean</strong></td>\n",
        "      <td> 6753.636364</td>\n",
        "    </tr>\n",
        "    <tr>\n",
        "      <td><strong>std</strong></td>\n",
        "      <td> 1142.123222</td>\n",
        "    </tr>\n",
        "    <tr>\n",
        "      <td><strong>min</strong></td>\n",
        "      <td> 5260.000000</td>\n",
        "    </tr>\n",
        "    <tr>\n",
        "      <td><strong>25%</strong></td>\n",
        "      <td> 5910.000000</td>\n",
        "    </tr>\n",
        "    <tr>\n",
        "      <td><strong>50%</strong></td>\n",
        "      <td> 6515.000000</td>\n",
        "    </tr>\n",
        "    <tr>\n",
        "      <td><strong>75%</strong></td>\n",
        "      <td> 7515.000000</td>\n",
        "    </tr>\n",
        "    <tr>\n",
        "      <td><strong>max</strong></td>\n",
        "      <td> 8770.000000</td>\n",
        "    </tr>\n",
        "  </tbody>\n",
        "</table>\n",
        "</div>"
       ],
       "output_type": "pyout",
       "prompt_number": 30,
       "text": [
        "                 0\n",
        "count    11.000000\n",
        "mean   6753.636364\n",
        "std    1142.123222\n",
        "min    5260.000000\n",
        "25%    5910.000000\n",
        "50%    6515.000000\n",
        "75%    7515.000000\n",
        "max    8770.000000"
       ]
      }
     ],
     "prompt_number": 30
    },
    {
     "cell_type": "code",
     "collapsed": false,
     "input": [
      "t_statistic, p_value = ttest_1samp(daily_intake, 7725)\n",
      "print \"one-sample t-test\", p_value"
     ],
     "language": "python",
     "outputs": [
      {
       "output_type": "stream",
       "stream": "stdout",
       "text": [
        "one-sample t-test 0.0181372351761\n"
       ]
      }
     ],
     "prompt_number": 28
    },
    {
     "cell_type": "markdown",
     "source": [
      "Sonuc <code>p_value</code> <code>0.05</code>'ten kucuk cikti yani\n",
      "yuzde 5 onemliligini (significance) baz aldik bu durumda veri\n",
      "hipotezden onemli derecede (significantly) uzakta. Demek ki\n",
      "ortalamanin 7725 oldugu hipotezini reddetmemiz gerekiyor.\n",
      "\n",
      "Testi iki orneklemli kullanalim, gruplar 0/1 degerleri ile\n",
      "isaretlendi, ve test etmek istedigimiz iki grubun ortalamasinin (mean)\n",
      "ayni oldugu hipotezini test etmek. t-test bu arada varyansin ayni\n",
      "oldugunu farzeder."
     ]
    },
    {
     "cell_type": "code",
     "collapsed": false,
     "input": [
      "energ = np.array([\n",
      "[9.21, 0],\n",
      "[7.53, 1],\n",
      "[7.48, 1],\n",
      "[8.08, 1],\n",
      "[8.09, 1],\n",
      "[10.15, 1],\n",
      "[8.40, 1],\n",
      "[10.88, 1],\n",
      "[6.13, 1],\n",
      "[7.90, 1],\n",
      "[11.51, 0],\n",
      "[12.79, 0],\n",
      "[7.05, 1],\n",
      "[11.85, 0],\n",
      "[9.97, 0],\n",
      "[7.48, 1],\n",
      "[8.79, 0],\n",
      "[9.69, 0],\n",
      "[9.68, 0],\n",
      "[7.58, 1],\n",
      "[9.19, 0],\n",
      "[8.11, 1]])\n",
      "group1 = energ[energ[:, 1] == 0][:, 0]\n",
      "group2 = energ[energ[:, 1] == 1][:, 0]\n",
      "t_statistic, p_value = ttest_ind(group1, group2)\n",
      "print \"two-sample t-test\", p_value"
     ],
     "language": "python",
     "outputs": [
      {
       "output_type": "stream",
       "stream": "stdout",
       "text": [
        "two-sample t-test 0.00079899821117\n"
       ]
      }
     ],
     "prompt_number": 32
    },
    {
     "cell_type": "markdown",
     "source": [
      "$p-value < 0.05$ yani iki grubun ortalamasi ayni degildir. Ayni oldugu\n",
      "hipotezi reddedildi.\n",
      "\n",
      "Eslemeli t-Test (Paired t-test)\n",
      "\n",
      "Eslemeli testler ayni deneysel birimin olcumu alindigi zaman\n",
      "kullanilabilir, yani olcum alinan ayni grupta, deney sonrasi deneyin\n",
      "etki edip etmedigi test edilebilir. Bunun icin ayni olcum deney\n",
      "sonrasi bir daha alinir ve \"farklarin ortalamasinin sifir oldugu\"\n",
      "hipotezi test edilebilir. Altta bir grup hastanin deney oncesi ve\n",
      "sonrasi ne kadar yiyecek tukettigi listelenmis. "
     ]
    },
    {
     "cell_type": "code",
     "collapsed": false,
     "input": [
      "intake = np.array([\n",
      "[5260, 3910],\n",
      "[5470, 4220],\n",
      "[5640, 3885],\n",
      "[6180, 5160],\n",
      "[6390, 5645],\n",
      "[6515, 4680],\n",
      "[6805, 5265],\n",
      "[7515, 5975],\n",
      "[7515, 6790],\n",
      "[8230, 6900],\n",
      "[8770, 7335],\n",
      "])\n",
      "pre = intake[:, 0]\n",
      "post = intake[:, 1]\n",
      "t_statistic, p_value = ttest_1samp(post - pre, 0)\n",
      "print \"paired t-test\", p_value"
     ],
     "language": "python",
     "outputs": [
      {
       "output_type": "stream",
       "stream": "stdout",
       "text": [
        "paired t-test 3.05902094293e-07\n"
       ]
      }
     ],
     "prompt_number": 35
    },
    {
     "cell_type": "markdown",
     "source": [
      "Wilcoxon isaretli-sirali testi (Wilcoxon signed-rank test)\n",
      "\n",
      "t Testleri Normal dagilima gore sapmalari yakalamak acisindan,\n",
      "ozellikle buyuk orneklemler var ise, oldukca saglamdir. Fakat bazen\n",
      "verinin Normal dagilimdan geldigi faraziyesini yapmak istemeyebiliriz.\n",
      "Bu durumda *dagilimdan bagimsiz metotlar* daha uygundur, bu tur\n",
      "metotlar icin verinin yerine cogunlukla onun sira istatistiklerini\n",
      "(order statistics) kullanir.\n",
      "\n",
      "Tek orneklemli Wilcoxon testi icin prosedur $\\mu_0$'i tum veriden\n",
      "cikartmak ve geri kalan (farklari) isaretine bakmadan numerik degerine\n",
      "gore siralamak, ve bu sira degerini bir kenara yazmak. Daha sonra geri\n",
      "donup bu sefer cikartma islemi sonucunun isaretine bakmak, ve eksi\n",
      "isareti tasiyan sira degerlerini toplamak, ayni islemi arti isareti\n",
      "icin yapmak, ve eksi toplami arti toplamindan cikartmak. Sonucta\n",
      "elimize bir istatistik $W$ gelecek. Bu test istatistigi aslinda $1..n$\n",
      "tane sayi icinden herhangi birini $1/2$ olasiligiyla secmek, ve\n",
      "sonuclari toplamaya tekabul etmektedir. Ve bu sonuc yine <code>0.05</code>\n",
      "ile karsilastirilir.\n"
     ]
    },
    {
     "cell_type": "code",
     "collapsed": false,
     "input": [
      "z_statistic, p_value = wilcoxon(daily_intake - 7725)\n",
      "print \"one-sample wilcoxon-test\", p_value\n"
     ],
     "language": "python",
     "outputs": [
      {
       "output_type": "stream",
       "stream": "stdout",
       "text": [
        "one-sample wilcoxon-test 0.0279991628713\n"
       ]
      }
     ],
     "prompt_number": 31
    },
    {
     "cell_type": "markdown",
     "source": [
      "Hipotezi yine reddettik.\n",
      "\n",
      "Ustte yaptigimiz eslemeli t-testi simdi Wilcoxon testi ile yapalim,"
     ]
    },
    {
     "cell_type": "code",
     "collapsed": false,
     "input": [
      "z_statistic, p_value = wilcoxon(post - pre)\n",
      "print \"paired wilcoxon-test\", p_value"
     ],
     "language": "python",
     "outputs": [
      {
       "output_type": "stream",
       "stream": "stdout",
       "text": [
        "paired wilcoxon-test 0.00463608893545\n"
       ]
      }
     ],
     "prompt_number": 36
    },
    {
     "cell_type": "markdown",
     "source": [
      "Kaynaklar\n",
      "\n",
      "https://gist.github.com/mblondel/1761714\n",
      "\n",
      "*Introductory Statistics with R*\n",
      "\n",
      "*Introduction to Probability and Statistics Using R*"
     ]
    }
   ]
  }
 ]
}