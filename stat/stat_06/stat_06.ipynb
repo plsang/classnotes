{
 "metadata": {
  "name": "stat_06"
 },
 "nbformat": 3,
 "nbformat_minor": 0,
 "worksheets": [
  {
   "cells": [
    {
     "cell_type": "markdown",
     "source": [
      "Ders 5 - Hipotez Testleri (Hypothesis Testing)\n",
      "\n",
      "Bir hipotez testi, sonucta sadece iki sonuc verebilecek bir sorudur;\n",
      "bu sonuclar \"reddetmek\" ya da \"reddetmemek\" olabilir. Dikkat: bu\n",
      "sonuclardan biri \"kabul etmek\" degil, bir istatistiki hipotezi kabul\n",
      "etmek mumkun degildir. Tek soyleyebildigimiz \"bir hipotezi reddetmek\n",
      "icin elimizde yeterli veri olmadigini\" soylemektir. Yani\n",
      "reddedebiliyorsak, bu sonucta daha bir kesinlik vardir. \n"
     ]
    },
    {
     "cell_type": "markdown",
     "source": [
      "Kaynaklar\n",
      "\n",
      "https://gist.github.com/mblondel/1761714\n",
      "\n",
      "*Introductory Statistics with R*"
     ]
    },
    {
     "cell_type": "code",
     "collapsed": false,
     "input": [],
     "language": "python",
     "outputs": []
    }
   ]
  }
 ]
}