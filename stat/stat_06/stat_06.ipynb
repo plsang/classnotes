{
 "metadata": {
  "name": "stat_06"
 },
 "nbformat": 3,
 "nbformat_minor": 0,
 "worksheets": [
  {
   "cells": [
    {
     "cell_type": "markdown",
     "source": [
      "Ders 6\n",
      "\n",
      "Orneklem Dagilimlari (Sampling Distributions)\n",
      "\n",
      "Diyelim ki elimizde (hakkinda) ogrenmek istedigimiz bir sayisal obek\n",
      "(population) var. Bu obekteki her elemani ayri ayri incelemek\n",
      "istemiyoruz, problem degil, nufustan bir orneklem (sample) aliriz.\n",
      "Eger bu orneklem nufusu yeterince iyi temsil ediyorsa, problem cikmaz.\n",
      "Bu temsiliyeti garantilemenin iyi bir yolu orneklemi rasgele yapmaktir.\n",
      "\n",
      "Simdi diyelim ki bu orneklemi bir sekilde ozetlemek istiyoruz, yani\n",
      "orneklem verisi kullanilarak hesaplanmis temsili bir istatistik\n",
      "(descriptive statistic) elde edecegiz. Fakat orneklemimiz rasgele\n",
      "idi. Bu istatistigimiz (ki o da sonucta bir rasgele degiskendir ve\n",
      "onun da bir dagilimi vardir), nasil bir dagilima sahiptir?\n",
      "\n",
      "Nufusun dagilimina nufus dagilimi (population distribution),\n",
      "orneklemden gelene orneklem dagilimi (sampling distribution) adi\n",
      "verilir ve bu iki dagilim birbiriyle baglantilidir. Ama nasil?\n",
      "\n",
      "Teori\n",
      "\n",
      "Eger $X_1,..,X_n$ bir $N(\\mu,\\sigma)$ dagiliminda alinmis orneklem olsun.\n",
      "O zaman orneklem ortalamasinin dagilimi $N(\\mu,\\sigma/\\sqrt{n})$. \n",
      "\n",
      "[TBD - Ispatla]\n",
      "\n",
      "Teori\n",
      "\n",
      "Eger $X_1,..,X_n$ bir $N(\\mu,\\sigma)$ dagiliminda alinmis orneklem olsun.\n",
      "O zaman su buyukluk\n",
      "\n",
      "$$ T = \\frac{ \\bar{X}-\\mu}{S / \\sqrt{n}} $$\n",
      "\n",
      "$t_{n-1}$ dagilimina, yani $n-1$ serbestlik derecesine (degree of freedom)\n",
      "sahip Student's t Dagilimina sahiptir.\n",
      "\n",
      "[TBD - Ispatla]\n",
      "\n",
      "Hipotez Testleri (Hypothesis Testing)\n",
      "\n",
      "Hipotez testi (bir veriye dayanarak) farzedilen bir parametreyi bir\n",
      "sabit degerle karsilastirmak, ya da iki parametreyi birbiriyle\n",
      "karsilastirmak icin kullanilir. \n",
      "\n",
      "Bir hipotez testi, sonucta sadece iki cevap verebilecek bir sorudur;\n",
      "bu sonuclar \"reddetmek\" ya da \"reddetmemek\" olabilir. Dikkat: bu\n",
      "sonuclardan biri \"kabul etmek\" degil, bir istatistiki hipotezi kabul\n",
      "etmek mumkun degildir. Tek soyleyebildigimiz \"bir hipotezi reddetmek\n",
      "icin elimizde yeterli veri olmadigini\" soylemektir. Ama\n",
      "reddedebiliyorsak, bu sonucta daha bir kesinlik vardir. \n",
      "\n",
      "Tek Orneklem t Testi (One-sample t test)\n",
      "\n",
      "Bu test verinin Normal dagilimdan geldigini farzeder, tek orneklem\n",
      "durumunda elde $x_1,...,x_n$ verisi vardir, ve bu veri $N(\\mu,\\Sigma)$\n",
      "dagilimindan gelmistir ve test etmek istedigimiz hipotez /\n",
      "karsilastirma $\\mu = \\mu_0$. \n"
     ]
    },
    {
     "cell_type": "code",
     "collapsed": false,
     "input": [
      "import numpy as np\n",
      "from scipy.stats import ttest_1samp, wilcoxon, ttest_ind\n",
      "import pandas as pd"
     ],
     "language": "python",
     "outputs": [],
     "prompt_number": 29
    },
    {
     "cell_type": "code",
     "collapsed": false,
     "input": [
      "daily_intake = np.array([5260,5470,5640,6180,6390,6515, 6805,7515,7515,8230,8770])\n",
      "df = pd.DataFrame(daily_intake)\n",
      "df.describe()"
     ],
     "language": "python",
     "outputs": [
      {
       "html": [
        "<div style=\"max-height:1000px;max-width:1500px;overflow:auto;\">\n",
        "<table border=\"1\" class=\"dataframe\">\n",
        "  <thead>\n",
        "    <tr style=\"text-align: right;\">\n",
        "      <th></th>\n",
        "      <th>0</th>\n",
        "    </tr>\n",
        "  </thead>\n",
        "  <tbody>\n",
        "    <tr>\n",
        "      <td><strong>count</strong></td>\n",
        "      <td>   11.000000</td>\n",
        "    </tr>\n",
        "    <tr>\n",
        "      <td><strong>mean</strong></td>\n",
        "      <td> 6753.636364</td>\n",
        "    </tr>\n",
        "    <tr>\n",
        "      <td><strong>std</strong></td>\n",
        "      <td> 1142.123222</td>\n",
        "    </tr>\n",
        "    <tr>\n",
        "      <td><strong>min</strong></td>\n",
        "      <td> 5260.000000</td>\n",
        "    </tr>\n",
        "    <tr>\n",
        "      <td><strong>25%</strong></td>\n",
        "      <td> 5910.000000</td>\n",
        "    </tr>\n",
        "    <tr>\n",
        "      <td><strong>50%</strong></td>\n",
        "      <td> 6515.000000</td>\n",
        "    </tr>\n",
        "    <tr>\n",
        "      <td><strong>75%</strong></td>\n",
        "      <td> 7515.000000</td>\n",
        "    </tr>\n",
        "    <tr>\n",
        "      <td><strong>max</strong></td>\n",
        "      <td> 8770.000000</td>\n",
        "    </tr>\n",
        "  </tbody>\n",
        "</table>\n",
        "</div>"
       ],
       "output_type": "pyout",
       "prompt_number": 30,
       "text": [
        "                 0\n",
        "count    11.000000\n",
        "mean   6753.636364\n",
        "std    1142.123222\n",
        "min    5260.000000\n",
        "25%    5910.000000\n",
        "50%    6515.000000\n",
        "75%    7515.000000\n",
        "max    8770.000000"
       ]
      }
     ],
     "prompt_number": 30
    },
    {
     "cell_type": "code",
     "collapsed": false,
     "input": [],
     "language": "python",
     "outputs": []
    },
    {
     "cell_type": "code",
     "collapsed": false,
     "input": [
      "t_statistic, p_value = ttest_1samp(daily_intake, 7725)\n",
      "print \"one-sample t-test\", p_value"
     ],
     "language": "python",
     "outputs": [
      {
       "output_type": "stream",
       "stream": "stdout",
       "text": [
        "one-sample t-test 0.0181372351761\n"
       ]
      }
     ],
     "prompt_number": 28
    },
    {
     "cell_type": "markdown",
     "source": [
      "Sonuc <code>p_value</code> <code>0.05</code>'ten kucuk cikti yani\n",
      "yuzde 5 onemliligini (significance) baz aldik bu durumda veri\n",
      "hipotezden onemli derecede (significantly) uzakta. Demek ki\n",
      "ortalamanin 7725 oldugu hipotezini reddetmemiz gerekiyor.\n",
      "\n",
      "Testi iki orneklemli kullanalim, gruplar 0/1 degerleri ile\n",
      "isaretlendi, ve test etmek istedigimiz iki grubun ortalamasinin (mean)\n",
      "ayni oldugu hipotezini test etmek. t-test bu arada varyansin ayni\n",
      "oldugunu farzeder."
     ]
    },
    {
     "cell_type": "code",
     "collapsed": false,
     "input": [
      "energ = np.array([\n",
      "[9.21, 0],\n",
      "[7.53, 1],\n",
      "[7.48, 1],\n",
      "[8.08, 1],\n",
      "[8.09, 1],\n",
      "[10.15, 1],\n",
      "[8.40, 1],\n",
      "[10.88, 1],\n",
      "[6.13, 1],\n",
      "[7.90, 1],\n",
      "[11.51, 0],\n",
      "[12.79, 0],\n",
      "[7.05, 1],\n",
      "[11.85, 0],\n",
      "[9.97, 0],\n",
      "[7.48, 1],\n",
      "[8.79, 0],\n",
      "[9.69, 0],\n",
      "[9.68, 0],\n",
      "[7.58, 1],\n",
      "[9.19, 0],\n",
      "[8.11, 1]])\n",
      "group1 = energ[energ[:, 1] == 0][:, 0]\n",
      "group2 = energ[energ[:, 1] == 1][:, 0]\n",
      "t_statistic, p_value = ttest_ind(group1, group2)\n",
      "print \"two-sample t-test\", p_value"
     ],
     "language": "python",
     "outputs": [
      {
       "output_type": "stream",
       "stream": "stdout",
       "text": [
        "two-sample t-test 0.00079899821117\n"
       ]
      }
     ],
     "prompt_number": 32
    },
    {
     "cell_type": "markdown",
     "source": [
      "$p-value < 0.05$ yani iki grubun ortalamasi ayni degildir. Ayni oldugu\n",
      "hipotezi reddedildi.\n",
      "\n",
      "Eslemeli t-Test (Paired t-test)\n",
      "\n",
      "Eslemeli testler ayni deneysel birimin olcumu alindigi zaman\n",
      "kullanilabilir, yani olcum alinan ayni grupta, deney sonrasi deneyin\n",
      "etki edip etmedigi test edilebilir. Bunun icin ayni olcum deney\n",
      "sonrasi bir daha alinir ve \"farklarin ortalamasinin sifir oldugu\"\n",
      "hipotezi test edilebilir. Altta bir grup hastanin deney oncesi ve\n",
      "sonrasi ne kadar yiyecek tukettigi listelenmis. "
     ]
    },
    {
     "cell_type": "code",
     "collapsed": false,
     "input": [
      "intake = np.array([\n",
      "[5260, 3910],\n",
      "[5470, 4220],\n",
      "[5640, 3885],\n",
      "[6180, 5160],\n",
      "[6390, 5645],\n",
      "[6515, 4680],\n",
      "[6805, 5265],\n",
      "[7515, 5975],\n",
      "[7515, 6790],\n",
      "[8230, 6900],\n",
      "[8770, 7335],\n",
      "])\n",
      "pre = intake[:, 0]\n",
      "post = intake[:, 1]\n",
      "t_statistic, p_value = ttest_1samp(post - pre, 0)\n",
      "print \"paired t-test\", p_value"
     ],
     "language": "python",
     "outputs": [
      {
       "output_type": "stream",
       "stream": "stdout",
       "text": [
        "paired t-test 3.05902094293e-07\n"
       ]
      }
     ],
     "prompt_number": 35
    },
    {
     "cell_type": "markdown",
     "source": [
      "Wilcoxon isaretli-sirali testi (Wilcoxon signed-rank test)\n",
      "\n",
      "t Testleri Normal dagilima gore sapmalari yakalamak acisindan,\n",
      "ozellikle buyuk orneklemler var ise, oldukca saglamdir. Fakat bazen\n",
      "verinin Normal dagilimdan geldigi faraziyesini yapmak istemeyebiliriz.\n",
      "Bu durumda *dagilimdan bagimsiz metotlar* daha uygundur, bu tur\n",
      "metotlar icin verinin yerine cogunlukla onun sira istatistiklerini\n",
      "(order statistics) kullanir.\n",
      "\n",
      "Tek orneklemli Wilcoxon testi icin prosedur $\\mu_0$'i tum veriden\n",
      "cikartmak ve geri kalan (farklari) isaretine bakmadan numerik degerine\n",
      "gore siralamak, ve bu sira degerini bir kenara yazmak. Daha sonra geri\n",
      "donup bu sefer cikartma islemi sonucunun isaretine bakmak, ve eksi\n",
      "isareti tasiyan sira degerlerini toplamak, ayni islemi arti isareti\n",
      "icin yapmak, ve eksi toplami arti toplamindan cikartmak. Sonucta\n",
      "elimize bir istatistik $W$ gelecek. Bu test istatistigi aslinda $1..n$\n",
      "tane sayi icinden herhangi birini $1/2$ olasiligiyla secmek, ve\n",
      "sonuclari toplamaya tekabul etmektedir. Ve bu sonuc yine <code>0.05</code>\n",
      "ile karsilastirilir.\n"
     ]
    },
    {
     "cell_type": "code",
     "collapsed": false,
     "input": [
      "z_statistic, p_value = wilcoxon(daily_intake - 7725)\n",
      "print \"one-sample wilcoxon-test\", p_value\n"
     ],
     "language": "python",
     "outputs": [
      {
       "output_type": "stream",
       "stream": "stdout",
       "text": [
        "one-sample wilcoxon-test 0.0279991628713\n"
       ]
      }
     ],
     "prompt_number": 31
    },
    {
     "cell_type": "markdown",
     "source": [
      "Hipotezi yine reddettik.\n",
      "\n",
      "Ustte yaptigimiz eslemeli t-testi simdi Wilcoxon testi ile yapalim,"
     ]
    },
    {
     "cell_type": "code",
     "collapsed": false,
     "input": [
      "z_statistic, p_value = wilcoxon(post - pre)\n",
      "print \"paired wilcoxon-test\", p_value"
     ],
     "language": "python",
     "outputs": [
      {
       "output_type": "stream",
       "stream": "stdout",
       "text": [
        "paired wilcoxon-test 0.00463608893545\n"
       ]
      }
     ],
     "prompt_number": 36
    },
    {
     "cell_type": "markdown",
     "source": [
      "Kaynaklar\n",
      "\n",
      "https://gist.github.com/mblondel/1761714\n",
      "\n",
      "*Introductory Statistics with R*\n",
      "\n",
      "*Introduction to Probability and Statistics Using R*"
     ]
    }
   ]
  }
 ]
}