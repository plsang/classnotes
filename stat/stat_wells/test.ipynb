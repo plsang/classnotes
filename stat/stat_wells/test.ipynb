{
 "metadata": {
  "name": "test"
 },
 "nbformat": 3,
 "nbformat_minor": 0,
 "worksheets": [
  {
   "cells": [
    {
     "cell_type": "code",
     "collapsed": false,
     "input": [
      "from pandas import *\n",
      "from statsmodels.formula.api import logit\n",
      "from statsmodels.nonparametric import KDE\n",
      "from patsy import dmatrix, dmatrices"
     ],
     "language": "python",
     "outputs": [],
     "prompt_number": 2
    },
    {
     "cell_type": "code",
     "collapsed": false,
     "input": [
      "df = read_csv('wells.dat', sep = ' ', header = 0, index_col = 0)\n",
      "print df.head()"
     ],
     "language": "python",
     "outputs": [
      {
       "output_type": "stream",
       "stream": "stdout",
       "text": [
        "   switch  arsenic       dist  assoc  educ\n",
        "1       1     2.36  16.826000      0     0\n",
        "2       1     0.71  47.321999      0     0\n",
        "3       0     2.07  20.966999      0    10\n",
        "4       1     1.15  21.486000      0    12\n",
        "5       1     1.10  40.874001      1    14\n"
       ]
      }
     ],
     "prompt_number": 3
    },
    {
     "cell_type": "code",
     "collapsed": false,
     "input": [
      "model_form = ('switch ~ center(I(dist / 100.)) + center(arsenic) + ' +\n",
      "              'center(I(educ / 4.)) + ' +\n",
      "              'center(I(dist / 100.)) : center(arsenic) + ' + \n",
      "              'center(I(dist / 100.)) : center(I(educ / 4.)) + ' + \n",
      "              'center(arsenic) : center(I(educ / 4.))'\n",
      "             )\n",
      "model4 = logit(model_form, df = df).fit()"
     ],
     "language": "python",
     "outputs": [
      {
       "output_type": "stream",
       "stream": "stdout",
       "text": [
        "Optimization terminated successfully.\n",
        "         Current function value: 1945.871775\n",
        "         Iterations 5\n"
       ]
      }
     ],
     "prompt_number": 22
    },
    {
     "cell_type": "code",
     "collapsed": false,
     "input": [
      "resid_df = DataFrame({'var': df['arsenic'], 'resid': model4.resid})\n",
      "resid_df[:10]"
     ],
     "language": "python",
     "outputs": [
      {
       "html": [
        "<div style=\"max-height:1000px;max-width:1500px;overflow:auto;\">\n",
        "<table border=\"1\" class=\"dataframe\">\n",
        "  <thead>\n",
        "    <tr style=\"text-align: right;\">\n",
        "      <th></th>\n",
        "      <th>resid</th>\n",
        "      <th>var</th>\n",
        "    </tr>\n",
        "  </thead>\n",
        "  <tbody>\n",
        "    <tr>\n",
        "      <td><strong>1 </strong></td>\n",
        "      <td> 0.842596</td>\n",
        "      <td> 2.36</td>\n",
        "    </tr>\n",
        "    <tr>\n",
        "      <td><strong>2 </strong></td>\n",
        "      <td> 1.281417</td>\n",
        "      <td> 0.71</td>\n",
        "    </tr>\n",
        "    <tr>\n",
        "      <td><strong>3 </strong></td>\n",
        "      <td>-1.613751</td>\n",
        "      <td> 2.07</td>\n",
        "    </tr>\n",
        "    <tr>\n",
        "      <td><strong>4 </strong></td>\n",
        "      <td> 0.996195</td>\n",
        "      <td> 1.15</td>\n",
        "    </tr>\n",
        "    <tr>\n",
        "      <td><strong>5 </strong></td>\n",
        "      <td> 1.005102</td>\n",
        "      <td> 1.10</td>\n",
        "    </tr>\n",
        "    <tr>\n",
        "      <td><strong>6 </strong></td>\n",
        "      <td> 0.592056</td>\n",
        "      <td> 3.90</td>\n",
        "    </tr>\n",
        "    <tr>\n",
        "      <td><strong>7 </strong></td>\n",
        "      <td> 0.941372</td>\n",
        "      <td> 2.97</td>\n",
        "    </tr>\n",
        "    <tr>\n",
        "      <td><strong>8 </strong></td>\n",
        "      <td> 0.640139</td>\n",
        "      <td> 3.24</td>\n",
        "    </tr>\n",
        "    <tr>\n",
        "      <td><strong>9 </strong></td>\n",
        "      <td> 0.886626</td>\n",
        "      <td> 3.28</td>\n",
        "    </tr>\n",
        "    <tr>\n",
        "      <td><strong>10</strong></td>\n",
        "      <td> 1.130149</td>\n",
        "      <td> 2.52</td>\n",
        "    </tr>\n",
        "  </tbody>\n",
        "</table>\n",
        "</div>"
       ],
       "output_type": "pyout",
       "prompt_number": 23,
       "text": [
        "       resid   var\n",
        "1   0.842596  2.36\n",
        "2   1.281417  0.71\n",
        "3  -1.613751  2.07\n",
        "4   0.996195  1.15\n",
        "5   1.005102  1.10\n",
        "6   0.592056  3.90\n",
        "7   0.941372  2.97\n",
        "8   0.640139  3.24\n",
        "9   0.886626  3.28\n",
        "10  1.130149  2.52"
       ]
      }
     ],
     "prompt_number": 23
    },
    {
     "cell_type": "code",
     "collapsed": false,
     "input": [
      "qcut(df['arsenic'], 40)"
     ],
     "language": "python",
     "outputs": [
      {
       "output_type": "pyout",
       "prompt_number": 24,
       "text": [
        "Categorical: arsenic\n",
        "array([(2.327, 2.47], (0.68, 0.71], (1.953, 2.07], ..., [0.51, 0.53],\n",
        "       (0.62, 0.64], (0.64, 0.68]], dtype=object)\n",
        "Levels (40): Index([[0.51, 0.53], (0.53, 0.56], (0.56, 0.59],\n",
        "                    (0.59, 0.62], (0.62, 0.64], (0.64, 0.68],\n",
        "                    (0.68, 0.71], (0.71, 0.75], (0.75, 0.78],\n",
        "                    (0.78, 0.82], (0.82, 0.86], (0.86, 0.9], (0.9, 0.95],\n",
        "                    (0.95, 1.0065], (1.0065, 1.0513], (1.0513, 1.1],\n",
        "                    (1.1, 1.15], (1.15, 1.2], (1.2, 1.25], (1.25, 1.3],\n",
        "                    (1.3, 1.36], (1.36, 1.42], (1.42, 1.49],\n",
        "                    (1.49, 1.57], (1.57, 1.66], (1.66, 1.76],\n",
        "                    (1.76, 1.858], (1.858, 1.953], (1.953, 2.07],\n",
        "                    (2.07, 2.2], (2.2, 2.327], (2.327, 2.47],\n",
        "                    (2.47, 2.61], (2.61, 2.81], (2.81, 2.98],\n",
        "                    (2.98, 3.21], (3.21, 3.42], (3.42, 3.791],\n",
        "                    (3.791, 4.475], (4.475, 9.65]], dtype=object)"
       ]
      }
     ],
     "prompt_number": 24
    },
    {
     "cell_type": "code",
     "collapsed": false,
     "input": [
      "qcut(df['arsenic'], 40).labels"
     ],
     "language": "python",
     "outputs": [
      {
       "output_type": "pyout",
       "prompt_number": 25,
       "text": [
        "array([31,  6, 28, ...,  0,  4,  5])"
       ]
      }
     ],
     "prompt_number": 25
    },
    {
     "cell_type": "code",
     "collapsed": false,
     "input": [
      "qcut(df['arsenic'], 40).levels[6]"
     ],
     "language": "python",
     "outputs": [
      {
       "output_type": "pyout",
       "prompt_number": 26,
       "text": [
        "'(0.68, 0.71]'"
       ]
      }
     ],
     "prompt_number": 26
    },
    {
     "cell_type": "code",
     "collapsed": false,
     "input": [
      "resid_df['bins'] = qcut(df['arsenic'], 40)\n",
      "resid_df[:10]"
     ],
     "language": "python",
     "outputs": [
      {
       "html": [
        "<div style=\"max-height:1000px;max-width:1500px;overflow:auto;\">\n",
        "<table border=\"1\" class=\"dataframe\">\n",
        "  <thead>\n",
        "    <tr style=\"text-align: right;\">\n",
        "      <th></th>\n",
        "      <th>resid</th>\n",
        "      <th>var</th>\n",
        "      <th>bins</th>\n",
        "    </tr>\n",
        "  </thead>\n",
        "  <tbody>\n",
        "    <tr>\n",
        "      <td><strong>1 </strong></td>\n",
        "      <td> 0.842596</td>\n",
        "      <td> 2.36</td>\n",
        "      <td>  (2.327, 2.47]</td>\n",
        "    </tr>\n",
        "    <tr>\n",
        "      <td><strong>2 </strong></td>\n",
        "      <td> 1.281417</td>\n",
        "      <td> 0.71</td>\n",
        "      <td>   (0.68, 0.71]</td>\n",
        "    </tr>\n",
        "    <tr>\n",
        "      <td><strong>3 </strong></td>\n",
        "      <td>-1.613751</td>\n",
        "      <td> 2.07</td>\n",
        "      <td>  (1.953, 2.07]</td>\n",
        "    </tr>\n",
        "    <tr>\n",
        "      <td><strong>4 </strong></td>\n",
        "      <td> 0.996195</td>\n",
        "      <td> 1.15</td>\n",
        "      <td>    (1.1, 1.15]</td>\n",
        "    </tr>\n",
        "    <tr>\n",
        "      <td><strong>5 </strong></td>\n",
        "      <td> 1.005102</td>\n",
        "      <td> 1.10</td>\n",
        "      <td>  (1.0513, 1.1]</td>\n",
        "    </tr>\n",
        "    <tr>\n",
        "      <td><strong>6 </strong></td>\n",
        "      <td> 0.592056</td>\n",
        "      <td> 3.90</td>\n",
        "      <td> (3.791, 4.475]</td>\n",
        "    </tr>\n",
        "    <tr>\n",
        "      <td><strong>7 </strong></td>\n",
        "      <td> 0.941372</td>\n",
        "      <td> 2.97</td>\n",
        "      <td>   (2.81, 2.98]</td>\n",
        "    </tr>\n",
        "    <tr>\n",
        "      <td><strong>8 </strong></td>\n",
        "      <td> 0.640139</td>\n",
        "      <td> 3.24</td>\n",
        "      <td>   (3.21, 3.42]</td>\n",
        "    </tr>\n",
        "    <tr>\n",
        "      <td><strong>9 </strong></td>\n",
        "      <td> 0.886626</td>\n",
        "      <td> 3.28</td>\n",
        "      <td>   (3.21, 3.42]</td>\n",
        "    </tr>\n",
        "    <tr>\n",
        "      <td><strong>10</strong></td>\n",
        "      <td> 1.130149</td>\n",
        "      <td> 2.52</td>\n",
        "      <td>   (2.47, 2.61]</td>\n",
        "    </tr>\n",
        "  </tbody>\n",
        "</table>\n",
        "</div>"
       ],
       "output_type": "pyout",
       "prompt_number": 28,
       "text": [
        "       resid   var            bins\n",
        "1   0.842596  2.36   (2.327, 2.47]\n",
        "2   1.281417  0.71    (0.68, 0.71]\n",
        "3  -1.613751  2.07   (1.953, 2.07]\n",
        "4   0.996195  1.15     (1.1, 1.15]\n",
        "5   1.005102  1.10   (1.0513, 1.1]\n",
        "6   0.592056  3.90  (3.791, 4.475]\n",
        "7   0.941372  2.97    (2.81, 2.98]\n",
        "8   0.640139  3.24    (3.21, 3.42]\n",
        "9   0.886626  3.28    (3.21, 3.42]\n",
        "10  1.130149  2.52    (2.47, 2.61]"
       ]
      }
     ],
     "prompt_number": 28
    },
    {
     "cell_type": "code",
     "collapsed": false,
     "input": [
      "bin_group = resid_df.groupby('bins')\n"
     ],
     "language": "python",
     "outputs": [],
     "prompt_number": 14
    },
    {
     "cell_type": "code",
     "collapsed": false,
     "input": [],
     "language": "python",
     "outputs": [],
     "prompt_number": 5
    }
   ]
  }
 ]
}