{
 "metadata": {
  "name": "stat_05_2"
 },
 "nbformat": 3,
 "nbformat_minor": 0,
 "worksheets": [
  {
   "cells": [
    {
     "cell_type": "markdown",
     "source": [
      "Ders 5\n",
      "\n",
      "Ortalama (Mean) ve Medyan (Median)\n",
      "\n",
      "Ozet Istatistikleri \n",
      "\n",
      "Genellikle istatistik kitaplari hemen ortalama (mean), medyan (median) ve\n",
      "baglantili ozet istatistiklerinden (summary statistics) bahsederek ise\n",
      "girerler. Bu istatistikleri dikkatle kullanmak gerekir, cunku her turlu\n",
      "veri, her yerde gecerli degildirler. Mesela ortalama sadece tek merkezi bir\n",
      "tepesi olan (unimodal) dagilimlar icin gecerlidir. Eger bu temel varsayim\n",
      "gecerli degilse, ortalama kullanarak yapilan hesaplar bizi yanlis yollara\n",
      "goturur. Ayrica bir dagilimi simetrik olup olmadigi da ortalama ya da\n",
      "medyan kullanilip kullanilmamasi kararinda onemlidir. Eger simetrik, tek\n",
      "tepeli bir dagilim var ise, ortalama ve medyan birbirine yakin\n",
      "olacaktir. Fakat veri baska turde bir dagilim ise, o zaman bu iki olcut\n",
      "birbirinden cok farkli olabilir.\n",
      "\n",
      "Once ortalama ve standart sapmayi (standart deviation) gorelim.\n",
      "\n",
      "$$ m  = \\frac{ 1}{n}\\sum_i x_i $$\n",
      "\n",
      "Standart sapma veri noktalarin \"ortalamadan farkinin ortalamasini\"\n",
      "verir. Tabii bazen noktalar ortalamanin altinda, bazen ustunde olacaktir,\n",
      "bizi bu negatiflik, pozitiflik ilgilendirmez, biz sadece farkla\n",
      "alakaliyiz. O yuzden her sapmanin karesini aliriz, bunlari toplayip nokta\n",
      "sayisina boleriz .\n",
      "\n",
      "$$ s^2 = \\frac{ 1}{n} \\sum_i (x_i - m)^2 $$\n",
      "\n",
      "Eger $m$ tanimini ustte yerine koyarsak, \n",
      "\n",
      "$$ = \\frac{ 1}{n} \\sum_i x_i^2 + \\frac{ 1}{n} \\sum_i m^2 - \\frac{ 2}{n} \\sum_i x_im  $$\n",
      "\n",
      "$$ = \\frac{ 1}{n} \\sum_i x_i^2 + \\frac{ m^2n}{n} - \\frac{ 2mn}{n}m $$\n",
      "\n",
      "$$ = \\frac{ 1}{n} \\sum_i x_i^2 +  m^2 - 2m^2 $$\n",
      "\n",
      "$$ = \\frac{ 1}{n} \\sum_i x_i^2 - m^2 $$\n",
      "\n",
      "Bu olcuye varyans (variance) denir ve teorik olarak ortalamadan daha onemli\n",
      "oldugu soylenebilir. Fakat dagilimin yayilma olcusu olarak biz bu olcuyu\n",
      "oldugu gibi degil, onun karesini kullanacagiz (ki standart sapma buna\n",
      "deniyor aslinda). Niye? Cunku o zaman veri noktalarinin ve yayilma olcusunun\n",
      "birimleri birbiri ile ayni olacak. Eger veri setimiz bir alisveris\n",
      "sepetindeki malzemelerin lira cinsinden degerleri olsaydi, varyans bize\n",
      "sonucu \"karekok lira\" olarak verecekti ve bunun pek anlami olmayacakti. \n",
      "\n",
      "Medyan ve Yuzdelikler (Percentile)\n",
      "\n",
      "Ustteki hesaplar sayilari toplayip, bolmek uzerinden yapildi. Medyan ve\n",
      "diger yuzdeliklerin hesabi (ki medyan 50. yuzdelige tekabul eder) icin\n",
      "eldeki tum degerleri \"siraya dizmemiz\" ve sonra 50. yuzdelik icin {\\em\n",
      "  ortadakine} bakmamiz gerekiyor. Mesela eger ilk 5. yuzdeligi ariyorsak ve\n",
      "elimizde 80 tane deger var ise, bastan 4. sayiya / vektor hucresine /\n",
      "ogeye bakmamiz gerekiyor. Eger 100 eleman var ise, 5. sayiya bakmamiz\n",
      "gerekiyor, vs. \n",
      "\n",
      "Bu siraya dizme islemi kritik. Kiyasla ortalama hesabi hangi sirada olursa\n",
      "olsun, sayilari birbirine topluyor ve sonra boluyor. Zaten ortalama ve\n",
      "sapmanin istatistikte daha cok kullanilmasinin tarihi sebebi de aslinda bu;\n",
      "bilgisayar oncesi cagda sayilari siralamak (sorting) zor bir isti. Bu\n",
      "sebele hangi sirada olursa olsun, toplayip, bolerek hesaplanabilecek\n",
      "ozetler daha makbuldu. Fakat artik siralama islemi kolay, ve veri setleri\n",
      "her zaman tek tepeli, simetrik olmayabiliyor. \n",
      "\n",
      "Ornek veri seti olarak unlu \\verb!dellstore2! tabanindaki satis miktarlari\n",
      "kullanirsak, \n"
     ]
    },
    {
     "cell_type": "code",
     "collapsed": false,
     "input": [
      "data = np.loadtxt(\"dell.csv\")"
     ],
     "language": "python",
     "outputs": [],
     "prompt_number": 15
    },
    {
     "cell_type": "code",
     "collapsed": false,
     "input": [
      "plt.hist(data,20)"
     ],
     "language": "python",
     "outputs": [
      {
       "output_type": "pyout",
       "prompt_number": 20,
       "text": [
        "([array([0, 0, 0, 2, 0, 0, 1, 0, 1, 0, 0, 0, 1, 1, 2, 1, 3, 0, 0, 1]),\n",
        "  array([1, 0, 1, 0, 0, 0, 0, 0, 0, 0, 0, 2, 3, 2, 0, 0, 0, 0, 0, 0]),\n",
        "  array([1, 0, 0, 0, 0, 0, 4, 4, 8, 6, 0, 2, 0, 0, 0, 1, 0, 0, 1, 2])],\n",
        " array([ 1.51115 ,  1.511777,  1.512404,  1.513031,  1.513658,  1.514285,\n",
        "        1.514912,  1.515539,  1.516166,  1.516793,  1.51742 ,  1.518047,\n",
        "        1.518674,  1.519301,  1.519928,  1.520555,  1.521182,  1.521809,\n",
        "        1.522436,  1.523063,  1.52369 ]),\n",
        " <a list of 3 Lists of Patches objects>)"
       ]
      },
      {
       "output_type": "display_data",
       "png": "[encoded data removed]",
       "text": [
        "<matplotlib.figure.Figure at 0xaf9a22c>"
       ]
      }
     ],
     "prompt_number": 20
    },
    {
     "cell_type": "code",
     "collapsed": false,
     "input": [
      "np.mean(data)"
     ],
     "language": "python",
     "outputs": [
      {
       "output_type": "pyout",
       "prompt_number": 10,
       "text": [
        "213.94889916666668"
       ]
      }
     ],
     "prompt_number": 10
    },
    {
     "cell_type": "code",
     "collapsed": false,
     "input": [
      "np.median(data)"
     ],
     "language": "python",
     "outputs": [
      {
       "output_type": "pyout",
       "prompt_number": 11,
       "text": [
        "214.06"
       ]
      }
     ],
     "prompt_number": 11
    },
    {
     "cell_type": "code",
     "collapsed": false,
     "input": [
      "np.std(data)"
     ],
     "language": "python",
     "outputs": [
      {
       "output_type": "pyout",
       "prompt_number": 12,
       "text": [
        "125.1184819538924"
       ]
      }
     ],
     "prompt_number": 12
    },
    {
     "cell_type": "code",
     "collapsed": false,
     "input": [
      "np.mean(data)+2*np.std(data)"
     ],
     "language": "python",
     "outputs": [
      {
       "output_type": "pyout",
       "prompt_number": 13,
       "text": [
        "464.1858630744515"
       ]
      }
     ],
     "prompt_number": 13
    },
    {
     "cell_type": "code",
     "collapsed": false,
     "input": [
      "np.percentile(data, 95)"
     ],
     "language": "python",
     "outputs": [
      {
       "output_type": "pyout",
       "prompt_number": 14,
       "text": [
        "410.41150000000005"
       ]
      }
     ],
     "prompt_number": 14
    },
    {
     "cell_type": "markdown",
     "source": [
      "Goruldugu gibi uc nokta hesabi icin ortalamadan iki sapma otesini\n",
      "kullanirsak, 464.18, fakat 95. yuzdeligi kullanirsak 410.41 elde\n",
      "ediyoruz. Niye? Sebep ortalamanin kendisi hesaplanirken cok uc\n",
      "degerlerin toplama dahil edilmis olmasi ve bu durum, ortalamanin\n",
      "kendisini daha buyuk seviyeye dogru itiyor. Yuzdelik hesabi ise sadece\n",
      "sayilari siralayip belli bazi elemanlari otomatik olarak uc nokta\n",
      "olarak addediyor.\n",
      "Box Whisker Grafikleri\n",
      "\n",
      "Tek boyutlu bir verinin dagilimini gormek icin Box ve Whisker grafikleri\n",
      "faydali araclardir; medyan (median), dagilimin genisligini ve siradisi\n",
      "noktalari (outliers) acik sekilde gosterirler. Isim nereden geliyor? Box\n",
      "yani kutu, dagilimin agirliginin nerede oldugunu gosterir, medyanin\n",
      "sagindada ve solunda olmak uzere iki ceyregin arasindaki kisimdir, kutu\n",
      "olarak resmedilir. Whiskers kedilerin biyiklarina verilen isimdir, zaten\n",
      "grafikte birazcik biyik gibi duruyorlar. Bu uzantilar medyan noktasindan\n",
      "her iki yana kutunun iki kati kadar uzatilir sonra verideki \"ondan az olan\n",
      "en buyuk\" noktaya kadar geri cekilir. Tum bunlarin disinda kalan veri ise\n",
      "teker teker nokta olarak grafikte basilir. Bunlar siradisi (outlier)\n",
      "olduklari icin daha az olacaklari tahmin edilir.\n",
      "\n",
      "BW grafikleri iki veriyi dagilimsal olarak karsilastirmak icin\n",
      "birebirdir. Mesela Larsen and Marx adli arastirmacilar cok az veri\n",
      "iceren Quintus Curtius Snodgrass veri setinin degisik oldugunu\n",
      "ispatlamak icin bir suru hesap yapmislardir, bir suru matematiksel\n",
      "isleme girmislerdir, fakat basit bir BW grafigi iki setin farkliligini\n",
      "hemen gosterir.\n",
      "\n",
      "BW grafikleri iki veriyi dagilimsal olarak karsilastirmak icin\n",
      "birebirdir. Mesela Larsen and Marx adli arastirmacilar cok az veri\n",
      "iceren Quintus Curtius Snodgrass veri setinin degisik oldugunu\n",
      "ispatlamak icin bir suru hesap yapmislardir, bir suru matematiksel\n",
      "isleme girmislerdir, fakat basit bir BW grafigi iki setin farkliligini\n",
      "hemen gosterir.\n",
      "\n",
      "Python uzerinde basit bir BW grafigi "
     ]
    },
    {
     "cell_type": "code",
     "collapsed": false,
     "input": [
      "spread= rand(50) * 100\n",
      "center = ones(25) * 50\n",
      "flier_high = rand(10) * 100 + 100\n",
      "flier_low = rand(10) * -100\n",
      "data =concatenate((spread, center, flier_high, flier_low), 0)\n",
      "\n",
      "boxplot(data)"
     ],
     "language": "python",
     "outputs": [
      {
       "output_type": "pyout",
       "prompt_number": 7,
       "text": [
        "{'boxes': [<matplotlib.lines.Line2D at 0xa2e25ac>],\n",
        " 'caps': [<matplotlib.lines.Line2D at 0xa2dcd8c>,\n",
        "  <matplotlib.lines.Line2D at 0xa2dcf6c>],\n",
        " 'fliers': [<matplotlib.lines.Line2D at 0xa2e2dac>,\n",
        "  <matplotlib.lines.Line2D at 0xa2e2f6c>],\n",
        " 'medians': [<matplotlib.lines.Line2D at 0xa2e29ac>],\n",
        " 'whiskers': [<matplotlib.lines.Line2D at 0xa2dc56c>,\n",
        "  <matplotlib.lines.Line2D at 0xa2dc96c>]}"
       ]
      },
      {
       "output_type": "display_data",
       "png": "[encoded data removed]",
       "text": [
        "<matplotlib.figure.Figure at 0xa1b114c>"
       ]
      }
     ],
     "prompt_number": 7
    },
    {
     "cell_type": "markdown",
     "source": [
      "Bir diger ornek Glass veri seti uzerinde"
     ]
    },
    {
     "cell_type": "code",
     "collapsed": false,
     "input": [
      "data = loadtxt(\"glass.data\",delimiter=\",\")\n",
      "head = data[data[:,10]==7]\n",
      "tableware = data[data[:,10]==6]\n",
      "containers = data[data[:,10]==5]\n",
      "\n",
      "print head[:,1]\n",
      "\n",
      "data =(containers[:,1], tableware[:,1], head[:,1])\n",
      "\n",
      "yticks([1, 2, 3], ['containers', 'tableware', 'head'])\n",
      "\n",
      "boxplot(data,0,'rs',0,0.75)"
     ],
     "language": "python",
     "outputs": [
      {
       "output_type": "stream",
       "stream": "stdout",
       "text": [
        "[ 1.51131  1.51838  1.52315  1.52247  1.52365  1.51613  1.51602  1.51623\n",
        "  1.51719  1.51683  1.51545  1.51556  1.51727  1.51531  1.51609  1.51508\n",
        "  1.51653  1.51514  1.51658  1.51617  1.51732  1.51645  1.51831  1.5164\n",
        "  1.51623  1.51685  1.52065  1.51651  1.51711]\n"
       ]
      },
      {
       "output_type": "pyout",
       "prompt_number": 16,
       "text": [
        "{'boxes': [<matplotlib.lines.Line2D at 0xa4dbf8c>,\n",
        "  <matplotlib.lines.Line2D at 0xa5e6f8c>,\n",
        "  <matplotlib.lines.Line2D at 0xa5f0f8c>],\n",
        " 'caps': [<matplotlib.lines.Line2D at 0xa4db98c>,\n",
        "  <matplotlib.lines.Line2D at 0xa4dbd8c>,\n",
        "  <matplotlib.lines.Line2D at 0xa5e69ac>,\n",
        "  <matplotlib.lines.Line2D at 0xa5e6d8c>,\n",
        "  <matplotlib.lines.Line2D at 0xa5f09ac>,\n",
        "  <matplotlib.lines.Line2D at 0xa5f0d8c>],\n",
        " 'fliers': [<matplotlib.lines.Line2D at 0xa4e09cc>,\n",
        "  <matplotlib.lines.Line2D at 0xa4e0d8c>,\n",
        "  <matplotlib.lines.Line2D at 0xa5ea9cc>,\n",
        "  <matplotlib.lines.Line2D at 0xa5ead8c>,\n",
        "  <matplotlib.lines.Line2D at 0xa5f69cc>,\n",
        "  <matplotlib.lines.Line2D at 0xa5f6d8c>],\n",
        " 'medians': [<matplotlib.lines.Line2D at 0xa4e05cc>,\n",
        "  <matplotlib.lines.Line2D at 0xa5ea5cc>,\n",
        "  <matplotlib.lines.Line2D at 0xa5f65cc>],\n",
        " 'whiskers': [<matplotlib.lines.Line2D at 0xa4db14c>,\n",
        "  <matplotlib.lines.Line2D at 0xa4db54c>,\n",
        "  <matplotlib.lines.Line2D at 0xa4e0f6c>,\n",
        "  <matplotlib.lines.Line2D at 0xa5e658c>,\n",
        "  <matplotlib.lines.Line2D at 0xa5eaf6c>,\n",
        "  <matplotlib.lines.Line2D at 0xa5f058c>]}"
       ]
      },
      {
       "output_type": "display_data",
       "png": "[encoded data removed]",
       "text": [
        "<matplotlib.figure.Figure at 0xa30002c>"
       ]
      }
     ],
     "prompt_number": 16
    },
    {
     "cell_type": "markdown",
     "source": [
      "Guven Araligi (Confidence Intervals)\n",
      "Bu kavram istatistikte tartisilan konulardan biri. Bayes ve Frenkans\u00e7\u0131 \n",
      "(Frequentist) istatistik arasindaki felsefi farklardan biri burada ortaya\n",
      "cikiyor. Frekansci tanim soyledir:\n",
      "\n",
      "<blockquote>\n",
      "Bir parametre $\\theta$ icin $1-\\alpha$ seviyesinde bir $C_n=(a,b)$ guven araligi\n",
      "tanimlanabilir -- bu aralik $a=a(X_1,..,X_n)$ ve $b=b(X_1,..,X_n)$ adli iki\n",
      "fonksiyon uzerinden tanimlanabilir. Bu fonksiyonlar veri uzerinde isleyen, \n",
      "*verinin* fonksiyonlaridir, ve sonucta\n",
      "\n",
      "$$ \\mathbb{P}_\\theta (\\theta \\in C_n) \\ge 1-\\alpha, \\ \\ \\forall \\theta \\in \\Theta $$\n",
      "\n",
      "Yani $(a,b)$ araligi $1-\\alpha$ olasiliginda $\\theta$ 'yi icine alir / hapseder.\n",
      "\n",
      "Daha detayli olarak deney arka arkaya pek cok kez tekrarlandiginda\n",
      "parametrenin tahmininin $1-\\alpha$ oraninda tanimlanan araliga\n",
      "dusecegi soylenir. $1-\\alpha$ sayisina guven araliginin kapsami\n",
      "(coverage) ismi de verilir. Genellikle insanlar yuzde 95 guven\n",
      "araligini kullanirlar, ve bu yuzdeye tekabul eden $\\alpha = 0.05$\n",
      "rakami kullanilir.\n",
      "\n",
      "Uzerine basarak belirtmek gerekir ki $C_n$ rasgele (random) bir degerdir,\n",
      "ama $\\theta$ sabittir, cunku $C_n$ verinin bir fonksiyonudur, ve veriden,\n",
      "yani bir orneklemden gelecegi icin o da rasgele olmalidir.\n",
      "\n",
      "Eger $\\theta$ bir vektor ise o zaman bir aralik yerine bir guven kumesi\n",
      "kullanilir (mesela bir kure, ya da elips).\n",
      "</blockquote>\n",
      "\n",
      "Fakat frekansci yaklasimda aralik fonksiyonlari $a,b$ ile guven\n",
      "araligi arasindaki baglanti net degildir. Hangi fonksiyon secimi hangi\n",
      "$\\alpha$'ya sebebiye vermektedir? Bu durum net oldugu durumlarda bile\n",
      "teorik olarak saglamligi suphelidir, ayrica hesabin sozel olarak\n",
      "ortaya konmasinda bazi eksikler vardir. \"Deney arka arkaya pek cok kez\n",
      "tekrarlandiginda parametrenin tahmini, $1-\\alpha$ guven araliga\n",
      "dusecektir\" ibaresi mesela; \"deney tekrari\" her durumda gecerli\n",
      "olmayabilir. Meteoroloji \"yarin yuzde 80 ihtimali ile yagmur\n",
      "yagacak\" diyorsa, o hesap sartlarinin bir daha ortaya cikmasinin\n",
      "olasiligi cok dusuktur, Kaos Teorisi bize en azindan bunu soyluyor.\n",
      "\n",
      "Wiki sayfasinda [1] tartismanin boyutlari gorulebilir.\n",
      "\n",
      "Son onyillarda ortaya cikan yaklasim ise Bayes Teorisini devreye\n",
      "sokmak. Bir guven araligi tanimlamanin en saglam yolu bu hesabi bir\n",
      "dagilimi baz alarak yapmak. Eger sonuc olarak bir tekil sayi degil, bir\n",
      "dagilim elde edersek bu dagilim uzerinde guvenlik hesaplarini yapmak cok\n",
      "kolay hale gelir. Mesela sonuc (sonsal dagilim) bir Gaussian dagilim ise,\n",
      "bu dagilimin yuzde 95 agirliginin nerede oldugu, ve nasil hesaplandigi\n",
      "bellidir. \n",
      "\n",
      "Bayes Teorisi\n",
      "\n",
      "$$ P(A|B)  = \\frac{ P(B|A)P(A)}{P(B)} $$\n",
      "\n",
      "Veri analizi baglaminda diyelim ki deneyler yaparak tahmini olarak\n",
      "hesaplamak (estimate) istedigimiz bir parametre var, bu bir protonun\n",
      "kutlesi ya da bir ameliyat sonrasi hayatta kalma orani olabilir. Bu\n",
      "durumlarda iki ayri \"olaydan\" bahsetmemiz gerekir, B olayi spesifik bazi\n",
      "olcumlerin elde edilmesi \"olayidir\", mesela olcum uc sayidan olusuyorsa,\n",
      "biz bir olcumde spesifik olarak $\\{0.2,4,5.4\\}$ degerlerini elde\n",
      "etmisiz. Ikinci olay bilmedigimiz parametrenin belli bir degere sahip\n",
      "olmasi olacak. O zaman Bayes Teorisinin su sekilde tekrar yazabiliriz, \n",
      "\n",
      "$$ P(parametre | veri ) \\propto P(data | parametre)P(parametre) $$\n",
      "\n",
      "$\\propto$ isareti orantili olmak (proportional to) anlamina geliyor. Boleni\n",
      "attik cunku o bir sabit (tamamen veriye bagli, tahmini hesaplamak\n",
      "istedigimiz parametreye bagli degil). Tabii bu durumda sol ve sag taraf\n",
      "birbirine esit olmaz, o yuzden esitlik yerine orantili olmak isaretini\n",
      "kullandik. Bu cercevede \"belli bir numerik sabit cercevesinde birbirine\n",
      "esit (equal within a numeric constant)\" gibi cumleler de gorulebilir. \n",
      "\n",
      "Ornek\n",
      "\n",
      "Diyelim ki bir bozuk para ile 10 kere yazi-tura attik, ve sonuc altta\n",
      "\n",
      "T H H H H T T H H H\n",
      "\n",
      "Bu veriye bakarak paranin hileli olup olmadigini anlamaya\n",
      "calisacagiz. Bayes ifadesini bu veriye gore yazalim,\n",
      "\n",
      "$$ P(p | \\{ \\textrm{T H H H H T T H H H} \\} \\propto \n",
      "P(\\{ \\textrm{T H H H H T T H H H} | p) P(p) \\}\n",
      "$$\n",
      "\n",
      "$P(p)$ ifadesi ne anlama gelir? Aslinda bu ifadeyi $P([Dagilim] = p)$\n",
      "olarak gormek daha iyi, artik $p$ parametresini bir dagilimdan gelen bir\n",
      "tekil deger olarak gordugumuze gore, o dagilimin belli bir $p$'ye esit\n",
      "oldugu zamani modelliyoruz burada. Her halukarda $P(p)$ dagilimini, yani\n",
      "onsel (prior) olasiligi bilmiyoruz, hesaptan once her degerin mumkun\n",
      "oldugunu biliyoruz, o zaman bu onsel dagilimi duz (flat) olarak aliriz,\n",
      "yani $P(p) = 1$. \n",
      "\n",
      "$P(\\{\\textrm{T H H H H T T H H H} | p)$ ifadesi goz korkutucu olabilir, ama\n",
      "buradaki her ogenin bagimsiz ozdesce dagilmis (independent identically\n",
      "distributed) oldugunu gorursek, ama bu ifadeyi ayri ayri\n",
      "$P(\\{\\textrm{T}|p)$ ve $P(\\{\\textrm{H}|p)$ carpimlari olarak gorebiliriz. $P(\\{\\textrm{T}|p) = p$ ve \n",
      "$P(\\{\\textrm{H}|p)=1-p$ oldugunu biliyoruz. O zaman \n",
      "\n",
      "$$ P(p | \\{ \\textrm{7 Tura, 3 Yazi} \\} \\propto\n",
      "p^7(1-p)^3\n",
      "$$\n",
      "\n",
      "Grafiklersek, "
     ]
    },
    {
     "cell_type": "code",
     "collapsed": false,
     "input": [
      "im=imread(\"05_01.png\"); imshow(im)"
     ],
     "language": "python",
     "outputs": [
      {
       "output_type": "pyout",
       "prompt_number": 21,
       "text": [
        "<matplotlib.image.AxesImage at 0xb32ffec>"
       ]
      },
      {
       "output_type": "display_data",
       "png": "[encoded data removed]",
       "text": [
        "<matplotlib.figure.Figure at 0xb2b172c>"
       ]
      }
     ],
     "prompt_number": 21
    },
    {
     "cell_type": "markdown",
     "source": [
      "Boylece $p$ icin bir sonsal (posterior) dagilim elde ettik. Artik bu\n",
      "dagilimin yuzde 95 agirliginin nerede oldugunu rahatca gorebiliriz /\n",
      "hesaplayabiliriz. Dagilimin tepe noktasinin $p=0.7$ civarinda oldugu\n",
      "goruluyor. Bir dagilimla daha fazlasini yapmak ta mumkun, mesela bu\n",
      "fonksiyonu $p$'ye bagli baska bir fonksiyona karsi entegre etmek mumkun,\n",
      "mesela beklentiyi bu sekilde hesaplayabiliriz. \n",
      "\n",
      "Onsel dagilimin her noktaya esit agirlik veren birornek (uniform) secilmis\n",
      "olmasi, yani problemi cozmeye sifir bilgiden baslamis olmamiz, yontemin bir\n",
      "zayifligi olarak gorulmemeli. Yontemin kuvveti elimizdeki bilgiyle baslayip\n",
      "onu net bir sekilde veri ve olurluk uzerinden sonsal tek dagilima\n",
      "goturebilmesi. Baslangic ve sonuc arasindaki baglanti gayet net. Fazlasi da\n",
      "var; ilgilendigimiz alani (domain) ogrendikce, basta hic bilmedigimiz onsel\n",
      "dagilimi daha net, bilgili bir sekilde secebiliriz ve bu sonsal dagilimi da\n",
      "daha olmasi gereken modele daha yaklastirabilir. \n",
      "\n",
      "Gaussian Kontrolu\n",
      "\n",
      "Diyelim ki Gaussian dagilimina sahip oldugunu dusundugumuz $\\{ x_i\\}$\n",
      "verilerimiz var. Bu verilerin Gaussian dagilimina uyup uymadigini nasil\n",
      "kontrol edecegiz? Normal bir dagilimin her veri noktasi icin soyle temsil\n",
      "edebiliriz,\n",
      "\n",
      "$$ y_i = \\Phi\\bigg(\\frac{ x_i - \\mu}{\\sigma}\\bigg) $$\n",
      "\n",
      "Burada $\\Phi$ standart Gaussian'i temsil ediyor (detaylar icin {\\em\n",
      "  Istatistik Ders 1}) ve CDF fonksiyonuna tekabul ediyor. CDF fonksiyonunun\n",
      "ayni zamanda ceyregi (quantile) hesapladigi soylenir, aslinda CDF son\n",
      "derece detayli bir olasilik degeri verir fakat evet, dolayli yoldan\n",
      "noktanin hangi ceyrek icine dustugu de gorulecektir.\n",
      "\n",
      "Simdi bir numara yapalim, iki tarafa ters Gaussian formulunu uygulayalim,\n",
      "yani $\\Phi ^{-1} $.\n",
      "\n",
      "$$ \\Phi ^{-1}(y_i) = \\Phi ^{-1}\\bigg(\\Phi\\bigg(\\frac{ x_i - \\mu}{\\sigma}\\bigg)\\bigg) $$\n",
      "\n",
      "$$ \\Phi ^{-1}(y_i) = \\frac{ x_i - \\mu}{\\sigma}$$\n",
      "\n",
      "$$ x_i = \\Phi^{-1}(y_i) \\sigma + \\mu  $$ \n",
      "\n",
      "Bu demektir ki elimizdeki verileri $\\Phi^{-1}(y_i)$ bazinda grafiklersek,\n",
      "bu noktalar egimi $\\sigma$, baslangici (intercept) $\\mu$ olan bir duz cizgi\n",
      "olmalidir. Eger kabaca noktalar duz cizgi olusturmuyorsa, verimizin \n",
      "Gaussian dagilima sahip olmadigina karar verebiliriz. \n",
      "\n",
      "Ustte tarif edilen grafik,  olasilik grafigi (probability plot) olarak\n",
      "bilinir. \n",
      "\n",
      "Ters Gaussian teorik fonksiyonunu burada vermeyecegiz, Scipy\n",
      "\\verb!scipy.stats.invgauss! hesaplar icin kullanilabilir. Fakat $y_i$'nin\n",
      "kendisi nereden geliyor? Eger $y_i$, CDF'in bir sonucu ise, pur veriye\n",
      "bakarak bir CDF degeri de hesaplayabilmemiz gerekir. Bunu yapmak icin bir\n",
      "baska numara lazim. \n",
      "\n",
      "1. Eldeki sayilari artan sekilde siralayin\n",
      "\n",
      "2. Her veri noktasina bir derece (rank) atayin (siralama sonrasi hangi\n",
      "seviyede oldugu yeterli, 1'den baslayarak). \n",
      "\n",
      "3. Ceyrek degeri $y_i$ bu sira / $n+1$, $n$ eldeki verinin buyuklugu. \n",
      "\n",
      "Bu teknik niye isliyor? $x$'in CDF'i $x_i < x$ sartina uyan $x_i$'lerin\n",
      "orani degil midir? Yani bir siralama soz konusu ve ustteki teknik te bu\n",
      "siralamayi biz elle yapmis olduk, ve bu siralamadan gereken bilgiyi aldik. \n",
      "\n",
      "\n",
      "Kaynaklar\n",
      "\n",
      "[1] http://en.wikipedia.org/wiki/Confidence_interval\n",
      "\n",
      "[2] Janert, P., Data Analysis with Open Source Tools\n"
     ]
    }
   ]
  }
 ]
}